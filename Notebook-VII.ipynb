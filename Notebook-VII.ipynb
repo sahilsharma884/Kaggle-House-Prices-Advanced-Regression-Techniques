{
 "cells": [
  {
   "cell_type": "code",
   "execution_count": 1,
   "metadata": {},
   "outputs": [],
   "source": [
    "import pickle\n",
    "import numpy as np\n",
    "import matplotlib.pyplot as plt\n",
    "import pandas as pd\n",
    "from prettytable import PrettyTable"
   ]
  },
  {
   "cell_type": "code",
   "execution_count": 2,
   "metadata": {},
   "outputs": [],
   "source": [
    "# Load the train.pkl\n",
    "with open('train_X.pkl','rb') as f:\n",
    "    train_X = pickle.load(f)"
   ]
  },
  {
   "cell_type": "code",
   "execution_count": 3,
   "metadata": {},
   "outputs": [],
   "source": [
    "with open('train_y.pkl','rb') as f:\n",
    "    train_y = pickle.load(f)\n",
    "# train_y = train_y.ravel()"
   ]
  },
  {
   "cell_type": "code",
   "execution_count": 4,
   "metadata": {},
   "outputs": [
    {
     "data": {
      "text/plain": [
       "((900, 281), (900,))"
      ]
     },
     "execution_count": 4,
     "metadata": {},
     "output_type": "execute_result"
    }
   ],
   "source": [
    "train_X.shape, train_y.shape"
   ]
  },
  {
   "cell_type": "code",
   "execution_count": 5,
   "metadata": {},
   "outputs": [],
   "source": [
    "# Load the cv.pkl\n",
    "with open('cv_X.pkl','rb') as f:\n",
    "    cv_X = pickle.load(f)"
   ]
  },
  {
   "cell_type": "code",
   "execution_count": 6,
   "metadata": {},
   "outputs": [],
   "source": [
    "with open('cv_y.pkl','rb') as f:\n",
    "    cv_y = pickle.load(f)\n",
    "# cv_y = cv_y.ravel()"
   ]
  },
  {
   "cell_type": "code",
   "execution_count": 7,
   "metadata": {},
   "outputs": [
    {
     "data": {
      "text/plain": [
       "((225, 281), (225,))"
      ]
     },
     "execution_count": 7,
     "metadata": {},
     "output_type": "execute_result"
    }
   ],
   "source": [
    "cv_X.shape, cv_y.shape"
   ]
  },
  {
   "cell_type": "code",
   "execution_count": 8,
   "metadata": {},
   "outputs": [
    {
     "data": {
      "image/png": "[encoded data removed]",
      "text/plain": [
       "<Figure size 432x288 with 1 Axes>"
      ]
     },
     "metadata": {
      "needs_background": "light"
     },
     "output_type": "display_data"
    }
   ],
   "source": [
    "# Let see how SalePrice look like in graph\n",
    "plt.scatter(np.arange(train_y.shape[0]),train_y)\n",
    "plt.show()"
   ]
  },
  {
   "cell_type": "code",
   "execution_count": 9,
   "metadata": {},
   "outputs": [],
   "source": [
    "def error_score(actual_y, predict_y):\n",
    "    actual_y = np.log(actual_y)\n",
    "    predict_y = np.log(predict_y)\n",
    "    return np.sqrt(np.mean((actual_y-predict_y)**2))"
   ]
  },
  {
   "cell_type": "markdown",
   "metadata": {},
   "source": [
    "# Gradient Boosting Regression"
   ]
  },
  {
   "cell_type": "code",
   "execution_count": 10,
   "metadata": {},
   "outputs": [],
   "source": [
    "from sklearn.ensemble import GradientBoostingRegressor"
   ]
  },
  {
   "cell_type": "code",
   "execution_count": 11,
   "metadata": {},
   "outputs": [],
   "source": [
    "params = {\n",
    "    'n_estimators':[10,20,30,50,100,200,300,500],\n",
    "    'max_depth':[2,5,7,10,20,50],\n",
    "    'n_iter_no_change': [3,5]\n",
    "}"
   ]
  },
  {
   "cell_type": "code",
   "execution_count": 13,
   "metadata": {},
   "outputs": [],
   "source": [
    "tracking = []\n",
    "for n in params['n_estimators']:\n",
    "    for d in params['max_depth']:\n",
    "        for s in params['n_iter_no_change']:\n",
    "            rf_model = GradientBoostingRegressor(n_estimators=n, max_depth=d, n_iter_no_change=s,random_state=1, \n",
    "                                             criterion='mse')\n",
    "            rf_model.fit(train_X,train_y)\n",
    "            tr_pred = rf_model.predict(train_X)\n",
    "            tr_score = error_score(train_y,tr_pred)\n",
    "            cv_pred = rf_model.predict(cv_X)\n",
    "            cv_score = error_score(cv_y,cv_pred)\n",
    "            tracking.append([n,d,s,tr_score,cv_score])"
   ]
  },
  {
   "cell_type": "code",
   "execution_count": 14,
   "metadata": {},
   "outputs": [],
   "source": [
    "x = PrettyTable()\n",
    "x.field_names = (['S.No','n_estimatores','max_depth','n_iter_no_change','tr_score','cv_score'])\n",
    "for i,z in enumerate(tracking):\n",
    "    x.add_row([i,z[0],z[1],z[2],z[3],z[4]])"
   ]
  },
  {
   "cell_type": "code",
   "execution_count": 15,
   "metadata": {},
   "outputs": [
    {
     "name": "stdout",
     "output_type": "stream",
     "text": [
      "+------+---------------+-----------+------------------+----------------------+---------------------+\n",
      "| S.No | n_estimatores | max_depth | n_iter_no_change |       tr_score       |       cv_score      |\n",
      "+------+---------------+-----------+------------------+----------------------+---------------------+\n",
      "|  0   |       10      |     2     |        3         |  0.2503799549749262  | 0.24610813563253323 |\n",
      "|  1   |       10      |     2     |        5         |  0.2503799549749262  | 0.24610813563253323 |\n",
      "|  2   |       10      |     5     |        3         | 0.19312346647865913  | 0.20481353133754945 |\n",
      "|  3   |       10      |     5     |        5         | 0.19312346647865913  | 0.20481353133754945 |\n",
      "|  4   |       10      |     7     |        3         |  0.1717913860793481  | 0.19669128009040912 |\n",
      "|  5   |       10      |     7     |        5         |  0.1717913860793481  | 0.19669128009040912 |\n",
      "|  6   |       10      |     10    |        3         |  0.1604356411016308  | 0.19775665992065186 |\n",
      "|  7   |       10      |     10    |        5         |  0.1604356411016308  | 0.19775665992065186 |\n",
      "|  8   |       10      |     20    |        3         | 0.15901968329429833  | 0.19654172503450718 |\n",
      "|  9   |       10      |     20    |        5         | 0.15901968329429833  | 0.19654172503450718 |\n",
      "|  10  |       10      |     50    |        3         | 0.15901968329429833  | 0.19654172503450718 |\n",
      "|  11  |       10      |     50    |        5         | 0.15901968329429833  | 0.19654172503450718 |\n",
      "|  12  |       20      |     2     |        3         | 0.19131388017090714  |  0.1890740233423728 |\n",
      "|  13  |       20      |     2     |        5         | 0.19131388017090714  |  0.1890740233423728 |\n",
      "|  14  |       20      |     5     |        3         | 0.12059603582729551  | 0.15084104205044352 |\n",
      "|  15  |       20      |     5     |        5         | 0.12059603582729551  | 0.15084104205044352 |\n",
      "|  16  |       20      |     7     |        3         | 0.08969587557288665  |  0.1424059750652424 |\n",
      "|  17  |       20      |     7     |        5         | 0.08969587557288665  |  0.1424059750652424 |\n",
      "|  18  |       20      |     10    |        3         | 0.07692554840109096  | 0.15400584877547993 |\n",
      "|  19  |       20      |     10    |        5         | 0.07692554840109096  | 0.15400584877547993 |\n",
      "|  20  |       20      |     20    |        3         | 0.07941408126200102  |  0.168386665488843  |\n",
      "|  21  |       20      |     20    |        5         | 0.07941408126200102  |  0.168386665488843  |\n",
      "|  22  |       20      |     50    |        3         | 0.07941408126200102  |  0.168386665488843  |\n",
      "|  23  |       20      |     50    |        5         | 0.07941408126200102  |  0.168386665488843  |\n",
      "|  24  |       30      |     2     |        3         | 0.16087115599619775  | 0.16192516951390473 |\n",
      "|  25  |       30      |     2     |        5         | 0.16087115599619775  | 0.16192516951390473 |\n",
      "|  26  |       30      |     5     |        3         | 0.08878486752866148  | 0.13289299052903228 |\n",
      "|  27  |       30      |     5     |        5         | 0.08878486752866148  | 0.13289299052903228 |\n",
      "|  28  |       30      |     7     |        3         | 0.061526106533856026 | 0.12968127634868132 |\n",
      "|  29  |       30      |     7     |        5         | 0.061526106533856026 | 0.12968127634868132 |\n",
      "|  30  |       30      |     10    |        3         | 0.05342407492562376  |  0.1456944320994631 |\n",
      "|  31  |       30      |     10    |        5         | 0.05342407492562376  |  0.1456944320994631 |\n",
      "|  32  |       30      |     20    |        3         | 0.06130297673730314  | 0.17019518279926382 |\n",
      "|  33  |       30      |     20    |        5         | 0.06130297673730314  | 0.17019518279926382 |\n",
      "|  34  |       30      |     50    |        3         | 0.06130297673730314  | 0.17019518279926382 |\n",
      "|  35  |       30      |     50    |        5         | 0.06130297673730314  | 0.17019518279926382 |\n",
      "|  36  |       50      |     2     |        3         | 0.13181344060854305  | 0.13694775100594025 |\n",
      "|  37  |       50      |     2     |        5         | 0.13181344060854305  | 0.13694775100594025 |\n",
      "|  38  |       50      |     5     |        3         | 0.06726787697673826  | 0.12336523127933594 |\n",
      "|  39  |       50      |     5     |        5         | 0.06726787697673826  | 0.12336523127933594 |\n",
      "|  40  |       50      |     7     |        3         | 0.048634400152973704 | 0.12560541196529973 |\n",
      "|  41  |       50      |     7     |        5         | 0.048634400152973704 | 0.12560541196529973 |\n",
      "|  42  |       50      |     10    |        3         | 0.048518099326173084 | 0.14383103578562714 |\n",
      "|  43  |       50      |     10    |        5         | 0.048518099326173084 | 0.14383103578562714 |\n",
      "|  44  |       50      |     20    |        3         | 0.06130297673730314  | 0.17019518279926382 |\n",
      "|  45  |       50      |     20    |        5         | 0.05984260440068734  | 0.17145121761980048 |\n",
      "|  46  |       50      |     50    |        3         | 0.06130297673730314  | 0.17019518279926382 |\n",
      "|  47  |       50      |     50    |        5         | 0.05984260440068734  | 0.17145121761980048 |\n",
      "|  48  |      100      |     2     |        3         | 0.11373456057124862  | 0.12239915327925846 |\n",
      "|  49  |      100      |     2     |        5         |  0.1135769757499501  | 0.12242063977750922 |\n",
      "|  50  |      100      |     5     |        3         | 0.06671141588505629  | 0.12313460116546365 |\n",
      "|  51  |      100      |     5     |        5         | 0.055244251705604965 | 0.12153347054476361 |\n",
      "|  52  |      100      |     7     |        3         | 0.04690967899353494  |  0.1246423047596715 |\n",
      "|  53  |      100      |     7     |        5         | 0.04690967899353494  |  0.1246423047596715 |\n",
      "|  54  |      100      |     10    |        3         | 0.04836308488882613  | 0.14357169232366468 |\n",
      "|  55  |      100      |     10    |        5         | 0.04835629840885108  | 0.14353621988584336 |\n",
      "|  56  |      100      |     20    |        3         | 0.06130297673730314  | 0.17019518279926382 |\n",
      "|  57  |      100      |     20    |        5         | 0.05984260440068734  | 0.17145121761980048 |\n",
      "|  58  |      100      |     50    |        3         | 0.06130297673730314  | 0.17019518279926382 |\n",
      "|  59  |      100      |     50    |        5         | 0.05984260440068734  | 0.17145121761980048 |\n",
      "|  60  |      200      |     2     |        3         | 0.11373456057124862  | 0.12239915327925846 |\n",
      "|  61  |      200      |     2     |        5         |  0.1135769757499501  | 0.12242063977750922 |\n",
      "|  62  |      200      |     5     |        3         | 0.06671141588505629  | 0.12313460116546365 |\n",
      "|  63  |      200      |     5     |        5         | 0.055244251705604965 | 0.12153347054476361 |\n",
      "|  64  |      200      |     7     |        3         | 0.04690967899353494  |  0.1246423047596715 |\n",
      "|  65  |      200      |     7     |        5         | 0.04690967899353494  |  0.1246423047596715 |\n",
      "|  66  |      200      |     10    |        3         | 0.04836308488882613  | 0.14357169232366468 |\n",
      "|  67  |      200      |     10    |        5         |  0.0483567482385988  | 0.14353454856661932 |\n",
      "|  68  |      200      |     20    |        3         | 0.06130297673730314  | 0.17019518279926382 |\n",
      "|  69  |      200      |     20    |        5         | 0.05984260440068734  | 0.17145121761980048 |\n",
      "|  70  |      200      |     50    |        3         | 0.06130297673730314  | 0.17019518279926382 |\n",
      "|  71  |      200      |     50    |        5         | 0.05984260440068734  | 0.17145121761980048 |\n",
      "|  72  |      300      |     2     |        3         | 0.11373456057124862  | 0.12239915327925846 |\n",
      "|  73  |      300      |     2     |        5         |  0.1135769757499501  | 0.12242063977750922 |\n",
      "|  74  |      300      |     5     |        3         | 0.06671141588505629  | 0.12313460116546365 |\n",
      "|  75  |      300      |     5     |        5         | 0.055244251705604965 | 0.12153347054476361 |\n",
      "|  76  |      300      |     7     |        3         | 0.04690967899353494  |  0.1246423047596715 |\n",
      "|  77  |      300      |     7     |        5         | 0.04690967899353494  |  0.1246423047596715 |\n",
      "|  78  |      300      |     10    |        3         | 0.04836308488882613  | 0.14357169232366468 |\n",
      "|  79  |      300      |     10    |        5         |  0.0483567482385988  | 0.14353454856661932 |\n",
      "|  80  |      300      |     20    |        3         | 0.06130297673730314  | 0.17019518279926382 |\n",
      "|  81  |      300      |     20    |        5         | 0.05984260440068734  | 0.17145121761980048 |\n",
      "|  82  |      300      |     50    |        3         | 0.06130297673730314  | 0.17019518279926382 |\n",
      "|  83  |      300      |     50    |        5         | 0.05984260440068734  | 0.17145121761980048 |\n",
      "|  84  |      500      |     2     |        3         | 0.11373456057124862  | 0.12239915327925846 |\n",
      "|  85  |      500      |     2     |        5         |  0.1135769757499501  | 0.12242063977750922 |\n",
      "|  86  |      500      |     5     |        3         | 0.06671141588505629  | 0.12313460116546365 |\n",
      "|  87  |      500      |     5     |        5         | 0.055244251705604965 | 0.12153347054476361 |\n",
      "|  88  |      500      |     7     |        3         | 0.04690967899353494  |  0.1246423047596715 |\n",
      "|  89  |      500      |     7     |        5         | 0.04690967899353494  |  0.1246423047596715 |\n",
      "|  90  |      500      |     10    |        3         | 0.04836308488882613  | 0.14357169232366468 |\n",
      "|  91  |      500      |     10    |        5         |  0.0483567482385988  | 0.14353454856661932 |\n",
      "|  92  |      500      |     20    |        3         | 0.06130297673730314  | 0.17019518279926382 |\n",
      "|  93  |      500      |     20    |        5         | 0.05984260440068734  | 0.17145121761980048 |\n",
      "|  94  |      500      |     50    |        3         | 0.06130297673730314  | 0.17019518279926382 |\n",
      "|  95  |      500      |     50    |        5         | 0.05984260440068734  | 0.17145121761980048 |\n",
      "+------+---------------+-----------+------------------+----------------------+---------------------+\n"
     ]
    }
   ],
   "source": [
    "print(x)"
   ]
  },
  {
   "cell_type": "code",
   "execution_count": 25,
   "metadata": {},
   "outputs": [
    {
     "data": {
      "image/png": "[encoded data removed]",
      "text/plain": [
       "<Figure size 432x288 with 1 Axes>"
      ]
     },
     "metadata": {
      "needs_background": "light"
     },
     "output_type": "display_data"
    }
   ],
   "source": [
    "plt.plot(np.arange(0,96),np.array(tracking)[:,3], label='train score')\n",
    "plt.plot(np.arange(0,96),np.array(tracking)[:,4], label='cv score')\n",
    "plt.title('Based on hyperparameter above w.r.t. S.No')\n",
    "plt.grid()\n",
    "plt.legend()\n",
    "plt.show()"
   ]
  },
  {
   "cell_type": "markdown",
   "metadata": {},
   "source": [
    "Observation: Look like it lies between 40 and 60.\n",
    "\n",
    "it's 51 S.No.\n",
    "\n",
    "```\n",
    "+------+---------------+-----------+------------------+----------------------+---------------------+\n",
    "| S.No | n_estimatores | max_depth | n_iter_no_change |       tr_score       |       cv_score      |\n",
    "+------+---------------+-----------+------------------+----------------------+---------------------+\n",
    "|  51  |      100      |     5     |        5         | 0.055244251705604965 | 0.12153347054476361 |\n",
    "+------+---------------+-----------+------------------+----------------------+---------------------+\n",
    "```"
   ]
  },
  {
   "cell_type": "code",
   "execution_count": 26,
   "metadata": {},
   "outputs": [
    {
     "data": {
      "text/plain": [
       "GradientBoostingRegressor(criterion='mse', max_depth=5, n_iter_no_change=5,\n",
       "                          random_state=1)"
      ]
     },
     "execution_count": 26,
     "metadata": {},
     "output_type": "execute_result"
    }
   ],
   "source": [
    "gd_model = GradientBoostingRegressor(n_estimators=100, max_depth=5, n_iter_no_change=5,random_state=1, \n",
    "                                             criterion='mse')\n",
    "gd_model.fit(train_X,train_y)"
   ]
  },
  {
   "cell_type": "code",
   "execution_count": 27,
   "metadata": {},
   "outputs": [],
   "source": [
    "with open('gd_model.pkl','wb') as f:\n",
    "    pickle.dump(rf_model,f)"
   ]
  },
  {
   "cell_type": "code",
   "execution_count": null,
   "metadata": {},
   "outputs": [],
   "source": []
  }
 ],
 "metadata": {
  "kernelspec": {
   "display_name": "Python 3",
   "language": "python",
   "name": "python3"
  },
  "language_info": {
   "codemirror_mode": {
    "name": "ipython",
    "version": 3
   },
   "file_extension": ".py",
   "mimetype": "text/x-python",
   "name": "python",
   "nbconvert_exporter": "python",
   "pygments_lexer": "ipython3",
   "version": "3.8.5"
  },
  "toc": {
   "base_numbering": 1,
   "nav_menu": {},
   "number_sections": true,
   "sideBar": true,
   "skip_h1_title": false,
   "title_cell": "Table of Contents",
   "title_sidebar": "Contents",
   "toc_cell": false,
   "toc_position": {},
   "toc_section_display": true,
   "toc_window_display": false
  },
  "varInspector": {
   "cols": {
    "lenName": 16,
    "lenType": 16,
    "lenVar": 40
   },
   "kernels_config": {
    "python": {
     "delete_cmd_postfix": "",
     "delete_cmd_prefix": "del ",
     "library": "var_list.py",
     "varRefreshCmd": "print(var_dic_list())"
    },
    "r": {
     "delete_cmd_postfix": ") ",
     "delete_cmd_prefix": "rm(",
     "library": "var_list.r",
     "varRefreshCmd": "cat(var_dic_list()) "
    }
   },
   "types_to_exclude": [
    "module",
    "function",
    "builtin_function_or_method",
    "instance",
    "_Feature"
   ],
   "window_display": false
  }
 },
 "nbformat": 4,
 "nbformat_minor": 4
}
