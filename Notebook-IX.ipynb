{
 "cells": [
  {
   "cell_type": "code",
   "execution_count": 1,
   "metadata": {},
   "outputs": [],
   "source": [
    "import pickle\n",
    "from sklearn.ensemble import GradientBoostingRegressor\n",
    "from sklearn.metrics import mean_squared_log_error\n",
    "import tqdm\n",
    "import matplotlib.pyplot as plt\n",
    "import numpy as np"
   ]
  },
  {
   "cell_type": "code",
   "execution_count": 2,
   "metadata": {},
   "outputs": [],
   "source": [
    "with open('train_X.pkl','rb') as f:\n",
    "    train_X = pickle.load(f)\n",
    "with open('train_y.pkl','rb') as f:\n",
    "    train_y = pickle.load(f)\n",
    "    \n",
    "with open('cv_X.pkl','rb') as f:\n",
    "    cv_X = pickle.load(f)\n",
    "with open('cv_y.pkl','rb') as f:\n",
    "    cv_y = pickle.load(f)"
   ]
  },
  {
   "cell_type": "code",
   "execution_count": 3,
   "metadata": {},
   "outputs": [
    {
     "data": {
      "text/plain": [
       "GradientBoostingRegressor(criterion='mse', max_depth=5, n_iter_no_change=5,\n",
       "                          random_state=1)"
      ]
     },
     "execution_count": 3,
     "metadata": {},
     "output_type": "execute_result"
    }
   ],
   "source": [
    "model = GradientBoostingRegressor(n_estimators=100, max_depth=5, n_iter_no_change=5, random_state=1,\n",
    "                                criterion='mse')\n",
    "model"
   ]
  },
  {
   "cell_type": "markdown",
   "metadata": {},
   "source": [
    "# Feature Selection"
   ]
  },
  {
   "cell_type": "code",
   "execution_count": 4,
   "metadata": {},
   "outputs": [
    {
     "name": "stderr",
     "output_type": "stream",
     "text": [
      "<ipython-input-4-65f04be6dbb7>:6: TqdmDeprecationWarning: This function will be removed in tqdm==5.0.0\n",
      "Please use `tqdm.notebook.tqdm` instead of `tqdm.tqdm_notebook`\n",
      "  for j in tqdm.tqdm_notebook(range(train_X.shape[1])):\n"
     ]
    },
    {
     "data": {
      "application/vnd.jupyter.widget-view+json": {
       "model_id": "d0204806cf034a28bc05169a9b4b3b65",
       "version_major": 2,
       "version_minor": 0
      },
      "text/plain": [
       "HBox(children=(FloatProgress(value=0.0, max=281.0), HTML(value='')))"
      ]
     },
     "metadata": {},
     "output_type": "display_data"
    },
    {
     "name": "stdout",
     "output_type": "stream",
     "text": [
      "\n"
     ]
    }
   ],
   "source": [
    "column_index = []\n",
    "column_dict = dict()\n",
    "tr_fe_score,cv_fe_score = [], []\n",
    "\n",
    "# Iterate till all columns\n",
    "for j in tqdm.tqdm_notebook(range(train_X.shape[1])):\n",
    "    max_cv_score = 1000 # Assign maximum value\n",
    "    # Iterate over all columns\n",
    "    for i in range(train_X.shape[1]):\n",
    "        # select those which are not there in column_index\n",
    "        if i not in column_index:\n",
    "            # Fit the model with column\n",
    "            model.fit(train_X[:,column_index + [i]],train_y)\n",
    "            # Predict the train and cv\n",
    "            tr_pred = model.predict(train_X[:,column_index + [i]])\n",
    "            cv_pred = model.predict(cv_X[:,column_index + [i]])\n",
    "            # score the error in train and cv\n",
    "            tr_score = mean_squared_log_error(train_y,tr_pred)\n",
    "            cv_score = mean_squared_log_error(cv_y,cv_pred)\n",
    "            # If found improved one, then store the score and column index also\n",
    "            if max_cv_score > cv_score:\n",
    "                max_cv_score = cv_score\n",
    "                current_column_index = i\n",
    "    \n",
    "    # Now update column index with best column index\n",
    "    column_index = column_index + [current_column_index]\n",
    "    # Fit, predict and score the train and cv with best column index\n",
    "    model.fit(train_X[:,column_index],train_y)\n",
    "    tr_pred = model.predict(train_X[:,column_index])\n",
    "    cv_pred = model.predict(cv_X[:,column_index])\n",
    "    tr_score = mean_squared_log_error(train_y,tr_pred)\n",
    "    cv_score = mean_squared_log_error(cv_y,cv_pred)\n",
    "    # Store the tr and cv score value into list so that we can plot the graph\n",
    "    # between number of features and cv and train score\n",
    "    tr_fe_score.append(tr_score)\n",
    "    cv_fe_score.append(cv_score)\n",
    "    # Store best column index as value and number of feature selected as key value\n",
    "    column_dict[j+1] = column_index"
   ]
  },
  {
   "cell_type": "code",
   "execution_count": 5,
   "metadata": {},
   "outputs": [
    {
     "data": {
      "image/png": "[encoded data removed]",
      "text/plain": [
       "<Figure size 432x288 with 1 Axes>"
      ]
     },
     "metadata": {
      "needs_background": "light"
     },
     "output_type": "display_data"
    }
   ],
   "source": [
    "plt.plot(np.arange(1,train_X.shape[1]+1),cv_fe_score, label='cv_score')\n",
    "plt.plot(np.arange(1,train_X.shape[1]+1),tr_fe_score, label='train_score')\n",
    "plt.xlabel('Number of feature selected')\n",
    "plt.ylabel('Score')\n",
    "plt.grid()\n",
    "plt.legend()\n",
    "plt.show()"
   ]
  },
  {
   "cell_type": "markdown",
   "metadata": {},
   "source": [
    "Observation: Somewhere around 50 to 100 we will find the best cv score among number of feature selected."
   ]
  },
  {
   "cell_type": "code",
   "execution_count": 7,
   "metadata": {},
   "outputs": [
    {
     "name": "stdout",
     "output_type": "stream",
     "text": [
      "150 0.013563948634197324\n",
      "151 0.013787420242134455\n",
      "152 0.013436661850822984\n",
      "153 0.013244734032139039\n",
      "154 0.013416561381854753\n",
      "155 0.01335404131554713\n",
      "156 0.013338636961399739\n",
      "157 0.013302297275789488\n",
      "158 0.01320302009287171\n",
      "159 0.013189081727941584\n",
      "160 0.01324674111332925\n",
      "161 0.013128424948457939\n",
      "162 0.013332890279979918\n",
      "163 0.013444958850533087\n",
      "164 0.013741155702121977\n",
      "165 0.013566898735491134\n",
      "166 0.013407149662069295\n",
      "167 0.013504736150153187\n",
      "168 0.013531129829517808\n",
      "169 0.013512685782174351\n",
      "170 0.013501899208332103\n",
      "171 0.013327661665185087\n",
      "172 0.013554973862920091\n",
      "173 0.013378239788054394\n",
      "174 0.013468802995222214\n",
      "175 0.013374262961886695\n",
      "176 0.013222473107239577\n",
      "177 0.013319029149095307\n",
      "178 0.0130111795103976\n",
      "179 0.013134106994036993\n",
      "180 0.01305120161227533\n",
      "181 0.013370890945597808\n",
      "182 0.013563625944557187\n",
      "183 0.013719251328370935\n",
      "184 0.013827547091612208\n",
      "185 0.013618918482695776\n",
      "186 0.013550138631332668\n",
      "187 0.013512612731646941\n",
      "188 0.013530064580728854\n",
      "189 0.013523284314287714\n",
      "190 0.013614151976886566\n",
      "191 0.013186286222464106\n",
      "192 0.013068291193064694\n",
      "193 0.01283550896689422\n",
      "194 0.01268921848081278\n",
      "195 0.012196550090348802\n",
      "196 0.012146173057313855\n",
      "197 0.011624334081286002\n",
      "198 0.011603549115914677\n",
      "199 0.011841074056121113\n"
     ]
    }
   ],
   "source": [
    "for i,s in enumerate(cv_fe_score[150:200]):\n",
    "    print(i+150,s)"
   ]
  },
  {
   "cell_type": "markdown",
   "metadata": {},
   "source": [
    "Observation: It's 198 as number of feature to selected.\n",
    "\n",
    "Now let see which 198 features need to be selected among 281 columns"
   ]
  },
  {
   "cell_type": "code",
   "execution_count": 8,
   "metadata": {},
   "outputs": [
    {
     "data": {
      "text/plain": [
       "[82,\n",
       " 232,\n",
       " 178,\n",
       " 0,\n",
       " 229,\n",
       " 227,\n",
       " 114,\n",
       " 66,\n",
       " 9,\n",
       " 32,\n",
       " 233,\n",
       " 210,\n",
       " 184,\n",
       " 179,\n",
       " 258,\n",
       " 269,\n",
       " 112,\n",
       " 21,\n",
       " 95,\n",
       " 230,\n",
       " 159,\n",
       " 65,\n",
       " 226,\n",
       " 103,\n",
       " 236,\n",
       " 22,\n",
       " 149,\n",
       " 241,\n",
       " 8,\n",
       " 153,\n",
       " 68,\n",
       " 97,\n",
       " 42,\n",
       " 62,\n",
       " 183,\n",
       " 238,\n",
       " 267,\n",
       " 272,\n",
       " 64,\n",
       " 40,\n",
       " 92,\n",
       " 168,\n",
       " 195,\n",
       " 44,\n",
       " 81,\n",
       " 132,\n",
       " 206,\n",
       " 80,\n",
       " 86,\n",
       " 207,\n",
       " 254,\n",
       " 139,\n",
       " 15,\n",
       " 63,\n",
       " 262,\n",
       " 138,\n",
       " 242,\n",
       " 253,\n",
       " 70,\n",
       " 73,\n",
       " 275,\n",
       " 33,\n",
       " 125,\n",
       " 77,\n",
       " 94,\n",
       " 154,\n",
       " 100,\n",
       " 115,\n",
       " 270,\n",
       " 67,\n",
       " 165,\n",
       " 143,\n",
       " 72,\n",
       " 88,\n",
       " 89,\n",
       " 173,\n",
       " 260,\n",
       " 121,\n",
       " 110,\n",
       " 106,\n",
       " 48,\n",
       " 169,\n",
       " 268,\n",
       " 234,\n",
       " 167,\n",
       " 135,\n",
       " 160,\n",
       " 49,\n",
       " 231,\n",
       " 240,\n",
       " 54,\n",
       " 93,\n",
       " 111,\n",
       " 266,\n",
       " 83,\n",
       " 147,\n",
       " 107,\n",
       " 171,\n",
       " 182,\n",
       " 96,\n",
       " 252,\n",
       " 19,\n",
       " 98,\n",
       " 145,\n",
       " 219,\n",
       " 276,\n",
       " 118,\n",
       " 235,\n",
       " 224,\n",
       " 158,\n",
       " 172,\n",
       " 197,\n",
       " 188,\n",
       " 10,\n",
       " 26,\n",
       " 214,\n",
       " 71,\n",
       " 58,\n",
       " 164,\n",
       " 175,\n",
       " 90,\n",
       " 265,\n",
       " 211,\n",
       " 162,\n",
       " 152,\n",
       " 74,\n",
       " 216,\n",
       " 102,\n",
       " 222,\n",
       " 113,\n",
       " 30,\n",
       " 256,\n",
       " 255,\n",
       " 244,\n",
       " 192,\n",
       " 144,\n",
       " 151,\n",
       " 163,\n",
       " 257,\n",
       " 174,\n",
       " 41,\n",
       " 91,\n",
       " 56,\n",
       " 2,\n",
       " 166,\n",
       " 126,\n",
       " 31,\n",
       " 1,\n",
       " 155,\n",
       " 245,\n",
       " 50,\n",
       " 187,\n",
       " 220,\n",
       " 53,\n",
       " 69,\n",
       " 61,\n",
       " 3,\n",
       " 99,\n",
       " 119,\n",
       " 78,\n",
       " 12,\n",
       " 218,\n",
       " 60,\n",
       " 57,\n",
       " 104,\n",
       " 117,\n",
       " 259,\n",
       " 239,\n",
       " 87,\n",
       " 20,\n",
       " 161,\n",
       " 35,\n",
       " 52,\n",
       " 225,\n",
       " 277,\n",
       " 59,\n",
       " 223,\n",
       " 215,\n",
       " 43,\n",
       " 85,\n",
       " 46,\n",
       " 181,\n",
       " 120,\n",
       " 199,\n",
       " 180,\n",
       " 237,\n",
       " 129,\n",
       " 25,\n",
       " 17,\n",
       " 84,\n",
       " 205,\n",
       " 209,\n",
       " 189,\n",
       " 201,\n",
       " 273,\n",
       " 134,\n",
       " 45,\n",
       " 55]"
      ]
     },
     "execution_count": 8,
     "metadata": {},
     "output_type": "execute_result"
    }
   ],
   "source": [
    "column_dict[198]"
   ]
  },
  {
   "cell_type": "code",
   "execution_count": 9,
   "metadata": {},
   "outputs": [],
   "source": [
    "with open('column_fe_dict_2.pkl','wb') as f:\n",
    "    pickle.dump(column_dict,f)"
   ]
  },
  {
   "cell_type": "code",
   "execution_count": 10,
   "metadata": {},
   "outputs": [
    {
     "data": {
      "text/plain": [
       "GradientBoostingRegressor(criterion='mse', max_depth=5, n_iter_no_change=5,\n",
       "                          random_state=1)"
      ]
     },
     "execution_count": 10,
     "metadata": {},
     "output_type": "execute_result"
    }
   ],
   "source": [
    "model.fit(train_X[:,column_dict[198]],train_y)"
   ]
  },
  {
   "cell_type": "code",
   "execution_count": 11,
   "metadata": {},
   "outputs": [],
   "source": [
    "with open('gd_model_fe.pkl','wb') as f:\n",
    "    pickle.dump(model,f)"
   ]
  },
  {
   "cell_type": "code",
   "execution_count": null,
   "metadata": {},
   "outputs": [],
   "source": []
  }
 ],
 "metadata": {
  "kernelspec": {
   "display_name": "Python 3",
   "language": "python",
   "name": "python3"
  },
  "language_info": {
   "codemirror_mode": {
    "name": "ipython",
    "version": 3
   },
   "file_extension": ".py",
   "mimetype": "text/x-python",
   "name": "python",
   "nbconvert_exporter": "python",
   "pygments_lexer": "ipython3",
   "version": "3.8.5"
  },
  "toc": {
   "base_numbering": 1,
   "nav_menu": {},
   "number_sections": true,
   "sideBar": true,
   "skip_h1_title": false,
   "title_cell": "Table of Contents",
   "title_sidebar": "Contents",
   "toc_cell": false,
   "toc_position": {},
   "toc_section_display": true,
   "toc_window_display": false
  },
  "varInspector": {
   "cols": {
    "lenName": 16,
    "lenType": 16,
    "lenVar": 40
   },
   "kernels_config": {
    "python": {
     "delete_cmd_postfix": "",
     "delete_cmd_prefix": "del ",
     "library": "var_list.py",
     "varRefreshCmd": "print(var_dic_list())"
    },
    "r": {
     "delete_cmd_postfix": ") ",
     "delete_cmd_prefix": "rm(",
     "library": "var_list.r",
     "varRefreshCmd": "cat(var_dic_list()) "
    }
   },
   "types_to_exclude": [
    "module",
    "function",
    "builtin_function_or_method",
    "instance",
    "_Feature"
   ],
   "window_display": false
  }
 },
 "nbformat": 4,
 "nbformat_minor": 4
}
