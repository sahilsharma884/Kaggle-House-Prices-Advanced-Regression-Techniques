{
 "cells": [
  {
   "cell_type": "code",
   "execution_count": 1,
   "metadata": {},
   "outputs": [],
   "source": [
    "import pickle\n",
    "import numpy as np\n",
    "import matplotlib.pyplot as plt\n",
    "import pandas as pd\n",
    "from prettytable import PrettyTable"
   ]
  },
  {
   "cell_type": "code",
   "execution_count": 2,
   "metadata": {},
   "outputs": [],
   "source": [
    "# Load the train.pkl\n",
    "with open('train_X.pkl','rb') as f:\n",
    "    train_X = pickle.load(f)"
   ]
  },
  {
   "cell_type": "code",
   "execution_count": 3,
   "metadata": {},
   "outputs": [],
   "source": [
    "with open('train_y.pkl','rb') as f:\n",
    "    train_y = pickle.load(f)\n",
    "# train_y = train_y.ravel()"
   ]
  },
  {
   "cell_type": "code",
   "execution_count": 4,
   "metadata": {},
   "outputs": [
    {
     "data": {
      "text/plain": [
       "((900, 281), (900,))"
      ]
     },
     "execution_count": 4,
     "metadata": {},
     "output_type": "execute_result"
    }
   ],
   "source": [
    "train_X.shape, train_y.shape"
   ]
  },
  {
   "cell_type": "code",
   "execution_count": 5,
   "metadata": {},
   "outputs": [],
   "source": [
    "# Load the cv.pkl\n",
    "with open('cv_X.pkl','rb') as f:\n",
    "    cv_X = pickle.load(f)"
   ]
  },
  {
   "cell_type": "code",
   "execution_count": 6,
   "metadata": {},
   "outputs": [],
   "source": [
    "with open('cv_y.pkl','rb') as f:\n",
    "    cv_y = pickle.load(f)\n",
    "# cv_y = cv_y.ravel()"
   ]
  },
  {
   "cell_type": "code",
   "execution_count": 7,
   "metadata": {},
   "outputs": [
    {
     "data": {
      "text/plain": [
       "((225, 281), (225,))"
      ]
     },
     "execution_count": 7,
     "metadata": {},
     "output_type": "execute_result"
    }
   ],
   "source": [
    "cv_X.shape, cv_y.shape"
   ]
  },
  {
   "cell_type": "code",
   "execution_count": 8,
   "metadata": {},
   "outputs": [
    {
     "data": {
      "image/png": "[encoded data removed]",
      "text/plain": [
       "<Figure size 432x288 with 1 Axes>"
      ]
     },
     "metadata": {
      "needs_background": "light"
     },
     "output_type": "display_data"
    }
   ],
   "source": [
    "# Let see how SalePrice look like in graph\n",
    "plt.scatter(np.arange(train_y.shape[0]),train_y)\n",
    "plt.show()"
   ]
  },
  {
   "cell_type": "code",
   "execution_count": 9,
   "metadata": {},
   "outputs": [],
   "source": [
    "def error_score(actual_y, predict_y):\n",
    "    actual_y = np.log(actual_y)\n",
    "    predict_y = np.log(predict_y)\n",
    "    return np.sqrt(np.mean((actual_y-predict_y)**2))"
   ]
  },
  {
   "cell_type": "markdown",
   "metadata": {},
   "source": [
    "# RandomForest Regression"
   ]
  },
  {
   "cell_type": "code",
   "execution_count": 10,
   "metadata": {},
   "outputs": [],
   "source": [
    "from sklearn.ensemble import RandomForestRegressor"
   ]
  },
  {
   "cell_type": "code",
   "execution_count": 11,
   "metadata": {},
   "outputs": [],
   "source": [
    "params = {\n",
    "    'n_estimators':[10,20,30,50,100,200,300,500],\n",
    "    'max_depth':[2,5,7,10,20,50],\n",
    "    'max_samples': [20,30,50]\n",
    "}"
   ]
  },
  {
   "cell_type": "code",
   "execution_count": 12,
   "metadata": {},
   "outputs": [],
   "source": [
    "tracking = []\n",
    "for n in params['n_estimators']:\n",
    "    for d in params['max_depth']:\n",
    "        for s in params['max_samples']:\n",
    "            rf_model = RandomForestRegressor(n_estimators=n, max_depth=d, max_samples=s,random_state=1, \n",
    "                                             criterion='mse',oob_score=True)\n",
    "            rf_model.fit(train_X,train_y)\n",
    "            tr_pred = rf_model.predict(train_X)\n",
    "            tr_score = error_score(train_y,tr_pred)\n",
    "            cv_pred = rf_model.predict(cv_X)\n",
    "            cv_score = error_score(cv_y,cv_pred)\n",
    "            tracking.append([n,d,s,tr_score,cv_score])"
   ]
  },
  {
   "cell_type": "code",
   "execution_count": 13,
   "metadata": {},
   "outputs": [],
   "source": [
    "x = PrettyTable()\n",
    "x.field_names = (['S.No','n_estimatores','max_depth','max_samples','tr_score','cv_score'])\n",
    "for i,z in enumerate(tracking):\n",
    "    x.add_row([i,z[0],z[1],z[2],z[3],z[4]])"
   ]
  },
  {
   "cell_type": "code",
   "execution_count": 14,
   "metadata": {},
   "outputs": [
    {
     "name": "stdout",
     "output_type": "stream",
     "text": [
      "+------+---------------+-----------+-------------+---------------------+---------------------+\n",
      "| S.No | n_estimatores | max_depth | max_samples |       tr_score      |       cv_score      |\n",
      "+------+---------------+-----------+-------------+---------------------+---------------------+\n",
      "|  0   |       10      |     2     |      20     | 0.25806164326484343 |  0.2342016531373006 |\n",
      "|  1   |       10      |     2     |      30     | 0.24197065196731785 | 0.21763580707528563 |\n",
      "|  2   |       10      |     2     |      50     |  0.235861312884767  | 0.21693729154086203 |\n",
      "|  3   |       10      |     5     |      20     | 0.24305414464750172 |  0.2171943804051583 |\n",
      "|  4   |       10      |     5     |      30     | 0.19923929033686522 | 0.17629491298323277 |\n",
      "|  5   |       10      |     5     |      50     | 0.19051732598880533 |  0.1813092023635192 |\n",
      "|  6   |       10      |     7     |      20     |  0.2412490638997674 | 0.21410110705767574 |\n",
      "|  7   |       10      |     7     |      30     | 0.20003691696647533 | 0.17831412127890012 |\n",
      "|  8   |       10      |     7     |      50     | 0.18992296859475474 | 0.17351152083148016 |\n",
      "|  9   |       10      |     10    |      20     | 0.24409949916503504 | 0.21638321881883055 |\n",
      "|  10  |       10      |     10    |      30     | 0.20358782116887258 |  0.1822928915355788 |\n",
      "|  11  |       10      |     10    |      50     | 0.19021120478430908 |  0.178274640015304  |\n",
      "|  12  |       10      |     20    |      20     | 0.24409949916503504 | 0.21638321881883055 |\n",
      "|  13  |       10      |     20    |      30     | 0.20358782116887258 |  0.1822928915355788 |\n",
      "|  14  |       10      |     20    |      50     | 0.19023939925896532 | 0.17850438238838207 |\n",
      "|  15  |       10      |     50    |      20     | 0.24409949916503504 | 0.21638321881883055 |\n",
      "|  16  |       10      |     50    |      30     | 0.20358782116887258 |  0.1822928915355788 |\n",
      "|  17  |       10      |     50    |      50     | 0.19023939925896532 | 0.17850438238838207 |\n",
      "|  18  |       20      |     2     |      20     |  0.2457293337022767 | 0.22785932921062324 |\n",
      "|  19  |       20      |     2     |      30     | 0.23010385729968102 | 0.20825112141456434 |\n",
      "|  20  |       20      |     2     |      50     | 0.22262144918423546 | 0.20327895749497438 |\n",
      "|  21  |       20      |     5     |      20     |  0.2269780773875529 |  0.2082142721018583 |\n",
      "|  22  |       20      |     5     |      30     |  0.1953538004522208 | 0.17203017947999827 |\n",
      "|  23  |       20      |     5     |      50     | 0.17654313946418798 | 0.16295267872644842 |\n",
      "|  24  |       20      |     7     |      20     |  0.227348588852681  | 0.20599027769249967 |\n",
      "|  25  |       20      |     7     |      30     |  0.1954962813238776 | 0.17315870145390913 |\n",
      "|  26  |       20      |     7     |      50     | 0.17292043303265453 |  0.1570603368859149 |\n",
      "|  27  |       20      |     10    |      20     |  0.2276450082176501 | 0.20743098816094613 |\n",
      "|  28  |       20      |     10    |      30     | 0.19672526668244872 |  0.1736381328823284 |\n",
      "|  29  |       20      |     10    |      50     | 0.17283300088467657 | 0.15752634757032374 |\n",
      "|  30  |       20      |     20    |      20     |  0.2276450082176501 | 0.20743098816094613 |\n",
      "|  31  |       20      |     20    |      30     |  0.1970926699900666 | 0.17372502661097627 |\n",
      "|  32  |       20      |     20    |      50     | 0.17254784031086035 |  0.1571828714293422 |\n",
      "|  33  |       20      |     50    |      20     |  0.2276450082176501 | 0.20743098816094613 |\n",
      "|  34  |       20      |     50    |      30     |  0.1970926699900666 | 0.17372502661097627 |\n",
      "|  35  |       20      |     50    |      50     | 0.17254784031086035 |  0.1571828714293422 |\n",
      "|  36  |       30      |     2     |      20     |  0.238427573365404  | 0.22240884042218143 |\n",
      "|  37  |       30      |     2     |      30     | 0.21906080733210465 |  0.2029340104760352 |\n",
      "|  38  |       30      |     2     |      50     | 0.21704033050141766 | 0.20096071023898948 |\n",
      "|  39  |       30      |     5     |      20     | 0.22052040937968415 |  0.2012976075217973 |\n",
      "|  40  |       30      |     5     |      30     | 0.18900997474372486 | 0.17385619958910364 |\n",
      "|  41  |       30      |     5     |      50     |  0.1725898025942114 |  0.1599988676724219 |\n",
      "|  42  |       30      |     7     |      20     | 0.22346065555279165 | 0.20303921109268666 |\n",
      "|  43  |       30      |     7     |      30     | 0.18920486874279177 |  0.1729568607802062 |\n",
      "|  44  |       30      |     7     |      50     | 0.17002530524835655 | 0.15658401494027263 |\n",
      "|  45  |       30      |     10    |      20     | 0.22163947329988395 | 0.20156430337694456 |\n",
      "|  46  |       30      |     10    |      30     | 0.19187623907660978 |  0.1758666571005219 |\n",
      "|  47  |       30      |     10    |      50     |  0.1708035865932398 |  0.1573589914232005 |\n",
      "|  48  |       30      |     20    |      20     | 0.22163947329988395 | 0.20156430337694456 |\n",
      "|  49  |       30      |     20    |      30     | 0.19223366169664022 | 0.17585232839907863 |\n",
      "|  50  |       30      |     20    |      50     | 0.17021475348743811 |  0.1569246444364545 |\n",
      "|  51  |       30      |     50    |      20     | 0.22163947329988395 | 0.20156430337694456 |\n",
      "|  52  |       30      |     50    |      30     | 0.19223366169664022 | 0.17585232839907863 |\n",
      "|  53  |       30      |     50    |      50     | 0.17021475348743811 |  0.1569246444364545 |\n",
      "|  54  |       50      |     2     |      20     |  0.2313248977256812 | 0.21437003946249858 |\n",
      "|  55  |       50      |     2     |      30     | 0.21944370139591182 | 0.20481705424909102 |\n",
      "|  56  |       50      |     2     |      50     | 0.21428109208259374 |  0.1999319041212773 |\n",
      "|  57  |       50      |     5     |      20     | 0.21274263917531888 |  0.1925633049760788 |\n",
      "|  58  |       50      |     5     |      30     | 0.18933337031919573 | 0.17245954161677676 |\n",
      "|  59  |       50      |     5     |      50     | 0.17244583065543917 |  0.1608017334742903 |\n",
      "|  60  |       50      |     7     |      20     | 0.21390861196382574 | 0.19387965993922285 |\n",
      "|  61  |       50      |     7     |      30     | 0.18941801474761544 |  0.171660712960473  |\n",
      "|  62  |       50      |     7     |      50     |  0.1700473524721007 | 0.15781088585487824 |\n",
      "|  63  |       50      |     10    |      20     | 0.21263514710989828 | 0.19268855923884332 |\n",
      "|  64  |       50      |     10    |      30     | 0.19137439222054392 | 0.17285317988866924 |\n",
      "|  65  |       50      |     10    |      50     |  0.1700738205198744 |  0.1594010132060973 |\n",
      "|  66  |       50      |     20    |      20     | 0.21263514710989828 | 0.19268855923884332 |\n",
      "|  67  |       50      |     20    |      30     | 0.19160529130256482 | 0.17284824215073843 |\n",
      "|  68  |       50      |     20    |      50     | 0.17059832121867968 | 0.15896147623052478 |\n",
      "|  69  |       50      |     50    |      20     | 0.21263514710989828 | 0.19268855923884332 |\n",
      "|  70  |       50      |     50    |      30     | 0.19160529130256482 | 0.17284824215073843 |\n",
      "|  71  |       50      |     50    |      50     | 0.17059832121867968 | 0.15896147623052478 |\n",
      "|  72  |      100      |     2     |      20     |  0.2219799602690621 |  0.2070497024757892 |\n",
      "|  73  |      100      |     2     |      30     | 0.21572901304865738 |  0.2006722473810225 |\n",
      "|  74  |      100      |     2     |      50     | 0.21024795614646355 | 0.19766467799862747 |\n",
      "|  75  |      100      |     5     |      20     | 0.20333639524858924 | 0.18471972486088356 |\n",
      "|  76  |      100      |     5     |      30     | 0.18571290930047216 |  0.167834088622565  |\n",
      "|  77  |      100      |     5     |      50     | 0.16959655752162336 |  0.1591430261335006 |\n",
      "|  78  |      100      |     7     |      20     | 0.20433007799958924 |  0.1858654218773635 |\n",
      "|  79  |      100      |     7     |      30     |  0.1859540745678925 | 0.16816782235956532 |\n",
      "|  80  |      100      |     7     |      50     | 0.16755064335223996 |  0.1562222583373836 |\n",
      "|  81  |      100      |     10    |      20     | 0.20386306318227104 |  0.1853586368385952 |\n",
      "|  82  |      100      |     10    |      30     | 0.18728896502025802 | 0.16888925722374415 |\n",
      "|  83  |      100      |     10    |      50     | 0.16867877142334678 |  0.1583831837608241 |\n",
      "|  84  |      100      |     20    |      20     | 0.20386306318227104 |  0.1853586368385952 |\n",
      "|  85  |      100      |     20    |      30     | 0.18745174282180307 |  0.1689605906058568 |\n",
      "|  86  |      100      |     20    |      50     | 0.16900291617442426 | 0.15851318104156123 |\n",
      "|  87  |      100      |     50    |      20     | 0.20386306318227104 |  0.1853586368385952 |\n",
      "|  88  |      100      |     50    |      30     | 0.18745174282180307 |  0.1689605906058568 |\n",
      "|  89  |      100      |     50    |      50     | 0.16900291617442426 | 0.15851318104156123 |\n",
      "|  90  |      200      |     2     |      20     | 0.21646646162172578 | 0.20175186317167318 |\n",
      "|  91  |      200      |     2     |      30     | 0.21085330055514695 | 0.19606548546155625 |\n",
      "|  92  |      200      |     2     |      50     | 0.20730041891232479 | 0.19615840749680713 |\n",
      "|  93  |      200      |     5     |      20     | 0.19969745530284946 | 0.18347551939430726 |\n",
      "|  94  |      200      |     5     |      30     | 0.18308425226870126 | 0.16611656216498505 |\n",
      "|  95  |      200      |     5     |      50     | 0.16733989147920048 | 0.15672236648473709 |\n",
      "|  96  |      200      |     7     |      20     | 0.19944659601037087 | 0.18333940270353555 |\n",
      "|  97  |      200      |     7     |      30     | 0.18303304456224279 | 0.16560561231017787 |\n",
      "|  98  |      200      |     7     |      50     |  0.1654479314561528 | 0.15501095782378987 |\n",
      "|  99  |      200      |     10    |      20     | 0.19899616331865302 | 0.18287530247139283 |\n",
      "| 100  |      200      |     10    |      30     | 0.18413341279703097 | 0.16652827832189437 |\n",
      "| 101  |      200      |     10    |      50     | 0.16525978462722685 |  0.1546558708874614 |\n",
      "| 102  |      200      |     20    |      20     | 0.19899616331865302 | 0.18287530247139283 |\n",
      "| 103  |      200      |     20    |      30     | 0.18429645253745752 | 0.16670823836448592 |\n",
      "| 104  |      200      |     20    |      50     |  0.1653875542196172 | 0.15451159318189878 |\n",
      "| 105  |      200      |     50    |      20     | 0.19899616331865302 | 0.18287530247139283 |\n",
      "| 106  |      200      |     50    |      30     | 0.18429645253745752 | 0.16670823836448592 |\n",
      "| 107  |      200      |     50    |      50     |  0.1653875542196172 | 0.15451159318189878 |\n",
      "| 108  |      300      |     2     |      20     | 0.21718047400817758 | 0.20323288657070934 |\n",
      "| 109  |      300      |     2     |      30     |  0.2113472640396518 | 0.19712633518905193 |\n",
      "| 110  |      300      |     2     |      50     | 0.20853517481275702 | 0.19729846623390487 |\n",
      "| 111  |      300      |     5     |      20     | 0.19964181556884603 | 0.18420835709569056 |\n",
      "| 112  |      300      |     5     |      30     |  0.1850074156569627 | 0.16977121854741817 |\n",
      "| 113  |      300      |     5     |      50     | 0.16797894933994903 | 0.15711814858268405 |\n",
      "| 114  |      300      |     7     |      20     | 0.19895100090666148 | 0.18381937172900237 |\n",
      "| 115  |      300      |     7     |      30     | 0.18435713687057256 |  0.1681407604138914 |\n",
      "| 116  |      300      |     7     |      50     | 0.16633972690022839 |  0.1556536719070299 |\n",
      "| 117  |      300      |     10    |      20     | 0.19900244144266302 | 0.18365989307854405 |\n",
      "| 118  |      300      |     10    |      30     |  0.1848390074979823 | 0.16888575807505338 |\n",
      "| 119  |      300      |     10    |      50     | 0.16615645818077773 | 0.15517576646852824 |\n",
      "| 120  |      300      |     20    |      20     | 0.19900244144266302 | 0.18365989307854405 |\n",
      "| 121  |      300      |     20    |      30     | 0.18490837693102774 | 0.16898198908645612 |\n",
      "| 122  |      300      |     20    |      50     | 0.16637184293628995 |  0.155254787452336  |\n",
      "| 123  |      300      |     50    |      20     | 0.19900244144266302 | 0.18365989307854405 |\n",
      "| 124  |      300      |     50    |      30     | 0.18490837693102774 | 0.16898198908645612 |\n",
      "| 125  |      300      |     50    |      50     | 0.16637184293628995 |  0.155254787452336  |\n",
      "| 126  |      500      |     2     |      20     |  0.2190730820673971 | 0.20599751633017857 |\n",
      "| 127  |      500      |     2     |      30     | 0.21106201998407778 | 0.19806345908978384 |\n",
      "| 128  |      500      |     2     |      50     |  0.2088253680749327 |  0.1983102249602865 |\n",
      "| 129  |      500      |     5     |      20     |  0.2011098532941209 | 0.18658254634847077 |\n",
      "| 130  |      500      |     5     |      30     | 0.18508733885079787 | 0.17088683363891866 |\n",
      "| 131  |      500      |     5     |      50     | 0.16797310459632606 | 0.15751054040217377 |\n",
      "| 132  |      500      |     7     |      20     | 0.20082561140959304 | 0.18622769923166285 |\n",
      "| 133  |      500      |     7     |      30     | 0.18442541037983792 | 0.16983109612087302 |\n",
      "| 134  |      500      |     7     |      50     | 0.16611113098912864 | 0.15553654263868735 |\n",
      "| 135  |      500      |     10    |      20     |  0.2009726634046065 | 0.18631204687613437 |\n",
      "| 136  |      500      |     10    |      30     | 0.18474437975969704 | 0.17042160640676507 |\n",
      "| 137  |      500      |     10    |      50     |  0.1660763985978389 |  0.1555006218819479 |\n",
      "| 138  |      500      |     20    |      20     |  0.2009726634046065 | 0.18631204687613437 |\n",
      "| 139  |      500      |     20    |      30     | 0.18479219952692608 | 0.17045060073508622 |\n",
      "| 140  |      500      |     20    |      50     | 0.16626612915609523 | 0.15544378749721943 |\n",
      "| 141  |      500      |     50    |      20     |  0.2009726634046065 | 0.18631204687613437 |\n",
      "| 142  |      500      |     50    |      30     | 0.18479219952692608 | 0.17045060073508622 |\n",
      "| 143  |      500      |     50    |      50     | 0.16626612915609523 | 0.15544378749721943 |\n",
      "+------+---------------+-----------+-------------+---------------------+---------------------+\n"
     ]
    }
   ],
   "source": [
    "print(x)"
   ]
  },
  {
   "cell_type": "code",
   "execution_count": 15,
   "metadata": {},
   "outputs": [
    {
     "data": {
      "text/plain": [
       "RandomForestRegressor(max_depth=50, max_samples=50, n_estimators=200,\n",
       "                      oob_score=True, random_state=1)"
      ]
     },
     "execution_count": 15,
     "metadata": {},
     "output_type": "execute_result"
    }
   ],
   "source": [
    "rf_model = RandomForestRegressor(n_estimators=200, max_depth=50, max_samples=50, oob_score=True, random_state=1,\n",
    "                                criterion='mse')\n",
    "rf_model.fit(train_X,train_y)"
   ]
  },
  {
   "cell_type": "code",
   "execution_count": 16,
   "metadata": {},
   "outputs": [],
   "source": [
    "with open('rf_model.pkl','wb') as f:\n",
    "    pickle.dump(rf_model,f)"
   ]
  },
  {
   "cell_type": "code",
   "execution_count": null,
   "metadata": {},
   "outputs": [],
   "source": []
  }
 ],
 "metadata": {
  "kernelspec": {
   "display_name": "Python 3",
   "language": "python",
   "name": "python3"
  },
  "language_info": {
   "codemirror_mode": {
    "name": "ipython",
    "version": 3
   },
   "file_extension": ".py",
   "mimetype": "text/x-python",
   "name": "python",
   "nbconvert_exporter": "python",
   "pygments_lexer": "ipython3",
   "version": "3.8.5"
  },
  "toc": {
   "base_numbering": 1,
   "nav_menu": {},
   "number_sections": true,
   "sideBar": true,
   "skip_h1_title": false,
   "title_cell": "Table of Contents",
   "title_sidebar": "Contents",
   "toc_cell": false,
   "toc_position": {},
   "toc_section_display": true,
   "toc_window_display": false
  },
  "varInspector": {
   "cols": {
    "lenName": 16,
    "lenType": 16,
    "lenVar": 40
   },
   "kernels_config": {
    "python": {
     "delete_cmd_postfix": "",
     "delete_cmd_prefix": "del ",
     "library": "var_list.py",
     "varRefreshCmd": "print(var_dic_list())"
    },
    "r": {
     "delete_cmd_postfix": ") ",
     "delete_cmd_prefix": "rm(",
     "library": "var_list.r",
     "varRefreshCmd": "cat(var_dic_list()) "
    }
   },
   "types_to_exclude": [
    "module",
    "function",
    "builtin_function_or_method",
    "instance",
    "_Feature"
   ],
   "window_display": false
  }
 },
 "nbformat": 4,
 "nbformat_minor": 4
}
