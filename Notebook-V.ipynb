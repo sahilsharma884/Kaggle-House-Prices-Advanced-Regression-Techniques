{
 "cells": [
  {
   "cell_type": "code",
   "execution_count": 1,
   "metadata": {},
   "outputs": [],
   "source": [
    "import pickle\n",
    "from sklearn.ensemble import RandomForestRegressor\n",
    "from sklearn.metrics import mean_squared_log_error\n",
    "import tqdm\n",
    "import matplotlib.pyplot as plt\n",
    "import numpy as np"
   ]
  },
  {
   "cell_type": "code",
   "execution_count": 2,
   "metadata": {},
   "outputs": [],
   "source": [
    "with open('train_X.pkl','rb') as f:\n",
    "    train_X = pickle.load(f)\n",
    "with open('train_y.pkl','rb') as f:\n",
    "    train_y = pickle.load(f)\n",
    "    \n",
    "with open('cv_X.pkl','rb') as f:\n",
    "    cv_X = pickle.load(f)\n",
    "with open('cv_y.pkl','rb') as f:\n",
    "    cv_y = pickle.load(f)"
   ]
  },
  {
   "cell_type": "code",
   "execution_count": 3,
   "metadata": {},
   "outputs": [
    {
     "data": {
      "text/plain": [
       "RandomForestRegressor(max_depth=50, max_samples=50, n_estimators=200, n_jobs=-1,\n",
       "                      oob_score=True, random_state=1)"
      ]
     },
     "execution_count": 3,
     "metadata": {},
     "output_type": "execute_result"
    }
   ],
   "source": [
    "model = RandomForestRegressor(n_estimators=200, max_depth=50, max_samples=50, oob_score=True, random_state=1,\n",
    "                                criterion='mse', n_jobs=-1)\n",
    "model"
   ]
  },
  {
   "cell_type": "markdown",
   "metadata": {},
   "source": [
    "# Feature Selection"
   ]
  },
  {
   "cell_type": "code",
   "execution_count": 4,
   "metadata": {},
   "outputs": [
    {
     "name": "stderr",
     "output_type": "stream",
     "text": [
      "<ipython-input-4-65f04be6dbb7>:6: TqdmDeprecationWarning: This function will be removed in tqdm==5.0.0\n",
      "Please use `tqdm.notebook.tqdm` instead of `tqdm.tqdm_notebook`\n",
      "  for j in tqdm.tqdm_notebook(range(train_X.shape[1])):\n"
     ]
    },
    {
     "data": {
      "application/vnd.jupyter.widget-view+json": {
       "model_id": "c3f463395b56409f9ba3ceaa2c10b553",
       "version_major": 2,
       "version_minor": 0
      },
      "text/plain": [
       "HBox(children=(FloatProgress(value=0.0, max=281.0), HTML(value='')))"
      ]
     },
     "metadata": {},
     "output_type": "display_data"
    },
    {
     "name": "stdout",
     "output_type": "stream",
     "text": [
      "\n"
     ]
    }
   ],
   "source": [
    "column_index = []\n",
    "column_dict = dict()\n",
    "tr_fe_score,cv_fe_score = [], []\n",
    "\n",
    "# Iterate till all columns\n",
    "for j in tqdm.tqdm_notebook(range(train_X.shape[1])):\n",
    "    max_cv_score = 1000 # Assign maximum value\n",
    "    # Iterate over all columns\n",
    "    for i in range(train_X.shape[1]):\n",
    "        # select those which are not there in column_index\n",
    "        if i not in column_index:\n",
    "            # Fit the model with column\n",
    "            model.fit(train_X[:,column_index + [i]],train_y)\n",
    "            # Predict the train and cv\n",
    "            tr_pred = model.predict(train_X[:,column_index + [i]])\n",
    "            cv_pred = model.predict(cv_X[:,column_index + [i]])\n",
    "            # score the error in train and cv\n",
    "            tr_score = mean_squared_log_error(train_y,tr_pred)\n",
    "            cv_score = mean_squared_log_error(cv_y,cv_pred)\n",
    "            # If found improved one, then store the score and column index also\n",
    "            if max_cv_score > cv_score:\n",
    "                max_cv_score = cv_score\n",
    "                current_column_index = i\n",
    "    \n",
    "    # Now update column index with best column index\n",
    "    column_index = column_index + [current_column_index]\n",
    "    # Fit, predict and score the train and cv with best column index\n",
    "    model.fit(train_X[:,column_index],train_y)\n",
    "    tr_pred = model.predict(train_X[:,column_index])\n",
    "    cv_pred = model.predict(cv_X[:,column_index])\n",
    "    tr_score = mean_squared_log_error(train_y,tr_pred)\n",
    "    cv_score = mean_squared_log_error(cv_y,cv_pred)\n",
    "    # Store the tr and cv score value into list so that we can plot the graph\n",
    "    # between number of features and cv and train score\n",
    "    tr_fe_score.append(tr_score)\n",
    "    cv_fe_score.append(cv_score)\n",
    "    # Store best column index as value and number of feature selected as key value\n",
    "    column_dict[j+1] = column_index"
   ]
  },
  {
   "cell_type": "code",
   "execution_count": 8,
   "metadata": {},
   "outputs": [
    {
     "data": {
      "image/png": "[encoded data removed]",
      "text/plain": [
       "<Figure size 432x288 with 1 Axes>"
      ]
     },
     "metadata": {
      "needs_background": "light"
     },
     "output_type": "display_data"
    }
   ],
   "source": [
    "plt.plot(np.arange(1,train_X.shape[1]+1),cv_fe_score, label='cv_score')\n",
    "plt.plot(np.arange(1,train_X.shape[1]+1),tr_fe_score, label='train_score')\n",
    "plt.xlabel('Number of feature selected')\n",
    "plt.ylabel('Score')\n",
    "plt.grid()\n",
    "plt.legend()\n",
    "plt.show()"
   ]
  },
  {
   "cell_type": "markdown",
   "metadata": {},
   "source": [
    "Observation: Somewhere around 50 to 100 we will find the best cv score among number of feature selected."
   ]
  },
  {
   "cell_type": "code",
   "execution_count": 9,
   "metadata": {},
   "outputs": [
    {
     "name": "stdout",
     "output_type": "stream",
     "text": [
      "50 0.019756607416178375\n",
      "51 0.01960603027539266\n",
      "52 0.019605403681023884\n",
      "53 0.01964243213212168\n",
      "54 0.019597658430384454\n",
      "55 0.01969742204908499\n",
      "56 0.019766118417717044\n",
      "57 0.01962681609192789\n",
      "58 0.01953667238464372\n",
      "59 0.019645810993795764\n",
      "60 0.01967750497642196\n",
      "61 0.019636807505408565\n",
      "62 0.019348291178200843\n",
      "63 0.019583093244165066\n",
      "64 0.01942282223170136\n",
      "65 0.01942563026117061\n",
      "66 0.019442497429974746\n",
      "67 0.01931094303130604\n",
      "68 0.019502772759158526\n",
      "69 0.019582478698676194\n",
      "70 0.01936995837902235\n",
      "71 0.019586575375909084\n",
      "72 0.019574551791546834\n",
      "73 0.01955413314699196\n",
      "74 0.019733301570942715\n",
      "75 0.01951767799018001\n",
      "76 0.019544476649484173\n",
      "77 0.019576951896921702\n",
      "78 0.019610146383500452\n",
      "79 0.01965330829083693\n",
      "80 0.019725786526947994\n",
      "81 0.01967129832260749\n",
      "82 0.019836238286683464\n",
      "83 0.019513170020238068\n",
      "84 0.019893014984218825\n",
      "85 0.019598198162776907\n",
      "86 0.019578616836587067\n",
      "87 0.019679097006178498\n",
      "88 0.01953899520485067\n",
      "89 0.01984545545501852\n",
      "90 0.019715395046930016\n",
      "91 0.019563883539200088\n",
      "92 0.0196531184046705\n",
      "93 0.019680032520189926\n",
      "94 0.019912993566677164\n",
      "95 0.019836583454563832\n",
      "96 0.019744892881915704\n",
      "97 0.019966712551454158\n",
      "98 0.01986015733799264\n",
      "99 0.020248053234544486\n"
     ]
    }
   ],
   "source": [
    "for i,s in enumerate(cv_fe_score[50:100]):\n",
    "    print(i+50,s)"
   ]
  },
  {
   "cell_type": "markdown",
   "metadata": {},
   "source": [
    "Observation: It's 67 as number of feature to selected.\n",
    "\n",
    "Now let see which 67 features need to be selected among 281 columns"
   ]
  },
  {
   "cell_type": "code",
   "execution_count": 10,
   "metadata": {},
   "outputs": [
    {
     "data": {
      "text/plain": [
       "[82,\n",
       " 232,\n",
       " 178,\n",
       " 198,\n",
       " 168,\n",
       " 134,\n",
       " 7,\n",
       " 163,\n",
       " 202,\n",
       " 146,\n",
       " 207,\n",
       " 231,\n",
       " 234,\n",
       " 101,\n",
       " 140,\n",
       " 81,\n",
       " 118,\n",
       " 190,\n",
       " 244,\n",
       " 158,\n",
       " 48,\n",
       " 36,\n",
       " 4,\n",
       " 227,\n",
       " 23,\n",
       " 279,\n",
       " 208,\n",
       " 252,\n",
       " 204,\n",
       " 53,\n",
       " 223,\n",
       " 176,\n",
       " 87,\n",
       " 258,\n",
       " 170,\n",
       " 201,\n",
       " 160,\n",
       " 219,\n",
       " 17,\n",
       " 166,\n",
       " 161,\n",
       " 121,\n",
       " 50,\n",
       " 25,\n",
       " 185,\n",
       " 110,\n",
       " 18,\n",
       " 180,\n",
       " 152,\n",
       " 257,\n",
       " 55,\n",
       " 37,\n",
       " 24,\n",
       " 19,\n",
       " 175,\n",
       " 143,\n",
       " 251,\n",
       " 229,\n",
       " 255,\n",
       " 47,\n",
       " 205,\n",
       " 237,\n",
       " 5,\n",
       " 171,\n",
       " 221,\n",
       " 186,\n",
       " 3]"
      ]
     },
     "execution_count": 10,
     "metadata": {},
     "output_type": "execute_result"
    }
   ],
   "source": [
    "column_dict[67]"
   ]
  },
  {
   "cell_type": "code",
   "execution_count": 12,
   "metadata": {},
   "outputs": [],
   "source": [
    "with open('column_fe_dict.pkl','wb') as f:\n",
    "    pickle.dump(column_dict,f)"
   ]
  },
  {
   "cell_type": "code",
   "execution_count": 14,
   "metadata": {},
   "outputs": [
    {
     "data": {
      "text/plain": [
       "RandomForestRegressor(max_depth=50, max_samples=50, n_estimators=200, n_jobs=-1,\n",
       "                      oob_score=True, random_state=1)"
      ]
     },
     "execution_count": 14,
     "metadata": {},
     "output_type": "execute_result"
    }
   ],
   "source": [
    "model.fit(train_X[:,column_dict[67]],train_y)"
   ]
  },
  {
   "cell_type": "code",
   "execution_count": 15,
   "metadata": {},
   "outputs": [],
   "source": [
    "with open('rf_model_fe.pkl','wb') as f:\n",
    "    pickle.dump(model,f)"
   ]
  },
  {
   "cell_type": "code",
   "execution_count": null,
   "metadata": {},
   "outputs": [],
   "source": []
  }
 ],
 "metadata": {
  "kernelspec": {
   "display_name": "Python 3",
   "language": "python",
   "name": "python3"
  },
  "language_info": {
   "codemirror_mode": {
    "name": "ipython",
    "version": 3
   },
   "file_extension": ".py",
   "mimetype": "text/x-python",
   "name": "python",
   "nbconvert_exporter": "python",
   "pygments_lexer": "ipython3",
   "version": "3.8.5"
  },
  "toc": {
   "base_numbering": 1,
   "nav_menu": {},
   "number_sections": true,
   "sideBar": true,
   "skip_h1_title": false,
   "title_cell": "Table of Contents",
   "title_sidebar": "Contents",
   "toc_cell": false,
   "toc_position": {},
   "toc_section_display": true,
   "toc_window_display": false
  },
  "varInspector": {
   "cols": {
    "lenName": 16,
    "lenType": 16,
    "lenVar": 40
   },
   "kernels_config": {
    "python": {
     "delete_cmd_postfix": "",
     "delete_cmd_prefix": "del ",
     "library": "var_list.py",
     "varRefreshCmd": "print(var_dic_list())"
    },
    "r": {
     "delete_cmd_postfix": ") ",
     "delete_cmd_prefix": "rm(",
     "library": "var_list.r",
     "varRefreshCmd": "cat(var_dic_list()) "
    }
   },
   "types_to_exclude": [
    "module",
    "function",
    "builtin_function_or_method",
    "instance",
    "_Feature"
   ],
   "window_display": false
  }
 },
 "nbformat": 4,
 "nbformat_minor": 4
}
