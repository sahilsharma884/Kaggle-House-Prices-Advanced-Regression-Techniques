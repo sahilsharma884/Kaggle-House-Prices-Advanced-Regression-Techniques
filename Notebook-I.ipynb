{
 "cells": [
  {
   "cell_type": "markdown",
   "metadata": {
    "colab_type": "text",
    "id": "jUmwyqslpfV2"
   },
   "source": [
    "# Import Necessary Libraries"
   ]
  },
  {
   "cell_type": "code",
   "execution_count": 1,
   "metadata": {
    "colab": {},
    "colab_type": "code",
    "executionInfo": {
     "elapsed": 7393,
     "status": "ok",
     "timestamp": 1599936750763,
     "user": {
      "displayName": "Sahil -",
      "photoUrl": "",
      "userId": "14051148522636395588"
     },
     "user_tz": -330
    },
    "id": "7ISpXTXDoF3M"
   },
   "outputs": [],
   "source": [
    "import numpy as np  # For computational stuff\n",
    "import pandas as pd # For dataframe\n",
    "import matplotlib.pyplot as plt # For plotting purpose"
   ]
  },
  {
   "cell_type": "code",
   "execution_count": 2,
   "metadata": {
    "colab": {},
    "colab_type": "code",
    "executionInfo": {
     "elapsed": 10887,
     "status": "ok",
     "timestamp": 1599936754261,
     "user": {
      "displayName": "Sahil -",
      "photoUrl": "",
      "userId": "14051148522636395588"
     },
     "user_tz": -330
    },
    "id": "5ZAaQtEHqbXZ"
   },
   "outputs": [],
   "source": [
    "# If you are running in colab\n",
    "# Either give the directory from your Mount GDrive\n",
    "# pwdDir = '/content/drive/My Drive/Kaggle/House Price Regression/'\n",
    "pwdDir = './'\n",
    "# OR you can download dataset given by Kaggle competition\n",
    "# with given Kaggle API\n",
    "# Link: https://www.kaggle.com/general/51898\n",
    "\n",
    "# Uncomment below list of codes if you want to download\n",
    "# from kaggle\n",
    "\n",
    "# import os\n",
    "# os.environ['KAGGLE_USERNAME'] = \"xxxxxx\" # username from the json file\n",
    "# os.environ['KAGGLE_KEY'] = \"xxxxxxxxxxxxxxxxxxxxxxxxxxxx\" # key from the json file\n",
    "# !kaggle datasets download -d iarunava/happy-house-dataset # api copied from kaggle"
   ]
  },
  {
   "cell_type": "markdown",
   "metadata": {
    "colab_type": "text",
    "id": "0FXJV77mr6lL"
   },
   "source": [
    "# Read .csv file"
   ]
  },
  {
   "cell_type": "markdown",
   "metadata": {
    "colab_type": "text",
    "id": "f8eVxOSCssux"
   },
   "source": [
    "## Read training file (train.csv)"
   ]
  },
  {
   "cell_type": "code",
   "execution_count": 3,
   "metadata": {
    "colab": {
     "base_uri": "https://localhost:8080/",
     "height": 247
    },
    "colab_type": "code",
    "executionInfo": {
     "elapsed": 10802,
     "status": "ok",
     "timestamp": 1599936754261,
     "user": {
      "displayName": "Sahil -",
      "photoUrl": "",
      "userId": "14051148522636395588"
     },
     "user_tz": -330
    },
    "id": "tTrVZqHGpxEk",
    "outputId": "cf2267ca-8949-4efe-c98b-9c1a01f40827"
   },
   "outputs": [
    {
     "data": {
      "text/html": [
       "<div>\n",
       "<style scoped>\n",
       "    .dataframe tbody tr th:only-of-type {\n",
       "        vertical-align: middle;\n",
       "    }\n",
       "\n",
       "    .dataframe tbody tr th {\n",
       "        vertical-align: top;\n",
       "    }\n",
       "\n",
       "    .dataframe thead th {\n",
       "        text-align: right;\n",
       "    }\n",
       "</style>\n",
       "<table border=\"1\" class=\"dataframe\">\n",
       "  <thead>\n",
       "    <tr style=\"text-align: right;\">\n",
       "      <th></th>\n",
       "      <th>Id</th>\n",
       "      <th>MSSubClass</th>\n",
       "      <th>MSZoning</th>\n",
       "      <th>LotFrontage</th>\n",
       "      <th>LotArea</th>\n",
       "      <th>Street</th>\n",
       "      <th>Alley</th>\n",
       "      <th>LotShape</th>\n",
       "      <th>LandContour</th>\n",
       "      <th>Utilities</th>\n",
       "      <th>...</th>\n",
       "      <th>PoolArea</th>\n",
       "      <th>PoolQC</th>\n",
       "      <th>Fence</th>\n",
       "      <th>MiscFeature</th>\n",
       "      <th>MiscVal</th>\n",
       "      <th>MoSold</th>\n",
       "      <th>YrSold</th>\n",
       "      <th>SaleType</th>\n",
       "      <th>SaleCondition</th>\n",
       "      <th>SalePrice</th>\n",
       "    </tr>\n",
       "  </thead>\n",
       "  <tbody>\n",
       "    <tr>\n",
       "      <th>0</th>\n",
       "      <td>1</td>\n",
       "      <td>60</td>\n",
       "      <td>RL</td>\n",
       "      <td>65.0</td>\n",
       "      <td>8450</td>\n",
       "      <td>Pave</td>\n",
       "      <td>NaN</td>\n",
       "      <td>Reg</td>\n",
       "      <td>Lvl</td>\n",
       "      <td>AllPub</td>\n",
       "      <td>...</td>\n",
       "      <td>0</td>\n",
       "      <td>NaN</td>\n",
       "      <td>NaN</td>\n",
       "      <td>NaN</td>\n",
       "      <td>0</td>\n",
       "      <td>2</td>\n",
       "      <td>2008</td>\n",
       "      <td>WD</td>\n",
       "      <td>Normal</td>\n",
       "      <td>208500</td>\n",
       "    </tr>\n",
       "    <tr>\n",
       "      <th>1</th>\n",
       "      <td>2</td>\n",
       "      <td>20</td>\n",
       "      <td>RL</td>\n",
       "      <td>80.0</td>\n",
       "      <td>9600</td>\n",
       "      <td>Pave</td>\n",
       "      <td>NaN</td>\n",
       "      <td>Reg</td>\n",
       "      <td>Lvl</td>\n",
       "      <td>AllPub</td>\n",
       "      <td>...</td>\n",
       "      <td>0</td>\n",
       "      <td>NaN</td>\n",
       "      <td>NaN</td>\n",
       "      <td>NaN</td>\n",
       "      <td>0</td>\n",
       "      <td>5</td>\n",
       "      <td>2007</td>\n",
       "      <td>WD</td>\n",
       "      <td>Normal</td>\n",
       "      <td>181500</td>\n",
       "    </tr>\n",
       "    <tr>\n",
       "      <th>2</th>\n",
       "      <td>3</td>\n",
       "      <td>60</td>\n",
       "      <td>RL</td>\n",
       "      <td>68.0</td>\n",
       "      <td>11250</td>\n",
       "      <td>Pave</td>\n",
       "      <td>NaN</td>\n",
       "      <td>IR1</td>\n",
       "      <td>Lvl</td>\n",
       "      <td>AllPub</td>\n",
       "      <td>...</td>\n",
       "      <td>0</td>\n",
       "      <td>NaN</td>\n",
       "      <td>NaN</td>\n",
       "      <td>NaN</td>\n",
       "      <td>0</td>\n",
       "      <td>9</td>\n",
       "      <td>2008</td>\n",
       "      <td>WD</td>\n",
       "      <td>Normal</td>\n",
       "      <td>223500</td>\n",
       "    </tr>\n",
       "    <tr>\n",
       "      <th>3</th>\n",
       "      <td>4</td>\n",
       "      <td>70</td>\n",
       "      <td>RL</td>\n",
       "      <td>60.0</td>\n",
       "      <td>9550</td>\n",
       "      <td>Pave</td>\n",
       "      <td>NaN</td>\n",
       "      <td>IR1</td>\n",
       "      <td>Lvl</td>\n",
       "      <td>AllPub</td>\n",
       "      <td>...</td>\n",
       "      <td>0</td>\n",
       "      <td>NaN</td>\n",
       "      <td>NaN</td>\n",
       "      <td>NaN</td>\n",
       "      <td>0</td>\n",
       "      <td>2</td>\n",
       "      <td>2006</td>\n",
       "      <td>WD</td>\n",
       "      <td>Abnorml</td>\n",
       "      <td>140000</td>\n",
       "    </tr>\n",
       "    <tr>\n",
       "      <th>4</th>\n",
       "      <td>5</td>\n",
       "      <td>60</td>\n",
       "      <td>RL</td>\n",
       "      <td>84.0</td>\n",
       "      <td>14260</td>\n",
       "      <td>Pave</td>\n",
       "      <td>NaN</td>\n",
       "      <td>IR1</td>\n",
       "      <td>Lvl</td>\n",
       "      <td>AllPub</td>\n",
       "      <td>...</td>\n",
       "      <td>0</td>\n",
       "      <td>NaN</td>\n",
       "      <td>NaN</td>\n",
       "      <td>NaN</td>\n",
       "      <td>0</td>\n",
       "      <td>12</td>\n",
       "      <td>2008</td>\n",
       "      <td>WD</td>\n",
       "      <td>Normal</td>\n",
       "      <td>250000</td>\n",
       "    </tr>\n",
       "  </tbody>\n",
       "</table>\n",
       "<p>5 rows × 81 columns</p>\n",
       "</div>"
      ],
      "text/plain": [
       "   Id  MSSubClass MSZoning  LotFrontage  LotArea Street Alley LotShape  \\\n",
       "0   1          60       RL         65.0     8450   Pave   NaN      Reg   \n",
       "1   2          20       RL         80.0     9600   Pave   NaN      Reg   \n",
       "2   3          60       RL         68.0    11250   Pave   NaN      IR1   \n",
       "3   4          70       RL         60.0     9550   Pave   NaN      IR1   \n",
       "4   5          60       RL         84.0    14260   Pave   NaN      IR1   \n",
       "\n",
       "  LandContour Utilities  ... PoolArea PoolQC Fence MiscFeature MiscVal MoSold  \\\n",
       "0         Lvl    AllPub  ...        0    NaN   NaN         NaN       0      2   \n",
       "1         Lvl    AllPub  ...        0    NaN   NaN         NaN       0      5   \n",
       "2         Lvl    AllPub  ...        0    NaN   NaN         NaN       0      9   \n",
       "3         Lvl    AllPub  ...        0    NaN   NaN         NaN       0      2   \n",
       "4         Lvl    AllPub  ...        0    NaN   NaN         NaN       0     12   \n",
       "\n",
       "  YrSold  SaleType  SaleCondition  SalePrice  \n",
       "0   2008        WD         Normal     208500  \n",
       "1   2007        WD         Normal     181500  \n",
       "2   2008        WD         Normal     223500  \n",
       "3   2006        WD        Abnorml     140000  \n",
       "4   2008        WD         Normal     250000  \n",
       "\n",
       "[5 rows x 81 columns]"
      ]
     },
     "execution_count": 3,
     "metadata": {},
     "output_type": "execute_result"
    }
   ],
   "source": [
    "train_df = pd.read_csv(pwdDir+'train.csv')\n",
    "train_df.head()"
   ]
  },
  {
   "cell_type": "markdown",
   "metadata": {
    "colab_type": "text",
    "id": "DWyZ3vSJsQSj"
   },
   "source": [
    "## Read test file (test.csv)"
   ]
  },
  {
   "cell_type": "code",
   "execution_count": 4,
   "metadata": {
    "colab": {
     "base_uri": "https://localhost:8080/",
     "height": 218
    },
    "colab_type": "code",
    "executionInfo": {
     "elapsed": 10780,
     "status": "ok",
     "timestamp": 1599936754262,
     "user": {
      "displayName": "Sahil -",
      "photoUrl": "",
      "userId": "14051148522636395588"
     },
     "user_tz": -330
    },
    "id": "ZM9i-9gOr2jG",
    "outputId": "09255d04-72b1-4340-fdc1-7c46f12ce24f"
   },
   "outputs": [
    {
     "data": {
      "text/html": [
       "<div>\n",
       "<style scoped>\n",
       "    .dataframe tbody tr th:only-of-type {\n",
       "        vertical-align: middle;\n",
       "    }\n",
       "\n",
       "    .dataframe tbody tr th {\n",
       "        vertical-align: top;\n",
       "    }\n",
       "\n",
       "    .dataframe thead th {\n",
       "        text-align: right;\n",
       "    }\n",
       "</style>\n",
       "<table border=\"1\" class=\"dataframe\">\n",
       "  <thead>\n",
       "    <tr style=\"text-align: right;\">\n",
       "      <th></th>\n",
       "      <th>Id</th>\n",
       "      <th>MSSubClass</th>\n",
       "      <th>MSZoning</th>\n",
       "      <th>LotFrontage</th>\n",
       "      <th>LotArea</th>\n",
       "      <th>Street</th>\n",
       "      <th>Alley</th>\n",
       "      <th>LotShape</th>\n",
       "      <th>LandContour</th>\n",
       "      <th>Utilities</th>\n",
       "      <th>...</th>\n",
       "      <th>ScreenPorch</th>\n",
       "      <th>PoolArea</th>\n",
       "      <th>PoolQC</th>\n",
       "      <th>Fence</th>\n",
       "      <th>MiscFeature</th>\n",
       "      <th>MiscVal</th>\n",
       "      <th>MoSold</th>\n",
       "      <th>YrSold</th>\n",
       "      <th>SaleType</th>\n",
       "      <th>SaleCondition</th>\n",
       "    </tr>\n",
       "  </thead>\n",
       "  <tbody>\n",
       "    <tr>\n",
       "      <th>0</th>\n",
       "      <td>1461</td>\n",
       "      <td>20</td>\n",
       "      <td>RH</td>\n",
       "      <td>80.0</td>\n",
       "      <td>11622</td>\n",
       "      <td>Pave</td>\n",
       "      <td>NaN</td>\n",
       "      <td>Reg</td>\n",
       "      <td>Lvl</td>\n",
       "      <td>AllPub</td>\n",
       "      <td>...</td>\n",
       "      <td>120</td>\n",
       "      <td>0</td>\n",
       "      <td>NaN</td>\n",
       "      <td>MnPrv</td>\n",
       "      <td>NaN</td>\n",
       "      <td>0</td>\n",
       "      <td>6</td>\n",
       "      <td>2010</td>\n",
       "      <td>WD</td>\n",
       "      <td>Normal</td>\n",
       "    </tr>\n",
       "    <tr>\n",
       "      <th>1</th>\n",
       "      <td>1462</td>\n",
       "      <td>20</td>\n",
       "      <td>RL</td>\n",
       "      <td>81.0</td>\n",
       "      <td>14267</td>\n",
       "      <td>Pave</td>\n",
       "      <td>NaN</td>\n",
       "      <td>IR1</td>\n",
       "      <td>Lvl</td>\n",
       "      <td>AllPub</td>\n",
       "      <td>...</td>\n",
       "      <td>0</td>\n",
       "      <td>0</td>\n",
       "      <td>NaN</td>\n",
       "      <td>NaN</td>\n",
       "      <td>Gar2</td>\n",
       "      <td>12500</td>\n",
       "      <td>6</td>\n",
       "      <td>2010</td>\n",
       "      <td>WD</td>\n",
       "      <td>Normal</td>\n",
       "    </tr>\n",
       "    <tr>\n",
       "      <th>2</th>\n",
       "      <td>1463</td>\n",
       "      <td>60</td>\n",
       "      <td>RL</td>\n",
       "      <td>74.0</td>\n",
       "      <td>13830</td>\n",
       "      <td>Pave</td>\n",
       "      <td>NaN</td>\n",
       "      <td>IR1</td>\n",
       "      <td>Lvl</td>\n",
       "      <td>AllPub</td>\n",
       "      <td>...</td>\n",
       "      <td>0</td>\n",
       "      <td>0</td>\n",
       "      <td>NaN</td>\n",
       "      <td>MnPrv</td>\n",
       "      <td>NaN</td>\n",
       "      <td>0</td>\n",
       "      <td>3</td>\n",
       "      <td>2010</td>\n",
       "      <td>WD</td>\n",
       "      <td>Normal</td>\n",
       "    </tr>\n",
       "    <tr>\n",
       "      <th>3</th>\n",
       "      <td>1464</td>\n",
       "      <td>60</td>\n",
       "      <td>RL</td>\n",
       "      <td>78.0</td>\n",
       "      <td>9978</td>\n",
       "      <td>Pave</td>\n",
       "      <td>NaN</td>\n",
       "      <td>IR1</td>\n",
       "      <td>Lvl</td>\n",
       "      <td>AllPub</td>\n",
       "      <td>...</td>\n",
       "      <td>0</td>\n",
       "      <td>0</td>\n",
       "      <td>NaN</td>\n",
       "      <td>NaN</td>\n",
       "      <td>NaN</td>\n",
       "      <td>0</td>\n",
       "      <td>6</td>\n",
       "      <td>2010</td>\n",
       "      <td>WD</td>\n",
       "      <td>Normal</td>\n",
       "    </tr>\n",
       "    <tr>\n",
       "      <th>4</th>\n",
       "      <td>1465</td>\n",
       "      <td>120</td>\n",
       "      <td>RL</td>\n",
       "      <td>43.0</td>\n",
       "      <td>5005</td>\n",
       "      <td>Pave</td>\n",
       "      <td>NaN</td>\n",
       "      <td>IR1</td>\n",
       "      <td>HLS</td>\n",
       "      <td>AllPub</td>\n",
       "      <td>...</td>\n",
       "      <td>144</td>\n",
       "      <td>0</td>\n",
       "      <td>NaN</td>\n",
       "      <td>NaN</td>\n",
       "      <td>NaN</td>\n",
       "      <td>0</td>\n",
       "      <td>1</td>\n",
       "      <td>2010</td>\n",
       "      <td>WD</td>\n",
       "      <td>Normal</td>\n",
       "    </tr>\n",
       "  </tbody>\n",
       "</table>\n",
       "<p>5 rows × 80 columns</p>\n",
       "</div>"
      ],
      "text/plain": [
       "     Id  MSSubClass MSZoning  LotFrontage  LotArea Street Alley LotShape  \\\n",
       "0  1461          20       RH         80.0    11622   Pave   NaN      Reg   \n",
       "1  1462          20       RL         81.0    14267   Pave   NaN      IR1   \n",
       "2  1463          60       RL         74.0    13830   Pave   NaN      IR1   \n",
       "3  1464          60       RL         78.0     9978   Pave   NaN      IR1   \n",
       "4  1465         120       RL         43.0     5005   Pave   NaN      IR1   \n",
       "\n",
       "  LandContour Utilities  ... ScreenPorch PoolArea PoolQC  Fence MiscFeature  \\\n",
       "0         Lvl    AllPub  ...         120        0    NaN  MnPrv         NaN   \n",
       "1         Lvl    AllPub  ...           0        0    NaN    NaN        Gar2   \n",
       "2         Lvl    AllPub  ...           0        0    NaN  MnPrv         NaN   \n",
       "3         Lvl    AllPub  ...           0        0    NaN    NaN         NaN   \n",
       "4         HLS    AllPub  ...         144        0    NaN    NaN         NaN   \n",
       "\n",
       "  MiscVal MoSold  YrSold  SaleType  SaleCondition  \n",
       "0       0      6    2010        WD         Normal  \n",
       "1   12500      6    2010        WD         Normal  \n",
       "2       0      3    2010        WD         Normal  \n",
       "3       0      6    2010        WD         Normal  \n",
       "4       0      1    2010        WD         Normal  \n",
       "\n",
       "[5 rows x 80 columns]"
      ]
     },
     "execution_count": 4,
     "metadata": {},
     "output_type": "execute_result"
    }
   ],
   "source": [
    "test_df = pd.read_csv(pwdDir+'test.csv')\n",
    "test_df.head()"
   ]
  },
  {
   "cell_type": "markdown",
   "metadata": {
    "colab_type": "text",
    "id": "F7pw412nsyQz"
   },
   "source": [
    "# Getting Idea of this data"
   ]
  },
  {
   "cell_type": "markdown",
   "metadata": {
    "colab_type": "text",
    "id": "WecIX_4ktFmq"
   },
   "source": [
    "## Information of this train data"
   ]
  },
  {
   "cell_type": "code",
   "execution_count": 5,
   "metadata": {
    "colab": {
     "base_uri": "https://localhost:8080/",
     "height": 1000
    },
    "colab_type": "code",
    "executionInfo": {
     "elapsed": 10757,
     "status": "ok",
     "timestamp": 1599936754263,
     "user": {
      "displayName": "Sahil -",
      "photoUrl": "",
      "userId": "14051148522636395588"
     },
     "user_tz": -330
    },
    "id": "F_FE5n2QsFmw",
    "outputId": "363eb244-8a06-4df0-f36b-725693d72e88"
   },
   "outputs": [
    {
     "name": "stdout",
     "output_type": "stream",
     "text": [
      "<class 'pandas.core.frame.DataFrame'>\n",
      "RangeIndex: 1460 entries, 0 to 1459\n",
      "Data columns (total 81 columns):\n",
      " #   Column         Non-Null Count  Dtype  \n",
      "---  ------         --------------  -----  \n",
      " 0   Id             1460 non-null   int64  \n",
      " 1   MSSubClass     1460 non-null   int64  \n",
      " 2   MSZoning       1460 non-null   object \n",
      " 3   LotFrontage    1201 non-null   float64\n",
      " 4   LotArea        1460 non-null   int64  \n",
      " 5   Street         1460 non-null   object \n",
      " 6   Alley          91 non-null     object \n",
      " 7   LotShape       1460 non-null   object \n",
      " 8   LandContour    1460 non-null   object \n",
      " 9   Utilities      1460 non-null   object \n",
      " 10  LotConfig      1460 non-null   object \n",
      " 11  LandSlope      1460 non-null   object \n",
      " 12  Neighborhood   1460 non-null   object \n",
      " 13  Condition1     1460 non-null   object \n",
      " 14  Condition2     1460 non-null   object \n",
      " 15  BldgType       1460 non-null   object \n",
      " 16  HouseStyle     1460 non-null   object \n",
      " 17  OverallQual    1460 non-null   int64  \n",
      " 18  OverallCond    1460 non-null   int64  \n",
      " 19  YearBuilt      1460 non-null   int64  \n",
      " 20  YearRemodAdd   1460 non-null   int64  \n",
      " 21  RoofStyle      1460 non-null   object \n",
      " 22  RoofMatl       1460 non-null   object \n",
      " 23  Exterior1st    1460 non-null   object \n",
      " 24  Exterior2nd    1460 non-null   object \n",
      " 25  MasVnrType     1452 non-null   object \n",
      " 26  MasVnrArea     1452 non-null   float64\n",
      " 27  ExterQual      1460 non-null   object \n",
      " 28  ExterCond      1460 non-null   object \n",
      " 29  Foundation     1460 non-null   object \n",
      " 30  BsmtQual       1423 non-null   object \n",
      " 31  BsmtCond       1423 non-null   object \n",
      " 32  BsmtExposure   1422 non-null   object \n",
      " 33  BsmtFinType1   1423 non-null   object \n",
      " 34  BsmtFinSF1     1460 non-null   int64  \n",
      " 35  BsmtFinType2   1422 non-null   object \n",
      " 36  BsmtFinSF2     1460 non-null   int64  \n",
      " 37  BsmtUnfSF      1460 non-null   int64  \n",
      " 38  TotalBsmtSF    1460 non-null   int64  \n",
      " 39  Heating        1460 non-null   object \n",
      " 40  HeatingQC      1460 non-null   object \n",
      " 41  CentralAir     1460 non-null   object \n",
      " 42  Electrical     1459 non-null   object \n",
      " 43  1stFlrSF       1460 non-null   int64  \n",
      " 44  2ndFlrSF       1460 non-null   int64  \n",
      " 45  LowQualFinSF   1460 non-null   int64  \n",
      " 46  GrLivArea      1460 non-null   int64  \n",
      " 47  BsmtFullBath   1460 non-null   int64  \n",
      " 48  BsmtHalfBath   1460 non-null   int64  \n",
      " 49  FullBath       1460 non-null   int64  \n",
      " 50  HalfBath       1460 non-null   int64  \n",
      " 51  BedroomAbvGr   1460 non-null   int64  \n",
      " 52  KitchenAbvGr   1460 non-null   int64  \n",
      " 53  KitchenQual    1460 non-null   object \n",
      " 54  TotRmsAbvGrd   1460 non-null   int64  \n",
      " 55  Functional     1460 non-null   object \n",
      " 56  Fireplaces     1460 non-null   int64  \n",
      " 57  FireplaceQu    770 non-null    object \n",
      " 58  GarageType     1379 non-null   object \n",
      " 59  GarageYrBlt    1379 non-null   float64\n",
      " 60  GarageFinish   1379 non-null   object \n",
      " 61  GarageCars     1460 non-null   int64  \n",
      " 62  GarageArea     1460 non-null   int64  \n",
      " 63  GarageQual     1379 non-null   object \n",
      " 64  GarageCond     1379 non-null   object \n",
      " 65  PavedDrive     1460 non-null   object \n",
      " 66  WoodDeckSF     1460 non-null   int64  \n",
      " 67  OpenPorchSF    1460 non-null   int64  \n",
      " 68  EnclosedPorch  1460 non-null   int64  \n",
      " 69  3SsnPorch      1460 non-null   int64  \n",
      " 70  ScreenPorch    1460 non-null   int64  \n",
      " 71  PoolArea       1460 non-null   int64  \n",
      " 72  PoolQC         7 non-null      object \n",
      " 73  Fence          281 non-null    object \n",
      " 74  MiscFeature    54 non-null     object \n",
      " 75  MiscVal        1460 non-null   int64  \n",
      " 76  MoSold         1460 non-null   int64  \n",
      " 77  YrSold         1460 non-null   int64  \n",
      " 78  SaleType       1460 non-null   object \n",
      " 79  SaleCondition  1460 non-null   object \n",
      " 80  SalePrice      1460 non-null   int64  \n",
      "dtypes: float64(3), int64(35), object(43)\n",
      "memory usage: 924.0+ KB\n"
     ]
    }
   ],
   "source": [
    "train_df.info()"
   ]
  },
  {
   "cell_type": "markdown",
   "metadata": {
    "colab_type": "text",
    "id": "hatYHnb4tOe-"
   },
   "source": [
    "<u>Observation:</u> Look like some features have missing values. So, we have to handle this problem. "
   ]
  },
  {
   "cell_type": "markdown",
   "metadata": {
    "colab_type": "text",
    "id": "xqM_6OYatgjF"
   },
   "source": [
    "## List of Numerial and Categorical Features\n",
    "\n",
    "Read the data desciption provided by kaggle organiser and make a list of category column names.\n",
    "\n",
    "(Remember, it's depends on domain experts)"
   ]
  },
  {
   "cell_type": "code",
   "execution_count": 6,
   "metadata": {
    "colab": {},
    "colab_type": "code",
    "executionInfo": {
     "elapsed": 10755,
     "status": "ok",
     "timestamp": 1599936754263,
     "user": {
      "displayName": "Sahil -",
      "photoUrl": "",
      "userId": "14051148522636395588"
     },
     "user_tz": -330
    },
    "id": "rcgsfo-Bs91B"
   },
   "outputs": [],
   "source": [
    "# Dict of features that are categorical\n",
    "# I have seen like in 'Utilities' features, it contain two values: ['AllPub','NoSeWa']\n",
    "# where as in data description, it has 4 values: ['AllPub','NoSewr','NoSeWa','ELO']\n",
    "category_column = {\n",
    "    'MSSubClass': [20,30,40,45,50,60,70,75,80,85,90,120,150,160,180,190],\n",
    "    'MSZoning': ['A','C','FV','I','RH','RL','RP','RM'],\n",
    "    'Street': ['Grvl','Pave'],\n",
    "    'Alley': ['Grvl','Pave','NA'],\n",
    "    'LotShape': ['Reg','IR1','IR2','IR3'],\n",
    "    'LandContour': ['Lvl','Bnk','HLS','Low'],\n",
    "    'Utilities': ['AllPub','NoSewr','NoSeWa','ELO'],\n",
    "    'LotConfig': ['Inside','Corner','CulDSac','FR2','FR3'],\n",
    "    'LandSlope': ['Gtl','Mod','Sev'],\n",
    "    'Neighborhood': ['Blmngtn','Blueste','BrDale','BrkSide','ClearCr','CollgCr',\\\n",
    "                     'Crawfor','Edwards','Gilbert','IDOTRR','MeadowV','Mitchel',\\\n",
    "                     'Names','NoRidge','NPkVill','NridgHt','NWAmes','OldTown',\\\n",
    "                     'SWISU','Sawyer','SawyerW','Somerst','StoneBr','Timber','Veenker'],\n",
    "    'Condition1': ['Artery','Feedr','Norm','RRNn','RRAn','PosN','PosA','RRNe','RRAe'],\n",
    "    'Condition2': ['Artery','Feedr','Norm','RRNn','RRAn','PosN','PosA','RRNe','RRAe'],\n",
    "    'BldgType': ['1Fam','2FmCon','Duplx','TwnhsE','TwnhsI'],\n",
    "    'HouseStyle': ['1Story','1.5Fin','1.5Unf','2Story','2.5Fin','2.5Unf',\\\n",
    "                   'SFoyer','SLvl'],\n",
    "    'OverallQual': [10,9,8,7,6,5,4,3,2,1],\n",
    "    'OverallCond': [10,9,8,7,6,5,4,3,2,1],\n",
    "    'RoofStyle': ['Flat','Gable','Gambrel','Hip','Mansard','Shed'],\n",
    "    'RoofMatl': ['ClyTile','CompShq','Membran','Metal','Roll','Tar&Grv',\\\n",
    "                   'WdShake','WdShngl'],\n",
    "    'Exterior1st': ['AsbShng','AsphShn','BrkComm','BrkFace','CBlock',\\\n",
    "                    'CemntBd','HdBoard','ImStucc','MetalSd','Other',\\\n",
    "                    'Plywood','PreCast','Stone','Stucco','VinylSd',\\\n",
    "                    'Wd Sdng','WdShing'],\n",
    "    'Exterior2nd': ['AsbShng','AsphShn','BrkComm','BrkFace','CBlock',\\\n",
    "                    'CemntBd','HdBoard','ImStucc','MetalSd','Other',\\\n",
    "                    'Plywood','PreCast','Stone','Stucco','VinylSd',\\\n",
    "                    'Wd Sdng','WdShing'],\n",
    "    'MasVnrType': ['BrkCmn','BrkFace','CBlock','None','Stone'],\n",
    "    'ExterQual': ['Ex','Gd','TA','Fa','Po'],\n",
    "    'ExterCond': ['Ex','Gd','TA','Fa','Po'],\n",
    "    'Foundation': ['BrkTil','CBlock','PConc','Slab','Stone','Wood'],\n",
    "    'BsmtQual': ['Ex','Gd','TA','Fa','Po','NA'],\n",
    "    'BsmtCond': ['Ex','Gd','TA','Fa','Po','NA'],\n",
    "    'BsmtExposure': ['Gd','Av','Mn','No','NA'],\n",
    "    'BsmtFinType1': ['GLQ','ALQ','BLQ','Rec','LwQ','Unf','NA'],\n",
    "    'BsmtFinType2': ['GLQ','ALQ','BLQ','Rec','LwQ','Unf','NA'],\n",
    "    'Heating': ['Floor','GasA','GasW','Grav','OthW','Wall'],\n",
    "    'HeatingQC': ['Ex','Gd','TA','Fa','Po'],\n",
    "    'CentralAir': ['N','Y'],\n",
    "    'Electrical': ['SBrkr','FuseA','FuseF','FuseP','Mix'],\n",
    "    'KitchenQual': ['Ex','Gd','TA','Fa','Po'],\n",
    "    'Functional': ['Typ','Min1','Min2','Mod','Maj1','Maj2','Sev','Sal'],\n",
    "    'FireplaceQu': ['Ex','Gd','TA','Fa','Po','NA'],\n",
    "    'GarageType': ['2Types','Attchd','Basment','BuiltIn','CarPort','Detchd','NA'],\n",
    "    'GarageFinish': ['Fin','RFn','Unf','NA'],\n",
    "    'GarageQual': ['Ex','Gd','TA','Fa','Po','NA'],\n",
    "    'GarageCond': ['Ex','Gd','TA','Fa','Po','NA'],\n",
    "    'PavedDrive': ['Y','P','N'],\n",
    "    'PoolQC': ['Ex','Gd','TA','Fa','NA'],\n",
    "    'Fence': ['GdPrv','MnPrv','GdWo','MnWw','NA'],\n",
    "    'MiscFeature': ['Elev','Gar2','Othr','Shed','TenC','NA'],\n",
    "    'SaleType': ['WD','CWD','VWD','New','COD','Con','ConLw','ConLI','ConLD','Oth'],\n",
    "    'SaleCondition': ['Normal','Abnormal','AdjLand','Alloca','Family','Partial']                   \n",
    "}\n",
    "\n",
    "# These are list of features where NA as a categorical value.\n",
    "# It means NaN have the value for this feature\n",
    "none_column = ['Alley','BsmtQual','BsmtCond','BsmtExposure','BsmtFinType1',\\\n",
    "               'BsmtFinType2','FireplaceQu','GarageType','GarageFinish',\\\n",
    "               'GarageQual','GarageCond','PoolQC','Fence','MiscFeature']"
   ]
  },
  {
   "cell_type": "code",
   "execution_count": 7,
   "metadata": {
    "colab": {
     "base_uri": "https://localhost:8080/",
     "height": 622
    },
    "colab_type": "code",
    "executionInfo": {
     "elapsed": 10732,
     "status": "ok",
     "timestamp": 1599936754264,
     "user": {
      "displayName": "Sahil -",
      "photoUrl": "",
      "userId": "14051148522636395588"
     },
     "user_tz": -330
    },
    "id": "_sHiBpaC79dX",
    "outputId": "2a31b528-7480-4dec-9578-a2d650c12343"
   },
   "outputs": [
    {
     "data": {
      "text/plain": [
       "['Id',\n",
       " 'LotFrontage',\n",
       " 'LotArea',\n",
       " 'YearBuilt',\n",
       " 'YearRemodAdd',\n",
       " 'MasVnrArea',\n",
       " 'BsmtFinSF1',\n",
       " 'BsmtFinSF2',\n",
       " 'BsmtUnfSF',\n",
       " 'TotalBsmtSF',\n",
       " '1stFlrSF',\n",
       " '2ndFlrSF',\n",
       " 'LowQualFinSF',\n",
       " 'GrLivArea',\n",
       " 'BsmtFullBath',\n",
       " 'BsmtHalfBath',\n",
       " 'FullBath',\n",
       " 'HalfBath',\n",
       " 'BedroomAbvGr',\n",
       " 'KitchenAbvGr',\n",
       " 'TotRmsAbvGrd',\n",
       " 'Fireplaces',\n",
       " 'GarageYrBlt',\n",
       " 'GarageCars',\n",
       " 'GarageArea',\n",
       " 'WoodDeckSF',\n",
       " 'OpenPorchSF',\n",
       " 'EnclosedPorch',\n",
       " '3SsnPorch',\n",
       " 'ScreenPorch',\n",
       " 'PoolArea',\n",
       " 'MiscVal',\n",
       " 'MoSold',\n",
       " 'YrSold',\n",
       " 'SalePrice']"
      ]
     },
     "execution_count": 7,
     "metadata": {},
     "output_type": "execute_result"
    }
   ],
   "source": [
    "numerical_column = []\n",
    "for col in list(train_df.columns):\n",
    "    if col not in list(category_column.keys()):\n",
    "        numerical_column.append(col)\n",
    "\n",
    "numerical_column"
   ]
  },
  {
   "cell_type": "markdown",
   "metadata": {
    "colab_type": "text",
    "id": "TbMXbOEtI86_"
   },
   "source": [
    "# Handling Missing Value\n",
    "\n",
    "Data cleaning alongside with handling missing data"
   ]
  },
  {
   "cell_type": "code",
   "execution_count": 8,
   "metadata": {
    "colab": {},
    "colab_type": "code",
    "executionInfo": {
     "elapsed": 10730,
     "status": "ok",
     "timestamp": 1599936754264,
     "user": {
      "displayName": "Sahil -",
      "photoUrl": "",
      "userId": "14051148522636395588"
     },
     "user_tz": -330
    },
    "id": "OJ2mZ0yE-8ju"
   },
   "outputs": [],
   "source": [
    "def printing_values_for_column(catgry_column, tr_df, column_name):\n",
    "    '''\n",
    "    Print the list of values present in train column and actual column provide by data description\n",
    "  \n",
    "    Parameters:\n",
    "    catgry_column: (dict) contain column name as key and categorical value as values\n",
    "    tr_df: (DataFrame) train dataset\n",
    "    column_name: (string) Column name present in train data\n",
    "    '''\n",
    "    if tr_df[column_name].isna().any():\n",
    "        print('There is missing value')\n",
    "    else:\n",
    "        print('Value provide by data description:\\n',sorted(catgry_column[column_name]))\n",
    "        print('Value from train column:\\n',sorted(tr_df[column_name].unique()))"
   ]
  },
  {
   "cell_type": "markdown",
   "metadata": {
    "colab_type": "text",
    "id": "F-DFPANYAYaS"
   },
   "source": [
    "Printing function is defined so that you cross-check the misspelled string"
   ]
  },
  {
   "cell_type": "code",
   "execution_count": 9,
   "metadata": {
    "colab": {},
    "colab_type": "code",
    "executionInfo": {
     "elapsed": 10728,
     "status": "ok",
     "timestamp": 1599936754265,
     "user": {
      "displayName": "Sahil -",
      "photoUrl": "",
      "userId": "14051148522636395588"
     },
     "user_tz": -330
    },
    "id": "O3v9EYHHBMJ3"
   },
   "outputs": [],
   "source": [
    "# Now what if we have null value when we do testing. So, we need to store some value to fill null value in testing stage\n",
    "fillna_value = dict()"
   ]
  },
  {
   "cell_type": "markdown",
   "metadata": {
    "colab_type": "text",
    "id": "2bgzd3GgB2m9"
   },
   "source": [
    "## MSSubClass"
   ]
  },
  {
   "cell_type": "code",
   "execution_count": 10,
   "metadata": {
    "colab": {
     "base_uri": "https://localhost:8080/",
     "height": 86
    },
    "colab_type": "code",
    "executionInfo": {
     "elapsed": 10705,
     "status": "ok",
     "timestamp": 1599936754265,
     "user": {
      "displayName": "Sahil -",
      "photoUrl": "",
      "userId": "14051148522636395588"
     },
     "user_tz": -330
    },
    "id": "HNw7UP7bI_-b",
    "outputId": "571221b0-5cc7-42f4-c029-cfb2bdd36449"
   },
   "outputs": [
    {
     "name": "stdout",
     "output_type": "stream",
     "text": [
      "Value provide by data description:\n",
      " [20, 30, 40, 45, 50, 60, 70, 75, 80, 85, 90, 120, 150, 160, 180, 190]\n",
      "Value from train column:\n",
      " [20, 30, 40, 45, 50, 60, 70, 75, 80, 85, 90, 120, 160, 180, 190]\n"
     ]
    }
   ],
   "source": [
    "printing_values_for_column(category_column, train_df,'MSSubClass')"
   ]
  },
  {
   "cell_type": "code",
   "execution_count": 11,
   "metadata": {
    "colab": {},
    "colab_type": "code",
    "executionInfo": {
     "elapsed": 10703,
     "status": "ok",
     "timestamp": 1599936754265,
     "user": {
      "displayName": "Sahil -",
      "photoUrl": "",
      "userId": "14051148522636395588"
     },
     "user_tz": -330
    },
    "id": "RGPoVsgs-XHl"
   },
   "outputs": [],
   "source": [
    "# You can also check that there is not missing value 'nan' listed in above output\n",
    "# 'value from train column'\n",
    "# Store the mode value into dict()\n",
    "fillna_value['MSSubClass'] = train_df['MSSubClass'].mode()[0]"
   ]
  },
  {
   "cell_type": "code",
   "execution_count": 12,
   "metadata": {
    "colab": {
     "base_uri": "https://localhost:8080/",
     "height": 34
    },
    "colab_type": "code",
    "executionInfo": {
     "elapsed": 10679,
     "status": "ok",
     "timestamp": 1599936754266,
     "user": {
      "displayName": "Sahil -",
      "photoUrl": "",
      "userId": "14051148522636395588"
     },
     "user_tz": -330
    },
    "id": "-Ce0xDQTAsNG",
    "outputId": "c3869b90-4e6c-438d-b93a-077c1dff045b"
   },
   "outputs": [
    {
     "data": {
      "text/plain": [
       "20"
      ]
     },
     "execution_count": 12,
     "metadata": {},
     "output_type": "execute_result"
    }
   ],
   "source": [
    "fillna_value['MSSubClass']"
   ]
  },
  {
   "cell_type": "markdown",
   "metadata": {
    "colab_type": "text",
    "id": "vef-d-hOBov_"
   },
   "source": [
    "Simultaneously, we can do test since we are dealing 80 features, which is time consuming"
   ]
  },
  {
   "cell_type": "code",
   "execution_count": 13,
   "metadata": {
    "colab": {
     "base_uri": "https://localhost:8080/",
     "height": 34
    },
    "colab_type": "code",
    "executionInfo": {
     "elapsed": 10656,
     "status": "ok",
     "timestamp": 1599936754266,
     "user": {
      "displayName": "Sahil -",
      "photoUrl": "",
      "userId": "14051148522636395588"
     },
     "user_tz": -330
    },
    "id": "jln04pndBZdG",
    "outputId": "ea670e13-ba29-4728-f8b8-4793941e66dc"
   },
   "outputs": [
    {
     "name": "stdout",
     "output_type": "stream",
     "text": [
      "False\n"
     ]
    }
   ],
   "source": [
    "# Is there null value in test data?\n",
    "print(test_df['MSSubClass'].isna().any())"
   ]
  },
  {
   "cell_type": "markdown",
   "metadata": {
    "colab_type": "text",
    "id": "80kncjJbB63z"
   },
   "source": [
    "## MSZoning"
   ]
  },
  {
   "cell_type": "code",
   "execution_count": 14,
   "metadata": {
    "colab": {
     "base_uri": "https://localhost:8080/",
     "height": 86
    },
    "colab_type": "code",
    "executionInfo": {
     "elapsed": 10633,
     "status": "ok",
     "timestamp": 1599936754267,
     "user": {
      "displayName": "Sahil -",
      "photoUrl": "",
      "userId": "14051148522636395588"
     },
     "user_tz": -330
    },
    "id": "eEnmSrIsByQX",
    "outputId": "3aae82c4-6e9c-4978-e018-baebfb04728b"
   },
   "outputs": [
    {
     "name": "stdout",
     "output_type": "stream",
     "text": [
      "Value provide by data description:\n",
      " ['A', 'C', 'FV', 'I', 'RH', 'RL', 'RM', 'RP']\n",
      "Value from train column:\n",
      " ['C (all)', 'FV', 'RH', 'RL', 'RM']\n"
     ]
    }
   ],
   "source": [
    "printing_values_for_column(category_column, train_df, 'MSZoning')"
   ]
  },
  {
   "cell_type": "code",
   "execution_count": 15,
   "metadata": {
    "colab": {},
    "colab_type": "code",
    "executionInfo": {
     "elapsed": 11711,
     "status": "ok",
     "timestamp": 1599936755348,
     "user": {
      "displayName": "Sahil -",
      "photoUrl": "",
      "userId": "14051148522636395588"
     },
     "user_tz": -330
    },
    "id": "3m6l2Rd1CHQa"
   },
   "outputs": [],
   "source": [
    "# No missing value 'nan' listed in above output\n",
    "# 'C (all)' wasn't describe in data description.\n",
    "# So we will replace'C (all)' with 'C' and making inplace=True will update the DataFrame\n",
    "train_df['MSZoning'].replace(to_replace='C (all)', value='C', inplace=True)"
   ]
  },
  {
   "cell_type": "code",
   "execution_count": 16,
   "metadata": {
    "colab": {},
    "colab_type": "code",
    "executionInfo": {
     "elapsed": 11710,
     "status": "ok",
     "timestamp": 1599936755349,
     "user": {
      "displayName": "Sahil -",
      "photoUrl": "",
      "userId": "14051148522636395588"
     },
     "user_tz": -330
    },
    "id": "8Sm8pKcpCctt"
   },
   "outputs": [],
   "source": [
    "# Store the mode value into dict()\n",
    "fillna_value['MSZoning'] = train_df['MSZoning'].mode()[0]"
   ]
  },
  {
   "cell_type": "code",
   "execution_count": 17,
   "metadata": {
    "colab": {
     "base_uri": "https://localhost:8080/",
     "height": 34
    },
    "colab_type": "code",
    "executionInfo": {
     "elapsed": 11686,
     "status": "ok",
     "timestamp": 1599936755349,
     "user": {
      "displayName": "Sahil -",
      "photoUrl": "",
      "userId": "14051148522636395588"
     },
     "user_tz": -330
    },
    "id": "inPq8YRgEsm7",
    "outputId": "f8dbf45a-d939-4dd8-b2fb-e8d090e000df"
   },
   "outputs": [
    {
     "data": {
      "text/plain": [
       "'RL'"
      ]
     },
     "execution_count": 17,
     "metadata": {},
     "output_type": "execute_result"
    }
   ],
   "source": [
    "fillna_value['MSZoning']"
   ]
  },
  {
   "cell_type": "code",
   "execution_count": 18,
   "metadata": {
    "colab": {
     "base_uri": "https://localhost:8080/",
     "height": 34
    },
    "colab_type": "code",
    "executionInfo": {
     "elapsed": 11662,
     "status": "ok",
     "timestamp": 1599936755349,
     "user": {
      "displayName": "Sahil -",
      "photoUrl": "",
      "userId": "14051148522636395588"
     },
     "user_tz": -330
    },
    "id": "ytDXqJITFZnY",
    "outputId": "83583969-09c3-4a1b-dbad-47ab45628eac"
   },
   "outputs": [
    {
     "name": "stdout",
     "output_type": "stream",
     "text": [
      "True\n"
     ]
    }
   ],
   "source": [
    "# Is there null value in test?\n",
    "print(test_df['MSZoning'].isna().any())"
   ]
  },
  {
   "cell_type": "code",
   "execution_count": 19,
   "metadata": {
    "colab": {
     "base_uri": "https://localhost:8080/",
     "height": 34
    },
    "colab_type": "code",
    "executionInfo": {
     "elapsed": 11637,
     "status": "ok",
     "timestamp": 1599936755350,
     "user": {
      "displayName": "Sahil -",
      "photoUrl": "",
      "userId": "14051148522636395588"
     },
     "user_tz": -330
    },
    "id": "memwlPpgFgyK",
    "outputId": "f44d7a10-2401-4a0d-c6bf-d46f2458d754"
   },
   "outputs": [
    {
     "data": {
      "text/plain": [
       "array(['RH', 'RL', 'RM', 'FV', 'C (all)'], dtype=object)"
      ]
     },
     "execution_count": 19,
     "metadata": {},
     "output_type": "execute_result"
    }
   ],
   "source": [
    "# Yes! Okay, fill empty value by replacing precomputed by fillna_value (dict)\n",
    "test_df['MSZoning'].fillna(fillna_value['MSZoning'], inplace=True)\n",
    "# Check everything is alright?\n",
    "test_df['MSZoning'].unique()"
   ]
  },
  {
   "cell_type": "code",
   "execution_count": 20,
   "metadata": {
    "colab": {},
    "colab_type": "code",
    "executionInfo": {
     "elapsed": 11635,
     "status": "ok",
     "timestamp": 1599936755350,
     "user": {
      "displayName": "Sahil -",
      "photoUrl": "",
      "userId": "14051148522636395588"
     },
     "user_tz": -330
    },
    "id": "_Qb-GgIuF4um"
   },
   "outputs": [],
   "source": [
    "# Uh-Oh! There is also 'C (all)' present in it. Replace it with 'C'\n",
    "test_df['MSZoning'].replace(to_replace='C (all)', value='C', inplace=True)"
   ]
  },
  {
   "cell_type": "markdown",
   "metadata": {
    "colab_type": "text",
    "id": "ZvMAY31bHFdr"
   },
   "source": [
    "## LotFrontage"
   ]
  },
  {
   "cell_type": "code",
   "execution_count": 21,
   "metadata": {
    "colab": {
     "base_uri": "https://localhost:8080/",
     "height": 34
    },
    "colab_type": "code",
    "executionInfo": {
     "elapsed": 11611,
     "status": "ok",
     "timestamp": 1599936755351,
     "user": {
      "displayName": "Sahil -",
      "photoUrl": "",
      "userId": "14051148522636395588"
     },
     "user_tz": -330
    },
    "id": "4s1OoOjPHAJT",
    "outputId": "e181dab3-55f3-4231-86f1-1c5e4959d250"
   },
   "outputs": [
    {
     "name": "stdout",
     "output_type": "stream",
     "text": [
      "True\n"
     ]
    }
   ],
   "source": [
    "# It is numerical feature.\n",
    "# Check if there is null value?\n",
    "print(train_df['LotFrontage'].isna().any())"
   ]
  },
  {
   "cell_type": "code",
   "execution_count": 22,
   "metadata": {
    "colab": {
     "base_uri": "https://localhost:8080/",
     "height": 34
    },
    "colab_type": "code",
    "executionInfo": {
     "elapsed": 11588,
     "status": "ok",
     "timestamp": 1599936755351,
     "user": {
      "displayName": "Sahil -",
      "photoUrl": "",
      "userId": "14051148522636395588"
     },
     "user_tz": -330
    },
    "id": "fx1PSA-vIAvu",
    "outputId": "526ab6d0-1577-47ae-cffd-6f91f21a95bb"
   },
   "outputs": [
    {
     "name": "stdout",
     "output_type": "stream",
     "text": [
      "17.73972602739726 %\n"
     ]
    }
   ],
   "source": [
    "# Calculate fraction of missing value among all dataset\n",
    "print((train_df['LotFrontage'].isna().sum()/train_df.shape[0])*100,'%')"
   ]
  },
  {
   "cell_type": "code",
   "execution_count": 23,
   "metadata": {
    "colab": {
     "base_uri": "https://localhost:8080/",
     "height": 265
    },
    "colab_type": "code",
    "executionInfo": {
     "elapsed": 11565,
     "status": "ok",
     "timestamp": 1599936755352,
     "user": {
      "displayName": "Sahil -",
      "photoUrl": "",
      "userId": "14051148522636395588"
     },
     "user_tz": -330
    },
    "id": "5iuBvk8KHWUm",
    "outputId": "8447f609-f38a-41ee-b761-67d986da5071"
   },
   "outputs": [
    {
     "data": {
      "image/png": "[encoded data removed]",
      "text/plain": [
       "<Figure size 432x288 with 1 Axes>"
      ]
     },
     "metadata": {
      "needs_background": "light"
     },
     "output_type": "display_data"
    }
   ],
   "source": [
    "plt.plot(train_df['LotFrontage'])\n",
    "plt.show()"
   ]
  },
  {
   "cell_type": "markdown",
   "metadata": {
    "colab_type": "text",
    "id": "zYGpoQKuZ1tN"
   },
   "source": [
    "<u> Observation </u> We will take 200 as a maximum value as some points are exceeding above 200"
   ]
  },
  {
   "cell_type": "code",
   "execution_count": 24,
   "metadata": {
    "colab": {
     "base_uri": "https://localhost:8080/",
     "height": 34
    },
    "colab_type": "code",
    "executionInfo": {
     "elapsed": 11541,
     "status": "ok",
     "timestamp": 1599936755352,
     "user": {
      "displayName": "Sahil -",
      "photoUrl": "",
      "userId": "14051148522636395588"
     },
     "user_tz": -330
    },
    "id": "yEUevlM4bcf9",
    "outputId": "789c43eb-cf51-44eb-f014-9fa0e009313d"
   },
   "outputs": [
    {
     "name": "stdout",
     "output_type": "stream",
     "text": [
      "Number of sample will be remaining: 1458 (99.86301369863013 %)\n"
     ]
    }
   ],
   "source": [
    "# Count the number of sample will be present if we remove those sample which\n",
    "# have greater than 200\n",
    "count = 0\n",
    "store_value = []\n",
    "for i in train_df['LotFrontage']:\n",
    "    if np.isnan(i):\n",
    "        count += 1\n",
    "    elif i <= 200:\n",
    "        count += 1\n",
    "        store_value.append(i)\n",
    "    else:\n",
    "        continue\n",
    "\n",
    "total_frac = (count/train_df.shape[0])*100\n",
    "print('Number of sample will be remaining:',count,'({} %)'.format(total_frac))"
   ]
  },
  {
   "cell_type": "code",
   "execution_count": 25,
   "metadata": {
    "colab": {
     "base_uri": "https://localhost:8080/",
     "height": 34
    },
    "colab_type": "code",
    "executionInfo": {
     "elapsed": 11518,
     "status": "ok",
     "timestamp": 1599936755353,
     "user": {
      "displayName": "Sahil -",
      "photoUrl": "",
      "userId": "14051148522636395588"
     },
     "user_tz": -330
    },
    "id": "gBoWLxJpHpaU",
    "outputId": "65816beb-295b-4f4e-e8aa-6cbb7c9f2e18"
   },
   "outputs": [
    {
     "data": {
      "text/plain": [
       "69.64470391993328"
      ]
     },
     "execution_count": 25,
     "metadata": {},
     "output_type": "execute_result"
    }
   ],
   "source": [
    "# Store the fillna value into dict()\n",
    "fillna_value['LotFrontage'] = np.mean(store_value)\n",
    "fillna_value['LotFrontage']"
   ]
  },
  {
   "cell_type": "code",
   "execution_count": 26,
   "metadata": {
    "colab": {
     "base_uri": "https://localhost:8080/",
     "height": 34
    },
    "colab_type": "code",
    "executionInfo": {
     "elapsed": 11494,
     "status": "ok",
     "timestamp": 1599936755353,
     "user": {
      "displayName": "Sahil -",
      "photoUrl": "",
      "userId": "14051148522636395588"
     },
     "user_tz": -330
    },
    "id": "2NGw50nMYRhi",
    "outputId": "d732dca0-a4f2-4d5b-8870-6b906fab5cf0"
   },
   "outputs": [
    {
     "name": "stdout",
     "output_type": "stream",
     "text": [
      "False\n"
     ]
    }
   ],
   "source": [
    "# Replace nan with mean value\n",
    "train_df['LotFrontage'].fillna(fillna_value['LotFrontage'], inplace=True)\n",
    "# Check it again if any missing value left?\n",
    "print(train_df['LotFrontage'].isna().any())"
   ]
  },
  {
   "cell_type": "code",
   "execution_count": 27,
   "metadata": {
    "colab": {
     "base_uri": "https://localhost:8080/",
     "height": 34
    },
    "colab_type": "code",
    "executionInfo": {
     "elapsed": 11470,
     "status": "ok",
     "timestamp": 1599936755353,
     "user": {
      "displayName": "Sahil -",
      "photoUrl": "",
      "userId": "14051148522636395588"
     },
     "user_tz": -330
    },
    "id": "Ict1lhCqhKTR",
    "outputId": "a67a203d-b5f9-4af9-9924-9030c1e5c295"
   },
   "outputs": [
    {
     "data": {
      "text/plain": [
       "(1458, 81)"
      ]
     },
     "execution_count": 27,
     "metadata": {},
     "output_type": "execute_result"
    }
   ],
   "source": [
    "# Remove that are greater than 200\n",
    "train_df = train_df[train_df['LotFrontage'] <= 200]\n",
    "train_df.shape # Check the number of samples"
   ]
  },
  {
   "cell_type": "code",
   "execution_count": 28,
   "metadata": {
    "colab": {
     "base_uri": "https://localhost:8080/",
     "height": 34
    },
    "colab_type": "code",
    "executionInfo": {
     "elapsed": 11444,
     "status": "ok",
     "timestamp": 1599936755354,
     "user": {
      "displayName": "Sahil -",
      "photoUrl": "",
      "userId": "14051148522636395588"
     },
     "user_tz": -330
    },
    "id": "faSRDzCdY7Es",
    "outputId": "d58060ef-9f9d-41ba-f8a8-ca85e9a2eebe"
   },
   "outputs": [
    {
     "name": "stdout",
     "output_type": "stream",
     "text": [
      "True\n"
     ]
    }
   ],
   "source": [
    "# Check missing value in test data\n",
    "print(test_df['LotFrontage'].isna().any())"
   ]
  },
  {
   "cell_type": "code",
   "execution_count": 29,
   "metadata": {
    "colab": {},
    "colab_type": "code",
    "executionInfo": {
     "elapsed": 11442,
     "status": "ok",
     "timestamp": 1599936755354,
     "user": {
      "displayName": "Sahil -",
      "photoUrl": "",
      "userId": "14051148522636395588"
     },
     "user_tz": -330
    },
    "id": "VfudElGca5uN"
   },
   "outputs": [],
   "source": [
    "# Yes! TO replace it with fillna value\n",
    "test_df['LotFrontage'].fillna(fillna_value['LotFrontage'], inplace=True)"
   ]
  },
  {
   "cell_type": "code",
   "execution_count": 30,
   "metadata": {
    "colab": {
     "base_uri": "https://localhost:8080/",
     "height": 34
    },
    "colab_type": "code",
    "executionInfo": {
     "elapsed": 11418,
     "status": "ok",
     "timestamp": 1599936755355,
     "user": {
      "displayName": "Sahil -",
      "photoUrl": "",
      "userId": "14051148522636395588"
     },
     "user_tz": -330
    },
    "id": "Cu0diczZbEto",
    "outputId": "93460503-e872-47db-f725-5e4862dc079e"
   },
   "outputs": [
    {
     "name": "stdout",
     "output_type": "stream",
     "text": [
      "False\n"
     ]
    }
   ],
   "source": [
    "# Check it again any missing value in test data?\n",
    "print(test_df['LotFrontage'].isna().any())"
   ]
  },
  {
   "cell_type": "markdown",
   "metadata": {
    "colab_type": "text",
    "id": "3fHLJEfehvHr"
   },
   "source": [
    "## LotArea"
   ]
  },
  {
   "cell_type": "code",
   "execution_count": 31,
   "metadata": {
    "colab": {
     "base_uri": "https://localhost:8080/",
     "height": 34
    },
    "colab_type": "code",
    "executionInfo": {
     "elapsed": 11394,
     "status": "ok",
     "timestamp": 1599936755355,
     "user": {
      "displayName": "Sahil -",
      "photoUrl": "",
      "userId": "14051148522636395588"
     },
     "user_tz": -330
    },
    "id": "4l0kml-6iswm",
    "outputId": "4120f6aa-532a-484c-a2bd-2a4c1bcf030b"
   },
   "outputs": [
    {
     "name": "stdout",
     "output_type": "stream",
     "text": [
      "False\n"
     ]
    }
   ],
   "source": [
    "# It is numerical feature\n",
    "# Check if there any missing value\n",
    "print(train_df['LotArea'].isna().any())"
   ]
  },
  {
   "cell_type": "code",
   "execution_count": 32,
   "metadata": {
    "colab": {
     "base_uri": "https://localhost:8080/",
     "height": 265
    },
    "colab_type": "code",
    "executionInfo": {
     "elapsed": 11371,
     "status": "ok",
     "timestamp": 1599936755356,
     "user": {
      "displayName": "Sahil -",
      "photoUrl": "",
      "userId": "14051148522636395588"
     },
     "user_tz": -330
    },
    "id": "KtSsXRocbHom",
    "outputId": "ae59b8ff-0ec5-4b7c-9dc6-e07a718f9bfb"
   },
   "outputs": [
    {
     "data": {
      "image/png": "[encoded data removed]",
      "text/plain": [
       "<Figure size 432x288 with 1 Axes>"
      ]
     },
     "metadata": {
      "needs_background": "light"
     },
     "output_type": "display_data"
    }
   ],
   "source": [
    "# Plot the graph to see if any outlier\n",
    "plt.plot(train_df['LotArea'])\n",
    "plt.show()"
   ]
  },
  {
   "cell_type": "code",
   "execution_count": 33,
   "metadata": {
    "colab": {
     "base_uri": "https://localhost:8080/",
     "height": 34
    },
    "colab_type": "code",
    "executionInfo": {
     "elapsed": 11347,
     "status": "ok",
     "timestamp": 1599936755356,
     "user": {
      "displayName": "Sahil -",
      "photoUrl": "",
      "userId": "14051148522636395588"
     },
     "user_tz": -330
    },
    "id": "_G6eQypvh4tG",
    "outputId": "50c2503c-7886-4fb5-d2e8-13fa47990839"
   },
   "outputs": [
    {
     "name": "stdout",
     "output_type": "stream",
     "text": [
      "Total sample remains after removing: 1448 (0.9931412894375857)\n"
     ]
    }
   ],
   "source": [
    "# Number of sample remains after removing samples whose value greater than 50000\n",
    "count = train_df[train_df['LotArea'] <= 50000].shape[0]\n",
    "total_frac = count/train_df.shape[0]\n",
    "print('Total sample remains after removing:',count,'({})'.format(total_frac))"
   ]
  },
  {
   "cell_type": "code",
   "execution_count": 34,
   "metadata": {
    "colab": {
     "base_uri": "https://localhost:8080/",
     "height": 34
    },
    "colab_type": "code",
    "executionInfo": {
     "elapsed": 11323,
     "status": "ok",
     "timestamp": 1599936755356,
     "user": {
      "displayName": "Sahil -",
      "photoUrl": "",
      "userId": "14051148522636395588"
     },
     "user_tz": -330
    },
    "id": "Jsa3rTqgoXp3",
    "outputId": "8b55d77e-4c8c-426e-a7c4-4bb27b3ab52a"
   },
   "outputs": [
    {
     "data": {
      "text/plain": [
       "(1448, 81)"
      ]
     },
     "execution_count": 34,
     "metadata": {},
     "output_type": "execute_result"
    }
   ],
   "source": [
    "# Remove the samples that are greater than 50K\n",
    "train_df = train_df[train_df['LotArea'] <= 50000]\n",
    "train_df.shape"
   ]
  },
  {
   "cell_type": "code",
   "execution_count": 35,
   "metadata": {
    "colab": {
     "base_uri": "https://localhost:8080/",
     "height": 34
    },
    "colab_type": "code",
    "executionInfo": {
     "elapsed": 11300,
     "status": "ok",
     "timestamp": 1599936755357,
     "user": {
      "displayName": "Sahil -",
      "photoUrl": "",
      "userId": "14051148522636395588"
     },
     "user_tz": -330
    },
    "id": "M2tWNBrJozQb",
    "outputId": "9dd57242-4155-4600-933a-8fff0ad33c55"
   },
   "outputs": [
    {
     "data": {
      "text/plain": [
       "9855.599447513812"
      ]
     },
     "execution_count": 35,
     "metadata": {},
     "output_type": "execute_result"
    }
   ],
   "source": [
    "# Store the fillna value into dict()\n",
    "fillna_value['LotArea'] = train_df['LotArea'].mean()\n",
    "fillna_value['LotArea']"
   ]
  },
  {
   "cell_type": "code",
   "execution_count": 36,
   "metadata": {
    "colab": {
     "base_uri": "https://localhost:8080/",
     "height": 34
    },
    "colab_type": "code",
    "executionInfo": {
     "elapsed": 11276,
     "status": "ok",
     "timestamp": 1599936755357,
     "user": {
      "displayName": "Sahil -",
      "photoUrl": "",
      "userId": "14051148522636395588"
     },
     "user_tz": -330
    },
    "id": "nMCVkVkDpALx",
    "outputId": "4b40e201-0f6e-4561-9aff-012a06370ead"
   },
   "outputs": [
    {
     "name": "stdout",
     "output_type": "stream",
     "text": [
      "False\n"
     ]
    }
   ],
   "source": [
    "# Check if any missing value in test data\n",
    "print(test_df['LotArea'].isna().any())"
   ]
  },
  {
   "cell_type": "markdown",
   "metadata": {
    "colab_type": "text",
    "id": "yD8s6OhqpjVE"
   },
   "source": [
    "## Street"
   ]
  },
  {
   "cell_type": "code",
   "execution_count": 37,
   "metadata": {
    "colab": {
     "base_uri": "https://localhost:8080/",
     "height": 86
    },
    "colab_type": "code",
    "executionInfo": {
     "elapsed": 11253,
     "status": "ok",
     "timestamp": 1599936755358,
     "user": {
      "displayName": "Sahil -",
      "photoUrl": "",
      "userId": "14051148522636395588"
     },
     "user_tz": -330
    },
    "id": "2en1diovpeK_",
    "outputId": "c3f89730-1b0d-4661-88c1-a69d279a5612"
   },
   "outputs": [
    {
     "name": "stdout",
     "output_type": "stream",
     "text": [
      "Value provide by data description:\n",
      " ['Grvl', 'Pave']\n",
      "Value from train column:\n",
      " ['Grvl', 'Pave']\n"
     ]
    }
   ],
   "source": [
    "# It is categorical feature\n",
    "printing_values_for_column(category_column,train_df,'Street')"
   ]
  },
  {
   "cell_type": "code",
   "execution_count": 38,
   "metadata": {
    "colab": {},
    "colab_type": "code",
    "executionInfo": {
     "elapsed": 11250,
     "status": "ok",
     "timestamp": 1599936755358,
     "user": {
      "displayName": "Sahil -",
      "photoUrl": "",
      "userId": "14051148522636395588"
     },
     "user_tz": -330
    },
    "id": "uPtPQKamqKNP"
   },
   "outputs": [],
   "source": [
    "# Well! There is no mispelled. Let move on\n",
    "# There is no missing value 'nan' from above output 'value from  train column'"
   ]
  },
  {
   "cell_type": "code",
   "execution_count": 39,
   "metadata": {
    "colab": {
     "base_uri": "https://localhost:8080/",
     "height": 34
    },
    "colab_type": "code",
    "executionInfo": {
     "elapsed": 11227,
     "status": "ok",
     "timestamp": 1599936755359,
     "user": {
      "displayName": "Sahil -",
      "photoUrl": "",
      "userId": "14051148522636395588"
     },
     "user_tz": -330
    },
    "id": "l3f3gNxYqDOB",
    "outputId": "db9497d6-5c42-4aa9-fb03-862abd9a45c6"
   },
   "outputs": [
    {
     "data": {
      "text/plain": [
       "'Pave'"
      ]
     },
     "execution_count": 39,
     "metadata": {},
     "output_type": "execute_result"
    }
   ],
   "source": [
    "# Store the fillna value into dict()\n",
    "fillna_value['Street'] = train_df['Street'].mode()[0]\n",
    "fillna_value['Street']"
   ]
  },
  {
   "cell_type": "code",
   "execution_count": 40,
   "metadata": {
    "colab": {
     "base_uri": "https://localhost:8080/",
     "height": 34
    },
    "colab_type": "code",
    "executionInfo": {
     "elapsed": 11202,
     "status": "ok",
     "timestamp": 1599936755359,
     "user": {
      "displayName": "Sahil -",
      "photoUrl": "",
      "userId": "14051148522636395588"
     },
     "user_tz": -330
    },
    "id": "ZyazNZkxqc9_",
    "outputId": "b5d8d674-8ea2-48d6-b7a0-a3223f90568d"
   },
   "outputs": [
    {
     "name": "stdout",
     "output_type": "stream",
     "text": [
      "False\n"
     ]
    }
   ],
   "source": [
    "# Check missing value in test data\n",
    "print(test_df['Street'].isna().any())"
   ]
  },
  {
   "cell_type": "markdown",
   "metadata": {
    "colab_type": "text",
    "id": "fSrT0xt9qqm0"
   },
   "source": [
    "## Alley"
   ]
  },
  {
   "cell_type": "code",
   "execution_count": 41,
   "metadata": {
    "colab": {
     "base_uri": "https://localhost:8080/",
     "height": 34
    },
    "colab_type": "code",
    "executionInfo": {
     "elapsed": 11179,
     "status": "ok",
     "timestamp": 1599936755360,
     "user": {
      "displayName": "Sahil -",
      "photoUrl": "",
      "userId": "14051148522636395588"
     },
     "user_tz": -330
    },
    "id": "4kz7ejfcqgkB",
    "outputId": "a5c6ffc8-98ff-483d-a358-25a94d833247"
   },
   "outputs": [
    {
     "name": "stdout",
     "output_type": "stream",
     "text": [
      "There is missing value\n"
     ]
    }
   ],
   "source": [
    "# It is category feature\n",
    "printing_values_for_column(category_column,train_df,'Alley')"
   ]
  },
  {
   "cell_type": "code",
   "execution_count": 42,
   "metadata": {
    "colab": {
     "base_uri": "https://localhost:8080/",
     "height": 34
    },
    "colab_type": "code",
    "executionInfo": {
     "elapsed": 11155,
     "status": "ok",
     "timestamp": 1599936755360,
     "user": {
      "displayName": "Sahil -",
      "photoUrl": "",
      "userId": "14051148522636395588"
     },
     "user_tz": -330
    },
    "id": "bOtYWKNdqzAR",
    "outputId": "8376c0c4-b953-436e-a019-251bb35028b6"
   },
   "outputs": [
    {
     "data": {
      "text/plain": [
       "array(['NA', 'Grvl', 'Pave'], dtype=object)"
      ]
     },
     "execution_count": 42,
     "metadata": {},
     "output_type": "execute_result"
    }
   ],
   "source": [
    "# Convert np.nan or nan(float) into string\n",
    "train_df['Alley'].replace(to_replace=np.nan, value='NA').unique()\n",
    "# Remember I've not updated DataFrame yet. I just want to observe\n",
    "# If there is any other value other than 'nan'."
   ]
  },
  {
   "cell_type": "code",
   "execution_count": 43,
   "metadata": {
    "colab": {},
    "colab_type": "code",
    "executionInfo": {
     "elapsed": 11153,
     "status": "ok",
     "timestamp": 1599936755360,
     "user": {
      "displayName": "Sahil -",
      "photoUrl": "",
      "userId": "14051148522636395588"
     },
     "user_tz": -330
    },
    "id": "VXNnBtK8rvzt"
   },
   "outputs": [],
   "source": [
    "# Now you see 'nan' value has some value as per data description.\n",
    "# NA: No alley assess. So, we will replace 'nan' into 'NA'\n",
    "train_df['Alley'].replace(to_replace=np.nan, value='NA', inplace=True)"
   ]
  },
  {
   "cell_type": "code",
   "execution_count": 44,
   "metadata": {
    "colab": {
     "base_uri": "https://localhost:8080/",
     "height": 34
    },
    "colab_type": "code",
    "executionInfo": {
     "elapsed": 11131,
     "status": "ok",
     "timestamp": 1599936755361,
     "user": {
      "displayName": "Sahil -",
      "photoUrl": "",
      "userId": "14051148522636395588"
     },
     "user_tz": -330
    },
    "id": "zV9V2mGzsQ1P",
    "outputId": "21817be9-cc1b-40f1-c36d-4d6ddfc5e880"
   },
   "outputs": [
    {
     "name": "stdout",
     "output_type": "stream",
     "text": [
      "False\n"
     ]
    }
   ],
   "source": [
    "# Any missing value left\n",
    "print(train_df['Alley'].isna().any())"
   ]
  },
  {
   "cell_type": "code",
   "execution_count": 45,
   "metadata": {
    "colab": {
     "base_uri": "https://localhost:8080/",
     "height": 34
    },
    "colab_type": "code",
    "executionInfo": {
     "elapsed": 12044,
     "status": "ok",
     "timestamp": 1599936756298,
     "user": {
      "displayName": "Sahil -",
      "photoUrl": "",
      "userId": "14051148522636395588"
     },
     "user_tz": -330
    },
    "id": "eDR7ZVxKsWSV",
    "outputId": "5a183ce0-20cd-4d9a-a00e-9ded2b8f49f2"
   },
   "outputs": [
    {
     "data": {
      "text/plain": [
       "'NA'"
      ]
     },
     "execution_count": 45,
     "metadata": {},
     "output_type": "execute_result"
    }
   ],
   "source": [
    "# Store the fillna value into dict()\n",
    "fillna_value['Alley'] = train_df['Alley'].mode()[0]\n",
    "fillna_value['Alley']"
   ]
  },
  {
   "cell_type": "code",
   "execution_count": 46,
   "metadata": {
    "colab": {
     "base_uri": "https://localhost:8080/",
     "height": 34
    },
    "colab_type": "code",
    "executionInfo": {
     "elapsed": 12021,
     "status": "ok",
     "timestamp": 1599936756298,
     "user": {
      "displayName": "Sahil -",
      "photoUrl": "",
      "userId": "14051148522636395588"
     },
     "user_tz": -330
    },
    "id": "X5-246vCsf4_",
    "outputId": "80dc374a-6fbb-4538-e410-06b40ffce6df"
   },
   "outputs": [
    {
     "name": "stdout",
     "output_type": "stream",
     "text": [
      "True\n"
     ]
    }
   ],
   "source": [
    "# Check if any missing value in test\n",
    "print(test_df['Alley'].isna().any())"
   ]
  },
  {
   "cell_type": "code",
   "execution_count": 47,
   "metadata": {
    "colab": {},
    "colab_type": "code",
    "executionInfo": {
     "elapsed": 12020,
     "status": "ok",
     "timestamp": 1599936756299,
     "user": {
      "displayName": "Sahil -",
      "photoUrl": "",
      "userId": "14051148522636395588"
     },
     "user_tz": -330
    },
    "id": "Wuj5bmRXswHa"
   },
   "outputs": [],
   "source": [
    "# Replace with fillna value\n",
    "test_df['Alley'].replace(to_replace=np.nan,value='NA',inplace=True)"
   ]
  },
  {
   "cell_type": "code",
   "execution_count": 48,
   "metadata": {
    "colab": {
     "base_uri": "https://localhost:8080/",
     "height": 34
    },
    "colab_type": "code",
    "executionInfo": {
     "elapsed": 11996,
     "status": "ok",
     "timestamp": 1599936756299,
     "user": {
      "displayName": "Sahil -",
      "photoUrl": "",
      "userId": "14051148522636395588"
     },
     "user_tz": -330
    },
    "id": "qTVU6vmks7ZL",
    "outputId": "847f0c95-5fd9-4d8b-d6aa-718611f15806"
   },
   "outputs": [
    {
     "name": "stdout",
     "output_type": "stream",
     "text": [
      "False\n"
     ]
    }
   ],
   "source": [
    "# Check if any missing value still in test\n",
    "print(test_df['Alley'].isna().any())"
   ]
  },
  {
   "cell_type": "markdown",
   "metadata": {
    "colab_type": "text",
    "id": "fmK81G53tG8O"
   },
   "source": [
    "## LotShape"
   ]
  },
  {
   "cell_type": "code",
   "execution_count": 49,
   "metadata": {
    "colab": {
     "base_uri": "https://localhost:8080/",
     "height": 86
    },
    "colab_type": "code",
    "executionInfo": {
     "elapsed": 11973,
     "status": "ok",
     "timestamp": 1599936756300,
     "user": {
      "displayName": "Sahil -",
      "photoUrl": "",
      "userId": "14051148522636395588"
     },
     "user_tz": -330
    },
    "id": "JJcYsVJ-tEgQ",
    "outputId": "a439774a-4d80-46b7-87ab-706e7a022f2d"
   },
   "outputs": [
    {
     "name": "stdout",
     "output_type": "stream",
     "text": [
      "Value provide by data description:\n",
      " ['IR1', 'IR2', 'IR3', 'Reg']\n",
      "Value from train column:\n",
      " ['IR1', 'IR2', 'IR3', 'Reg']\n"
     ]
    }
   ],
   "source": [
    "# It is category feature\n",
    "printing_values_for_column(category_column, train_df, 'LotShape')"
   ]
  },
  {
   "cell_type": "code",
   "execution_count": 50,
   "metadata": {
    "colab": {
     "base_uri": "https://localhost:8080/",
     "height": 34
    },
    "colab_type": "code",
    "executionInfo": {
     "elapsed": 11949,
     "status": "ok",
     "timestamp": 1599936756300,
     "user": {
      "displayName": "Sahil -",
      "photoUrl": "",
      "userId": "14051148522636395588"
     },
     "user_tz": -330
    },
    "id": "vVHsxI_jO-IE",
    "outputId": "04e3ea7e-0cb4-4800-ad64-12523117f6ba"
   },
   "outputs": [
    {
     "data": {
      "text/plain": [
       "'Reg'"
      ]
     },
     "execution_count": 50,
     "metadata": {},
     "output_type": "execute_result"
    }
   ],
   "source": [
    "# No mispelled. No missing values\n",
    "# Store the fillna value into dict()\n",
    "fillna_value['LotShape'] = train_df['LotShape'].mode()[0]\n",
    "fillna_value['LotShape']                                                     "
   ]
  },
  {
   "cell_type": "code",
   "execution_count": 51,
   "metadata": {
    "colab": {
     "base_uri": "https://localhost:8080/",
     "height": 34
    },
    "colab_type": "code",
    "executionInfo": {
     "elapsed": 11926,
     "status": "ok",
     "timestamp": 1599936756301,
     "user": {
      "displayName": "Sahil -",
      "photoUrl": "",
      "userId": "14051148522636395588"
     },
     "user_tz": -330
    },
    "id": "uuouI_cSPU6W",
    "outputId": "ca31ac16-36a2-447a-edc9-cf4a360032c8"
   },
   "outputs": [
    {
     "name": "stdout",
     "output_type": "stream",
     "text": [
      "False\n"
     ]
    }
   ],
   "source": [
    "# Check if missing value in test data?\n",
    "print(test_df['LotShape'].isna().any())"
   ]
  },
  {
   "cell_type": "markdown",
   "metadata": {
    "colab_type": "text",
    "id": "H4QJpheRPeYu"
   },
   "source": [
    "## LandContour"
   ]
  },
  {
   "cell_type": "code",
   "execution_count": 52,
   "metadata": {
    "colab": {
     "base_uri": "https://localhost:8080/",
     "height": 86
    },
    "colab_type": "code",
    "executionInfo": {
     "elapsed": 11902,
     "status": "ok",
     "timestamp": 1599936756301,
     "user": {
      "displayName": "Sahil -",
      "photoUrl": "",
      "userId": "14051148522636395588"
     },
     "user_tz": -330
    },
    "id": "lCRx57K5Pb2G",
    "outputId": "e5f05ec1-c13e-43e9-9a82-1c9b9c885892"
   },
   "outputs": [
    {
     "name": "stdout",
     "output_type": "stream",
     "text": [
      "Value provide by data description:\n",
      " ['Bnk', 'HLS', 'Low', 'Lvl']\n",
      "Value from train column:\n",
      " ['Bnk', 'HLS', 'Low', 'Lvl']\n"
     ]
    }
   ],
   "source": [
    "# It is category feature\n",
    "printing_values_for_column(category_column, train_df,'LandContour')"
   ]
  },
  {
   "cell_type": "code",
   "execution_count": 53,
   "metadata": {
    "colab": {
     "base_uri": "https://localhost:8080/",
     "height": 34
    },
    "colab_type": "code",
    "executionInfo": {
     "elapsed": 11878,
     "status": "ok",
     "timestamp": 1599936756301,
     "user": {
      "displayName": "Sahil -",
      "photoUrl": "",
      "userId": "14051148522636395588"
     },
     "user_tz": -330
    },
    "id": "OvXeEQ2ePpI8",
    "outputId": "eb883400-6ce3-4bbc-9d12-030631ad1054"
   },
   "outputs": [
    {
     "data": {
      "text/plain": [
       "'Lvl'"
      ]
     },
     "execution_count": 53,
     "metadata": {},
     "output_type": "execute_result"
    }
   ],
   "source": [
    "# No mispelled. No missing value\n",
    "# Store the fillna value into dict()\n",
    "fillna_value['LandContour'] = train_df['LandContour'].mode()[0]\n",
    "fillna_value['LandContour']"
   ]
  },
  {
   "cell_type": "code",
   "execution_count": 54,
   "metadata": {
    "colab": {
     "base_uri": "https://localhost:8080/",
     "height": 34
    },
    "colab_type": "code",
    "executionInfo": {
     "elapsed": 11855,
     "status": "ok",
     "timestamp": 1599936756302,
     "user": {
      "displayName": "Sahil -",
      "photoUrl": "",
      "userId": "14051148522636395588"
     },
     "user_tz": -330
    },
    "id": "zkkyxtIvP8EM",
    "outputId": "4f7a1ecd-29da-4d94-f6c3-57ada87c1287"
   },
   "outputs": [
    {
     "name": "stdout",
     "output_type": "stream",
     "text": [
      "False\n"
     ]
    }
   ],
   "source": [
    "# Check if any missing value in test data?\n",
    "print(test_df['LandContour'].isna().any())"
   ]
  },
  {
   "cell_type": "markdown",
   "metadata": {
    "colab_type": "text",
    "id": "KzlUKYz4QHZ9"
   },
   "source": [
    "## Utilities"
   ]
  },
  {
   "cell_type": "code",
   "execution_count": 55,
   "metadata": {
    "colab": {
     "base_uri": "https://localhost:8080/",
     "height": 86
    },
    "colab_type": "code",
    "executionInfo": {
     "elapsed": 11832,
     "status": "ok",
     "timestamp": 1599936756302,
     "user": {
      "displayName": "Sahil -",
      "photoUrl": "",
      "userId": "14051148522636395588"
     },
     "user_tz": -330
    },
    "id": "JeCl7IuTP99n",
    "outputId": "90b4ffeb-d3ef-4232-b5c9-cb8f627a296f"
   },
   "outputs": [
    {
     "name": "stdout",
     "output_type": "stream",
     "text": [
      "Value provide by data description:\n",
      " ['AllPub', 'ELO', 'NoSeWa', 'NoSewr']\n",
      "Value from train column:\n",
      " ['AllPub', 'NoSeWa']\n"
     ]
    }
   ],
   "source": [
    "# It is category feature\n",
    "printing_values_for_column(category_column,train_df,'Utilities')"
   ]
  },
  {
   "cell_type": "code",
   "execution_count": 56,
   "metadata": {
    "colab": {
     "base_uri": "https://localhost:8080/",
     "height": 34
    },
    "colab_type": "code",
    "executionInfo": {
     "elapsed": 11809,
     "status": "ok",
     "timestamp": 1599936756303,
     "user": {
      "displayName": "Sahil -",
      "photoUrl": "",
      "userId": "14051148522636395588"
     },
     "user_tz": -330
    },
    "id": "pw9EBUMIRJla",
    "outputId": "ebc9c832-0052-4455-e151-e1f82f2b9218"
   },
   "outputs": [
    {
     "data": {
      "text/plain": [
       "'AllPub'"
      ]
     },
     "execution_count": 56,
     "metadata": {},
     "output_type": "execute_result"
    }
   ],
   "source": [
    "# No mispelled. No missing value\n",
    "# Store the fillna value into dict()\n",
    "fillna_value['Utilities']= train_df['Utilities'].mode()[0]\n",
    "fillna_value['Utilities']"
   ]
  },
  {
   "cell_type": "code",
   "execution_count": 57,
   "metadata": {
    "colab": {
     "base_uri": "https://localhost:8080/",
     "height": 34
    },
    "colab_type": "code",
    "executionInfo": {
     "elapsed": 11785,
     "status": "ok",
     "timestamp": 1599936756303,
     "user": {
      "displayName": "Sahil -",
      "photoUrl": "",
      "userId": "14051148522636395588"
     },
     "user_tz": -330
    },
    "id": "rI3ZgQjmRhg3",
    "outputId": "db913ffd-52f7-48fe-b6af-d2af2197be07"
   },
   "outputs": [
    {
     "name": "stdout",
     "output_type": "stream",
     "text": [
      "True\n"
     ]
    }
   ],
   "source": [
    "# Check if any missing value in test data?\n",
    "print(test_df['Utilities'].isna().any())"
   ]
  },
  {
   "cell_type": "code",
   "execution_count": 58,
   "metadata": {
    "colab": {},
    "colab_type": "code",
    "executionInfo": {
     "elapsed": 11783,
     "status": "ok",
     "timestamp": 1599936756304,
     "user": {
      "displayName": "Sahil -",
      "photoUrl": "",
      "userId": "14051148522636395588"
     },
     "user_tz": -330
    },
    "id": "zWFhk62rRp1X"
   },
   "outputs": [],
   "source": [
    "# Fill nan by fillna precomputed\n",
    "test_df['Utilities'].replace(to_replace=np.nan, value=fillna_value['Utilities'], inplace=True)"
   ]
  },
  {
   "cell_type": "code",
   "execution_count": 59,
   "metadata": {
    "colab": {
     "base_uri": "https://localhost:8080/",
     "height": 34
    },
    "colab_type": "code",
    "executionInfo": {
     "elapsed": 11759,
     "status": "ok",
     "timestamp": 1599936756304,
     "user": {
      "displayName": "Sahil -",
      "photoUrl": "",
      "userId": "14051148522636395588"
     },
     "user_tz": -330
    },
    "id": "y7MxcWjVR5W0",
    "outputId": "786326bc-fd25-4a87-9cae-a4bc1bbd4ae6"
   },
   "outputs": [
    {
     "name": "stdout",
     "output_type": "stream",
     "text": [
      "False\n"
     ]
    }
   ],
   "source": [
    "# Check again any missing value in test data?\n",
    "print(test_df['Utilities'].isna().any())"
   ]
  },
  {
   "cell_type": "markdown",
   "metadata": {
    "colab_type": "text",
    "id": "6gDRzAl5SIoF"
   },
   "source": [
    "## LotConfig"
   ]
  },
  {
   "cell_type": "code",
   "execution_count": 60,
   "metadata": {
    "colab": {
     "base_uri": "https://localhost:8080/",
     "height": 86
    },
    "colab_type": "code",
    "executionInfo": {
     "elapsed": 11735,
     "status": "ok",
     "timestamp": 1599936756304,
     "user": {
      "displayName": "Sahil -",
      "photoUrl": "",
      "userId": "14051148522636395588"
     },
     "user_tz": -330
    },
    "id": "dHc8rG7nSMiT",
    "outputId": "1cf3ee13-668e-480a-a087-3d2a08fc106c"
   },
   "outputs": [
    {
     "name": "stdout",
     "output_type": "stream",
     "text": [
      "Value provide by data description:\n",
      " ['Corner', 'CulDSac', 'FR2', 'FR3', 'Inside']\n",
      "Value from train column:\n",
      " ['Corner', 'CulDSac', 'FR2', 'FR3', 'Inside']\n"
     ]
    }
   ],
   "source": [
    "# It is category feature\n",
    "printing_values_for_column(category_column,train_df,'LotConfig')"
   ]
  },
  {
   "cell_type": "code",
   "execution_count": 61,
   "metadata": {
    "colab": {
     "base_uri": "https://localhost:8080/",
     "height": 34
    },
    "colab_type": "code",
    "executionInfo": {
     "elapsed": 11708,
     "status": "ok",
     "timestamp": 1599936756305,
     "user": {
      "displayName": "Sahil -",
      "photoUrl": "",
      "userId": "14051148522636395588"
     },
     "user_tz": -330
    },
    "id": "vjGLEQ7NSUCO",
    "outputId": "ae3a7a1c-abcb-4b1a-91ba-5e5e11fc861a"
   },
   "outputs": [
    {
     "data": {
      "text/plain": [
       "'Inside'"
      ]
     },
     "execution_count": 61,
     "metadata": {},
     "output_type": "execute_result"
    }
   ],
   "source": [
    "# No mispelled and missing value.\n",
    "# Store fillna value into dict()\n",
    "fillna_value['LotConfig'] = train_df['LotConfig'].mode()[0]\n",
    "fillna_value['LotConfig']"
   ]
  },
  {
   "cell_type": "code",
   "execution_count": 62,
   "metadata": {
    "colab": {
     "base_uri": "https://localhost:8080/",
     "height": 34
    },
    "colab_type": "code",
    "executionInfo": {
     "elapsed": 11683,
     "status": "ok",
     "timestamp": 1599936756305,
     "user": {
      "displayName": "Sahil -",
      "photoUrl": "",
      "userId": "14051148522636395588"
     },
     "user_tz": -330
    },
    "id": "UEwfavbZSgPJ",
    "outputId": "89842fe0-0d09-4c6b-c925-3967784c7b51"
   },
   "outputs": [
    {
     "name": "stdout",
     "output_type": "stream",
     "text": [
      "False\n"
     ]
    }
   ],
   "source": [
    "# Check if any missing value in test data?\n",
    "print(test_df['LotConfig'].isna().any())"
   ]
  },
  {
   "cell_type": "markdown",
   "metadata": {
    "colab_type": "text",
    "id": "0dBwXtH4SpLb"
   },
   "source": [
    "## LandSlope"
   ]
  },
  {
   "cell_type": "code",
   "execution_count": 63,
   "metadata": {
    "colab": {
     "base_uri": "https://localhost:8080/",
     "height": 86
    },
    "colab_type": "code",
    "executionInfo": {
     "elapsed": 11659,
     "status": "ok",
     "timestamp": 1599936756306,
     "user": {
      "displayName": "Sahil -",
      "photoUrl": "",
      "userId": "14051148522636395588"
     },
     "user_tz": -330
    },
    "id": "yZtn05l2Sn6S",
    "outputId": "c6315b37-0ee0-4fc8-f508-ef20bb8b8ccf"
   },
   "outputs": [
    {
     "name": "stdout",
     "output_type": "stream",
     "text": [
      "Value provide by data description:\n",
      " ['Gtl', 'Mod', 'Sev']\n",
      "Value from train column:\n",
      " ['Gtl', 'Mod', 'Sev']\n"
     ]
    }
   ],
   "source": [
    "# It is category feature\n",
    "printing_values_for_column(category_column,train_df,'LandSlope')"
   ]
  },
  {
   "cell_type": "code",
   "execution_count": 64,
   "metadata": {
    "colab": {
     "base_uri": "https://localhost:8080/",
     "height": 34
    },
    "colab_type": "code",
    "executionInfo": {
     "elapsed": 11636,
     "status": "ok",
     "timestamp": 1599936756306,
     "user": {
      "displayName": "Sahil -",
      "photoUrl": "",
      "userId": "14051148522636395588"
     },
     "user_tz": -330
    },
    "id": "q8va4Y3oS01E",
    "outputId": "d7cdd3b7-961b-4487-a68e-688ad927ba4b"
   },
   "outputs": [
    {
     "data": {
      "text/plain": [
       "'Gtl'"
      ]
     },
     "execution_count": 64,
     "metadata": {},
     "output_type": "execute_result"
    }
   ],
   "source": [
    "# No mispelled and missing value\n",
    "# Store the fillna value into dict()\n",
    "fillna_value['LandSlope'] = train_df['LandSlope'].mode()[0]\n",
    "fillna_value['LandSlope']"
   ]
  },
  {
   "cell_type": "code",
   "execution_count": 65,
   "metadata": {
    "colab": {
     "base_uri": "https://localhost:8080/",
     "height": 34
    },
    "colab_type": "code",
    "executionInfo": {
     "elapsed": 11612,
     "status": "ok",
     "timestamp": 1599936756307,
     "user": {
      "displayName": "Sahil -",
      "photoUrl": "",
      "userId": "14051148522636395588"
     },
     "user_tz": -330
    },
    "id": "1qkxDtYzS_m9",
    "outputId": "23526a52-9ec9-4e40-db8e-40d2cdcde5aa"
   },
   "outputs": [
    {
     "name": "stdout",
     "output_type": "stream",
     "text": [
      "False\n"
     ]
    }
   ],
   "source": [
    "# Check if any missing value in test data?\n",
    "print(test_df['LandSlope'].isna().any())"
   ]
  },
  {
   "cell_type": "markdown",
   "metadata": {
    "colab_type": "text",
    "id": "l7u2pn6STMAM"
   },
   "source": [
    "## Neighborhood"
   ]
  },
  {
   "cell_type": "code",
   "execution_count": 66,
   "metadata": {
    "colab": {
     "base_uri": "https://localhost:8080/",
     "height": 106
    },
    "colab_type": "code",
    "executionInfo": {
     "elapsed": 11588,
     "status": "ok",
     "timestamp": 1599936756307,
     "user": {
      "displayName": "Sahil -",
      "photoUrl": "",
      "userId": "14051148522636395588"
     },
     "user_tz": -330
    },
    "id": "DAdiMAyyTBX4",
    "outputId": "a7e55485-9d7f-493c-c888-8e69a6ac3435"
   },
   "outputs": [
    {
     "name": "stdout",
     "output_type": "stream",
     "text": [
      "Value provide by data description:\n",
      " ['Blmngtn', 'Blueste', 'BrDale', 'BrkSide', 'ClearCr', 'CollgCr', 'Crawfor', 'Edwards', 'Gilbert', 'IDOTRR', 'MeadowV', 'Mitchel', 'NPkVill', 'NWAmes', 'Names', 'NoRidge', 'NridgHt', 'OldTown', 'SWISU', 'Sawyer', 'SawyerW', 'Somerst', 'StoneBr', 'Timber', 'Veenker']\n",
      "Value from train column:\n",
      " ['Blmngtn', 'Blueste', 'BrDale', 'BrkSide', 'ClearCr', 'CollgCr', 'Crawfor', 'Edwards', 'Gilbert', 'IDOTRR', 'MeadowV', 'Mitchel', 'NAmes', 'NPkVill', 'NWAmes', 'NoRidge', 'NridgHt', 'OldTown', 'SWISU', 'Sawyer', 'SawyerW', 'Somerst', 'StoneBr', 'Timber', 'Veenker']\n"
     ]
    }
   ],
   "source": [
    "# It is category feature\n",
    "printing_values_for_column(category_column,train_df,'Neighborhood')"
   ]
  },
  {
   "cell_type": "code",
   "execution_count": 67,
   "metadata": {
    "colab": {},
    "colab_type": "code",
    "executionInfo": {
     "elapsed": 11582,
     "status": "ok",
     "timestamp": 1599936756308,
     "user": {
      "displayName": "Sahil -",
      "photoUrl": "",
      "userId": "14051148522636395588"
     },
     "user_tz": -330
    },
    "id": "ytsqCfMZTWXZ"
   },
   "outputs": [],
   "source": [
    "# Found mispelled 'NAmes' which is actually should have 'Names'\n",
    "# Replace NAmes with Names\n",
    "train_df['Neighborhood'].replace(to_replace='NAmes', value='Names', inplace=True)"
   ]
  },
  {
   "cell_type": "code",
   "execution_count": 68,
   "metadata": {
    "colab": {
     "base_uri": "https://localhost:8080/",
     "height": 106
    },
    "colab_type": "code",
    "executionInfo": {
     "elapsed": 11558,
     "status": "ok",
     "timestamp": 1599936756308,
     "user": {
      "displayName": "Sahil -",
      "photoUrl": "",
      "userId": "14051148522636395588"
     },
     "user_tz": -330
    },
    "id": "1UemATsXT8WG",
    "outputId": "fd5d790e-ec9a-4f70-84a9-9519148a478d"
   },
   "outputs": [
    {
     "name": "stdout",
     "output_type": "stream",
     "text": [
      "Value provide by data description:\n",
      " ['Blmngtn', 'Blueste', 'BrDale', 'BrkSide', 'ClearCr', 'CollgCr', 'Crawfor', 'Edwards', 'Gilbert', 'IDOTRR', 'MeadowV', 'Mitchel', 'NPkVill', 'NWAmes', 'Names', 'NoRidge', 'NridgHt', 'OldTown', 'SWISU', 'Sawyer', 'SawyerW', 'Somerst', 'StoneBr', 'Timber', 'Veenker']\n",
      "Value from train column:\n",
      " ['Blmngtn', 'Blueste', 'BrDale', 'BrkSide', 'ClearCr', 'CollgCr', 'Crawfor', 'Edwards', 'Gilbert', 'IDOTRR', 'MeadowV', 'Mitchel', 'NPkVill', 'NWAmes', 'Names', 'NoRidge', 'NridgHt', 'OldTown', 'SWISU', 'Sawyer', 'SawyerW', 'Somerst', 'StoneBr', 'Timber', 'Veenker']\n"
     ]
    }
   ],
   "source": [
    "# Check again if any mispelled left?\n",
    "printing_values_for_column(category_column,train_df,'Neighborhood')"
   ]
  },
  {
   "cell_type": "code",
   "execution_count": 69,
   "metadata": {
    "colab": {
     "base_uri": "https://localhost:8080/",
     "height": 34
    },
    "colab_type": "code",
    "executionInfo": {
     "elapsed": 11533,
     "status": "ok",
     "timestamp": 1599936756308,
     "user": {
      "displayName": "Sahil -",
      "photoUrl": "",
      "userId": "14051148522636395588"
     },
     "user_tz": -330
    },
    "id": "F01qIUXiUA5w",
    "outputId": "d4a3a9b4-91d4-4736-920f-9acacbe913a6"
   },
   "outputs": [
    {
     "data": {
      "text/plain": [
       "'Names'"
      ]
     },
     "execution_count": 69,
     "metadata": {},
     "output_type": "execute_result"
    }
   ],
   "source": [
    "# Great and no missing value\n",
    "# Store the fillna value into dict()\n",
    "fillna_value['Neighborhood'] = train_df['Neighborhood'].mode()[0]\n",
    "fillna_value['Neighborhood']"
   ]
  },
  {
   "cell_type": "code",
   "execution_count": 70,
   "metadata": {
    "colab": {
     "base_uri": "https://localhost:8080/",
     "height": 34
    },
    "colab_type": "code",
    "executionInfo": {
     "elapsed": 11509,
     "status": "ok",
     "timestamp": 1599936756309,
     "user": {
      "displayName": "Sahil -",
      "photoUrl": "",
      "userId": "14051148522636395588"
     },
     "user_tz": -330
    },
    "id": "VEWBeFePUPu3",
    "outputId": "0d21adc3-6655-4e9d-ce1b-3fc89c8f335b"
   },
   "outputs": [
    {
     "name": "stdout",
     "output_type": "stream",
     "text": [
      "False\n"
     ]
    }
   ],
   "source": [
    "# Check if any missing value in test data?\n",
    "print(test_df['Neighborhood'].isna().any())"
   ]
  },
  {
   "cell_type": "code",
   "execution_count": 71,
   "metadata": {
    "colab": {
     "base_uri": "https://localhost:8080/",
     "height": 106
    },
    "colab_type": "code",
    "executionInfo": {
     "elapsed": 11483,
     "status": "ok",
     "timestamp": 1599936756309,
     "user": {
      "displayName": "Sahil -",
      "photoUrl": "",
      "userId": "14051148522636395588"
     },
     "user_tz": -330
    },
    "id": "VRlFMGFXUZdG",
    "outputId": "289eb4d7-919a-48ca-afb9-8502ece94c01"
   },
   "outputs": [
    {
     "name": "stdout",
     "output_type": "stream",
     "text": [
      "Value provide by data description:\n",
      " ['Blmngtn', 'Blueste', 'BrDale', 'BrkSide', 'ClearCr', 'CollgCr', 'Crawfor', 'Edwards', 'Gilbert', 'IDOTRR', 'MeadowV', 'Mitchel', 'NPkVill', 'NWAmes', 'Names', 'NoRidge', 'NridgHt', 'OldTown', 'SWISU', 'Sawyer', 'SawyerW', 'Somerst', 'StoneBr', 'Timber', 'Veenker']\n",
      "Value from train column:\n",
      " ['Blmngtn', 'Blueste', 'BrDale', 'BrkSide', 'ClearCr', 'CollgCr', 'Crawfor', 'Edwards', 'Gilbert', 'IDOTRR', 'MeadowV', 'Mitchel', 'NAmes', 'NPkVill', 'NWAmes', 'NoRidge', 'NridgHt', 'OldTown', 'SWISU', 'Sawyer', 'SawyerW', 'Somerst', 'StoneBr', 'Timber', 'Veenker']\n"
     ]
    }
   ],
   "source": [
    "# Also check if any mispelled present as it was present in train data\n",
    "printing_values_for_column(category_column,test_df,'Neighborhood')"
   ]
  },
  {
   "cell_type": "code",
   "execution_count": 72,
   "metadata": {
    "colab": {},
    "colab_type": "code",
    "executionInfo": {
     "elapsed": 11482,
     "status": "ok",
     "timestamp": 1599936756310,
     "user": {
      "displayName": "Sahil -",
      "photoUrl": "",
      "userId": "14051148522636395588"
     },
     "user_tz": -330
    },
    "id": "2b0blUM4UgSm"
   },
   "outputs": [],
   "source": [
    "# Yes, there it is. Replace it\n",
    "test_df['Neighborhood'].replace(to_replace='NAmes',value='Names', inplace=True)"
   ]
  },
  {
   "cell_type": "markdown",
   "metadata": {
    "colab_type": "text",
    "id": "MOjln4KUUu4S"
   },
   "source": [
    "## Condition1"
   ]
  },
  {
   "cell_type": "code",
   "execution_count": 73,
   "metadata": {
    "colab": {
     "base_uri": "https://localhost:8080/",
     "height": 86
    },
    "colab_type": "code",
    "executionInfo": {
     "elapsed": 11457,
     "status": "ok",
     "timestamp": 1599936756310,
     "user": {
      "displayName": "Sahil -",
      "photoUrl": "",
      "userId": "14051148522636395588"
     },
     "user_tz": -330
    },
    "id": "qWU8IUuBUrVz",
    "outputId": "21128323-85ec-4059-f35d-0479b167f8d2"
   },
   "outputs": [
    {
     "name": "stdout",
     "output_type": "stream",
     "text": [
      "Value provide by data description:\n",
      " ['Artery', 'Feedr', 'Norm', 'PosA', 'PosN', 'RRAe', 'RRAn', 'RRNe', 'RRNn']\n",
      "Value from train column:\n",
      " ['Artery', 'Feedr', 'Norm', 'PosA', 'PosN', 'RRAe', 'RRAn', 'RRNe', 'RRNn']\n"
     ]
    }
   ],
   "source": [
    "# It is categorical feature\n",
    "printing_values_for_column(category_column,train_df,'Condition1')"
   ]
  },
  {
   "cell_type": "code",
   "execution_count": 74,
   "metadata": {
    "colab": {
     "base_uri": "https://localhost:8080/",
     "height": 34
    },
    "colab_type": "code",
    "executionInfo": {
     "elapsed": 11434,
     "status": "ok",
     "timestamp": 1599936756311,
     "user": {
      "displayName": "Sahil -",
      "photoUrl": "",
      "userId": "14051148522636395588"
     },
     "user_tz": -330
    },
    "id": "Hkcw_SwAU4V6",
    "outputId": "e4512a3b-5408-4047-ff8e-4fe03bd83742"
   },
   "outputs": [
    {
     "data": {
      "text/plain": [
       "'Norm'"
      ]
     },
     "execution_count": 74,
     "metadata": {},
     "output_type": "execute_result"
    }
   ],
   "source": [
    "# No mispelled and missing value.\n",
    "# Store the fillna value into dict()\n",
    "fillna_value['Condition1'] = train_df['Condition1'].mode()[0]\n",
    "fillna_value['Condition1']"
   ]
  },
  {
   "cell_type": "code",
   "execution_count": 75,
   "metadata": {
    "colab": {
     "base_uri": "https://localhost:8080/",
     "height": 34
    },
    "colab_type": "code",
    "executionInfo": {
     "elapsed": 11409,
     "status": "ok",
     "timestamp": 1599936756311,
     "user": {
      "displayName": "Sahil -",
      "photoUrl": "",
      "userId": "14051148522636395588"
     },
     "user_tz": -330
    },
    "id": "Gk99pnKkVEwn",
    "outputId": "2c456872-03d7-406e-8a3c-a898089ca5e8"
   },
   "outputs": [
    {
     "name": "stdout",
     "output_type": "stream",
     "text": [
      "False\n"
     ]
    }
   ],
   "source": [
    "# Check if any missing value in test data?\n",
    "print(test_df['Condition1'].isna().any())"
   ]
  },
  {
   "cell_type": "markdown",
   "metadata": {
    "colab_type": "text",
    "id": "uNLucVoCVNe_"
   },
   "source": [
    "## Condition2"
   ]
  },
  {
   "cell_type": "code",
   "execution_count": 76,
   "metadata": {
    "colab": {
     "base_uri": "https://localhost:8080/",
     "height": 86
    },
    "colab_type": "code",
    "executionInfo": {
     "elapsed": 11385,
     "status": "ok",
     "timestamp": 1599936756312,
     "user": {
      "displayName": "Sahil -",
      "photoUrl": "",
      "userId": "14051148522636395588"
     },
     "user_tz": -330
    },
    "id": "NrL50tz3VF-b",
    "outputId": "8b8c2e34-84d0-466d-c92a-a33103f688b3"
   },
   "outputs": [
    {
     "name": "stdout",
     "output_type": "stream",
     "text": [
      "Value provide by data description:\n",
      " ['Artery', 'Feedr', 'Norm', 'PosA', 'PosN', 'RRAe', 'RRAn', 'RRNe', 'RRNn']\n",
      "Value from train column:\n",
      " ['Artery', 'Feedr', 'Norm', 'PosA', 'PosN', 'RRAe', 'RRAn', 'RRNn']\n"
     ]
    }
   ],
   "source": [
    "# It is categorical feature\n",
    "printing_values_for_column(category_column,train_df,'Condition2')"
   ]
  },
  {
   "cell_type": "code",
   "execution_count": 77,
   "metadata": {
    "colab": {
     "base_uri": "https://localhost:8080/",
     "height": 34
    },
    "colab_type": "code",
    "executionInfo": {
     "elapsed": 11361,
     "status": "ok",
     "timestamp": 1599936756312,
     "user": {
      "displayName": "Sahil -",
      "photoUrl": "",
      "userId": "14051148522636395588"
     },
     "user_tz": -330
    },
    "id": "aTmhzY71VWn5",
    "outputId": "d65eea84-db4b-4367-e555-ee65b51eb92f"
   },
   "outputs": [
    {
     "data": {
      "text/plain": [
       "'Norm'"
      ]
     },
     "execution_count": 77,
     "metadata": {},
     "output_type": "execute_result"
    }
   ],
   "source": [
    "# No mispelled and missing value\n",
    "# Store fillna value into dict()\n",
    "fillna_value['Condition2'] = train_df['Condition2'].mode()[0]\n",
    "fillna_value['Condition2']"
   ]
  },
  {
   "cell_type": "code",
   "execution_count": 78,
   "metadata": {
    "colab": {
     "base_uri": "https://localhost:8080/",
     "height": 34
    },
    "colab_type": "code",
    "executionInfo": {
     "elapsed": 11336,
     "status": "ok",
     "timestamp": 1599936756312,
     "user": {
      "displayName": "Sahil -",
      "photoUrl": "",
      "userId": "14051148522636395588"
     },
     "user_tz": -330
    },
    "id": "tuYIcr0FVjmX",
    "outputId": "e407ded5-956a-4b96-a09f-887dce65be6f"
   },
   "outputs": [
    {
     "name": "stdout",
     "output_type": "stream",
     "text": [
      "False\n"
     ]
    }
   ],
   "source": [
    "# Check if any missing value in test data\n",
    "print(test_df['Condition2'].isna().any())"
   ]
  },
  {
   "cell_type": "markdown",
   "metadata": {
    "colab_type": "text",
    "id": "teisRVCRVqu2"
   },
   "source": [
    "## BldgType"
   ]
  },
  {
   "cell_type": "code",
   "execution_count": 79,
   "metadata": {
    "colab": {
     "base_uri": "https://localhost:8080/",
     "height": 86
    },
    "colab_type": "code",
    "executionInfo": {
     "elapsed": 11312,
     "status": "ok",
     "timestamp": 1599936756313,
     "user": {
      "displayName": "Sahil -",
      "photoUrl": "",
      "userId": "14051148522636395588"
     },
     "user_tz": -330
    },
    "id": "DLK7FRmSVpxk",
    "outputId": "0ed472aa-5f10-4b64-d63c-af9a44ec8363"
   },
   "outputs": [
    {
     "name": "stdout",
     "output_type": "stream",
     "text": [
      "Value provide by data description:\n",
      " ['1Fam', '2FmCon', 'Duplx', 'TwnhsE', 'TwnhsI']\n",
      "Value from train column:\n",
      " ['1Fam', '2fmCon', 'Duplex', 'Twnhs', 'TwnhsE']\n"
     ]
    }
   ],
   "source": [
    "# It is categorical feature\n",
    "printing_values_for_column(category_column,train_df,'BldgType')"
   ]
  },
  {
   "cell_type": "code",
   "execution_count": 80,
   "metadata": {
    "colab": {},
    "colab_type": "code",
    "executionInfo": {
     "elapsed": 11310,
     "status": "ok",
     "timestamp": 1599936756313,
     "user": {
      "displayName": "Sahil -",
      "photoUrl": "",
      "userId": "14051148522636395588"
     },
     "user_tz": -330
    },
    "id": "bQRKJVcbVy4a"
   },
   "outputs": [],
   "source": [
    "# There are multiple mispelled. Let Replace it\n",
    "train_df['BldgType'].replace({'2fmCon':'2FmCon',\n",
    "                              'Duplex':'Duplx',\n",
    "                              'Twnhs':'TwnhsI'}, inplace=True)"
   ]
  },
  {
   "cell_type": "code",
   "execution_count": 81,
   "metadata": {
    "colab": {
     "base_uri": "https://localhost:8080/",
     "height": 86
    },
    "colab_type": "code",
    "executionInfo": {
     "elapsed": 11285,
     "status": "ok",
     "timestamp": 1599936756314,
     "user": {
      "displayName": "Sahil -",
      "photoUrl": "",
      "userId": "14051148522636395588"
     },
     "user_tz": -330
    },
    "id": "Wf31tVmAWyT6",
    "outputId": "03284844-fbd3-4857-c6cb-d78bf839379f"
   },
   "outputs": [
    {
     "name": "stdout",
     "output_type": "stream",
     "text": [
      "Value provide by data description:\n",
      " ['1Fam', '2FmCon', 'Duplx', 'TwnhsE', 'TwnhsI']\n",
      "Value from train column:\n",
      " ['1Fam', '2FmCon', 'Duplx', 'TwnhsE', 'TwnhsI']\n"
     ]
    }
   ],
   "source": [
    "# Check cross spelled again\n",
    "printing_values_for_column(category_column,train_df,'BldgType')"
   ]
  },
  {
   "cell_type": "code",
   "execution_count": 82,
   "metadata": {
    "colab": {
     "base_uri": "https://localhost:8080/",
     "height": 34
    },
    "colab_type": "code",
    "executionInfo": {
     "elapsed": 11261,
     "status": "ok",
     "timestamp": 1599936756314,
     "user": {
      "displayName": "Sahil -",
      "photoUrl": "",
      "userId": "14051148522636395588"
     },
     "user_tz": -330
    },
    "id": "qSsOdH4uW-TR",
    "outputId": "27014fea-af85-4544-90d6-c55b6fa08ce2"
   },
   "outputs": [
    {
     "data": {
      "text/plain": [
       "'1Fam'"
      ]
     },
     "execution_count": 82,
     "metadata": {},
     "output_type": "execute_result"
    }
   ],
   "source": [
    "# No missing value.\n",
    "# Store the fillna value\n",
    "fillna_value['BldgType'] = train_df['BldgType'].mode()[0]\n",
    "fillna_value['BldgType']"
   ]
  },
  {
   "cell_type": "code",
   "execution_count": 83,
   "metadata": {
    "colab": {
     "base_uri": "https://localhost:8080/",
     "height": 34
    },
    "colab_type": "code",
    "executionInfo": {
     "elapsed": 11236,
     "status": "ok",
     "timestamp": 1599936756314,
     "user": {
      "displayName": "Sahil -",
      "photoUrl": "",
      "userId": "14051148522636395588"
     },
     "user_tz": -330
    },
    "id": "lcxBRZ-XXLtu",
    "outputId": "16cb5323-f68a-4ddc-97a4-ef344afcf3c3"
   },
   "outputs": [
    {
     "name": "stdout",
     "output_type": "stream",
     "text": [
      "False\n"
     ]
    }
   ],
   "source": [
    "# Check if any missing value in test data?\n",
    "print(test_df['BldgType'].isna().any())"
   ]
  },
  {
   "cell_type": "code",
   "execution_count": 84,
   "metadata": {
    "colab": {
     "base_uri": "https://localhost:8080/",
     "height": 86
    },
    "colab_type": "code",
    "executionInfo": {
     "elapsed": 11212,
     "status": "ok",
     "timestamp": 1599936756315,
     "user": {
      "displayName": "Sahil -",
      "photoUrl": "",
      "userId": "14051148522636395588"
     },
     "user_tz": -330
    },
    "id": "WxIPbskSXR8D",
    "outputId": "5d30d59d-e48d-4c6d-893f-18f7dc1c897d"
   },
   "outputs": [
    {
     "name": "stdout",
     "output_type": "stream",
     "text": [
      "Value provide by data description:\n",
      " ['1Fam', '2FmCon', 'Duplx', 'TwnhsE', 'TwnhsI']\n",
      "Value from train column:\n",
      " ['1Fam', '2fmCon', 'Duplex', 'Twnhs', 'TwnhsE']\n"
     ]
    }
   ],
   "source": [
    "# Also crosschecl mispelled as it found in train_df\n",
    "printing_values_for_column(category_column,test_df,'BldgType')"
   ]
  },
  {
   "cell_type": "code",
   "execution_count": 85,
   "metadata": {
    "colab": {},
    "colab_type": "code",
    "executionInfo": {
     "elapsed": 11210,
     "status": "ok",
     "timestamp": 1599936756315,
     "user": {
      "displayName": "Sahil -",
      "photoUrl": "",
      "userId": "14051148522636395588"
     },
     "user_tz": -330
    },
    "id": "GjZ8wbO0XbY-"
   },
   "outputs": [],
   "source": [
    "# There it is. Replace it\n",
    "test_df['BldgType'].replace({'2fmCon':'2FmCon',\n",
    "                              'Duplex':'Duplx',\n",
    "                              'Twnhs':'TwnhsI'}, inplace=True)"
   ]
  },
  {
   "cell_type": "code",
   "execution_count": 86,
   "metadata": {
    "colab": {
     "base_uri": "https://localhost:8080/",
     "height": 86
    },
    "colab_type": "code",
    "executionInfo": {
     "elapsed": 11186,
     "status": "ok",
     "timestamp": 1599936756316,
     "user": {
      "displayName": "Sahil -",
      "photoUrl": "",
      "userId": "14051148522636395588"
     },
     "user_tz": -330
    },
    "id": "jXt6cXiZXppx",
    "outputId": "93fb6b0a-eef7-4234-da1a-bb95376c5097"
   },
   "outputs": [
    {
     "name": "stdout",
     "output_type": "stream",
     "text": [
      "Value provide by data description:\n",
      " ['1Fam', '2FmCon', 'Duplx', 'TwnhsE', 'TwnhsI']\n",
      "Value from train column:\n",
      " ['1Fam', '2FmCon', 'Duplx', 'TwnhsE', 'TwnhsI']\n"
     ]
    }
   ],
   "source": [
    "# Cross mispelled check\n",
    "printing_values_for_column(category_column,test_df,'BldgType')"
   ]
  },
  {
   "cell_type": "markdown",
   "metadata": {
    "colab_type": "text",
    "id": "f4Mixt_uXvks"
   },
   "source": [
    "## HouseStyle"
   ]
  },
  {
   "cell_type": "code",
   "execution_count": 87,
   "metadata": {
    "colab": {
     "base_uri": "https://localhost:8080/",
     "height": 86
    },
    "colab_type": "code",
    "executionInfo": {
     "elapsed": 11162,
     "status": "ok",
     "timestamp": 1599936756316,
     "user": {
      "displayName": "Sahil -",
      "photoUrl": "",
      "userId": "14051148522636395588"
     },
     "user_tz": -330
    },
    "id": "1uLjVRC-XtzT",
    "outputId": "56210147-abc3-4e78-d68a-d7a1f86cdf52"
   },
   "outputs": [
    {
     "name": "stdout",
     "output_type": "stream",
     "text": [
      "Value provide by data description:\n",
      " ['1.5Fin', '1.5Unf', '1Story', '2.5Fin', '2.5Unf', '2Story', 'SFoyer', 'SLvl']\n",
      "Value from train column:\n",
      " ['1.5Fin', '1.5Unf', '1Story', '2.5Fin', '2.5Unf', '2Story', 'SFoyer', 'SLvl']\n"
     ]
    }
   ],
   "source": [
    "# It is categorical feature\n",
    "printing_values_for_column(category_column,train_df,'HouseStyle')"
   ]
  },
  {
   "cell_type": "code",
   "execution_count": 88,
   "metadata": {
    "colab": {
     "base_uri": "https://localhost:8080/",
     "height": 34
    },
    "colab_type": "code",
    "executionInfo": {
     "elapsed": 11139,
     "status": "ok",
     "timestamp": 1599936756317,
     "user": {
      "displayName": "Sahil -",
      "photoUrl": "",
      "userId": "14051148522636395588"
     },
     "user_tz": -330
    },
    "id": "AGw8A29wX6nN",
    "outputId": "03a9bbd8-f067-46f5-cf83-4c4281b204f9"
   },
   "outputs": [
    {
     "data": {
      "text/plain": [
       "'1Story'"
      ]
     },
     "execution_count": 88,
     "metadata": {},
     "output_type": "execute_result"
    }
   ],
   "source": [
    "# No mispelled and missing value\n",
    "# Store the fillna value into dict()\n",
    "fillna_value['HouseStyle'] = train_df['HouseStyle'].mode()[0]\n",
    "fillna_value['HouseStyle']"
   ]
  },
  {
   "cell_type": "code",
   "execution_count": 89,
   "metadata": {
    "colab": {
     "base_uri": "https://localhost:8080/",
     "height": 34
    },
    "colab_type": "code",
    "executionInfo": {
     "elapsed": 11114,
     "status": "ok",
     "timestamp": 1599936756317,
     "user": {
      "displayName": "Sahil -",
      "photoUrl": "",
      "userId": "14051148522636395588"
     },
     "user_tz": -330
    },
    "id": "97xP1DgFYOYo",
    "outputId": "438ee934-c0e7-48a4-8b95-5619c688d1f9"
   },
   "outputs": [
    {
     "name": "stdout",
     "output_type": "stream",
     "text": [
      "False\n"
     ]
    }
   ],
   "source": [
    "# Check if any missing value in test data\n",
    "print(test_df['HouseStyle'].isna().any())"
   ]
  },
  {
   "cell_type": "markdown",
   "metadata": {
    "colab_type": "text",
    "id": "cOrGVLZoYaXQ"
   },
   "source": [
    "## OverallQual"
   ]
  },
  {
   "cell_type": "code",
   "execution_count": 90,
   "metadata": {
    "colab": {
     "base_uri": "https://localhost:8080/",
     "height": 86
    },
    "colab_type": "code",
    "executionInfo": {
     "elapsed": 11087,
     "status": "ok",
     "timestamp": 1599936756317,
     "user": {
      "displayName": "Sahil -",
      "photoUrl": "",
      "userId": "14051148522636395588"
     },
     "user_tz": -330
    },
    "id": "ju3aovCcYYM1",
    "outputId": "2bc119bb-7681-4e9e-b15d-2d4050a177a1"
   },
   "outputs": [
    {
     "name": "stdout",
     "output_type": "stream",
     "text": [
      "Value provide by data description:\n",
      " [1, 2, 3, 4, 5, 6, 7, 8, 9, 10]\n",
      "Value from train column:\n",
      " [1, 2, 3, 4, 5, 6, 7, 8, 9, 10]\n"
     ]
    }
   ],
   "source": [
    "# It is categorical feature\n",
    "printing_values_for_column(category_column,train_df,'OverallQual')"
   ]
  },
  {
   "cell_type": "code",
   "execution_count": 91,
   "metadata": {
    "colab": {
     "base_uri": "https://localhost:8080/",
     "height": 34
    },
    "colab_type": "code",
    "executionInfo": {
     "elapsed": 11064,
     "status": "ok",
     "timestamp": 1599936756318,
     "user": {
      "displayName": "Sahil -",
      "photoUrl": "",
      "userId": "14051148522636395588"
     },
     "user_tz": -330
    },
    "id": "i4QphnwtYn6Y",
    "outputId": "aef5254d-9291-4c75-bd8a-179861b6086c"
   },
   "outputs": [
    {
     "data": {
      "text/plain": [
       "5"
      ]
     },
     "execution_count": 91,
     "metadata": {},
     "output_type": "execute_result"
    }
   ],
   "source": [
    "# No mispelled and missing value\n",
    "# Store the fillna value into dict()\n",
    "fillna_value['OverallQual'] = train_df['OverallQual'].mode()[0]\n",
    "fillna_value['OverallQual']"
   ]
  },
  {
   "cell_type": "code",
   "execution_count": 92,
   "metadata": {
    "colab": {
     "base_uri": "https://localhost:8080/",
     "height": 34
    },
    "colab_type": "code",
    "executionInfo": {
     "elapsed": 11040,
     "status": "ok",
     "timestamp": 1599936756318,
     "user": {
      "displayName": "Sahil -",
      "photoUrl": "",
      "userId": "14051148522636395588"
     },
     "user_tz": -330
    },
    "id": "ADbXwV84Y_Ry",
    "outputId": "857936a1-367b-479e-be1d-a9541508dc81"
   },
   "outputs": [
    {
     "name": "stdout",
     "output_type": "stream",
     "text": [
      "False\n"
     ]
    }
   ],
   "source": [
    "# Check if any missing value in test data\n",
    "print(test_df['OverallQual'].isna().any())"
   ]
  },
  {
   "cell_type": "markdown",
   "metadata": {
    "colab_type": "text",
    "id": "zrimU3oEZKqB"
   },
   "source": [
    "## OverallCond"
   ]
  },
  {
   "cell_type": "code",
   "execution_count": 93,
   "metadata": {
    "colab": {
     "base_uri": "https://localhost:8080/",
     "height": 86
    },
    "colab_type": "code",
    "executionInfo": {
     "elapsed": 11014,
     "status": "ok",
     "timestamp": 1599936756319,
     "user": {
      "displayName": "Sahil -",
      "photoUrl": "",
      "userId": "14051148522636395588"
     },
     "user_tz": -330
    },
    "id": "YTYtHnbcZA7t",
    "outputId": "266be31f-bdd5-42bc-b70c-eac1627a6607"
   },
   "outputs": [
    {
     "name": "stdout",
     "output_type": "stream",
     "text": [
      "Value provide by data description:\n",
      " [1, 2, 3, 4, 5, 6, 7, 8, 9, 10]\n",
      "Value from train column:\n",
      " [1, 2, 3, 4, 5, 6, 7, 8, 9]\n"
     ]
    }
   ],
   "source": [
    "# It is categorical feature\n",
    "printing_values_for_column(category_column,train_df,'OverallCond')"
   ]
  },
  {
   "cell_type": "code",
   "execution_count": 94,
   "metadata": {
    "colab": {
     "base_uri": "https://localhost:8080/",
     "height": 34
    },
    "colab_type": "code",
    "executionInfo": {
     "elapsed": 10990,
     "status": "ok",
     "timestamp": 1599936756319,
     "user": {
      "displayName": "Sahil -",
      "photoUrl": "",
      "userId": "14051148522636395588"
     },
     "user_tz": -330
    },
    "id": "idIB_fwJZYFW",
    "outputId": "1ea7097e-dbab-45bd-ff8b-1d9ce08bd93a"
   },
   "outputs": [
    {
     "data": {
      "text/plain": [
       "5"
      ]
     },
     "execution_count": 94,
     "metadata": {},
     "output_type": "execute_result"
    }
   ],
   "source": [
    "# No missing value and mispelled\n",
    "# Store the fillna value in dict()\n",
    "fillna_value['OverallCond'] = train_df['OverallCond'].mode()[0]\n",
    "fillna_value['OverallCond']"
   ]
  },
  {
   "cell_type": "code",
   "execution_count": 95,
   "metadata": {
    "colab": {
     "base_uri": "https://localhost:8080/",
     "height": 34
    },
    "colab_type": "code",
    "executionInfo": {
     "elapsed": 10966,
     "status": "ok",
     "timestamp": 1599936756319,
     "user": {
      "displayName": "Sahil -",
      "photoUrl": "",
      "userId": "14051148522636395588"
     },
     "user_tz": -330
    },
    "id": "iC-5RuI1ZoHq",
    "outputId": "46e8d8b3-b6ac-444a-a8df-0bd87fffd991"
   },
   "outputs": [
    {
     "name": "stdout",
     "output_type": "stream",
     "text": [
      "False\n"
     ]
    }
   ],
   "source": [
    "# Check if any missing value in test data\n",
    "print(test_df['OverallCond'].isna().any())"
   ]
  },
  {
   "cell_type": "markdown",
   "metadata": {
    "colab_type": "text",
    "id": "y3hVI87cZzZN"
   },
   "source": [
    "## YearBuilt, YearRemodAdd"
   ]
  },
  {
   "cell_type": "code",
   "execution_count": 96,
   "metadata": {
    "colab": {
     "base_uri": "https://localhost:8080/",
     "height": 224
    },
    "colab_type": "code",
    "executionInfo": {
     "elapsed": 10944,
     "status": "ok",
     "timestamp": 1599936756320,
     "user": {
      "displayName": "Sahil -",
      "photoUrl": "",
      "userId": "14051148522636395588"
     },
     "user_tz": -330
    },
    "id": "IdukgCWVZx04",
    "outputId": "ef2e70f4-89bd-4b76-ad4c-e48198a39c72"
   },
   "outputs": [
    {
     "data": {
      "text/plain": [
       "0        0\n",
       "1        0\n",
       "2        1\n",
       "3       55\n",
       "4        0\n",
       "        ..\n",
       "1455     1\n",
       "1456    10\n",
       "1457    65\n",
       "1458    46\n",
       "1459     0\n",
       "Name: AgeRemod, Length: 1448, dtype: int64"
      ]
     },
     "execution_count": 96,
     "metadata": {},
     "output_type": "execute_result"
    }
   ],
   "source": [
    "# We can create a new feature engineering with these two features\n",
    "# AgeRemod: 'Years taken to remodel the original construction'\n",
    "train_df['AgeRemod'] = train_df['YearRemodAdd'] - train_df['YearBuilt']\n",
    "train_df['AgeRemod']"
   ]
  },
  {
   "cell_type": "code",
   "execution_count": 97,
   "metadata": {
    "colab": {
     "base_uri": "https://localhost:8080/",
     "height": 34
    },
    "colab_type": "code",
    "executionInfo": {
     "elapsed": 10920,
     "status": "ok",
     "timestamp": 1599936756320,
     "user": {
      "displayName": "Sahil -",
      "photoUrl": "",
      "userId": "14051148522636395588"
     },
     "user_tz": -330
    },
    "id": "P1yLOWM_3yft",
    "outputId": "020f8bf7-edde-4664-9c65-7026ea3ca235"
   },
   "outputs": [
    {
     "data": {
      "text/plain": [
       "Series([], Name: AgeRemod, dtype: int64)"
      ]
     },
     "execution_count": 97,
     "metadata": {},
     "output_type": "execute_result"
    }
   ],
   "source": [
    "# Check if any negative value appear?\n",
    "train_df[train_df['AgeRemod'] < 0]['AgeRemod']"
   ]
  },
  {
   "cell_type": "code",
   "execution_count": 98,
   "metadata": {
    "colab": {},
    "colab_type": "code",
    "executionInfo": {
     "elapsed": 10919,
     "status": "ok",
     "timestamp": 1599936756321,
     "user": {
      "displayName": "Sahil -",
      "photoUrl": "",
      "userId": "14051148522636395588"
     },
     "user_tz": -330
    },
    "id": "XE5SHsbQ17JV"
   },
   "outputs": [],
   "source": [
    "# Now remove these two columns as we not needed.\n",
    "train_df.drop(['YearRemodAdd','YearBuilt'], axis=1, inplace=True)"
   ]
  },
  {
   "cell_type": "code",
   "execution_count": 99,
   "metadata": {
    "colab": {},
    "colab_type": "code",
    "executionInfo": {
     "elapsed": 10917,
     "status": "ok",
     "timestamp": 1599936756321,
     "user": {
      "displayName": "Sahil -",
      "photoUrl": "",
      "userId": "14051148522636395588"
     },
     "user_tz": -330
    },
    "id": "ct5ckauB2hNe"
   },
   "outputs": [],
   "source": [
    "# Similarly for test data\n",
    "test_df['AgeRemod'] = test_df['YearRemodAdd'] - test_df['YearBuilt']\n",
    "test_df.drop(['YearRemodAdd','YearBuilt'], axis=1, inplace=True)"
   ]
  },
  {
   "cell_type": "code",
   "execution_count": 100,
   "metadata": {
    "colab": {
     "base_uri": "https://localhost:8080/",
     "height": 52
    },
    "colab_type": "code",
    "executionInfo": {
     "elapsed": 10893,
     "status": "ok",
     "timestamp": 1599936756321,
     "user": {
      "displayName": "Sahil -",
      "photoUrl": "",
      "userId": "14051148522636395588"
     },
     "user_tz": -330
    },
    "id": "Gx-bkHEt2x85",
    "outputId": "91c6a4cf-6b38-4931-e0e5-e3b09f29f7ec"
   },
   "outputs": [
    {
     "data": {
      "text/plain": [
       "416   -1\n",
       "Name: AgeRemod, dtype: int64"
      ]
     },
     "execution_count": 100,
     "metadata": {},
     "output_type": "execute_result"
    }
   ],
   "source": [
    "# Check if any negative value appear?\n",
    "test_df[test_df['AgeRemod'] < 0]['AgeRemod']"
   ]
  },
  {
   "cell_type": "code",
   "execution_count": 101,
   "metadata": {
    "colab": {},
    "colab_type": "code",
    "executionInfo": {
     "elapsed": 10892,
     "status": "ok",
     "timestamp": 1599936756322,
     "user": {
      "displayName": "Sahil -",
      "photoUrl": "",
      "userId": "14051148522636395588"
     },
     "user_tz": -330
    },
    "id": "39o-E3WH3AUr"
   },
   "outputs": [],
   "source": [
    "# Yes its seems to be appeared. Make it to 0 value\n",
    "# You can use test_df.info() to get the column index of 'AgeRemod' feature\n",
    "test_df.iloc[416,78] = 0"
   ]
  },
  {
   "cell_type": "code",
   "execution_count": 102,
   "metadata": {
    "colab": {
     "base_uri": "https://localhost:8080/",
     "height": 34
    },
    "colab_type": "code",
    "executionInfo": {
     "elapsed": 10869,
     "status": "ok",
     "timestamp": 1599936756322,
     "user": {
      "displayName": "Sahil -",
      "photoUrl": "",
      "userId": "14051148522636395588"
     },
     "user_tz": -330
    },
    "id": "sjZX89Ac3aYb",
    "outputId": "51989d51-a89e-4770-909c-d8a32eb5a62a"
   },
   "outputs": [
    {
     "data": {
      "text/plain": [
       "Series([], Name: AgeRemod, dtype: int64)"
      ]
     },
     "execution_count": 102,
     "metadata": {},
     "output_type": "execute_result"
    }
   ],
   "source": [
    "test_df[test_df['AgeRemod'] < 0]['AgeRemod']"
   ]
  },
  {
   "cell_type": "markdown",
   "metadata": {
    "colab_type": "text",
    "id": "GmjqtVN14pIi"
   },
   "source": [
    "## RoofStyle"
   ]
  },
  {
   "cell_type": "code",
   "execution_count": 103,
   "metadata": {
    "colab": {
     "base_uri": "https://localhost:8080/",
     "height": 86
    },
    "colab_type": "code",
    "executionInfo": {
     "elapsed": 10846,
     "status": "ok",
     "timestamp": 1599936756323,
     "user": {
      "displayName": "Sahil -",
      "photoUrl": "",
      "userId": "14051148522636395588"
     },
     "user_tz": -330
    },
    "id": "Qxvsff_64LBD",
    "outputId": "ec9d4233-e0bd-42a2-e1cb-ee52b83976b4"
   },
   "outputs": [
    {
     "name": "stdout",
     "output_type": "stream",
     "text": [
      "Value provide by data description:\n",
      " ['Flat', 'Gable', 'Gambrel', 'Hip', 'Mansard', 'Shed']\n",
      "Value from train column:\n",
      " ['Flat', 'Gable', 'Gambrel', 'Hip', 'Mansard', 'Shed']\n"
     ]
    }
   ],
   "source": [
    "# It's categorical feature\n",
    "printing_values_for_column(category_column, train_df,'RoofStyle')"
   ]
  },
  {
   "cell_type": "code",
   "execution_count": 104,
   "metadata": {
    "colab": {
     "base_uri": "https://localhost:8080/",
     "height": 34
    },
    "colab_type": "code",
    "executionInfo": {
     "elapsed": 10820,
     "status": "ok",
     "timestamp": 1599936756323,
     "user": {
      "displayName": "Sahil -",
      "photoUrl": "",
      "userId": "14051148522636395588"
     },
     "user_tz": -330
    },
    "id": "7DvLCuEN5fbF",
    "outputId": "f037433a-ce4a-4e1b-838a-05acc156908e"
   },
   "outputs": [
    {
     "data": {
      "text/plain": [
       "'Gable'"
      ]
     },
     "execution_count": 104,
     "metadata": {},
     "output_type": "execute_result"
    }
   ],
   "source": [
    "# No mispelled or missing value.\n",
    "# Store the fillna value into dict()\n",
    "fillna_value['RoofStyle'] = train_df['RoofStyle'].mode()[0]\n",
    "fillna_value['RoofStyle']"
   ]
  },
  {
   "cell_type": "code",
   "execution_count": 105,
   "metadata": {
    "colab": {
     "base_uri": "https://localhost:8080/",
     "height": 34
    },
    "colab_type": "code",
    "executionInfo": {
     "elapsed": 10797,
     "status": "ok",
     "timestamp": 1599936756324,
     "user": {
      "displayName": "Sahil -",
      "photoUrl": "",
      "userId": "14051148522636395588"
     },
     "user_tz": -330
    },
    "id": "p081GZ7e53Wi",
    "outputId": "1412a11a-266a-4d11-8a7e-7853f10769a9"
   },
   "outputs": [
    {
     "data": {
      "text/plain": [
       "False"
      ]
     },
     "execution_count": 105,
     "metadata": {},
     "output_type": "execute_result"
    }
   ],
   "source": [
    "# Check if missing value in test data?\n",
    "test_df['RoofStyle'].isna().any()"
   ]
  },
  {
   "cell_type": "markdown",
   "metadata": {
    "colab_type": "text",
    "id": "upPz8IjX6GGZ"
   },
   "source": [
    "## Exterior1st"
   ]
  },
  {
   "cell_type": "code",
   "execution_count": 106,
   "metadata": {
    "colab": {
     "base_uri": "https://localhost:8080/",
     "height": 106
    },
    "colab_type": "code",
    "executionInfo": {
     "elapsed": 10774,
     "status": "ok",
     "timestamp": 1599936756324,
     "user": {
      "displayName": "Sahil -",
      "photoUrl": "",
      "userId": "14051148522636395588"
     },
     "user_tz": -330
    },
    "id": "cgDsuWiU6AkX",
    "outputId": "b66ae6b5-5819-49aa-bfb1-fa394bfc5786"
   },
   "outputs": [
    {
     "name": "stdout",
     "output_type": "stream",
     "text": [
      "Value provide by data description:\n",
      " ['AsbShng', 'AsphShn', 'BrkComm', 'BrkFace', 'CBlock', 'CemntBd', 'HdBoard', 'ImStucc', 'MetalSd', 'Other', 'Plywood', 'PreCast', 'Stone', 'Stucco', 'VinylSd', 'Wd Sdng', 'WdShing']\n",
      "Value from train column:\n",
      " ['AsbShng', 'AsphShn', 'BrkComm', 'BrkFace', 'CBlock', 'CemntBd', 'HdBoard', 'ImStucc', 'MetalSd', 'Plywood', 'Stone', 'Stucco', 'VinylSd', 'Wd Sdng', 'WdShing']\n"
     ]
    }
   ],
   "source": [
    "# It's categorical feature\n",
    "printing_values_for_column(category_column,train_df,'Exterior1st')"
   ]
  },
  {
   "cell_type": "code",
   "execution_count": 107,
   "metadata": {
    "colab": {
     "base_uri": "https://localhost:8080/",
     "height": 34
    },
    "colab_type": "code",
    "executionInfo": {
     "elapsed": 10751,
     "status": "ok",
     "timestamp": 1599936756324,
     "user": {
      "displayName": "Sahil -",
      "photoUrl": "",
      "userId": "14051148522636395588"
     },
     "user_tz": -330
    },
    "id": "SAdUUPt86UyG",
    "outputId": "0e1b0613-390e-4e50-f29b-40c975c89154"
   },
   "outputs": [
    {
     "data": {
      "text/plain": [
       "'VinylSd'"
      ]
     },
     "execution_count": 107,
     "metadata": {},
     "output_type": "execute_result"
    }
   ],
   "source": [
    "# No mispelled and missing value\n",
    "fillna_value['Exterior1st'] = train_df['Exterior1st'].mode()[0]\n",
    "fillna_value['Exterior1st']"
   ]
  },
  {
   "cell_type": "code",
   "execution_count": 108,
   "metadata": {
    "colab": {
     "base_uri": "https://localhost:8080/",
     "height": 34
    },
    "colab_type": "code",
    "executionInfo": {
     "elapsed": 10728,
     "status": "ok",
     "timestamp": 1599936756325,
     "user": {
      "displayName": "Sahil -",
      "photoUrl": "",
      "userId": "14051148522636395588"
     },
     "user_tz": -330
    },
    "id": "RumMaPO27XuZ",
    "outputId": "3fb525c3-b2ff-4977-d165-1e1f2249d969"
   },
   "outputs": [
    {
     "data": {
      "text/plain": [
       "True"
      ]
     },
     "execution_count": 108,
     "metadata": {},
     "output_type": "execute_result"
    }
   ],
   "source": [
    "# Check if any missing value in test data?\n",
    "test_df['Exterior1st'].isna().any()"
   ]
  },
  {
   "cell_type": "code",
   "execution_count": 109,
   "metadata": {
    "colab": {},
    "colab_type": "code",
    "executionInfo": {
     "elapsed": 10726,
     "status": "ok",
     "timestamp": 1599936756325,
     "user": {
      "displayName": "Sahil -",
      "photoUrl": "",
      "userId": "14051148522636395588"
     },
     "user_tz": -330
    },
    "id": "B7fTLNcy7fTi"
   },
   "outputs": [],
   "source": [
    "# There it is. fill it with fillna value\n",
    "test_df['Exterior1st'].replace(to_replace=np.nan,value=fillna_value['Exterior1st'], inplace=True)"
   ]
  },
  {
   "cell_type": "code",
   "execution_count": 110,
   "metadata": {
    "colab": {
     "base_uri": "https://localhost:8080/",
     "height": 34
    },
    "colab_type": "code",
    "executionInfo": {
     "elapsed": 10703,
     "status": "ok",
     "timestamp": 1599936756326,
     "user": {
      "displayName": "Sahil -",
      "photoUrl": "",
      "userId": "14051148522636395588"
     },
     "user_tz": -330
    },
    "id": "0MkPSO5L7t-6",
    "outputId": "e2de91b6-6c84-4e67-9cfa-13e713fae136"
   },
   "outputs": [
    {
     "data": {
      "text/plain": [
       "False"
      ]
     },
     "execution_count": 110,
     "metadata": {},
     "output_type": "execute_result"
    }
   ],
   "source": [
    "# Check again if any missing value in test data?\n",
    "test_df['Exterior1st'].isna().any()"
   ]
  },
  {
   "cell_type": "code",
   "execution_count": 111,
   "metadata": {
    "colab": {
     "base_uri": "https://localhost:8080/",
     "height": 106
    },
    "colab_type": "code",
    "executionInfo": {
     "elapsed": 10680,
     "status": "ok",
     "timestamp": 1599936756326,
     "user": {
      "displayName": "Sahil -",
      "photoUrl": "",
      "userId": "14051148522636395588"
     },
     "user_tz": -330
    },
    "id": "aDRevuF89RNO",
    "outputId": "e6f53b04-9eef-419b-c8ab-b7a8e25a1a37"
   },
   "outputs": [
    {
     "name": "stdout",
     "output_type": "stream",
     "text": [
      "Value provide by data description:\n",
      " ['AsbShng', 'AsphShn', 'BrkComm', 'BrkFace', 'CBlock', 'CemntBd', 'HdBoard', 'ImStucc', 'MetalSd', 'Other', 'Plywood', 'PreCast', 'Stone', 'Stucco', 'VinylSd', 'Wd Sdng', 'WdShing']\n",
      "Value from train column:\n",
      " ['AsbShng', 'AsphShn', 'BrkComm', 'BrkFace', 'CBlock', 'CemntBd', 'HdBoard', 'MetalSd', 'Plywood', 'Stucco', 'VinylSd', 'Wd Sdng', 'WdShing']\n"
     ]
    }
   ],
   "source": [
    "# Check if any mispelled in test data\n",
    "printing_values_for_column(category_column,test_df,'Exterior1st')"
   ]
  },
  {
   "cell_type": "markdown",
   "metadata": {
    "colab_type": "text",
    "id": "irgVh5lX72M2"
   },
   "source": [
    "## Exterior2nd"
   ]
  },
  {
   "cell_type": "code",
   "execution_count": 112,
   "metadata": {
    "colab": {
     "base_uri": "https://localhost:8080/",
     "height": 106
    },
    "colab_type": "code",
    "executionInfo": {
     "elapsed": 11729,
     "status": "ok",
     "timestamp": 1599936757399,
     "user": {
      "displayName": "Sahil -",
      "photoUrl": "",
      "userId": "14051148522636395588"
     },
     "user_tz": -330
    },
    "id": "nsQqC6z470VS",
    "outputId": "58fdad8e-2455-4703-a839-11e86d5057e7"
   },
   "outputs": [
    {
     "name": "stdout",
     "output_type": "stream",
     "text": [
      "Value provide by data description:\n",
      " ['AsbShng', 'AsphShn', 'BrkComm', 'BrkFace', 'CBlock', 'CemntBd', 'HdBoard', 'ImStucc', 'MetalSd', 'Other', 'Plywood', 'PreCast', 'Stone', 'Stucco', 'VinylSd', 'Wd Sdng', 'WdShing']\n",
      "Value from train column:\n",
      " ['AsbShng', 'AsphShn', 'Brk Cmn', 'BrkFace', 'CBlock', 'CmentBd', 'HdBoard', 'ImStucc', 'MetalSd', 'Other', 'Plywood', 'Stone', 'Stucco', 'VinylSd', 'Wd Sdng', 'Wd Shng']\n"
     ]
    }
   ],
   "source": [
    "# It's categorical feature\n",
    "printing_values_for_column(category_column,train_df,'Exterior2nd')"
   ]
  },
  {
   "cell_type": "code",
   "execution_count": 113,
   "metadata": {
    "colab": {},
    "colab_type": "code",
    "executionInfo": {
     "elapsed": 11728,
     "status": "ok",
     "timestamp": 1599936757400,
     "user": {
      "displayName": "Sahil -",
      "photoUrl": "",
      "userId": "14051148522636395588"
     },
     "user_tz": -330
    },
    "id": "RYfV-oJU9Gg3"
   },
   "outputs": [],
   "source": [
    "# Found two mispelled and no missing value.\n",
    "train_df['Exterior2nd'].replace({'Brk Cmn':'BrkComm',\n",
    "                                 'Wd Shng':'WdShing'}, inplace=True)"
   ]
  },
  {
   "cell_type": "code",
   "execution_count": 114,
   "metadata": {
    "colab": {
     "base_uri": "https://localhost:8080/",
     "height": 34
    },
    "colab_type": "code",
    "executionInfo": {
     "elapsed": 11704,
     "status": "ok",
     "timestamp": 1599936757400,
     "user": {
      "displayName": "Sahil -",
      "photoUrl": "",
      "userId": "14051148522636395588"
     },
     "user_tz": -330
    },
    "id": "Lt5jJQA8A2l5",
    "outputId": "cf69810f-1f4c-4387-d88b-bbd2953c4ded"
   },
   "outputs": [
    {
     "data": {
      "text/plain": [
       "'VinylSd'"
      ]
     },
     "execution_count": 114,
     "metadata": {},
     "output_type": "execute_result"
    }
   ],
   "source": [
    "# Store fillna value into dict()\n",
    "fillna_value['Exterior2nd'] = train_df['Exterior2nd'].mode()[0]\n",
    "fillna_value['Exterior2nd']"
   ]
  },
  {
   "cell_type": "code",
   "execution_count": 115,
   "metadata": {
    "colab": {
     "base_uri": "https://localhost:8080/",
     "height": 34
    },
    "colab_type": "code",
    "executionInfo": {
     "elapsed": 11681,
     "status": "ok",
     "timestamp": 1599936757401,
     "user": {
      "displayName": "Sahil -",
      "photoUrl": "",
      "userId": "14051148522636395588"
     },
     "user_tz": -330
    },
    "id": "gvqqK4HdBMMH",
    "outputId": "eb18417c-cb52-4d63-d136-1d20ce1ba11e"
   },
   "outputs": [
    {
     "data": {
      "text/plain": [
       "True"
      ]
     },
     "execution_count": 115,
     "metadata": {},
     "output_type": "execute_result"
    }
   ],
   "source": [
    "# Check if any missing value in test data\n",
    "test_df['Exterior2nd'].isna().any()"
   ]
  },
  {
   "cell_type": "code",
   "execution_count": 116,
   "metadata": {
    "colab": {},
    "colab_type": "code",
    "executionInfo": {
     "elapsed": 11679,
     "status": "ok",
     "timestamp": 1599936757401,
     "user": {
      "displayName": "Sahil -",
      "photoUrl": "",
      "userId": "14051148522636395588"
     },
     "user_tz": -330
    },
    "id": "xlT6afSoBSsd"
   },
   "outputs": [],
   "source": [
    "# There it is. Replace with fillna value\n",
    "test_df['Exterior2nd'].replace(to_replace=np.nan,value=fillna_value['Exterior2nd'], inplace=True)"
   ]
  },
  {
   "cell_type": "code",
   "execution_count": 117,
   "metadata": {
    "colab": {
     "base_uri": "https://localhost:8080/",
     "height": 34
    },
    "colab_type": "code",
    "executionInfo": {
     "elapsed": 11656,
     "status": "ok",
     "timestamp": 1599936757402,
     "user": {
      "displayName": "Sahil -",
      "photoUrl": "",
      "userId": "14051148522636395588"
     },
     "user_tz": -330
    },
    "id": "aZ3-sGoaBlmp",
    "outputId": "a0d51254-20bb-4905-a426-6246d4e02002"
   },
   "outputs": [
    {
     "data": {
      "text/plain": [
       "False"
      ]
     },
     "execution_count": 117,
     "metadata": {},
     "output_type": "execute_result"
    }
   ],
   "source": [
    "# Check again if any missing value in test data\n",
    "test_df['Exterior2nd'].isna().any()"
   ]
  },
  {
   "cell_type": "code",
   "execution_count": 118,
   "metadata": {
    "colab": {
     "base_uri": "https://localhost:8080/",
     "height": 106
    },
    "colab_type": "code",
    "executionInfo": {
     "elapsed": 11633,
     "status": "ok",
     "timestamp": 1599936757402,
     "user": {
      "displayName": "Sahil -",
      "photoUrl": "",
      "userId": "14051148522636395588"
     },
     "user_tz": -330
    },
    "id": "0gtHl2ZwBvHF",
    "outputId": "7c2247a2-8647-404e-e760-cda0079ba792"
   },
   "outputs": [
    {
     "name": "stdout",
     "output_type": "stream",
     "text": [
      "Value provide by data description:\n",
      " ['AsbShng', 'AsphShn', 'BrkComm', 'BrkFace', 'CBlock', 'CemntBd', 'HdBoard', 'ImStucc', 'MetalSd', 'Other', 'Plywood', 'PreCast', 'Stone', 'Stucco', 'VinylSd', 'Wd Sdng', 'WdShing']\n",
      "Value from train column:\n",
      " ['AsbShng', 'AsphShn', 'Brk Cmn', 'BrkFace', 'CBlock', 'CmentBd', 'HdBoard', 'ImStucc', 'MetalSd', 'Plywood', 'Stone', 'Stucco', 'VinylSd', 'Wd Sdng', 'Wd Shng']\n"
     ]
    }
   ],
   "source": [
    "# Check if any mispelled in test data as we found in train data\n",
    "printing_values_for_column(category_column,test_df,'Exterior2nd')"
   ]
  },
  {
   "cell_type": "code",
   "execution_count": 119,
   "metadata": {
    "colab": {},
    "colab_type": "code",
    "executionInfo": {
     "elapsed": 11631,
     "status": "ok",
     "timestamp": 1599936757402,
     "user": {
      "displayName": "Sahil -",
      "photoUrl": "",
      "userId": "14051148522636395588"
     },
     "user_tz": -330
    },
    "id": "eKuvcSKGB5Ab"
   },
   "outputs": [],
   "source": [
    "# 2 mispelled found. Replace it\n",
    "test_df['Exterior2nd'].replace({'Brk Cmn':'BrkComm',\n",
    "                                 'Wd Shng':'WdShing'}, inplace=True)"
   ]
  },
  {
   "cell_type": "markdown",
   "metadata": {
    "colab_type": "text",
    "id": "7g-RbjFkCRH8"
   },
   "source": [
    "## MasVnrType"
   ]
  },
  {
   "cell_type": "code",
   "execution_count": 120,
   "metadata": {
    "colab": {
     "base_uri": "https://localhost:8080/",
     "height": 34
    },
    "colab_type": "code",
    "executionInfo": {
     "elapsed": 11608,
     "status": "ok",
     "timestamp": 1599936757403,
     "user": {
      "displayName": "Sahil -",
      "photoUrl": "",
      "userId": "14051148522636395588"
     },
     "user_tz": -330
    },
    "id": "_4AOByY9CO20",
    "outputId": "85f2619a-8fd2-4884-8f9a-84477a6453fd"
   },
   "outputs": [
    {
     "name": "stdout",
     "output_type": "stream",
     "text": [
      "There is missing value\n"
     ]
    }
   ],
   "source": [
    "# It's categorical feature\n",
    "printing_values_for_column(category_column,train_df,'MasVnrType')"
   ]
  },
  {
   "cell_type": "code",
   "execution_count": 121,
   "metadata": {
    "colab": {},
    "colab_type": "code",
    "executionInfo": {
     "elapsed": 11606,
     "status": "ok",
     "timestamp": 1599936757403,
     "user": {
      "displayName": "Sahil -",
      "photoUrl": "",
      "userId": "14051148522636395588"
     },
     "user_tz": -330
    },
    "id": "Zq90ejbPCa0T"
   },
   "outputs": [],
   "source": [
    "# Also mentioned in data_description.txt that missing value or na means None.\n",
    "# so we will replace with 'None' value.\n",
    "# Remember! Add None as a string (not keyword)\n",
    "train_df['MasVnrType'].fillna('None', inplace=True)"
   ]
  },
  {
   "cell_type": "code",
   "execution_count": 122,
   "metadata": {
    "colab": {
     "base_uri": "https://localhost:8080/",
     "height": 86
    },
    "colab_type": "code",
    "executionInfo": {
     "elapsed": 11583,
     "status": "ok",
     "timestamp": 1599936757404,
     "user": {
      "displayName": "Sahil -",
      "photoUrl": "",
      "userId": "14051148522636395588"
     },
     "user_tz": -330
    },
    "id": "fGq4CamxCtvt",
    "outputId": "ae43fe83-ed84-46d8-e448-96ddca2ccacb"
   },
   "outputs": [
    {
     "name": "stdout",
     "output_type": "stream",
     "text": [
      "Value provide by data description:\n",
      " ['BrkCmn', 'BrkFace', 'CBlock', 'None', 'Stone']\n",
      "Value from train column:\n",
      " ['BrkCmn', 'BrkFace', 'None', 'Stone']\n"
     ]
    }
   ],
   "source": [
    "# Let check if any mispelled\n",
    "printing_values_for_column(category_column,train_df,'MasVnrType')"
   ]
  },
  {
   "cell_type": "code",
   "execution_count": 123,
   "metadata": {
    "colab": {
     "base_uri": "https://localhost:8080/",
     "height": 34
    },
    "colab_type": "code",
    "executionInfo": {
     "elapsed": 11559,
     "status": "ok",
     "timestamp": 1599936757404,
     "user": {
      "displayName": "Sahil -",
      "photoUrl": "",
      "userId": "14051148522636395588"
     },
     "user_tz": -330
    },
    "id": "0IsrQqBnDqgX",
    "outputId": "d1e9a6d9-58d2-4239-a34b-140e5d009a51"
   },
   "outputs": [
    {
     "data": {
      "text/plain": [
       "'None'"
      ]
     },
     "execution_count": 123,
     "metadata": {},
     "output_type": "execute_result"
    }
   ],
   "source": [
    "# No mispelled.\n",
    "# Store the illna value into dict()\n",
    "fillna_value['MasVnrType'] = train_df['MasVnrType'].mode()[0]\n",
    "fillna_value['MasVnrType']"
   ]
  },
  {
   "cell_type": "code",
   "execution_count": 124,
   "metadata": {
    "colab": {
     "base_uri": "https://localhost:8080/",
     "height": 34
    },
    "colab_type": "code",
    "executionInfo": {
     "elapsed": 11536,
     "status": "ok",
     "timestamp": 1599936757404,
     "user": {
      "displayName": "Sahil -",
      "photoUrl": "",
      "userId": "14051148522636395588"
     },
     "user_tz": -330
    },
    "id": "vq64dDkvD74f",
    "outputId": "42a67873-b4ba-4a59-980a-ed6fde5635be"
   },
   "outputs": [
    {
     "data": {
      "text/plain": [
       "True"
      ]
     },
     "execution_count": 124,
     "metadata": {},
     "output_type": "execute_result"
    }
   ],
   "source": [
    "# Check if any missing value in test data?\n",
    "test_df['MasVnrType'].isna().any()"
   ]
  },
  {
   "cell_type": "code",
   "execution_count": 125,
   "metadata": {
    "colab": {},
    "colab_type": "code",
    "executionInfo": {
     "elapsed": 11535,
     "status": "ok",
     "timestamp": 1599936757405,
     "user": {
      "displayName": "Sahil -",
      "photoUrl": "",
      "userId": "14051148522636395588"
     },
     "user_tz": -330
    },
    "id": "jKq_IUpeECqJ"
   },
   "outputs": [],
   "source": [
    "# Yes, it is. Replace it with fillna value\n",
    "test_df['MasVnrType'].fillna(fillna_value['MasVnrType'],inplace=True)"
   ]
  },
  {
   "cell_type": "code",
   "execution_count": 126,
   "metadata": {
    "colab": {
     "base_uri": "https://localhost:8080/",
     "height": 34
    },
    "colab_type": "code",
    "executionInfo": {
     "elapsed": 11511,
     "status": "ok",
     "timestamp": 1599936757405,
     "user": {
      "displayName": "Sahil -",
      "photoUrl": "",
      "userId": "14051148522636395588"
     },
     "user_tz": -330
    },
    "id": "s8mc6s9kEP-s",
    "outputId": "02778a2e-ca96-43f3-fc0c-b14072d72543"
   },
   "outputs": [
    {
     "data": {
      "text/plain": [
       "False"
      ]
     },
     "execution_count": 126,
     "metadata": {},
     "output_type": "execute_result"
    }
   ],
   "source": [
    "# Check again if any missing value in test data?\n",
    "test_df['MasVnrType'].isna().any()"
   ]
  },
  {
   "cell_type": "markdown",
   "metadata": {
    "colab_type": "text",
    "id": "hBt9AaKjEYBP"
   },
   "source": [
    "## MasVnrArea"
   ]
  },
  {
   "cell_type": "code",
   "execution_count": 127,
   "metadata": {
    "colab": {
     "base_uri": "https://localhost:8080/",
     "height": 34
    },
    "colab_type": "code",
    "executionInfo": {
     "elapsed": 11488,
     "status": "ok",
     "timestamp": 1599936757406,
     "user": {
      "displayName": "Sahil -",
      "photoUrl": "",
      "userId": "14051148522636395588"
     },
     "user_tz": -330
    },
    "id": "jVBVBt7ZEWI1",
    "outputId": "7b12ab3c-300f-4d31-aefe-317b22e4ffd0"
   },
   "outputs": [
    {
     "data": {
      "text/plain": [
       "True"
      ]
     },
     "execution_count": 127,
     "metadata": {},
     "output_type": "execute_result"
    }
   ],
   "source": [
    "# It's numerical feature\n",
    "train_df['MasVnrArea'].isna().any()"
   ]
  },
  {
   "cell_type": "code",
   "execution_count": 128,
   "metadata": {
    "colab": {
     "base_uri": "https://localhost:8080/",
     "height": 34
    },
    "colab_type": "code",
    "executionInfo": {
     "elapsed": 11464,
     "status": "ok",
     "timestamp": 1599936757406,
     "user": {
      "displayName": "Sahil -",
      "photoUrl": "",
      "userId": "14051148522636395588"
     },
     "user_tz": -330
    },
    "id": "7KOgqfG4qVdj",
    "outputId": "a4abeb90-6f4d-4436-8d97-9bf8a7878dec"
   },
   "outputs": [
    {
     "name": "stdout",
     "output_type": "stream",
     "text": [
      "0.5524861878453038 %\n"
     ]
    }
   ],
   "source": [
    "# What fraction of missing value is\n",
    "print(((train_df['MasVnrArea'].isna().sum()/train_df.shape[0])*100),'%')"
   ]
  },
  {
   "cell_type": "code",
   "execution_count": 129,
   "metadata": {
    "colab": {
     "base_uri": "https://localhost:8080/",
     "height": 265
    },
    "colab_type": "code",
    "executionInfo": {
     "elapsed": 11442,
     "status": "ok",
     "timestamp": 1599936757407,
     "user": {
      "displayName": "Sahil -",
      "photoUrl": "",
      "userId": "14051148522636395588"
     },
     "user_tz": -330
    },
    "id": "s-FLz9eOEoD-",
    "outputId": "a225adca-5ca7-4c39-9ba1-961affa191f6"
   },
   "outputs": [
    {
     "data": {
      "image/png": "[encoded data removed]",
      "text/plain": [
       "<Figure size 432x288 with 1 Axes>"
      ]
     },
     "metadata": {
      "needs_background": "light"
     },
     "output_type": "display_data"
    }
   ],
   "source": [
    "# Let see how numerical are distributed\n",
    "plt.plot(train_df['MasVnrArea'])\n",
    "plt.show()"
   ]
  },
  {
   "cell_type": "markdown",
   "metadata": {
    "colab_type": "text",
    "id": "ONmMt8QxsJ0k"
   },
   "source": [
    "<u>Observation</u>: Let take 1200 as maximum value because thera are few data points having above 1200 value "
   ]
  },
  {
   "cell_type": "code",
   "execution_count": 130,
   "metadata": {
    "colab": {
     "base_uri": "https://localhost:8080/",
     "height": 34
    },
    "colab_type": "code",
    "executionInfo": {
     "elapsed": 11418,
     "status": "ok",
     "timestamp": 1599936757407,
     "user": {
      "displayName": "Sahil -",
      "photoUrl": "",
      "userId": "14051148522636395588"
     },
     "user_tz": -330
    },
    "id": "94rh2XDpqKiV",
    "outputId": "a2b74dff-1143-4f25-e6ed-a2f39a4e930d"
   },
   "outputs": [
    {
     "name": "stdout",
     "output_type": "stream",
     "text": [
      "Number of sample will be remaining: 1446 (99.86187845303867 %)\n"
     ]
    }
   ],
   "source": [
    "# Count the number of sample will be present if we remove those sample which\n",
    "# have greater than 1200\n",
    "count = 0\n",
    "store_value = []\n",
    "for i in train_df['MasVnrArea']:\n",
    "    if np.isnan(i):\n",
    "        count += 1\n",
    "    elif i <= 1200:\n",
    "        count += 1\n",
    "        store_value.append(i)\n",
    "    else:\n",
    "        continue\n",
    "\n",
    "total_frac = (count/train_df.shape[0])*100\n",
    "print('Number of sample will be remaining:',count,'({} %)'.format(total_frac))"
   ]
  },
  {
   "cell_type": "code",
   "execution_count": 131,
   "metadata": {
    "colab": {
     "base_uri": "https://localhost:8080/",
     "height": 34
    },
    "colab_type": "code",
    "executionInfo": {
     "elapsed": 11394,
     "status": "ok",
     "timestamp": 1599936757407,
     "user": {
      "displayName": "Sahil -",
      "photoUrl": "",
      "userId": "14051148522636395588"
     },
     "user_tz": -330
    },
    "id": "Ub_JCJXpsy4n",
    "outputId": "b7e0fe7a-1e28-460f-9248-56c3aea0c760"
   },
   "outputs": [
    {
     "data": {
      "text/plain": [
       "101.07858136300418"
      ]
     },
     "execution_count": 131,
     "metadata": {},
     "output_type": "execute_result"
    }
   ],
   "source": [
    "# Store the fillna value into dict()\n",
    "fillna_value['MasVnrArea'] = np.mean(store_value)\n",
    "fillna_value['MasVnrArea']"
   ]
  },
  {
   "cell_type": "code",
   "execution_count": 132,
   "metadata": {
    "colab": {
     "base_uri": "https://localhost:8080/",
     "height": 34
    },
    "colab_type": "code",
    "executionInfo": {
     "elapsed": 11371,
     "status": "ok",
     "timestamp": 1599936757408,
     "user": {
      "displayName": "Sahil -",
      "photoUrl": "",
      "userId": "14051148522636395588"
     },
     "user_tz": -330
    },
    "id": "jl1r5t0htvmK",
    "outputId": "31a11eec-29d5-4308-d972-2799a5b31f20"
   },
   "outputs": [
    {
     "name": "stdout",
     "output_type": "stream",
     "text": [
      "False\n"
     ]
    }
   ],
   "source": [
    "# Replace nan with mean value\n",
    "train_df['MasVnrArea'].fillna(fillna_value['MasVnrArea'], inplace=True)\n",
    "# Check it again if any missing value left?\n",
    "print(train_df['MasVnrArea'].isna().any())"
   ]
  },
  {
   "cell_type": "code",
   "execution_count": 133,
   "metadata": {
    "colab": {
     "base_uri": "https://localhost:8080/",
     "height": 34
    },
    "colab_type": "code",
    "executionInfo": {
     "elapsed": 11348,
     "status": "ok",
     "timestamp": 1599936757408,
     "user": {
      "displayName": "Sahil -",
      "photoUrl": "",
      "userId": "14051148522636395588"
     },
     "user_tz": -330
    },
    "id": "UanBKtFgt5o0",
    "outputId": "b3c501d9-3982-4928-f532-a4dacd72c261"
   },
   "outputs": [
    {
     "data": {
      "text/plain": [
       "(1446, 80)"
      ]
     },
     "execution_count": 133,
     "metadata": {},
     "output_type": "execute_result"
    }
   ],
   "source": [
    "# Remove that are greater than 1200\n",
    "train_df = train_df[train_df['MasVnrArea'] <= 1200]\n",
    "train_df.shape # Check the number of samples"
   ]
  },
  {
   "cell_type": "code",
   "execution_count": 134,
   "metadata": {
    "colab": {
     "base_uri": "https://localhost:8080/",
     "height": 34
    },
    "colab_type": "code",
    "executionInfo": {
     "elapsed": 11325,
     "status": "ok",
     "timestamp": 1599936757409,
     "user": {
      "displayName": "Sahil -",
      "photoUrl": "",
      "userId": "14051148522636395588"
     },
     "user_tz": -330
    },
    "id": "2_sBDgahuMuE",
    "outputId": "de11d451-99a2-4712-c708-e50bff08898a"
   },
   "outputs": [
    {
     "name": "stdout",
     "output_type": "stream",
     "text": [
      "True\n"
     ]
    }
   ],
   "source": [
    "# Check missing value in test data\n",
    "print(test_df['MasVnrArea'].isna().any())"
   ]
  },
  {
   "cell_type": "code",
   "execution_count": 135,
   "metadata": {
    "colab": {},
    "colab_type": "code",
    "executionInfo": {
     "elapsed": 11323,
     "status": "ok",
     "timestamp": 1599936757409,
     "user": {
      "displayName": "Sahil -",
      "photoUrl": "",
      "userId": "14051148522636395588"
     },
     "user_tz": -330
    },
    "id": "ukYZBq5fuWqo"
   },
   "outputs": [],
   "source": [
    "# Yes! TO replace it with fillna value\n",
    "test_df['MasVnrArea'].fillna(fillna_value['MasVnrArea'], inplace=True)"
   ]
  },
  {
   "cell_type": "code",
   "execution_count": 136,
   "metadata": {
    "colab": {
     "base_uri": "https://localhost:8080/",
     "height": 34
    },
    "colab_type": "code",
    "executionInfo": {
     "elapsed": 11300,
     "status": "ok",
     "timestamp": 1599936757410,
     "user": {
      "displayName": "Sahil -",
      "photoUrl": "",
      "userId": "14051148522636395588"
     },
     "user_tz": -330
    },
    "id": "zgNedIRFucU0",
    "outputId": "bdde5562-fb95-4f5e-a4aa-63c9ec4307bf"
   },
   "outputs": [
    {
     "name": "stdout",
     "output_type": "stream",
     "text": [
      "False\n"
     ]
    }
   ],
   "source": [
    "# Check it again any missing value in test data?\n",
    "print(test_df['MasVnrArea'].isna().any())"
   ]
  },
  {
   "cell_type": "markdown",
   "metadata": {
    "colab_type": "text",
    "id": "k9pOL3a_umLX"
   },
   "source": [
    "## ExterQual"
   ]
  },
  {
   "cell_type": "code",
   "execution_count": 137,
   "metadata": {
    "colab": {
     "base_uri": "https://localhost:8080/",
     "height": 86
    },
    "colab_type": "code",
    "executionInfo": {
     "elapsed": 11277,
     "status": "ok",
     "timestamp": 1599936757410,
     "user": {
      "displayName": "Sahil -",
      "photoUrl": "",
      "userId": "14051148522636395588"
     },
     "user_tz": -330
    },
    "id": "gSEhU0YzuiIt",
    "outputId": "2a51bfdf-6896-45df-ceca-7d77b85aa825"
   },
   "outputs": [
    {
     "name": "stdout",
     "output_type": "stream",
     "text": [
      "Value provide by data description:\n",
      " ['Ex', 'Fa', 'Gd', 'Po', 'TA']\n",
      "Value from train column:\n",
      " ['Ex', 'Fa', 'Gd', 'TA']\n"
     ]
    }
   ],
   "source": [
    "# It's categorical feature\n",
    "printing_values_for_column(category_column,train_df,'ExterQual')"
   ]
  },
  {
   "cell_type": "code",
   "execution_count": 138,
   "metadata": {
    "colab": {
     "base_uri": "https://localhost:8080/",
     "height": 34
    },
    "colab_type": "code",
    "executionInfo": {
     "elapsed": 11255,
     "status": "ok",
     "timestamp": 1599936757411,
     "user": {
      "displayName": "Sahil -",
      "photoUrl": "",
      "userId": "14051148522636395588"
     },
     "user_tz": -330
    },
    "id": "d_rf5RyYv3cD",
    "outputId": "78d99335-b561-4b41-fa9d-445505705d5b"
   },
   "outputs": [
    {
     "data": {
      "text/plain": [
       "'TA'"
      ]
     },
     "execution_count": 138,
     "metadata": {},
     "output_type": "execute_result"
    }
   ],
   "source": [
    "# No mispelled and missing value\n",
    "# Store the fillna value into dict()\n",
    "fillna_value['ExterQual'] = train_df['ExterQual'].mode()[0]\n",
    "fillna_value['ExterQual']"
   ]
  },
  {
   "cell_type": "code",
   "execution_count": 139,
   "metadata": {
    "colab": {
     "base_uri": "https://localhost:8080/",
     "height": 34
    },
    "colab_type": "code",
    "executionInfo": {
     "elapsed": 11230,
     "status": "ok",
     "timestamp": 1599936757411,
     "user": {
      "displayName": "Sahil -",
      "photoUrl": "",
      "userId": "14051148522636395588"
     },
     "user_tz": -330
    },
    "id": "U-zrRxgYwJUJ",
    "outputId": "cc1fbadd-af8f-4bc5-ebc7-0c10f09fadc9"
   },
   "outputs": [
    {
     "data": {
      "text/plain": [
       "False"
      ]
     },
     "execution_count": 139,
     "metadata": {},
     "output_type": "execute_result"
    }
   ],
   "source": [
    "# Check if any missing value in test data?\n",
    "test_df['ExterQual'].isna().any()"
   ]
  },
  {
   "cell_type": "markdown",
   "metadata": {
    "colab_type": "text",
    "id": "LZjvoTqVwU1Q"
   },
   "source": [
    "## ExterCond"
   ]
  },
  {
   "cell_type": "code",
   "execution_count": 140,
   "metadata": {
    "colab": {
     "base_uri": "https://localhost:8080/",
     "height": 86
    },
    "colab_type": "code",
    "executionInfo": {
     "elapsed": 11207,
     "status": "ok",
     "timestamp": 1599936757411,
     "user": {
      "displayName": "Sahil -",
      "photoUrl": "",
      "userId": "14051148522636395588"
     },
     "user_tz": -330
    },
    "id": "zdE7mYV6wKZD",
    "outputId": "94fb8b90-0631-40ca-fac3-8c9454549cf8"
   },
   "outputs": [
    {
     "name": "stdout",
     "output_type": "stream",
     "text": [
      "Value provide by data description:\n",
      " ['Ex', 'Fa', 'Gd', 'Po', 'TA']\n",
      "Value from train column:\n",
      " ['Ex', 'Fa', 'Gd', 'Po', 'TA']\n"
     ]
    }
   ],
   "source": [
    "# It's categorical feature\n",
    "printing_values_for_column(category_column,train_df,'ExterCond')"
   ]
  },
  {
   "cell_type": "code",
   "execution_count": 141,
   "metadata": {
    "colab": {
     "base_uri": "https://localhost:8080/",
     "height": 34
    },
    "colab_type": "code",
    "executionInfo": {
     "elapsed": 11184,
     "status": "ok",
     "timestamp": 1599936757412,
     "user": {
      "displayName": "Sahil -",
      "photoUrl": "",
      "userId": "14051148522636395588"
     },
     "user_tz": -330
    },
    "id": "QD2gqIBhwuXN",
    "outputId": "2a30d040-2879-4397-dc8a-3e79abf38b1a"
   },
   "outputs": [
    {
     "data": {
      "text/plain": [
       "'TA'"
      ]
     },
     "execution_count": 141,
     "metadata": {},
     "output_type": "execute_result"
    }
   ],
   "source": [
    "# No mispelled and missing value\n",
    "# Store fillna value into dict()\n",
    "fillna_value['ExterCond'] = train_df['ExterCond'].mode()[0]\n",
    "fillna_value['ExterCond']"
   ]
  },
  {
   "cell_type": "code",
   "execution_count": 142,
   "metadata": {
    "colab": {
     "base_uri": "https://localhost:8080/",
     "height": 34
    },
    "colab_type": "code",
    "executionInfo": {
     "elapsed": 11161,
     "status": "ok",
     "timestamp": 1599936757412,
     "user": {
      "displayName": "Sahil -",
      "photoUrl": "",
      "userId": "14051148522636395588"
     },
     "user_tz": -330
    },
    "id": "H3u5UFxPw___",
    "outputId": "59c9830c-a3f9-4228-bb14-698f6bf6f846"
   },
   "outputs": [
    {
     "data": {
      "text/plain": [
       "False"
      ]
     },
     "execution_count": 142,
     "metadata": {},
     "output_type": "execute_result"
    }
   ],
   "source": [
    "# Check if any missing value in test data?\n",
    "test_df['ExterCond'].isna().any()"
   ]
  },
  {
   "cell_type": "markdown",
   "metadata": {
    "colab_type": "text",
    "id": "BiyvZ1nJxImN"
   },
   "source": [
    "## Foundation"
   ]
  },
  {
   "cell_type": "code",
   "execution_count": 143,
   "metadata": {
    "colab": {
     "base_uri": "https://localhost:8080/",
     "height": 86
    },
    "colab_type": "code",
    "executionInfo": {
     "elapsed": 11138,
     "status": "ok",
     "timestamp": 1599936757413,
     "user": {
      "displayName": "Sahil -",
      "photoUrl": "",
      "userId": "14051148522636395588"
     },
     "user_tz": -330
    },
    "id": "yfMRQiZcxHwr",
    "outputId": "5c82329c-e98f-4fad-8415-196453ff19f4"
   },
   "outputs": [
    {
     "name": "stdout",
     "output_type": "stream",
     "text": [
      "Value provide by data description:\n",
      " ['BrkTil', 'CBlock', 'PConc', 'Slab', 'Stone', 'Wood']\n",
      "Value from train column:\n",
      " ['BrkTil', 'CBlock', 'PConc', 'Slab', 'Stone', 'Wood']\n"
     ]
    }
   ],
   "source": [
    "# It's categorical feature\n",
    "printing_values_for_column(category_column,train_df,'Foundation')"
   ]
  },
  {
   "cell_type": "code",
   "execution_count": 144,
   "metadata": {
    "colab": {
     "base_uri": "https://localhost:8080/",
     "height": 34
    },
    "colab_type": "code",
    "executionInfo": {
     "elapsed": 11114,
     "status": "ok",
     "timestamp": 1599936757413,
     "user": {
      "displayName": "Sahil -",
      "photoUrl": "",
      "userId": "14051148522636395588"
     },
     "user_tz": -330
    },
    "id": "NmoKg6xYxG3i",
    "outputId": "fecc71a7-ab6c-420f-d4bb-12ae28315eb5"
   },
   "outputs": [
    {
     "data": {
      "text/plain": [
       "'PConc'"
      ]
     },
     "execution_count": 144,
     "metadata": {},
     "output_type": "execute_result"
    }
   ],
   "source": [
    "# No mispelled and missing value\n",
    "# Store fillna value into dict()\n",
    "fillna_value['Foundation'] = train_df['Foundation'].mode()[0]\n",
    "fillna_value['Foundation']"
   ]
  },
  {
   "cell_type": "code",
   "execution_count": 145,
   "metadata": {
    "colab": {
     "base_uri": "https://localhost:8080/",
     "height": 34
    },
    "colab_type": "code",
    "executionInfo": {
     "elapsed": 11091,
     "status": "ok",
     "timestamp": 1599936757414,
     "user": {
      "displayName": "Sahil -",
      "photoUrl": "",
      "userId": "14051148522636395588"
     },
     "user_tz": -330
    },
    "id": "0UjLZaAoxln9",
    "outputId": "d48916c8-29fb-4859-c736-fcd4e18cd06d"
   },
   "outputs": [
    {
     "data": {
      "text/plain": [
       "False"
      ]
     },
     "execution_count": 145,
     "metadata": {},
     "output_type": "execute_result"
    }
   ],
   "source": [
    "# Check if any missing value in test data?\n",
    "test_df['Foundation'].isna().any()"
   ]
  },
  {
   "cell_type": "markdown",
   "metadata": {
    "colab_type": "text",
    "id": "2W2JboFixvJH"
   },
   "source": [
    "## BsmtQual"
   ]
  },
  {
   "cell_type": "code",
   "execution_count": 146,
   "metadata": {
    "colab": {
     "base_uri": "https://localhost:8080/",
     "height": 34
    },
    "colab_type": "code",
    "executionInfo": {
     "elapsed": 11067,
     "status": "ok",
     "timestamp": 1599936757414,
     "user": {
      "displayName": "Sahil -",
      "photoUrl": "",
      "userId": "14051148522636395588"
     },
     "user_tz": -330
    },
    "id": "9yF056G2xt_S",
    "outputId": "3610bf99-20ee-46bb-b9fe-4c49116b37e5"
   },
   "outputs": [
    {
     "name": "stdout",
     "output_type": "stream",
     "text": [
      "There is missing value\n"
     ]
    }
   ],
   "source": [
    "# It's categorical feature\n",
    "printing_values_for_column(category_column,train_df,'BsmtQual')"
   ]
  },
  {
   "cell_type": "code",
   "execution_count": 147,
   "metadata": {
    "colab": {},
    "colab_type": "code",
    "executionInfo": {
     "elapsed": 11065,
     "status": "ok",
     "timestamp": 1599936757414,
     "user": {
      "displayName": "Sahil -",
      "photoUrl": "",
      "userId": "14051148522636395588"
     },
     "user_tz": -330
    },
    "id": "lkQQLOQayHvr"
   },
   "outputs": [],
   "source": [
    "# There is missing value. However, in data description.txt \n",
    "# it described NA as No basement\n",
    "train_df['BsmtQual'].fillna('NA', inplace=True)"
   ]
  },
  {
   "cell_type": "code",
   "execution_count": 148,
   "metadata": {
    "colab": {
     "base_uri": "https://localhost:8080/",
     "height": 86
    },
    "colab_type": "code",
    "executionInfo": {
     "elapsed": 11042,
     "status": "ok",
     "timestamp": 1599936757415,
     "user": {
      "displayName": "Sahil -",
      "photoUrl": "",
      "userId": "14051148522636395588"
     },
     "user_tz": -330
    },
    "id": "5qWXocZ5yXq3",
    "outputId": "58eac375-f327-40fd-dbef-22ffc54222bb"
   },
   "outputs": [
    {
     "name": "stdout",
     "output_type": "stream",
     "text": [
      "Value provide by data description:\n",
      " ['Ex', 'Fa', 'Gd', 'NA', 'Po', 'TA']\n",
      "Value from train column:\n",
      " ['Ex', 'Fa', 'Gd', 'NA', 'TA']\n"
     ]
    }
   ],
   "source": [
    "printing_values_for_column(category_column,train_df,'BsmtQual')"
   ]
  },
  {
   "cell_type": "code",
   "execution_count": 149,
   "metadata": {
    "colab": {
     "base_uri": "https://localhost:8080/",
     "height": 34
    },
    "colab_type": "code",
    "executionInfo": {
     "elapsed": 11017,
     "status": "ok",
     "timestamp": 1599936757415,
     "user": {
      "displayName": "Sahil -",
      "photoUrl": "",
      "userId": "14051148522636395588"
     },
     "user_tz": -330
    },
    "id": "qqQDlhtey4zJ",
    "outputId": "edc390c9-1b3c-4528-de23-2d4584d649df"
   },
   "outputs": [
    {
     "data": {
      "text/plain": [
       "'TA'"
      ]
     },
     "execution_count": 149,
     "metadata": {},
     "output_type": "execute_result"
    }
   ],
   "source": [
    "# No mispelled\n",
    "# Store fillna value into dict()\n",
    "fillna_value['BsmtQual'] = train_df['BsmtQual'].mode()[0]\n",
    "fillna_value['BsmtQual']"
   ]
  },
  {
   "cell_type": "code",
   "execution_count": 150,
   "metadata": {
    "colab": {
     "base_uri": "https://localhost:8080/",
     "height": 34
    },
    "colab_type": "code",
    "executionInfo": {
     "elapsed": 10995,
     "status": "ok",
     "timestamp": 1599936757416,
     "user": {
      "displayName": "Sahil -",
      "photoUrl": "",
      "userId": "14051148522636395588"
     },
     "user_tz": -330
    },
    "id": "VdQQiRXPzXUs",
    "outputId": "45d36f35-aaca-44e2-b634-26d6963f29d4"
   },
   "outputs": [
    {
     "data": {
      "text/plain": [
       "True"
      ]
     },
     "execution_count": 150,
     "metadata": {},
     "output_type": "execute_result"
    }
   ],
   "source": [
    "# Check if any missing value in test data?\n",
    "test_df['BsmtQual'].isna().any()"
   ]
  },
  {
   "cell_type": "code",
   "execution_count": 151,
   "metadata": {
    "colab": {},
    "colab_type": "code",
    "executionInfo": {
     "elapsed": 10993,
     "status": "ok",
     "timestamp": 1599936757416,
     "user": {
      "displayName": "Sahil -",
      "photoUrl": "",
      "userId": "14051148522636395588"
     },
     "user_tz": -330
    },
    "id": "pftR8QTTzeG6"
   },
   "outputs": [],
   "source": [
    "# Replace nan with string 'NA'\n",
    "test_df['BsmtQual'].fillna('NA', inplace=True)"
   ]
  },
  {
   "cell_type": "code",
   "execution_count": 152,
   "metadata": {
    "colab": {
     "base_uri": "https://localhost:8080/",
     "height": 34
    },
    "colab_type": "code",
    "executionInfo": {
     "elapsed": 10970,
     "status": "ok",
     "timestamp": 1599936757417,
     "user": {
      "displayName": "Sahil -",
      "photoUrl": "",
      "userId": "14051148522636395588"
     },
     "user_tz": -330
    },
    "id": "euy2G5h3zmoE",
    "outputId": "b60c3c6d-5e9b-4737-9991-ee3fbfb25924"
   },
   "outputs": [
    {
     "data": {
      "text/plain": [
       "False"
      ]
     },
     "execution_count": 152,
     "metadata": {},
     "output_type": "execute_result"
    }
   ],
   "source": [
    "# Check again if any missing value in test data?\n",
    "test_df['BsmtQual'].isna().any()"
   ]
  },
  {
   "cell_type": "markdown",
   "metadata": {
    "colab_type": "text",
    "id": "mA2Ad36vzp5R"
   },
   "source": [
    "## BsmtCond"
   ]
  },
  {
   "cell_type": "code",
   "execution_count": 153,
   "metadata": {
    "colab": {
     "base_uri": "https://localhost:8080/",
     "height": 34
    },
    "colab_type": "code",
    "executionInfo": {
     "elapsed": 10947,
     "status": "ok",
     "timestamp": 1599936757417,
     "user": {
      "displayName": "Sahil -",
      "photoUrl": "",
      "userId": "14051148522636395588"
     },
     "user_tz": -330
    },
    "id": "UffFpepTzpI2",
    "outputId": "beea7ed8-c807-4f9b-94df-6eaf34c31e2f"
   },
   "outputs": [
    {
     "name": "stdout",
     "output_type": "stream",
     "text": [
      "There is missing value\n"
     ]
    }
   ],
   "source": [
    "# It's categorical feature\n",
    "printing_values_for_column(category_column,train_df,'BsmtCond')"
   ]
  },
  {
   "cell_type": "code",
   "execution_count": 154,
   "metadata": {
    "colab": {},
    "colab_type": "code",
    "executionInfo": {
     "elapsed": 10945,
     "status": "ok",
     "timestamp": 1599936757417,
     "user": {
      "displayName": "Sahil -",
      "photoUrl": "",
      "userId": "14051148522636395588"
     },
     "user_tz": -330
    },
    "id": "ZL8AOIJsz8ZW"
   },
   "outputs": [],
   "source": [
    "# There is missing values. However, in data description.txt\n",
    "# it described NA as No basement.\n",
    "train_df['BsmtCond'].fillna('NA', inplace=True)"
   ]
  },
  {
   "cell_type": "code",
   "execution_count": 155,
   "metadata": {
    "colab": {
     "base_uri": "https://localhost:8080/",
     "height": 86
    },
    "colab_type": "code",
    "executionInfo": {
     "elapsed": 10923,
     "status": "ok",
     "timestamp": 1599936757418,
     "user": {
      "displayName": "Sahil -",
      "photoUrl": "",
      "userId": "14051148522636395588"
     },
     "user_tz": -330
    },
    "id": "gNOhqnJ60T2I",
    "outputId": "dcc8b5f8-ba80-4f41-d76d-5963111dca93"
   },
   "outputs": [
    {
     "name": "stdout",
     "output_type": "stream",
     "text": [
      "Value provide by data description:\n",
      " ['Ex', 'Fa', 'Gd', 'NA', 'Po', 'TA']\n",
      "Value from train column:\n",
      " ['Fa', 'Gd', 'NA', 'Po', 'TA']\n"
     ]
    }
   ],
   "source": [
    "printing_values_for_column(category_column,train_df,'BsmtCond')"
   ]
  },
  {
   "cell_type": "code",
   "execution_count": 156,
   "metadata": {
    "colab": {
     "base_uri": "https://localhost:8080/",
     "height": 34
    },
    "colab_type": "code",
    "executionInfo": {
     "elapsed": 10899,
     "status": "ok",
     "timestamp": 1599936757418,
     "user": {
      "displayName": "Sahil -",
      "photoUrl": "",
      "userId": "14051148522636395588"
     },
     "user_tz": -330
    },
    "id": "cvrp40PJ0YFZ",
    "outputId": "657c9081-39a1-4432-edb2-93e32190bed7"
   },
   "outputs": [
    {
     "data": {
      "text/plain": [
       "'TA'"
      ]
     },
     "execution_count": 156,
     "metadata": {},
     "output_type": "execute_result"
    }
   ],
   "source": [
    "# No mispelled\n",
    "# Store fillna value into dict()\n",
    "fillna_value['BsmtCond'] = train_df['BsmtCond'].mode()[0]\n",
    "fillna_value['BsmtCond']"
   ]
  },
  {
   "cell_type": "code",
   "execution_count": 157,
   "metadata": {
    "colab": {
     "base_uri": "https://localhost:8080/",
     "height": 34
    },
    "colab_type": "code",
    "executionInfo": {
     "elapsed": 10876,
     "status": "ok",
     "timestamp": 1599936757419,
     "user": {
      "displayName": "Sahil -",
      "photoUrl": "",
      "userId": "14051148522636395588"
     },
     "user_tz": -330
    },
    "id": "mqwCnEKj0lht",
    "outputId": "ba78af8c-de72-4164-cbd5-ed6af3ca0440"
   },
   "outputs": [
    {
     "data": {
      "text/plain": [
       "True"
      ]
     },
     "execution_count": 157,
     "metadata": {},
     "output_type": "execute_result"
    }
   ],
   "source": [
    "# Check if any missing value in test data?\n",
    "test_df['BsmtCond'].isna().any()"
   ]
  },
  {
   "cell_type": "code",
   "execution_count": 158,
   "metadata": {
    "colab": {},
    "colab_type": "code",
    "executionInfo": {
     "elapsed": 10874,
     "status": "ok",
     "timestamp": 1599936757419,
     "user": {
      "displayName": "Sahil -",
      "photoUrl": "",
      "userId": "14051148522636395588"
     },
     "user_tz": -330
    },
    "id": "5q-t1KLf0qMc"
   },
   "outputs": [],
   "source": [
    "# Replace na with string 'NA'\n",
    "test_df['BsmtCond'].fillna('NA', inplace=True)"
   ]
  },
  {
   "cell_type": "code",
   "execution_count": 159,
   "metadata": {
    "colab": {
     "base_uri": "https://localhost:8080/",
     "height": 34
    },
    "colab_type": "code",
    "executionInfo": {
     "elapsed": 10852,
     "status": "ok",
     "timestamp": 1599936757420,
     "user": {
      "displayName": "Sahil -",
      "photoUrl": "",
      "userId": "14051148522636395588"
     },
     "user_tz": -330
    },
    "id": "rfnA3LGu0wSJ",
    "outputId": "06d40ea3-b34f-441f-b3a7-08bde1cd8647"
   },
   "outputs": [
    {
     "data": {
      "text/plain": [
       "False"
      ]
     },
     "execution_count": 159,
     "metadata": {},
     "output_type": "execute_result"
    }
   ],
   "source": [
    "# Check again if any missing value in test data?\n",
    "test_df['BsmtCond'].isna().any()"
   ]
  },
  {
   "cell_type": "markdown",
   "metadata": {
    "colab_type": "text",
    "id": "QgBXK9kD04yM"
   },
   "source": [
    "## BsmtExposure"
   ]
  },
  {
   "cell_type": "code",
   "execution_count": 160,
   "metadata": {
    "colab": {
     "base_uri": "https://localhost:8080/",
     "height": 34
    },
    "colab_type": "code",
    "executionInfo": {
     "elapsed": 10828,
     "status": "ok",
     "timestamp": 1599936757420,
     "user": {
      "displayName": "Sahil -",
      "photoUrl": "",
      "userId": "14051148522636395588"
     },
     "user_tz": -330
    },
    "id": "GJyuQOmY0zjD",
    "outputId": "9d71ffd9-28d3-4e6f-8aa4-6c6e329875cd"
   },
   "outputs": [
    {
     "name": "stdout",
     "output_type": "stream",
     "text": [
      "There is missing value\n"
     ]
    }
   ],
   "source": [
    "# It's categorical feature\n",
    "printing_values_for_column(category_column,train_df,'BsmtExposure')"
   ]
  },
  {
   "cell_type": "code",
   "execution_count": 161,
   "metadata": {
    "colab": {},
    "colab_type": "code",
    "executionInfo": {
     "elapsed": 10826,
     "status": "ok",
     "timestamp": 1599936757420,
     "user": {
      "displayName": "Sahil -",
      "photoUrl": "",
      "userId": "14051148522636395588"
     },
     "user_tz": -330
    },
    "id": "oKZI5iYb1fZ6"
   },
   "outputs": [],
   "source": [
    "# There is missing values. However, in data description.txt\n",
    "# It described NA as No Basement\n",
    "train_df['BsmtExposure'].fillna('NA', inplace=True)"
   ]
  },
  {
   "cell_type": "code",
   "execution_count": 162,
   "metadata": {
    "colab": {
     "base_uri": "https://localhost:8080/",
     "height": 86
    },
    "colab_type": "code",
    "executionInfo": {
     "elapsed": 10803,
     "status": "ok",
     "timestamp": 1599936757421,
     "user": {
      "displayName": "Sahil -",
      "photoUrl": "",
      "userId": "14051148522636395588"
     },
     "user_tz": -330
    },
    "id": "-_Bt2_yx1sbX",
    "outputId": "4e28a256-f339-4a04-88a3-0660972ddafb"
   },
   "outputs": [
    {
     "name": "stdout",
     "output_type": "stream",
     "text": [
      "Value provide by data description:\n",
      " ['Av', 'Gd', 'Mn', 'NA', 'No']\n",
      "Value from train column:\n",
      " ['Av', 'Gd', 'Mn', 'NA', 'No']\n"
     ]
    }
   ],
   "source": [
    "printing_values_for_column(category_column,train_df,'BsmtExposure')"
   ]
  },
  {
   "cell_type": "code",
   "execution_count": 163,
   "metadata": {
    "colab": {
     "base_uri": "https://localhost:8080/",
     "height": 34
    },
    "colab_type": "code",
    "executionInfo": {
     "elapsed": 10779,
     "status": "ok",
     "timestamp": 1599936757421,
     "user": {
      "displayName": "Sahil -",
      "photoUrl": "",
      "userId": "14051148522636395588"
     },
     "user_tz": -330
    },
    "id": "_HcSwYuF1vfS",
    "outputId": "e66a3bd4-ee39-47e1-e362-14697af83eb8"
   },
   "outputs": [
    {
     "data": {
      "text/plain": [
       "'No'"
      ]
     },
     "execution_count": 163,
     "metadata": {},
     "output_type": "execute_result"
    }
   ],
   "source": [
    "# No mispelled\n",
    "# Store fillna value into dict()\n",
    "fillna_value['BsmtExposure'] = train_df['BsmtExposure'].mode()[0]\n",
    "fillna_value['BsmtExposure']"
   ]
  },
  {
   "cell_type": "code",
   "execution_count": 164,
   "metadata": {
    "colab": {
     "base_uri": "https://localhost:8080/",
     "height": 34
    },
    "colab_type": "code",
    "executionInfo": {
     "elapsed": 10756,
     "status": "ok",
     "timestamp": 1599936757422,
     "user": {
      "displayName": "Sahil -",
      "photoUrl": "",
      "userId": "14051148522636395588"
     },
     "user_tz": -330
    },
    "id": "ClXdgqUo18zz",
    "outputId": "7315798b-18b7-48b2-d9ef-7d41616ba171"
   },
   "outputs": [
    {
     "data": {
      "text/plain": [
       "True"
      ]
     },
     "execution_count": 164,
     "metadata": {},
     "output_type": "execute_result"
    }
   ],
   "source": [
    "# Check if any missing value in test data?\n",
    "test_df['BsmtExposure'].isna().any()"
   ]
  },
  {
   "cell_type": "code",
   "execution_count": 165,
   "metadata": {
    "colab": {},
    "colab_type": "code",
    "executionInfo": {
     "elapsed": 10754,
     "status": "ok",
     "timestamp": 1599936757422,
     "user": {
      "displayName": "Sahil -",
      "photoUrl": "",
      "userId": "14051148522636395588"
     },
     "user_tz": -330
    },
    "id": "Azw59YtQ2GkB"
   },
   "outputs": [],
   "source": [
    "# replace nan with string NA\n",
    "test_df['BsmtExposure'].fillna('NA', inplace=True)"
   ]
  },
  {
   "cell_type": "code",
   "execution_count": 166,
   "metadata": {
    "colab": {
     "base_uri": "https://localhost:8080/",
     "height": 34
    },
    "colab_type": "code",
    "executionInfo": {
     "elapsed": 12027,
     "status": "ok",
     "timestamp": 1599936758721,
     "user": {
      "displayName": "Sahil -",
      "photoUrl": "",
      "userId": "14051148522636395588"
     },
     "user_tz": -330
    },
    "id": "WL0JIWzF2N_L",
    "outputId": "b9edc887-e451-4bf0-e34d-7e1006fa9d8d"
   },
   "outputs": [
    {
     "data": {
      "text/plain": [
       "False"
      ]
     },
     "execution_count": 166,
     "metadata": {},
     "output_type": "execute_result"
    }
   ],
   "source": [
    "# Check again if any missing value in test data?\n",
    "test_df['BsmtExposure'].isna().any()"
   ]
  },
  {
   "cell_type": "markdown",
   "metadata": {
    "colab_type": "text",
    "id": "9A90mrEK2V_L"
   },
   "source": [
    "## BsmtFinType1"
   ]
  },
  {
   "cell_type": "code",
   "execution_count": 167,
   "metadata": {
    "colab": {
     "base_uri": "https://localhost:8080/",
     "height": 34
    },
    "colab_type": "code",
    "executionInfo": {
     "elapsed": 12004,
     "status": "ok",
     "timestamp": 1599936758721,
     "user": {
      "displayName": "Sahil -",
      "photoUrl": "",
      "userId": "14051148522636395588"
     },
     "user_tz": -330
    },
    "id": "Qr2p4j2I2T63",
    "outputId": "33eeb460-4672-4cf0-805a-0b3669fa8115"
   },
   "outputs": [
    {
     "name": "stdout",
     "output_type": "stream",
     "text": [
      "There is missing value\n"
     ]
    }
   ],
   "source": [
    "# It's categorical feature\n",
    "printing_values_for_column(category_column,train_df,'BsmtFinType1')"
   ]
  },
  {
   "cell_type": "code",
   "execution_count": 168,
   "metadata": {
    "colab": {},
    "colab_type": "code",
    "executionInfo": {
     "elapsed": 12003,
     "status": "ok",
     "timestamp": 1599936758722,
     "user": {
      "displayName": "Sahil -",
      "photoUrl": "",
      "userId": "14051148522636395588"
     },
     "user_tz": -330
    },
    "id": "lnFVGeSc3AM0"
   },
   "outputs": [],
   "source": [
    "# There is missing value. However, in data description.txt\n",
    "# It described NA as No basement\n",
    "train_df['BsmtFinType1'].fillna('NA',inplace=True)"
   ]
  },
  {
   "cell_type": "code",
   "execution_count": 169,
   "metadata": {
    "colab": {
     "base_uri": "https://localhost:8080/",
     "height": 86
    },
    "colab_type": "code",
    "executionInfo": {
     "elapsed": 11979,
     "status": "ok",
     "timestamp": 1599936758722,
     "user": {
      "displayName": "Sahil -",
      "photoUrl": "",
      "userId": "14051148522636395588"
     },
     "user_tz": -330
    },
    "id": "IDs1zmng3PHT",
    "outputId": "e4a1a06c-af5f-4152-d007-1cf81e7d6521"
   },
   "outputs": [
    {
     "name": "stdout",
     "output_type": "stream",
     "text": [
      "Value provide by data description:\n",
      " ['ALQ', 'BLQ', 'GLQ', 'LwQ', 'NA', 'Rec', 'Unf']\n",
      "Value from train column:\n",
      " ['ALQ', 'BLQ', 'GLQ', 'LwQ', 'NA', 'Rec', 'Unf']\n"
     ]
    }
   ],
   "source": [
    "printing_values_for_column(category_column,train_df,'BsmtFinType1')"
   ]
  },
  {
   "cell_type": "code",
   "execution_count": 170,
   "metadata": {
    "colab": {
     "base_uri": "https://localhost:8080/",
     "height": 34
    },
    "colab_type": "code",
    "executionInfo": {
     "elapsed": 11955,
     "status": "ok",
     "timestamp": 1599936758723,
     "user": {
      "displayName": "Sahil -",
      "photoUrl": "",
      "userId": "14051148522636395588"
     },
     "user_tz": -330
    },
    "id": "bzLteqfe3RBV",
    "outputId": "169b8562-5762-4b03-9cc0-2f98a1667565"
   },
   "outputs": [
    {
     "data": {
      "text/plain": [
       "'Unf'"
      ]
     },
     "execution_count": 170,
     "metadata": {},
     "output_type": "execute_result"
    }
   ],
   "source": [
    "# No mispelled\n",
    "# Store fillna value inti dict()\n",
    "fillna_value['BsmtFinType1'] = train_df['BsmtFinType1'].mode()[0]\n",
    "fillna_value['BsmtFinType1']"
   ]
  },
  {
   "cell_type": "code",
   "execution_count": 171,
   "metadata": {
    "colab": {
     "base_uri": "https://localhost:8080/",
     "height": 34
    },
    "colab_type": "code",
    "executionInfo": {
     "elapsed": 11932,
     "status": "ok",
     "timestamp": 1599936758723,
     "user": {
      "displayName": "Sahil -",
      "photoUrl": "",
      "userId": "14051148522636395588"
     },
     "user_tz": -330
    },
    "id": "G8QHRLgK3qEo",
    "outputId": "d12440f1-e4b9-4c61-a5d0-28ca4008854d"
   },
   "outputs": [
    {
     "data": {
      "text/plain": [
       "True"
      ]
     },
     "execution_count": 171,
     "metadata": {},
     "output_type": "execute_result"
    }
   ],
   "source": [
    "# Check if any missing value in test data?\n",
    "test_df['BsmtFinType1'].isna().any()"
   ]
  },
  {
   "cell_type": "code",
   "execution_count": 172,
   "metadata": {
    "colab": {},
    "colab_type": "code",
    "executionInfo": {
     "elapsed": 11931,
     "status": "ok",
     "timestamp": 1599936758724,
     "user": {
      "displayName": "Sahil -",
      "photoUrl": "",
      "userId": "14051148522636395588"
     },
     "user_tz": -330
    },
    "id": "aYa9_Gl834Qw"
   },
   "outputs": [],
   "source": [
    "# replace na with string NA\n",
    "test_df['BsmtFinType1'].fillna('NA', inplace=True)"
   ]
  },
  {
   "cell_type": "code",
   "execution_count": 173,
   "metadata": {
    "colab": {
     "base_uri": "https://localhost:8080/",
     "height": 34
    },
    "colab_type": "code",
    "executionInfo": {
     "elapsed": 11907,
     "status": "ok",
     "timestamp": 1599936758724,
     "user": {
      "displayName": "Sahil -",
      "photoUrl": "",
      "userId": "14051148522636395588"
     },
     "user_tz": -330
    },
    "id": "uAhBKHAw4H8f",
    "outputId": "a0976334-cbc5-43cb-9dc5-40de64b6b62b"
   },
   "outputs": [
    {
     "data": {
      "text/plain": [
       "False"
      ]
     },
     "execution_count": 173,
     "metadata": {},
     "output_type": "execute_result"
    }
   ],
   "source": [
    "# Check any if any missing value in test data?\n",
    "test_df['BsmtFinType1'].isna().any()"
   ]
  },
  {
   "cell_type": "markdown",
   "metadata": {
    "colab_type": "text",
    "id": "QbYuW51h4NDr"
   },
   "source": [
    "## BsmtFinSF1"
   ]
  },
  {
   "cell_type": "code",
   "execution_count": 174,
   "metadata": {
    "colab": {
     "base_uri": "https://localhost:8080/",
     "height": 34
    },
    "colab_type": "code",
    "executionInfo": {
     "elapsed": 11883,
     "status": "ok",
     "timestamp": 1599936758724,
     "user": {
      "displayName": "Sahil -",
      "photoUrl": "",
      "userId": "14051148522636395588"
     },
     "user_tz": -330
    },
    "id": "Mee6l6dt4LyI",
    "outputId": "013d0ca4-427e-43ae-96a3-af8b2e468416"
   },
   "outputs": [
    {
     "data": {
      "text/plain": [
       "False"
      ]
     },
     "execution_count": 174,
     "metadata": {},
     "output_type": "execute_result"
    }
   ],
   "source": [
    "# It's numerical feature\n",
    "train_df['BsmtFinSF1'].isna().any()"
   ]
  },
  {
   "cell_type": "code",
   "execution_count": 175,
   "metadata": {
    "colab": {
     "base_uri": "https://localhost:8080/",
     "height": 265
    },
    "colab_type": "code",
    "executionInfo": {
     "elapsed": 11861,
     "status": "ok",
     "timestamp": 1599936758725,
     "user": {
      "displayName": "Sahil -",
      "photoUrl": "",
      "userId": "14051148522636395588"
     },
     "user_tz": -330
    },
    "id": "bQNGQ5UljUYC",
    "outputId": "2c9f3de0-cc1d-41c9-9818-685ab7ca3d91"
   },
   "outputs": [
    {
     "data": {
      "image/png": "[encoded data removed]",
      "text/plain": [
       "<Figure size 432x288 with 1 Axes>"
      ]
     },
     "metadata": {
      "needs_background": "light"
     },
     "output_type": "display_data"
    }
   ],
   "source": [
    "# No missing value\n",
    "# Let see how numerical are distributed\n",
    "plt.plot(train_df['BsmtFinSF1'])\n",
    "plt.show()"
   ]
  },
  {
   "cell_type": "markdown",
   "metadata": {
    "colab_type": "text",
    "id": "0o2UG2ZQjq1_"
   },
   "source": [
    "<u>Observation</u>: Let take 2000 as maximum value because thera are few data points having above 2000 value "
   ]
  },
  {
   "cell_type": "code",
   "execution_count": 176,
   "metadata": {
    "colab": {
     "base_uri": "https://localhost:8080/",
     "height": 34
    },
    "colab_type": "code",
    "executionInfo": {
     "elapsed": 11837,
     "status": "ok",
     "timestamp": 1599936758725,
     "user": {
      "displayName": "Sahil -",
      "photoUrl": "",
      "userId": "14051148522636395588"
     },
     "user_tz": -330
    },
    "id": "zO5zvzS-jiBV",
    "outputId": "a34e9240-0e9b-4989-f61b-46ffbc786780"
   },
   "outputs": [
    {
     "name": "stdout",
     "output_type": "stream",
     "text": [
      "Number of sample will be remaining: 1443 (99.79253112033194 %)\n"
     ]
    }
   ],
   "source": [
    "# Count the number of sample will be present if we remove those sample which\n",
    "# have greater than 2000\n",
    "count = 0\n",
    "store_value = []\n",
    "for i in train_df['BsmtFinSF1']:\n",
    "    if np.isnan(i):\n",
    "        count += 1\n",
    "    elif i <= 2000:\n",
    "        count += 1\n",
    "        store_value.append(i)\n",
    "    else:\n",
    "        continue\n",
    "\n",
    "total_frac = (count/train_df.shape[0])*100\n",
    "print('Number of sample will be remaining:',count,'({} %)'.format(total_frac))"
   ]
  },
  {
   "cell_type": "code",
   "execution_count": 177,
   "metadata": {
    "colab": {
     "base_uri": "https://localhost:8080/",
     "height": 34
    },
    "colab_type": "code",
    "executionInfo": {
     "elapsed": 11815,
     "status": "ok",
     "timestamp": 1599936758726,
     "user": {
      "displayName": "Sahil -",
      "photoUrl": "",
      "userId": "14051148522636395588"
     },
     "user_tz": -330
    },
    "id": "0ATbhVcxj0_4",
    "outputId": "9a7033c0-ab60-45c7-a445-0d7abd635209"
   },
   "outputs": [
    {
     "data": {
      "text/plain": [
       "431.27442827442826"
      ]
     },
     "execution_count": 177,
     "metadata": {},
     "output_type": "execute_result"
    }
   ],
   "source": [
    "# Store the fillna value into dict()\n",
    "fillna_value['BsmtFinSF1'] = np.mean(store_value)\n",
    "fillna_value['BsmtFinSF1']"
   ]
  },
  {
   "cell_type": "code",
   "execution_count": 178,
   "metadata": {
    "colab": {
     "base_uri": "https://localhost:8080/",
     "height": 34
    },
    "colab_type": "code",
    "executionInfo": {
     "elapsed": 11792,
     "status": "ok",
     "timestamp": 1599936758726,
     "user": {
      "displayName": "Sahil -",
      "photoUrl": "",
      "userId": "14051148522636395588"
     },
     "user_tz": -330
    },
    "id": "Lkk621cdj9nG",
    "outputId": "f7b584c7-9af5-43a2-a694-09a0ea02616d"
   },
   "outputs": [
    {
     "data": {
      "text/plain": [
       "(1443, 80)"
      ]
     },
     "execution_count": 178,
     "metadata": {},
     "output_type": "execute_result"
    }
   ],
   "source": [
    "# Remove that are greater than 2000\n",
    "train_df = train_df[train_df['BsmtFinSF1'] <= 2000]\n",
    "train_df.shape # Check the number of samples"
   ]
  },
  {
   "cell_type": "code",
   "execution_count": 179,
   "metadata": {
    "colab": {
     "base_uri": "https://localhost:8080/",
     "height": 34
    },
    "colab_type": "code",
    "executionInfo": {
     "elapsed": 11769,
     "status": "ok",
     "timestamp": 1599936758727,
     "user": {
      "displayName": "Sahil -",
      "photoUrl": "",
      "userId": "14051148522636395588"
     },
     "user_tz": -330
    },
    "id": "D9QC4CkzkIgn",
    "outputId": "b2033e88-a4d0-4a08-ec0d-9bad4f07ab40"
   },
   "outputs": [
    {
     "name": "stdout",
     "output_type": "stream",
     "text": [
      "True\n"
     ]
    }
   ],
   "source": [
    "# Check missing value in test data\n",
    "print(test_df['BsmtFinSF1'].isna().any())"
   ]
  },
  {
   "cell_type": "code",
   "execution_count": 180,
   "metadata": {
    "colab": {},
    "colab_type": "code",
    "executionInfo": {
     "elapsed": 11766,
     "status": "ok",
     "timestamp": 1599936758727,
     "user": {
      "displayName": "Sahil -",
      "photoUrl": "",
      "userId": "14051148522636395588"
     },
     "user_tz": -330
    },
    "id": "CMw_CWZ2kORN"
   },
   "outputs": [],
   "source": [
    "# Yes! TO replace it with fillna value\n",
    "test_df['BsmtFinSF1'].fillna(fillna_value['BsmtFinSF1'], inplace=True)"
   ]
  },
  {
   "cell_type": "code",
   "execution_count": 181,
   "metadata": {
    "colab": {
     "base_uri": "https://localhost:8080/",
     "height": 34
    },
    "colab_type": "code",
    "executionInfo": {
     "elapsed": 11743,
     "status": "ok",
     "timestamp": 1599936758728,
     "user": {
      "displayName": "Sahil -",
      "photoUrl": "",
      "userId": "14051148522636395588"
     },
     "user_tz": -330
    },
    "id": "tL4ZvgV2kV0K",
    "outputId": "f310b58c-52a6-4d3d-d2fe-9eed85181864"
   },
   "outputs": [
    {
     "name": "stdout",
     "output_type": "stream",
     "text": [
      "False\n"
     ]
    }
   ],
   "source": [
    "# Check it again any missing value in test data?\n",
    "print(test_df['BsmtFinSF1'].isna().any())"
   ]
  },
  {
   "cell_type": "markdown",
   "metadata": {
    "colab_type": "text",
    "id": "-DGWEQ_ZkfPu"
   },
   "source": [
    "## BsmtFinType2"
   ]
  },
  {
   "cell_type": "code",
   "execution_count": 182,
   "metadata": {
    "colab": {
     "base_uri": "https://localhost:8080/",
     "height": 34
    },
    "colab_type": "code",
    "executionInfo": {
     "elapsed": 11719,
     "status": "ok",
     "timestamp": 1599936758728,
     "user": {
      "displayName": "Sahil -",
      "photoUrl": "",
      "userId": "14051148522636395588"
     },
     "user_tz": -330
    },
    "id": "ZVR0mibgkeES",
    "outputId": "0e20cf18-6e67-4f00-de0b-c7f85b92d88e"
   },
   "outputs": [
    {
     "name": "stdout",
     "output_type": "stream",
     "text": [
      "There is missing value\n"
     ]
    }
   ],
   "source": [
    "# It's categorical features\n",
    "printing_values_for_column(category_column,train_df,'BsmtFinType2')"
   ]
  },
  {
   "cell_type": "code",
   "execution_count": 183,
   "metadata": {
    "colab": {},
    "colab_type": "code",
    "executionInfo": {
     "elapsed": 11718,
     "status": "ok",
     "timestamp": 1599936758729,
     "user": {
      "displayName": "Sahil -",
      "photoUrl": "",
      "userId": "14051148522636395588"
     },
     "user_tz": -330
    },
    "id": "rjCNUgXTkt76"
   },
   "outputs": [],
   "source": [
    "# There is missing value. However, in data description.txt\n",
    "# It described NA as No basement\n",
    "train_df['BsmtFinType2'].fillna('NA',inplace=True)"
   ]
  },
  {
   "cell_type": "code",
   "execution_count": 184,
   "metadata": {
    "colab": {
     "base_uri": "https://localhost:8080/",
     "height": 86
    },
    "colab_type": "code",
    "executionInfo": {
     "elapsed": 11695,
     "status": "ok",
     "timestamp": 1599936758729,
     "user": {
      "displayName": "Sahil -",
      "photoUrl": "",
      "userId": "14051148522636395588"
     },
     "user_tz": -330
    },
    "id": "vF6fO54Ukz9f",
    "outputId": "443c0443-fbc8-4fbf-a8ec-292103297872"
   },
   "outputs": [
    {
     "name": "stdout",
     "output_type": "stream",
     "text": [
      "Value provide by data description:\n",
      " ['ALQ', 'BLQ', 'GLQ', 'LwQ', 'NA', 'Rec', 'Unf']\n",
      "Value from train column:\n",
      " ['ALQ', 'BLQ', 'GLQ', 'LwQ', 'NA', 'Rec', 'Unf']\n"
     ]
    }
   ],
   "source": [
    "printing_values_for_column(category_column,train_df,'BsmtFinType2')"
   ]
  },
  {
   "cell_type": "code",
   "execution_count": 185,
   "metadata": {
    "colab": {
     "base_uri": "https://localhost:8080/",
     "height": 34
    },
    "colab_type": "code",
    "executionInfo": {
     "elapsed": 11673,
     "status": "ok",
     "timestamp": 1599936758730,
     "user": {
      "displayName": "Sahil -",
      "photoUrl": "",
      "userId": "14051148522636395588"
     },
     "user_tz": -330
    },
    "id": "V7c8fyr4k4rH",
    "outputId": "69aa8cd0-d5ed-4e3e-f754-caeca6e2e25c"
   },
   "outputs": [
    {
     "data": {
      "text/plain": [
       "'Unf'"
      ]
     },
     "execution_count": 185,
     "metadata": {},
     "output_type": "execute_result"
    }
   ],
   "source": [
    "# No mispelled\n",
    "# Store fillna value inti dict()\n",
    "fillna_value['BsmtFinType2'] = train_df['BsmtFinType2'].mode()[0]\n",
    "fillna_value['BsmtFinType2']"
   ]
  },
  {
   "cell_type": "code",
   "execution_count": 186,
   "metadata": {
    "colab": {
     "base_uri": "https://localhost:8080/",
     "height": 34
    },
    "colab_type": "code",
    "executionInfo": {
     "elapsed": 11649,
     "status": "ok",
     "timestamp": 1599936758730,
     "user": {
      "displayName": "Sahil -",
      "photoUrl": "",
      "userId": "14051148522636395588"
     },
     "user_tz": -330
    },
    "id": "7b1DJIMblAWN",
    "outputId": "39f95e29-979f-49ab-a37e-1e4cb2c69493"
   },
   "outputs": [
    {
     "data": {
      "text/plain": [
       "True"
      ]
     },
     "execution_count": 186,
     "metadata": {},
     "output_type": "execute_result"
    }
   ],
   "source": [
    "# Check if any missing value in test data?\n",
    "test_df['BsmtFinType2'].isna().any()"
   ]
  },
  {
   "cell_type": "code",
   "execution_count": 187,
   "metadata": {
    "colab": {},
    "colab_type": "code",
    "executionInfo": {
     "elapsed": 11647,
     "status": "ok",
     "timestamp": 1599936758730,
     "user": {
      "displayName": "Sahil -",
      "photoUrl": "",
      "userId": "14051148522636395588"
     },
     "user_tz": -330
    },
    "id": "yJOo69n7lFS6"
   },
   "outputs": [],
   "source": [
    "# replace na with string NA\n",
    "test_df['BsmtFinType2'].fillna('NA', inplace=True)"
   ]
  },
  {
   "cell_type": "code",
   "execution_count": 188,
   "metadata": {
    "colab": {
     "base_uri": "https://localhost:8080/",
     "height": 34
    },
    "colab_type": "code",
    "executionInfo": {
     "elapsed": 11625,
     "status": "ok",
     "timestamp": 1599936758731,
     "user": {
      "displayName": "Sahil -",
      "photoUrl": "",
      "userId": "14051148522636395588"
     },
     "user_tz": -330
    },
    "id": "3D2pANISlJZu",
    "outputId": "7737cb84-9958-48f7-da9c-5e1faf92791a"
   },
   "outputs": [
    {
     "data": {
      "text/plain": [
       "False"
      ]
     },
     "execution_count": 188,
     "metadata": {},
     "output_type": "execute_result"
    }
   ],
   "source": [
    "# Check again if any missing value in test data?\n",
    "test_df['BsmtFinType2'].isna().any()"
   ]
  },
  {
   "cell_type": "markdown",
   "metadata": {
    "colab_type": "text",
    "id": "5QDcxaCXlMv5"
   },
   "source": [
    "## BsmtFinSF2"
   ]
  },
  {
   "cell_type": "code",
   "execution_count": 189,
   "metadata": {
    "colab": {
     "base_uri": "https://localhost:8080/",
     "height": 34
    },
    "colab_type": "code",
    "executionInfo": {
     "elapsed": 11601,
     "status": "ok",
     "timestamp": 1599936758731,
     "user": {
      "displayName": "Sahil -",
      "photoUrl": "",
      "userId": "14051148522636395588"
     },
     "user_tz": -330
    },
    "id": "qXvbsTnZlK0-",
    "outputId": "24c6780e-77aa-4bea-a2b3-f7e674213401"
   },
   "outputs": [
    {
     "data": {
      "text/plain": [
       "False"
      ]
     },
     "execution_count": 189,
     "metadata": {},
     "output_type": "execute_result"
    }
   ],
   "source": [
    "# It's numerical feature\n",
    "train_df['BsmtFinSF2'].isna().any()"
   ]
  },
  {
   "cell_type": "code",
   "execution_count": 190,
   "metadata": {
    "colab": {
     "base_uri": "https://localhost:8080/",
     "height": 265
    },
    "colab_type": "code",
    "executionInfo": {
     "elapsed": 11579,
     "status": "ok",
     "timestamp": 1599936758732,
     "user": {
      "displayName": "Sahil -",
      "photoUrl": "",
      "userId": "14051148522636395588"
     },
     "user_tz": -330
    },
    "id": "0v0IJvl8lVsc",
    "outputId": "664af3ba-857d-4231-e3d8-500567b1fedd"
   },
   "outputs": [
    {
     "data": {
      "image/png": "[encoded data removed]",
      "text/plain": [
       "<Figure size 432x288 with 1 Axes>"
      ]
     },
     "metadata": {
      "needs_background": "light"
     },
     "output_type": "display_data"
    }
   ],
   "source": [
    "# No missing value\n",
    "# Let see how numerical are distributed\n",
    "plt.plot(train_df['BsmtFinSF2'])\n",
    "plt.show()"
   ]
  },
  {
   "cell_type": "markdown",
   "metadata": {
    "colab_type": "text",
    "id": "e8RJqjV1lgV5"
   },
   "source": [
    "<u>Observation</u>: Let take 1200 as maximum value because thera are few data points having above 1200 value "
   ]
  },
  {
   "cell_type": "code",
   "execution_count": 191,
   "metadata": {
    "colab": {
     "base_uri": "https://localhost:8080/",
     "height": 34
    },
    "colab_type": "code",
    "executionInfo": {
     "elapsed": 11554,
     "status": "ok",
     "timestamp": 1599936758732,
     "user": {
      "displayName": "Sahil -",
      "photoUrl": "",
      "userId": "14051148522636395588"
     },
     "user_tz": -330
    },
    "id": "lkJKfig1laUs",
    "outputId": "977a16c4-6ec0-4f06-988a-e5600f3ed786"
   },
   "outputs": [
    {
     "name": "stdout",
     "output_type": "stream",
     "text": [
      "Number of sample will be remaining: 1442 (99.93069993069993 %)\n"
     ]
    }
   ],
   "source": [
    "# Count the number of sample will be present if we remove those sample which\n",
    "# have greater than 1200\n",
    "count = 0\n",
    "store_value = []\n",
    "for i in train_df['BsmtFinSF2']:\n",
    "    if np.isnan(i):\n",
    "        count += 1\n",
    "    elif i <= 1200:\n",
    "        count += 1\n",
    "        store_value.append(i)\n",
    "    else:\n",
    "        continue\n",
    "\n",
    "total_frac = (count/train_df.shape[0])*100\n",
    "print('Number of sample will be remaining:',count,'({} %)'.format(total_frac))"
   ]
  },
  {
   "cell_type": "code",
   "execution_count": 192,
   "metadata": {
    "colab": {
     "base_uri": "https://localhost:8080/",
     "height": 34
    },
    "colab_type": "code",
    "executionInfo": {
     "elapsed": 11525,
     "status": "ok",
     "timestamp": 1599936758733,
     "user": {
      "displayName": "Sahil -",
      "photoUrl": "",
      "userId": "14051148522636395588"
     },
     "user_tz": -330
    },
    "id": "OK4lEUphlmce",
    "outputId": "81a81b24-0913-4da9-8210-849401fb2d67"
   },
   "outputs": [
    {
     "data": {
      "text/plain": [
       "45.205963938973646"
      ]
     },
     "execution_count": 192,
     "metadata": {},
     "output_type": "execute_result"
    }
   ],
   "source": [
    "# Store the fillna value into dict()\n",
    "fillna_value['BsmtFinSF2'] = np.mean(store_value)\n",
    "fillna_value['BsmtFinSF2']"
   ]
  },
  {
   "cell_type": "code",
   "execution_count": 193,
   "metadata": {
    "colab": {
     "base_uri": "https://localhost:8080/",
     "height": 34
    },
    "colab_type": "code",
    "executionInfo": {
     "elapsed": 11502,
     "status": "ok",
     "timestamp": 1599936758733,
     "user": {
      "displayName": "Sahil -",
      "photoUrl": "",
      "userId": "14051148522636395588"
     },
     "user_tz": -330
    },
    "id": "gIp1BsIplrCY",
    "outputId": "dd05c1d3-c907-4b93-b25b-1ea3a8afc264"
   },
   "outputs": [
    {
     "data": {
      "text/plain": [
       "(1442, 80)"
      ]
     },
     "execution_count": 193,
     "metadata": {},
     "output_type": "execute_result"
    }
   ],
   "source": [
    "# Remove that are greater than 1200\n",
    "train_df = train_df[train_df['BsmtFinSF2'] <= 1200]\n",
    "train_df.shape # Check the number of samples"
   ]
  },
  {
   "cell_type": "code",
   "execution_count": 194,
   "metadata": {
    "colab": {
     "base_uri": "https://localhost:8080/",
     "height": 34
    },
    "colab_type": "code",
    "executionInfo": {
     "elapsed": 11475,
     "status": "ok",
     "timestamp": 1599936758734,
     "user": {
      "displayName": "Sahil -",
      "photoUrl": "",
      "userId": "14051148522636395588"
     },
     "user_tz": -330
    },
    "id": "MDnrw8YUl3Os",
    "outputId": "8406f7f9-7137-498a-f35f-f25bc8891b34"
   },
   "outputs": [
    {
     "name": "stdout",
     "output_type": "stream",
     "text": [
      "True\n"
     ]
    }
   ],
   "source": [
    "# Check missing value in test data\n",
    "print(test_df['BsmtFinSF2'].isna().any())"
   ]
  },
  {
   "cell_type": "code",
   "execution_count": 195,
   "metadata": {
    "colab": {},
    "colab_type": "code",
    "executionInfo": {
     "elapsed": 11473,
     "status": "ok",
     "timestamp": 1599936758734,
     "user": {
      "displayName": "Sahil -",
      "photoUrl": "",
      "userId": "14051148522636395588"
     },
     "user_tz": -330
    },
    "id": "cWBxDKyll7kC"
   },
   "outputs": [],
   "source": [
    "# Yes! TO replace it with fillna value\n",
    "test_df['BsmtFinSF2'].fillna(fillna_value['BsmtFinSF2'], inplace=True)"
   ]
  },
  {
   "cell_type": "code",
   "execution_count": 196,
   "metadata": {
    "colab": {
     "base_uri": "https://localhost:8080/",
     "height": 34
    },
    "colab_type": "code",
    "executionInfo": {
     "elapsed": 11449,
     "status": "ok",
     "timestamp": 1599936758734,
     "user": {
      "displayName": "Sahil -",
      "photoUrl": "",
      "userId": "14051148522636395588"
     },
     "user_tz": -330
    },
    "id": "jFhhr8sHl_r8",
    "outputId": "2e9735ff-36f2-430a-dd04-7014bc8d4d3a"
   },
   "outputs": [
    {
     "name": "stdout",
     "output_type": "stream",
     "text": [
      "False\n"
     ]
    }
   ],
   "source": [
    "# Check again if any missing value in test data\n",
    "print(test_df['BsmtFinSF2'].isna().any())"
   ]
  },
  {
   "cell_type": "markdown",
   "metadata": {
    "colab_type": "text",
    "id": "ar-ohrFmmFWK"
   },
   "source": [
    "## BsmtUnfSF"
   ]
  },
  {
   "cell_type": "code",
   "execution_count": 197,
   "metadata": {
    "colab": {
     "base_uri": "https://localhost:8080/",
     "height": 34
    },
    "colab_type": "code",
    "executionInfo": {
     "elapsed": 11426,
     "status": "ok",
     "timestamp": 1599936758735,
     "user": {
      "displayName": "Sahil -",
      "photoUrl": "",
      "userId": "14051148522636395588"
     },
     "user_tz": -330
    },
    "id": "FZexbIExmBbW",
    "outputId": "b9a0654f-8b4e-49db-d0dc-290cefe6e338"
   },
   "outputs": [
    {
     "data": {
      "text/plain": [
       "False"
      ]
     },
     "execution_count": 197,
     "metadata": {},
     "output_type": "execute_result"
    }
   ],
   "source": [
    "# it's numerical feature\n",
    "train_df['BsmtUnfSF'].isna().any()"
   ]
  },
  {
   "cell_type": "code",
   "execution_count": 198,
   "metadata": {
    "colab": {
     "base_uri": "https://localhost:8080/",
     "height": 265
    },
    "colab_type": "code",
    "executionInfo": {
     "elapsed": 11403,
     "status": "ok",
     "timestamp": 1599936758735,
     "user": {
      "displayName": "Sahil -",
      "photoUrl": "",
      "userId": "14051148522636395588"
     },
     "user_tz": -330
    },
    "id": "HLcsibsqmK0m",
    "outputId": "a543075c-6df8-4801-e4ab-3ed0da04c28b"
   },
   "outputs": [
    {
     "data": {
      "image/png": "[encoded data removed]",
      "text/plain": [
       "<Figure size 432x288 with 1 Axes>"
      ]
     },
     "metadata": {
      "needs_background": "light"
     },
     "output_type": "display_data"
    }
   ],
   "source": [
    "# No missing value\n",
    "# Let see how numerical are distributed\n",
    "plt.plot(train_df['BsmtUnfSF'])\n",
    "plt.show()"
   ]
  },
  {
   "cell_type": "markdown",
   "metadata": {
    "colab_type": "text",
    "id": "az1cG1n5mWSG"
   },
   "source": [
    "<u>Observation</u>: Let take 2000 as maximum value because thera are few data points having above 2000 value "
   ]
  },
  {
   "cell_type": "code",
   "execution_count": 199,
   "metadata": {
    "colab": {
     "base_uri": "https://localhost:8080/",
     "height": 34
    },
    "colab_type": "code",
    "executionInfo": {
     "elapsed": 11379,
     "status": "ok",
     "timestamp": 1599936758736,
     "user": {
      "displayName": "Sahil -",
      "photoUrl": "",
      "userId": "14051148522636395588"
     },
     "user_tz": -330
    },
    "id": "FySWEAbamPkM",
    "outputId": "febf372d-ff30-4c11-acc9-40dc6da77cfb"
   },
   "outputs": [
    {
     "name": "stdout",
     "output_type": "stream",
     "text": [
      "Number of sample will be remaining: 1436 (99.58391123439667 %)\n"
     ]
    }
   ],
   "source": [
    "# Count the number of sample will be present if we remove those sample which\n",
    "# have greater than 2000\n",
    "count = 0\n",
    "store_value = []\n",
    "for i in train_df['BsmtUnfSF']:\n",
    "    if np.isnan(i):\n",
    "        count += 1\n",
    "    elif i <= 2000:\n",
    "        count += 1\n",
    "        store_value.append(i)\n",
    "    else:\n",
    "        continue\n",
    "\n",
    "total_frac = (count/train_df.shape[0])*100\n",
    "print('Number of sample will be remaining:',count,'({} %)'.format(total_frac))"
   ]
  },
  {
   "cell_type": "code",
   "execution_count": 200,
   "metadata": {
    "colab": {
     "base_uri": "https://localhost:8080/",
     "height": 34
    },
    "colab_type": "code",
    "executionInfo": {
     "elapsed": 11356,
     "status": "ok",
     "timestamp": 1599936758736,
     "user": {
      "displayName": "Sahil -",
      "photoUrl": "",
      "userId": "14051148522636395588"
     },
     "user_tz": -330
    },
    "id": "NtTlyQ05mg1q",
    "outputId": "b9d4eb5a-74a5-4cd5-f219-41341f9d2d95"
   },
   "outputs": [
    {
     "data": {
      "text/plain": [
       "563.5480501392758"
      ]
     },
     "execution_count": 200,
     "metadata": {},
     "output_type": "execute_result"
    }
   ],
   "source": [
    "# Store the fillna value into dict()\n",
    "fillna_value['BsmtUnfSF'] = np.mean(store_value)\n",
    "fillna_value['BsmtUnfSF']"
   ]
  },
  {
   "cell_type": "code",
   "execution_count": 201,
   "metadata": {
    "colab": {
     "base_uri": "https://localhost:8080/",
     "height": 34
    },
    "colab_type": "code",
    "executionInfo": {
     "elapsed": 11332,
     "status": "ok",
     "timestamp": 1599936758736,
     "user": {
      "displayName": "Sahil -",
      "photoUrl": "",
      "userId": "14051148522636395588"
     },
     "user_tz": -330
    },
    "id": "3h39wd15mmwA",
    "outputId": "64eb3b1f-481d-4050-b665-31cea3ed1e73"
   },
   "outputs": [
    {
     "data": {
      "text/plain": [
       "(1436, 80)"
      ]
     },
     "execution_count": 201,
     "metadata": {},
     "output_type": "execute_result"
    }
   ],
   "source": [
    "# Remove that are greater than 2000\n",
    "train_df = train_df[train_df['BsmtUnfSF'] <= 2000]\n",
    "train_df.shape # Check the number of samples"
   ]
  },
  {
   "cell_type": "code",
   "execution_count": 202,
   "metadata": {
    "colab": {
     "base_uri": "https://localhost:8080/",
     "height": 34
    },
    "colab_type": "code",
    "executionInfo": {
     "elapsed": 11310,
     "status": "ok",
     "timestamp": 1599936758737,
     "user": {
      "displayName": "Sahil -",
      "photoUrl": "",
      "userId": "14051148522636395588"
     },
     "user_tz": -330
    },
    "id": "fWgsJgHtmsnt",
    "outputId": "a5780b41-af09-4ca0-8eec-daa1e4106108"
   },
   "outputs": [
    {
     "name": "stdout",
     "output_type": "stream",
     "text": [
      "True\n"
     ]
    }
   ],
   "source": [
    "# Check missing value in test data\n",
    "print(test_df['BsmtUnfSF'].isna().any())"
   ]
  },
  {
   "cell_type": "code",
   "execution_count": 203,
   "metadata": {
    "colab": {},
    "colab_type": "code",
    "executionInfo": {
     "elapsed": 11307,
     "status": "ok",
     "timestamp": 1599936758737,
     "user": {
      "displayName": "Sahil -",
      "photoUrl": "",
      "userId": "14051148522636395588"
     },
     "user_tz": -330
    },
    "id": "diwqajqEm9wI"
   },
   "outputs": [],
   "source": [
    "# Yes! TO replace it with fillna value\n",
    "test_df['BsmtUnfSF'].fillna(fillna_value['BsmtUnfSF'], inplace=True)"
   ]
  },
  {
   "cell_type": "code",
   "execution_count": 204,
   "metadata": {
    "colab": {
     "base_uri": "https://localhost:8080/",
     "height": 34
    },
    "colab_type": "code",
    "executionInfo": {
     "elapsed": 11285,
     "status": "ok",
     "timestamp": 1599936758738,
     "user": {
      "displayName": "Sahil -",
      "photoUrl": "",
      "userId": "14051148522636395588"
     },
     "user_tz": -330
    },
    "id": "E92UfVi6nELi",
    "outputId": "4c2ce857-f6be-4913-c0c5-be8929149817"
   },
   "outputs": [
    {
     "name": "stdout",
     "output_type": "stream",
     "text": [
      "False\n"
     ]
    }
   ],
   "source": [
    "# Check again if any missing value in test data\n",
    "print(test_df['BsmtUnfSF'].isna().any())"
   ]
  },
  {
   "cell_type": "markdown",
   "metadata": {
    "colab_type": "text",
    "id": "x0hryn9onQVC"
   },
   "source": [
    "## TotalBsmtSF"
   ]
  },
  {
   "cell_type": "code",
   "execution_count": 205,
   "metadata": {
    "colab": {
     "base_uri": "https://localhost:8080/",
     "height": 34
    },
    "colab_type": "code",
    "executionInfo": {
     "elapsed": 11261,
     "status": "ok",
     "timestamp": 1599936758738,
     "user": {
      "displayName": "Sahil -",
      "photoUrl": "",
      "userId": "14051148522636395588"
     },
     "user_tz": -330
    },
    "id": "nguKov1pnGYA",
    "outputId": "bf33c7a8-b139-4634-bf4f-966e3f51dc52"
   },
   "outputs": [
    {
     "data": {
      "text/plain": [
       "False"
      ]
     },
     "execution_count": 205,
     "metadata": {},
     "output_type": "execute_result"
    }
   ],
   "source": [
    "# it's numerical feature\n",
    "train_df['TotalBsmtSF'].isna().any()"
   ]
  },
  {
   "cell_type": "code",
   "execution_count": 206,
   "metadata": {
    "colab": {
     "base_uri": "https://localhost:8080/",
     "height": 265
    },
    "colab_type": "code",
    "executionInfo": {
     "elapsed": 11239,
     "status": "ok",
     "timestamp": 1599936758739,
     "user": {
      "displayName": "Sahil -",
      "photoUrl": "",
      "userId": "14051148522636395588"
     },
     "user_tz": -330
    },
    "id": "Yap0M2-YnZIU",
    "outputId": "d540873e-b821-46f9-8f8d-ee0dd2893784"
   },
   "outputs": [
    {
     "data": {
      "image/png": "[encoded data removed]",
      "text/plain": [
       "<Figure size 432x288 with 1 Axes>"
      ]
     },
     "metadata": {
      "needs_background": "light"
     },
     "output_type": "display_data"
    }
   ],
   "source": [
    "# No missing value\n",
    "# Let see how numerical are distributed\n",
    "plt.plot(train_df['TotalBsmtSF'])\n",
    "plt.show()"
   ]
  },
  {
   "cell_type": "markdown",
   "metadata": {
    "colab_type": "text",
    "id": "FprTMroJn35C"
   },
   "source": [
    "<u>Observation</u>: Let take 2500 as maximum value because thera are few data points having above 2500 value "
   ]
  },
  {
   "cell_type": "code",
   "execution_count": 207,
   "metadata": {
    "colab": {
     "base_uri": "https://localhost:8080/",
     "height": 34
    },
    "colab_type": "code",
    "executionInfo": {
     "elapsed": 11215,
     "status": "ok",
     "timestamp": 1599936758739,
     "user": {
      "displayName": "Sahil -",
      "photoUrl": "",
      "userId": "14051148522636395588"
     },
     "user_tz": -330
    },
    "id": "lbUWDvqYnfXN",
    "outputId": "37acc9e0-b753-4c2c-82e4-d9f3e1f9aa67"
   },
   "outputs": [
    {
     "name": "stdout",
     "output_type": "stream",
     "text": [
      "Number of sample will be remaining: 1431 (99.65181058495823 %)\n"
     ]
    }
   ],
   "source": [
    "# Count the number of sample will be present if we remove those sample which\n",
    "# have greater than 2500\n",
    "count = 0\n",
    "store_value = []\n",
    "for i in train_df['TotalBsmtSF']:\n",
    "    if np.isnan(i):\n",
    "        count += 1\n",
    "    elif i <= 2500:\n",
    "        count += 1\n",
    "        store_value.append(i)\n",
    "    else:\n",
    "        continue\n",
    "\n",
    "total_frac = (count/train_df.shape[0])*100\n",
    "print('Number of sample will be remaining:',count,'({} %)'.format(total_frac))"
   ]
  },
  {
   "cell_type": "code",
   "execution_count": 208,
   "metadata": {
    "colab": {
     "base_uri": "https://localhost:8080/",
     "height": 34
    },
    "colab_type": "code",
    "executionInfo": {
     "elapsed": 11192,
     "status": "ok",
     "timestamp": 1599936758739,
     "user": {
      "displayName": "Sahil -",
      "photoUrl": "",
      "userId": "14051148522636395588"
     },
     "user_tz": -330
    },
    "id": "326y_NMWnzUL",
    "outputId": "8ac0fc5b-1f0f-4fdc-c8c7-bd0d9f693834"
   },
   "outputs": [
    {
     "data": {
      "text/plain": [
       "1035.6603773584907"
      ]
     },
     "execution_count": 208,
     "metadata": {},
     "output_type": "execute_result"
    }
   ],
   "source": [
    "# Store the fillna value into dict()\n",
    "fillna_value['TotalBsmtSF'] = np.mean(store_value)\n",
    "fillna_value['TotalBsmtSF']"
   ]
  },
  {
   "cell_type": "code",
   "execution_count": 209,
   "metadata": {
    "colab": {
     "base_uri": "https://localhost:8080/",
     "height": 34
    },
    "colab_type": "code",
    "executionInfo": {
     "elapsed": 11169,
     "status": "ok",
     "timestamp": 1599936758740,
     "user": {
      "displayName": "Sahil -",
      "photoUrl": "",
      "userId": "14051148522636395588"
     },
     "user_tz": -330
    },
    "id": "exWRvUV3oA0J",
    "outputId": "0be451bc-ce67-40d4-b7e3-d07fda58fe66"
   },
   "outputs": [
    {
     "data": {
      "text/plain": [
       "(1431, 80)"
      ]
     },
     "execution_count": 209,
     "metadata": {},
     "output_type": "execute_result"
    }
   ],
   "source": [
    "# Remove that are greater than 2500\n",
    "train_df = train_df[train_df['TotalBsmtSF'] <= 2500]\n",
    "train_df.shape # Check the number of samples"
   ]
  },
  {
   "cell_type": "code",
   "execution_count": 210,
   "metadata": {
    "colab": {
     "base_uri": "https://localhost:8080/",
     "height": 34
    },
    "colab_type": "code",
    "executionInfo": {
     "elapsed": 11145,
     "status": "ok",
     "timestamp": 1599936758740,
     "user": {
      "displayName": "Sahil -",
      "photoUrl": "",
      "userId": "14051148522636395588"
     },
     "user_tz": -330
    },
    "id": "2mI-W8TpoJXW",
    "outputId": "458f3f70-08aa-49c6-e1a6-380de11e2cf1"
   },
   "outputs": [
    {
     "name": "stdout",
     "output_type": "stream",
     "text": [
      "True\n"
     ]
    }
   ],
   "source": [
    "# Check missing value in test data\n",
    "print(test_df['TotalBsmtSF'].isna().any())"
   ]
  },
  {
   "cell_type": "code",
   "execution_count": 211,
   "metadata": {
    "colab": {},
    "colab_type": "code",
    "executionInfo": {
     "elapsed": 12477,
     "status": "ok",
     "timestamp": 1599936760074,
     "user": {
      "displayName": "Sahil -",
      "photoUrl": "",
      "userId": "14051148522636395588"
     },
     "user_tz": -330
    },
    "id": "f1CC1a07oPBE"
   },
   "outputs": [],
   "source": [
    "# Yes! TO replace it with fillna value\n",
    "test_df['TotalBsmtSF'].fillna(fillna_value['TotalBsmtSF'], inplace=True)"
   ]
  },
  {
   "cell_type": "code",
   "execution_count": 212,
   "metadata": {
    "colab": {
     "base_uri": "https://localhost:8080/",
     "height": 34
    },
    "colab_type": "code",
    "executionInfo": {
     "elapsed": 12451,
     "status": "ok",
     "timestamp": 1599936760075,
     "user": {
      "displayName": "Sahil -",
      "photoUrl": "",
      "userId": "14051148522636395588"
     },
     "user_tz": -330
    },
    "id": "jnY_6i_woU-U",
    "outputId": "6faa43ed-477b-49e6-acb1-9ac1fb8b45fc"
   },
   "outputs": [
    {
     "name": "stdout",
     "output_type": "stream",
     "text": [
      "False\n"
     ]
    }
   ],
   "source": [
    "# Check again if any missing value in test data\n",
    "print(test_df['TotalBsmtSF'].isna().any())"
   ]
  },
  {
   "cell_type": "markdown",
   "metadata": {
    "colab_type": "text",
    "id": "K99cS8e-oavZ"
   },
   "source": [
    "## Heating"
   ]
  },
  {
   "cell_type": "code",
   "execution_count": 213,
   "metadata": {
    "colab": {
     "base_uri": "https://localhost:8080/",
     "height": 86
    },
    "colab_type": "code",
    "executionInfo": {
     "elapsed": 12427,
     "status": "ok",
     "timestamp": 1599936760076,
     "user": {
      "displayName": "Sahil -",
      "photoUrl": "",
      "userId": "14051148522636395588"
     },
     "user_tz": -330
    },
    "id": "rkHN5I4DoXoy",
    "outputId": "f4ddd221-a06a-4a5f-cff8-261dd084a206"
   },
   "outputs": [
    {
     "name": "stdout",
     "output_type": "stream",
     "text": [
      "Value provide by data description:\n",
      " ['Floor', 'GasA', 'GasW', 'Grav', 'OthW', 'Wall']\n",
      "Value from train column:\n",
      " ['Floor', 'GasA', 'GasW', 'Grav', 'OthW', 'Wall']\n"
     ]
    }
   ],
   "source": [
    "# it's categorical feature\n",
    "printing_values_for_column(category_column,train_df,'Heating')"
   ]
  },
  {
   "cell_type": "code",
   "execution_count": 214,
   "metadata": {
    "colab": {
     "base_uri": "https://localhost:8080/",
     "height": 34
    },
    "colab_type": "code",
    "executionInfo": {
     "elapsed": 12403,
     "status": "ok",
     "timestamp": 1599936760076,
     "user": {
      "displayName": "Sahil -",
      "photoUrl": "",
      "userId": "14051148522636395588"
     },
     "user_tz": -330
    },
    "id": "YAIVZjZT8zhn",
    "outputId": "5e602fd3-511c-4223-b434-41c6e917bbb1"
   },
   "outputs": [
    {
     "data": {
      "text/plain": [
       "'GasA'"
      ]
     },
     "execution_count": 214,
     "metadata": {},
     "output_type": "execute_result"
    }
   ],
   "source": [
    "# No mispelled and missing value\n",
    "# Store fillna value into dict()\n",
    "fillna_value['Heating'] = train_df['Heating'].mode()[0]\n",
    "fillna_value['Heating']"
   ]
  },
  {
   "cell_type": "code",
   "execution_count": 215,
   "metadata": {
    "colab": {
     "base_uri": "https://localhost:8080/",
     "height": 86
    },
    "colab_type": "code",
    "executionInfo": {
     "elapsed": 12379,
     "status": "ok",
     "timestamp": 1599936760076,
     "user": {
      "displayName": "Sahil -",
      "photoUrl": "",
      "userId": "14051148522636395588"
     },
     "user_tz": -330
    },
    "id": "2suSjnmQ9Zsq",
    "outputId": "081cdefa-5620-462e-9904-5cd0d3bf8e72"
   },
   "outputs": [
    {
     "name": "stdout",
     "output_type": "stream",
     "text": [
      "Value provide by data description:\n",
      " ['Floor', 'GasA', 'GasW', 'Grav', 'OthW', 'Wall']\n",
      "Value from train column:\n",
      " ['GasA', 'GasW', 'Grav', 'Wall']\n"
     ]
    }
   ],
   "source": [
    "# Check mispelled and if any missing value in test data\n",
    "printing_values_for_column(category_column,test_df,'Heating')"
   ]
  },
  {
   "cell_type": "markdown",
   "metadata": {
    "colab_type": "text",
    "id": "glxVxEFX9p0K"
   },
   "source": [
    "## HeatingQC"
   ]
  },
  {
   "cell_type": "code",
   "execution_count": 216,
   "metadata": {
    "colab": {
     "base_uri": "https://localhost:8080/",
     "height": 86
    },
    "colab_type": "code",
    "executionInfo": {
     "elapsed": 12356,
     "status": "ok",
     "timestamp": 1599936760077,
     "user": {
      "displayName": "Sahil -",
      "photoUrl": "",
      "userId": "14051148522636395588"
     },
     "user_tz": -330
    },
    "id": "RgK9Lts_9lVm",
    "outputId": "049779ee-c247-4675-dc8a-ae8212a55387"
   },
   "outputs": [
    {
     "name": "stdout",
     "output_type": "stream",
     "text": [
      "Value provide by data description:\n",
      " ['Ex', 'Fa', 'Gd', 'Po', 'TA']\n",
      "Value from train column:\n",
      " ['Ex', 'Fa', 'Gd', 'Po', 'TA']\n"
     ]
    }
   ],
   "source": [
    "# Its categorical feature\n",
    "printing_values_for_column(category_column,train_df,'HeatingQC')"
   ]
  },
  {
   "cell_type": "code",
   "execution_count": 217,
   "metadata": {
    "colab": {
     "base_uri": "https://localhost:8080/",
     "height": 34
    },
    "colab_type": "code",
    "executionInfo": {
     "elapsed": 12332,
     "status": "ok",
     "timestamp": 1599936760077,
     "user": {
      "displayName": "Sahil -",
      "photoUrl": "",
      "userId": "14051148522636395588"
     },
     "user_tz": -330
    },
    "id": "UZOOKni29xqj",
    "outputId": "67197d88-7977-4c2e-eb79-1fb70dd27995"
   },
   "outputs": [
    {
     "data": {
      "text/plain": [
       "'Ex'"
      ]
     },
     "execution_count": 217,
     "metadata": {},
     "output_type": "execute_result"
    }
   ],
   "source": [
    "# No mispelled and missing value\n",
    "# Store the fillna value into dict()\n",
    "fillna_value['HeatingQC'] = train_df['HeatingQC'].mode()[0]\n",
    "fillna_value['HeatingQC']"
   ]
  },
  {
   "cell_type": "code",
   "execution_count": 218,
   "metadata": {
    "colab": {
     "base_uri": "https://localhost:8080/",
     "height": 86
    },
    "colab_type": "code",
    "executionInfo": {
     "elapsed": 12309,
     "status": "ok",
     "timestamp": 1599936760078,
     "user": {
      "displayName": "Sahil -",
      "photoUrl": "",
      "userId": "14051148522636395588"
     },
     "user_tz": -330
    },
    "id": "MV8z9iMo-Ccf",
    "outputId": "ce810766-85a1-4dba-915c-fbfc47faffc7"
   },
   "outputs": [
    {
     "name": "stdout",
     "output_type": "stream",
     "text": [
      "Value provide by data description:\n",
      " ['Ex', 'Fa', 'Gd', 'Po', 'TA']\n",
      "Value from train column:\n",
      " ['Ex', 'Fa', 'Gd', 'Po', 'TA']\n"
     ]
    }
   ],
   "source": [
    "# Check if any misspelled or missing value in test data?\n",
    "printing_values_for_column(category_column,test_df,'HeatingQC')"
   ]
  },
  {
   "cell_type": "markdown",
   "metadata": {
    "colab_type": "text",
    "id": "0YuNTq-4-KzI"
   },
   "source": [
    "## CentralAir"
   ]
  },
  {
   "cell_type": "code",
   "execution_count": 219,
   "metadata": {
    "colab": {
     "base_uri": "https://localhost:8080/",
     "height": 86
    },
    "colab_type": "code",
    "executionInfo": {
     "elapsed": 12286,
     "status": "ok",
     "timestamp": 1599936760078,
     "user": {
      "displayName": "Sahil -",
      "photoUrl": "",
      "userId": "14051148522636395588"
     },
     "user_tz": -330
    },
    "id": "AdbGpvFi-JHg",
    "outputId": "efc5dfcd-a3fb-48ea-d13a-b9001242c1b4"
   },
   "outputs": [
    {
     "name": "stdout",
     "output_type": "stream",
     "text": [
      "Value provide by data description:\n",
      " ['N', 'Y']\n",
      "Value from train column:\n",
      " ['N', 'Y']\n"
     ]
    }
   ],
   "source": [
    "# It's categorical feature\n",
    "printing_values_for_column(category_column,train_df,'CentralAir')"
   ]
  },
  {
   "cell_type": "code",
   "execution_count": 220,
   "metadata": {
    "colab": {
     "base_uri": "https://localhost:8080/",
     "height": 34
    },
    "colab_type": "code",
    "executionInfo": {
     "elapsed": 12263,
     "status": "ok",
     "timestamp": 1599936760079,
     "user": {
      "displayName": "Sahil -",
      "photoUrl": "",
      "userId": "14051148522636395588"
     },
     "user_tz": -330
    },
    "id": "V_eWmbWh-Zld",
    "outputId": "2e586b36-d169-44a2-dd04-73ceafa997e4"
   },
   "outputs": [
    {
     "data": {
      "text/plain": [
       "'Y'"
      ]
     },
     "execution_count": 220,
     "metadata": {},
     "output_type": "execute_result"
    }
   ],
   "source": [
    "# No misspelled and missing value\n",
    "# Store fillna value into dict()\n",
    "fillna_value['CentralAir'] = train_df['CentralAir'].mode()[0]\n",
    "fillna_value['CentralAir']"
   ]
  },
  {
   "cell_type": "code",
   "execution_count": 221,
   "metadata": {
    "colab": {
     "base_uri": "https://localhost:8080/",
     "height": 86
    },
    "colab_type": "code",
    "executionInfo": {
     "elapsed": 12239,
     "status": "ok",
     "timestamp": 1599936760079,
     "user": {
      "displayName": "Sahil -",
      "photoUrl": "",
      "userId": "14051148522636395588"
     },
     "user_tz": -330
    },
    "id": "-0APJoXu-oUk",
    "outputId": "71883bd6-41e3-460a-ea2f-af4406958918"
   },
   "outputs": [
    {
     "name": "stdout",
     "output_type": "stream",
     "text": [
      "Value provide by data description:\n",
      " ['N', 'Y']\n",
      "Value from train column:\n",
      " ['N', 'Y']\n"
     ]
    }
   ],
   "source": [
    "# Check if any missing value or misspelled in test data?\n",
    "printing_values_for_column(category_column,test_df,'CentralAir')"
   ]
  },
  {
   "cell_type": "markdown",
   "metadata": {
    "colab_type": "text",
    "id": "NMdyJbQacqNA"
   },
   "source": [
    "## Electrical"
   ]
  },
  {
   "cell_type": "code",
   "execution_count": 222,
   "metadata": {
    "colab": {
     "base_uri": "https://localhost:8080/",
     "height": 34
    },
    "colab_type": "code",
    "executionInfo": {
     "elapsed": 12215,
     "status": "ok",
     "timestamp": 1599936760079,
     "user": {
      "displayName": "Sahil -",
      "photoUrl": "",
      "userId": "14051148522636395588"
     },
     "user_tz": -330
    },
    "id": "_gg8zNZwcsvP",
    "outputId": "1989d34d-dd45-4768-f014-ba0cea38a68c"
   },
   "outputs": [
    {
     "name": "stdout",
     "output_type": "stream",
     "text": [
      "There is missing value\n"
     ]
    }
   ],
   "source": [
    "# It's categorical feature\n",
    "printing_values_for_column(category_column,train_df,'Electrical')"
   ]
  },
  {
   "cell_type": "code",
   "execution_count": 223,
   "metadata": {
    "colab": {
     "base_uri": "https://localhost:8080/",
     "height": 34
    },
    "colab_type": "code",
    "executionInfo": {
     "elapsed": 12193,
     "status": "ok",
     "timestamp": 1599936760080,
     "user": {
      "displayName": "Sahil -",
      "photoUrl": "",
      "userId": "14051148522636395588"
     },
     "user_tz": -330
    },
    "id": "PG3-IUPTctCn",
    "outputId": "c0a488a0-b32c-4e7d-db2d-a8870d282811"
   },
   "outputs": [
    {
     "data": {
      "text/plain": [
       "1"
      ]
     },
     "execution_count": 223,
     "metadata": {},
     "output_type": "execute_result"
    }
   ],
   "source": [
    "# Fraction of missing value\n",
    "train_df['Electrical'].isna().sum()"
   ]
  },
  {
   "cell_type": "code",
   "execution_count": 224,
   "metadata": {
    "colab": {
     "base_uri": "https://localhost:8080/",
     "height": 34
    },
    "colab_type": "code",
    "executionInfo": {
     "elapsed": 12170,
     "status": "ok",
     "timestamp": 1599936760081,
     "user": {
      "displayName": "Sahil -",
      "photoUrl": "",
      "userId": "14051148522636395588"
     },
     "user_tz": -330
    },
    "id": "-fe9xS-Qf3wt",
    "outputId": "21a427a9-1a9a-4ed7-bd86-8b523d2db22f"
   },
   "outputs": [
    {
     "data": {
      "text/plain": [
       "Int64Index([1379], dtype='int64')"
      ]
     },
     "execution_count": 224,
     "metadata": {},
     "output_type": "execute_result"
    }
   ],
   "source": [
    "train_df[train_df[\"Electrical\"].isna()==True].index"
   ]
  },
  {
   "cell_type": "code",
   "execution_count": 225,
   "metadata": {
    "colab": {
     "base_uri": "https://localhost:8080/",
     "height": 34
    },
    "colab_type": "code",
    "executionInfo": {
     "elapsed": 12148,
     "status": "ok",
     "timestamp": 1599936760082,
     "user": {
      "displayName": "Sahil -",
      "photoUrl": "",
      "userId": "14051148522636395588"
     },
     "user_tz": -330
    },
    "id": "pmZCZN3epyZB",
    "outputId": "1ccbca2e-82e6-463d-a8f9-6eb209a91356"
   },
   "outputs": [
    {
     "data": {
      "text/plain": [
       "(array([1351], dtype=int64),)"
      ]
     },
     "execution_count": 225,
     "metadata": {},
     "output_type": "execute_result"
    }
   ],
   "source": [
    "np.where(train_df.index == 1379)"
   ]
  },
  {
   "cell_type": "code",
   "execution_count": 226,
   "metadata": {
    "colab": {
     "base_uri": "https://localhost:8080/",
     "height": 34
    },
    "colab_type": "code",
    "executionInfo": {
     "elapsed": 12124,
     "status": "ok",
     "timestamp": 1599936760082,
     "user": {
      "displayName": "Sahil -",
      "photoUrl": "",
      "userId": "14051148522636395588"
     },
     "user_tz": -330
    },
    "id": "EjTjVjUFlAkN",
    "outputId": "c8e0be7b-d2ed-436b-d87c-53097637065a"
   },
   "outputs": [
    {
     "data": {
      "text/plain": [
       "1379"
      ]
     },
     "execution_count": 226,
     "metadata": {},
     "output_type": "execute_result"
    }
   ],
   "source": [
    "train_df['Electrical'].index[1351]"
   ]
  },
  {
   "cell_type": "code",
   "execution_count": 227,
   "metadata": {
    "colab": {},
    "colab_type": "code",
    "executionInfo": {
     "elapsed": 12123,
     "status": "ok",
     "timestamp": 1599936760083,
     "user": {
      "displayName": "Sahil -",
      "photoUrl": "",
      "userId": "14051148522636395588"
     },
     "user_tz": -330
    },
    "id": "ytlSV4NCk3Ev"
   },
   "outputs": [],
   "source": [
    "train_df.drop(train_df.index[1351], inplace=True)"
   ]
  },
  {
   "cell_type": "code",
   "execution_count": 228,
   "metadata": {
    "colab": {
     "base_uri": "https://localhost:8080/",
     "height": 34
    },
    "colab_type": "code",
    "executionInfo": {
     "elapsed": 12100,
     "status": "ok",
     "timestamp": 1599936760083,
     "user": {
      "displayName": "Sahil -",
      "photoUrl": "",
      "userId": "14051148522636395588"
     },
     "user_tz": -330
    },
    "id": "1foPTjVecs7Y",
    "outputId": "e5d840d8-cfe7-4b68-ef10-6455ceb9d15d"
   },
   "outputs": [
    {
     "data": {
      "text/plain": [
       "(1430, 80)"
      ]
     },
     "execution_count": 228,
     "metadata": {},
     "output_type": "execute_result"
    }
   ],
   "source": [
    "train_df.shape"
   ]
  },
  {
   "cell_type": "code",
   "execution_count": 229,
   "metadata": {
    "colab": {
     "base_uri": "https://localhost:8080/",
     "height": 86
    },
    "colab_type": "code",
    "executionInfo": {
     "elapsed": 12077,
     "status": "ok",
     "timestamp": 1599936760084,
     "user": {
      "displayName": "Sahil -",
      "photoUrl": "",
      "userId": "14051148522636395588"
     },
     "user_tz": -330
    },
    "id": "L-j7BDlWd6BN",
    "outputId": "3a8eeb39-716c-434f-9562-cf16669e76a1"
   },
   "outputs": [
    {
     "name": "stdout",
     "output_type": "stream",
     "text": [
      "Value provide by data description:\n",
      " ['FuseA', 'FuseF', 'FuseP', 'Mix', 'SBrkr']\n",
      "Value from train column:\n",
      " ['FuseA', 'FuseF', 'FuseP', 'Mix', 'SBrkr']\n"
     ]
    }
   ],
   "source": [
    "# It's categorical feature\n",
    "printing_values_for_column(category_column,train_df,'Electrical')"
   ]
  },
  {
   "cell_type": "code",
   "execution_count": 230,
   "metadata": {
    "colab": {
     "base_uri": "https://localhost:8080/",
     "height": 34
    },
    "colab_type": "code",
    "executionInfo": {
     "elapsed": 12053,
     "status": "ok",
     "timestamp": 1599936760084,
     "user": {
      "displayName": "Sahil -",
      "photoUrl": "",
      "userId": "14051148522636395588"
     },
     "user_tz": -330
    },
    "id": "InGB4T58csh0",
    "outputId": "39d38fcf-f1e5-4445-a2bf-d2523daf7849"
   },
   "outputs": [
    {
     "data": {
      "text/plain": [
       "'SBrkr'"
      ]
     },
     "execution_count": 230,
     "metadata": {},
     "output_type": "execute_result"
    }
   ],
   "source": [
    "# No mispelled\n",
    "# Store fillna value inti dict()\n",
    "fillna_value['Electrical'] = train_df['Electrical'].mode()[0]\n",
    "fillna_value['Electrical']"
   ]
  },
  {
   "cell_type": "code",
   "execution_count": 231,
   "metadata": {
    "colab": {
     "base_uri": "https://localhost:8080/",
     "height": 34
    },
    "colab_type": "code",
    "executionInfo": {
     "elapsed": 12027,
     "status": "ok",
     "timestamp": 1599936760084,
     "user": {
      "displayName": "Sahil -",
      "photoUrl": "",
      "userId": "14051148522636395588"
     },
     "user_tz": -330
    },
    "id": "CnOq0jHId2mO",
    "outputId": "a819fef9-50f0-4209-85a3-d74b737d33e3"
   },
   "outputs": [
    {
     "data": {
      "text/plain": [
       "False"
      ]
     },
     "execution_count": 231,
     "metadata": {},
     "output_type": "execute_result"
    }
   ],
   "source": [
    "# Check if any missing value in test data?\n",
    "test_df['Electrical'].isna().any()"
   ]
  },
  {
   "cell_type": "markdown",
   "metadata": {
    "colab_type": "text",
    "id": "V1ztCDKB-z0L"
   },
   "source": [
    "## 1stFlrSF"
   ]
  },
  {
   "cell_type": "code",
   "execution_count": 232,
   "metadata": {
    "colab": {
     "base_uri": "https://localhost:8080/",
     "height": 0
    },
    "colab_type": "code",
    "executionInfo": {
     "elapsed": 12011,
     "status": "ok",
     "timestamp": 1599936760085,
     "user": {
      "displayName": "Sahil -",
      "photoUrl": "",
      "userId": "14051148522636395588"
     },
     "user_tz": -330
    },
    "id": "hI_HAWnf-yam",
    "outputId": "abf25cc5-5d37-463c-8016-1ff5f2d1559c"
   },
   "outputs": [
    {
     "data": {
      "text/plain": [
       "False"
      ]
     },
     "execution_count": 232,
     "metadata": {},
     "output_type": "execute_result"
    }
   ],
   "source": [
    "# Its numerical feature\n",
    "train_df['1stFlrSF'].isna().any()"
   ]
  },
  {
   "cell_type": "code",
   "execution_count": 233,
   "metadata": {
    "colab": {
     "base_uri": "https://localhost:8080/",
     "height": 0
    },
    "colab_type": "code",
    "executionInfo": {
     "elapsed": 12002,
     "status": "ok",
     "timestamp": 1599936760085,
     "user": {
      "displayName": "Sahil -",
      "photoUrl": "",
      "userId": "14051148522636395588"
     },
     "user_tz": -330
    },
    "id": "olaZlG0g-95-",
    "outputId": "934e48f2-5dce-49b5-d802-a8a49a3db1c8"
   },
   "outputs": [
    {
     "data": {
      "image/png": "[encoded data removed]",
      "text/plain": [
       "<Figure size 432x288 with 1 Axes>"
      ]
     },
     "metadata": {
      "needs_background": "light"
     },
     "output_type": "display_data"
    }
   ],
   "source": [
    "# Plot the distribution\n",
    "plt.plot(train_df['1stFlrSF'].values)\n",
    "plt.show()"
   ]
  },
  {
   "cell_type": "markdown",
   "metadata": {
    "colab_type": "text",
    "id": "miMSixxs_GeK"
   },
   "source": [
    "<u>Observation:</u> Remove that are greater than 2500 which may look outlier."
   ]
  },
  {
   "cell_type": "code",
   "execution_count": 234,
   "metadata": {
    "colab": {
     "base_uri": "https://localhost:8080/",
     "height": 0
    },
    "colab_type": "code",
    "executionInfo": {
     "elapsed": 11994,
     "status": "ok",
     "timestamp": 1599936760086,
     "user": {
      "displayName": "Sahil -",
      "photoUrl": "",
      "userId": "14051148522636395588"
     },
     "user_tz": -330
    },
    "id": "FuThTIaM_ECb",
    "outputId": "bb0df97d-3373-4808-f504-c9a47b2e9198"
   },
   "outputs": [
    {
     "name": "stdout",
     "output_type": "stream",
     "text": [
      "Number of sample will be remaining: 1428 (99.86013986013987 %)\n"
     ]
    }
   ],
   "source": [
    "# Count the number of sample will be present if we remove those sample which\n",
    "# have greater than 2500\n",
    "count = 0\n",
    "store_value = []\n",
    "for i in train_df['1stFlrSF']:\n",
    "    if np.isnan(i):\n",
    "        count += 1\n",
    "    elif i <= 2500:\n",
    "        count += 1\n",
    "        store_value.append(i)\n",
    "    else:\n",
    "        continue\n",
    "\n",
    "total_frac = (count/train_df.shape[0])*100\n",
    "print('Number of sample will be remaining:',count,'({} %)'.format(total_frac))"
   ]
  },
  {
   "cell_type": "code",
   "execution_count": 235,
   "metadata": {
    "colab": {
     "base_uri": "https://localhost:8080/",
     "height": 0
    },
    "colab_type": "code",
    "executionInfo": {
     "elapsed": 11985,
     "status": "ok",
     "timestamp": 1599936760086,
     "user": {
      "displayName": "Sahil -",
      "photoUrl": "",
      "userId": "14051148522636395588"
     },
     "user_tz": -330
    },
    "id": "1g2JeA2Z_aGn",
    "outputId": "be2f8376-5562-4a3d-b970-7cbbf6d5e520"
   },
   "outputs": [
    {
     "data": {
      "text/plain": [
       "1141.9565826330531"
      ]
     },
     "execution_count": 235,
     "metadata": {},
     "output_type": "execute_result"
    }
   ],
   "source": [
    "# Store the fillna value into dict()\n",
    "fillna_value['1stFlrSF'] = np.mean(store_value)\n",
    "fillna_value['1stFlrSF']"
   ]
  },
  {
   "cell_type": "code",
   "execution_count": 236,
   "metadata": {
    "colab": {
     "base_uri": "https://localhost:8080/",
     "height": 0
    },
    "colab_type": "code",
    "executionInfo": {
     "elapsed": 11976,
     "status": "ok",
     "timestamp": 1599936760087,
     "user": {
      "displayName": "Sahil -",
      "photoUrl": "",
      "userId": "14051148522636395588"
     },
     "user_tz": -330
    },
    "id": "uVYANnJZ_iFt",
    "outputId": "c7fc1c14-ed82-41b0-d768-c995b72c110e"
   },
   "outputs": [
    {
     "data": {
      "text/plain": [
       "(1428, 80)"
      ]
     },
     "execution_count": 236,
     "metadata": {},
     "output_type": "execute_result"
    }
   ],
   "source": [
    "# Remove that are greater than 2500\n",
    "train_df = train_df[train_df['1stFlrSF'] <= 2500]\n",
    "train_df.shape # Check the number of samples"
   ]
  },
  {
   "cell_type": "code",
   "execution_count": 237,
   "metadata": {
    "colab": {
     "base_uri": "https://localhost:8080/",
     "height": 0
    },
    "colab_type": "code",
    "executionInfo": {
     "elapsed": 11968,
     "status": "ok",
     "timestamp": 1599936760087,
     "user": {
      "displayName": "Sahil -",
      "photoUrl": "",
      "userId": "14051148522636395588"
     },
     "user_tz": -330
    },
    "id": "-0jvzGON_naQ",
    "outputId": "6ea710c3-3f92-4d5d-ca46-58ad8f2577de"
   },
   "outputs": [
    {
     "name": "stdout",
     "output_type": "stream",
     "text": [
      "False\n"
     ]
    }
   ],
   "source": [
    "# Check missing value in test data\n",
    "print(test_df['1stFlrSF'].isna().any())"
   ]
  },
  {
   "cell_type": "markdown",
   "metadata": {
    "colab_type": "text",
    "id": "v3QCjSkZ_vZd"
   },
   "source": [
    "## 2ndFlrSF"
   ]
  },
  {
   "cell_type": "code",
   "execution_count": 238,
   "metadata": {
    "colab": {
     "base_uri": "https://localhost:8080/",
     "height": 0
    },
    "colab_type": "code",
    "executionInfo": {
     "elapsed": 11958,
     "status": "ok",
     "timestamp": 1599936760087,
     "user": {
      "displayName": "Sahil -",
      "photoUrl": "",
      "userId": "14051148522636395588"
     },
     "user_tz": -330
    },
    "id": "y6LmUMS1_sCb",
    "outputId": "8bf0fbaa-1afe-4704-97c0-f89e2fbd2555"
   },
   "outputs": [
    {
     "data": {
      "text/plain": [
       "False"
      ]
     },
     "execution_count": 238,
     "metadata": {},
     "output_type": "execute_result"
    }
   ],
   "source": [
    "# Its numerical feature\n",
    "train_df['2ndFlrSF'].isna().any()"
   ]
  },
  {
   "cell_type": "code",
   "execution_count": 239,
   "metadata": {
    "colab": {
     "base_uri": "https://localhost:8080/",
     "height": 0
    },
    "colab_type": "code",
    "executionInfo": {
     "elapsed": 11950,
     "status": "ok",
     "timestamp": 1599936760088,
     "user": {
      "displayName": "Sahil -",
      "photoUrl": "",
      "userId": "14051148522636395588"
     },
     "user_tz": -330
    },
    "id": "WqmHnAjx_5Xw",
    "outputId": "8f8618bd-3fdc-4705-84c8-26c0d7678ea7"
   },
   "outputs": [
    {
     "data": {
      "image/png": "[encoded data removed]",
      "text/plain": [
       "<Figure size 432x288 with 1 Axes>"
      ]
     },
     "metadata": {
      "needs_background": "light"
     },
     "output_type": "display_data"
    }
   ],
   "source": [
    "# Plot the distribution\n",
    "plt.plot(train_df['2ndFlrSF'].values)\n",
    "plt.show()"
   ]
  },
  {
   "cell_type": "markdown",
   "metadata": {
    "colab_type": "text",
    "id": "cBslklgp__ou"
   },
   "source": [
    "<u>Observation</u>: Remove those whose value is greater than 1500 which may contain outliers"
   ]
  },
  {
   "cell_type": "code",
   "execution_count": 240,
   "metadata": {
    "colab": {
     "base_uri": "https://localhost:8080/",
     "height": 0
    },
    "colab_type": "code",
    "executionInfo": {
     "elapsed": 11939,
     "status": "ok",
     "timestamp": 1599936760088,
     "user": {
      "displayName": "Sahil -",
      "photoUrl": "",
      "userId": "14051148522636395588"
     },
     "user_tz": -330
    },
    "id": "23G4g_GO_9NW",
    "outputId": "fad2041e-50f3-46f7-ec09-31785f1385e9"
   },
   "outputs": [
    {
     "name": "stdout",
     "output_type": "stream",
     "text": [
      "Number of sample will be remaining: 1421 (99.50980392156863 %)\n"
     ]
    }
   ],
   "source": [
    "# Count the number of sample will be present if we remove those sample which\n",
    "# have greater than 1500\n",
    "count = 0\n",
    "store_value = []\n",
    "for i in train_df['2ndFlrSF']:\n",
    "    if np.isnan(i):\n",
    "        count += 1\n",
    "    elif i <= 1500:\n",
    "        count += 1\n",
    "        store_value.append(i)\n",
    "    else:\n",
    "        continue\n",
    "\n",
    "total_frac = (count/train_df.shape[0])*100\n",
    "print('Number of sample will be remaining:',count,'({} %)'.format(total_frac))"
   ]
  },
  {
   "cell_type": "code",
   "execution_count": 241,
   "metadata": {
    "colab": {
     "base_uri": "https://localhost:8080/",
     "height": 0
    },
    "colab_type": "code",
    "executionInfo": {
     "elapsed": 11931,
     "status": "ok",
     "timestamp": 1599936760089,
     "user": {
      "displayName": "Sahil -",
      "photoUrl": "",
      "userId": "14051148522636395588"
     },
     "user_tz": -330
    },
    "id": "pPjruy1AALpN",
    "outputId": "cd339812-4c91-4188-b59f-65145d09a761"
   },
   "outputs": [
    {
     "data": {
      "text/plain": [
       "339.31245601688954"
      ]
     },
     "execution_count": 241,
     "metadata": {},
     "output_type": "execute_result"
    }
   ],
   "source": [
    "# Store the fillna value into dict()\n",
    "fillna_value['2ndFlrSF'] = np.mean(store_value)\n",
    "fillna_value['2ndFlrSF']"
   ]
  },
  {
   "cell_type": "code",
   "execution_count": 242,
   "metadata": {
    "colab": {
     "base_uri": "https://localhost:8080/",
     "height": 0
    },
    "colab_type": "code",
    "executionInfo": {
     "elapsed": 11922,
     "status": "ok",
     "timestamp": 1599936760089,
     "user": {
      "displayName": "Sahil -",
      "photoUrl": "",
      "userId": "14051148522636395588"
     },
     "user_tz": -330
    },
    "id": "Z_NsFBSSAUDr",
    "outputId": "0a5746b8-8db0-467e-ae46-342147747693"
   },
   "outputs": [
    {
     "data": {
      "text/plain": [
       "(1421, 80)"
      ]
     },
     "execution_count": 242,
     "metadata": {},
     "output_type": "execute_result"
    }
   ],
   "source": [
    "# Remove that are greater than 2500\n",
    "train_df = train_df[train_df['2ndFlrSF'] <= 1500]\n",
    "train_df.shape # Check the number of samples"
   ]
  },
  {
   "cell_type": "code",
   "execution_count": 243,
   "metadata": {
    "colab": {
     "base_uri": "https://localhost:8080/",
     "height": 0
    },
    "colab_type": "code",
    "executionInfo": {
     "elapsed": 11913,
     "status": "ok",
     "timestamp": 1599936760089,
     "user": {
      "displayName": "Sahil -",
      "photoUrl": "",
      "userId": "14051148522636395588"
     },
     "user_tz": -330
    },
    "id": "LlSu-zgLAaqp",
    "outputId": "52b8a0de-af5a-4701-bfcb-26b6970e33b7"
   },
   "outputs": [
    {
     "name": "stdout",
     "output_type": "stream",
     "text": [
      "False\n"
     ]
    }
   ],
   "source": [
    "# Check missing value in test data\n",
    "print(test_df['2ndFlrSF'].isna().any())"
   ]
  },
  {
   "cell_type": "markdown",
   "metadata": {
    "colab_type": "text",
    "id": "g2cLLG-3Agjk"
   },
   "source": [
    "## LowQualFinSF"
   ]
  },
  {
   "cell_type": "code",
   "execution_count": 244,
   "metadata": {
    "colab": {
     "base_uri": "https://localhost:8080/",
     "height": 0
    },
    "colab_type": "code",
    "executionInfo": {
     "elapsed": 11905,
     "status": "ok",
     "timestamp": 1599936760090,
     "user": {
      "displayName": "Sahil -",
      "photoUrl": "",
      "userId": "14051148522636395588"
     },
     "user_tz": -330
    },
    "id": "Olc-NBwqAfHV",
    "outputId": "ef1f7f1b-5204-4cd2-a1de-54dd671d273d"
   },
   "outputs": [
    {
     "data": {
      "text/plain": [
       "False"
      ]
     },
     "execution_count": 244,
     "metadata": {},
     "output_type": "execute_result"
    }
   ],
   "source": [
    "# Its numerical feature\n",
    "train_df['LowQualFinSF'].isna().any()"
   ]
  },
  {
   "cell_type": "code",
   "execution_count": 245,
   "metadata": {
    "colab": {
     "base_uri": "https://localhost:8080/",
     "height": 0
    },
    "colab_type": "code",
    "executionInfo": {
     "elapsed": 11896,
     "status": "ok",
     "timestamp": 1599936760090,
     "user": {
      "displayName": "Sahil -",
      "photoUrl": "",
      "userId": "14051148522636395588"
     },
     "user_tz": -330
    },
    "id": "52EBOvgBApvV",
    "outputId": "97e00113-f13d-4d81-8ddf-9fa1d3227730"
   },
   "outputs": [
    {
     "data": {
      "image/png": "[encoded data removed]",
      "text/plain": [
       "<Figure size 432x288 with 1 Axes>"
      ]
     },
     "metadata": {
      "needs_background": "light"
     },
     "output_type": "display_data"
    }
   ],
   "source": [
    "# Plot the distribution\n",
    "plt.plot(train_df['LowQualFinSF'].values)\n",
    "plt.show()"
   ]
  },
  {
   "cell_type": "markdown",
   "metadata": {
    "colab_type": "text",
    "id": "IeQFsynGAzAm"
   },
   "source": [
    "<u>Observation</u>: Its seems we can't conclude anything from this. So, we can neglect it."
   ]
  },
  {
   "cell_type": "code",
   "execution_count": 246,
   "metadata": {
    "colab": {
     "base_uri": "https://localhost:8080/",
     "height": 0
    },
    "colab_type": "code",
    "executionInfo": {
     "elapsed": 11887,
     "status": "ok",
     "timestamp": 1599936760091,
     "user": {
      "displayName": "Sahil -",
      "photoUrl": "",
      "userId": "14051148522636395588"
     },
     "user_tz": -330
    },
    "id": "5tyYIOWdAuNv",
    "outputId": "b72e68f6-6d96-4832-d857-74668a295100"
   },
   "outputs": [
    {
     "data": {
      "text/plain": [
       "0.0"
      ]
     },
     "execution_count": 246,
     "metadata": {},
     "output_type": "execute_result"
    }
   ],
   "source": [
    "# Store the fillna value into dict()\n",
    "fillna_value['LowQualFinSF'] = np.median(train_df['LowQualFinSF'].values)\n",
    "fillna_value['LowQualFinSF']"
   ]
  },
  {
   "cell_type": "code",
   "execution_count": 247,
   "metadata": {
    "colab": {
     "base_uri": "https://localhost:8080/",
     "height": 0
    },
    "colab_type": "code",
    "executionInfo": {
     "elapsed": 11878,
     "status": "ok",
     "timestamp": 1599936760091,
     "user": {
      "displayName": "Sahil -",
      "photoUrl": "",
      "userId": "14051148522636395588"
     },
     "user_tz": -330
    },
    "id": "Vx4aFv3pBGCn",
    "outputId": "98a8abcf-7a5f-4f0c-d909-fb925a9943bd"
   },
   "outputs": [
    {
     "name": "stdout",
     "output_type": "stream",
     "text": [
      "False\n"
     ]
    }
   ],
   "source": [
    "# Check missing value in test data\n",
    "print(test_df['LowQualFinSF'].isna().any())"
   ]
  },
  {
   "cell_type": "markdown",
   "metadata": {
    "colab_type": "text",
    "id": "CgSoKCh3BRwX"
   },
   "source": [
    "## GrLivArea"
   ]
  },
  {
   "cell_type": "code",
   "execution_count": 248,
   "metadata": {
    "colab": {
     "base_uri": "https://localhost:8080/",
     "height": 0
    },
    "colab_type": "code",
    "executionInfo": {
     "elapsed": 11869,
     "status": "ok",
     "timestamp": 1599936760091,
     "user": {
      "displayName": "Sahil -",
      "photoUrl": "",
      "userId": "14051148522636395588"
     },
     "user_tz": -330
    },
    "id": "fxLoYlUkBQxK",
    "outputId": "456050e3-951d-435a-d91c-500cf7ed533a"
   },
   "outputs": [
    {
     "data": {
      "text/plain": [
       "False"
      ]
     },
     "execution_count": 248,
     "metadata": {},
     "output_type": "execute_result"
    }
   ],
   "source": [
    "# Its numerical feature\n",
    "train_df['GrLivArea'].isna().any()"
   ]
  },
  {
   "cell_type": "code",
   "execution_count": 249,
   "metadata": {
    "colab": {
     "base_uri": "https://localhost:8080/",
     "height": 0
    },
    "colab_type": "code",
    "executionInfo": {
     "elapsed": 11861,
     "status": "ok",
     "timestamp": 1599936760092,
     "user": {
      "displayName": "Sahil -",
      "photoUrl": "",
      "userId": "14051148522636395588"
     },
     "user_tz": -330
    },
    "id": "CGNUzbHoBbb-",
    "outputId": "97d30027-e617-49f0-c333-8ce26d5df620"
   },
   "outputs": [
    {
     "data": {
      "image/png": "[encoded data removed]",
      "text/plain": [
       "<Figure size 432x288 with 1 Axes>"
      ]
     },
     "metadata": {
      "needs_background": "light"
     },
     "output_type": "display_data"
    }
   ],
   "source": [
    "# Plot the distribution\n",
    "plt.plot(train_df['GrLivArea'].values)\n",
    "plt.show()"
   ]
  },
  {
   "cell_type": "code",
   "execution_count": 250,
   "metadata": {
    "colab": {
     "base_uri": "https://localhost:8080/",
     "height": 0
    },
    "colab_type": "code",
    "executionInfo": {
     "elapsed": 11852,
     "status": "ok",
     "timestamp": 1599936760092,
     "user": {
      "displayName": "Sahil -",
      "photoUrl": "",
      "userId": "14051148522636395588"
     },
     "user_tz": -330
    },
    "id": "0picRK2yBfd7",
    "outputId": "b6a0d072-21b6-4761-e5a1-ea5a57366528"
   },
   "outputs": [
    {
     "name": "stdout",
     "output_type": "stream",
     "text": [
      "Number of sample will be remaining: 1413 (99.43701618578466 %)\n"
     ]
    }
   ],
   "source": [
    "# Count the number of sample will be present if we remove those sample which\n",
    "# have greater than 3000\n",
    "count = 0\n",
    "store_value = []\n",
    "for i in train_df['GrLivArea']:\n",
    "    if np.isnan(i):\n",
    "        count += 1\n",
    "    elif i <= 3000:\n",
    "        count += 1\n",
    "        store_value.append(i)\n",
    "    else:\n",
    "        continue\n",
    "\n",
    "total_frac = (count/train_df.shape[0])*100\n",
    "print('Number of sample will be remaining:',count,'({} %)'.format(total_frac))"
   ]
  },
  {
   "cell_type": "code",
   "execution_count": 251,
   "metadata": {
    "colab": {
     "base_uri": "https://localhost:8080/",
     "height": 0
    },
    "colab_type": "code",
    "executionInfo": {
     "elapsed": 11844,
     "status": "ok",
     "timestamp": 1599936760093,
     "user": {
      "displayName": "Sahil -",
      "photoUrl": "",
      "userId": "14051148522636395588"
     },
     "user_tz": -330
    },
    "id": "mgW6AMipBu68",
    "outputId": "e9ccf2e6-b6be-4d8a-8fd2-fcecf411304e"
   },
   "outputs": [
    {
     "data": {
      "text/plain": [
       "1475.0297239915074"
      ]
     },
     "execution_count": 251,
     "metadata": {},
     "output_type": "execute_result"
    }
   ],
   "source": [
    "# Store the fillna value into dict()\n",
    "fillna_value['GrLivArea'] = np.mean(store_value)\n",
    "fillna_value['GrLivArea']"
   ]
  },
  {
   "cell_type": "code",
   "execution_count": 252,
   "metadata": {
    "colab": {
     "base_uri": "https://localhost:8080/",
     "height": 0
    },
    "colab_type": "code",
    "executionInfo": {
     "elapsed": 11835,
     "status": "ok",
     "timestamp": 1599936760093,
     "user": {
      "displayName": "Sahil -",
      "photoUrl": "",
      "userId": "14051148522636395588"
     },
     "user_tz": -330
    },
    "id": "mpk9zyanB04t",
    "outputId": "844e7a94-121e-4e18-9119-732dbf1268eb"
   },
   "outputs": [
    {
     "data": {
      "text/plain": [
       "(1413, 80)"
      ]
     },
     "execution_count": 252,
     "metadata": {},
     "output_type": "execute_result"
    }
   ],
   "source": [
    "# Remove that are greater than 3000\n",
    "train_df = train_df[train_df['GrLivArea'] <= 3000]\n",
    "train_df.shape # Check the number of samples"
   ]
  },
  {
   "cell_type": "code",
   "execution_count": 253,
   "metadata": {
    "colab": {
     "base_uri": "https://localhost:8080/",
     "height": 0
    },
    "colab_type": "code",
    "executionInfo": {
     "elapsed": 11826,
     "status": "ok",
     "timestamp": 1599936760093,
     "user": {
      "displayName": "Sahil -",
      "photoUrl": "",
      "userId": "14051148522636395588"
     },
     "user_tz": -330
    },
    "id": "8Xb4auAtB_Ar",
    "outputId": "36d6dedd-4276-4e4b-803a-4fa17e7be0c3"
   },
   "outputs": [
    {
     "name": "stdout",
     "output_type": "stream",
     "text": [
      "False\n"
     ]
    }
   ],
   "source": [
    "# Check missing value in test data\n",
    "print(test_df['GrLivArea'].isna().any())"
   ]
  },
  {
   "cell_type": "markdown",
   "metadata": {
    "colab_type": "text",
    "id": "WTpW3uyeCFeH"
   },
   "source": [
    "## BsmtFullBath"
   ]
  },
  {
   "cell_type": "code",
   "execution_count": 254,
   "metadata": {
    "colab": {
     "base_uri": "https://localhost:8080/",
     "height": 0
    },
    "colab_type": "code",
    "executionInfo": {
     "elapsed": 11817,
     "status": "ok",
     "timestamp": 1599936760094,
     "user": {
      "displayName": "Sahil -",
      "photoUrl": "",
      "userId": "14051148522636395588"
     },
     "user_tz": -330
    },
    "id": "B0oe7utbCEdv",
    "outputId": "8477e8f3-85d4-4c12-c502-5287a3d8f620"
   },
   "outputs": [
    {
     "data": {
      "text/plain": [
       "False"
      ]
     },
     "execution_count": 254,
     "metadata": {},
     "output_type": "execute_result"
    }
   ],
   "source": [
    "train_df['BsmtFullBath'].isna().any()"
   ]
  },
  {
   "cell_type": "code",
   "execution_count": 255,
   "metadata": {
    "colab": {
     "base_uri": "https://localhost:8080/",
     "height": 0
    },
    "colab_type": "code",
    "executionInfo": {
     "elapsed": 13321,
     "status": "ok",
     "timestamp": 1599936761606,
     "user": {
      "displayName": "Sahil -",
      "photoUrl": "",
      "userId": "14051148522636395588"
     },
     "user_tz": -330
    },
    "id": "1qmtU0RrCRH6",
    "outputId": "06acfb5d-0c88-4951-a05a-82e3734c3a62"
   },
   "outputs": [
    {
     "data": {
      "image/png": "[encoded data removed]",
      "text/plain": [
       "<Figure size 432x288 with 1 Axes>"
      ]
     },
     "metadata": {
      "needs_background": "light"
     },
     "output_type": "display_data"
    }
   ],
   "source": [
    "# Plot the distribution\n",
    "plt.plot(train_df['BsmtFullBath'].values)\n",
    "plt.show()"
   ]
  },
  {
   "cell_type": "markdown",
   "metadata": {},
   "source": [
    "<u>Observation:</u> We can't conclude anything."
   ]
  },
  {
   "cell_type": "code",
   "execution_count": 256,
   "metadata": {
    "colab": {
     "base_uri": "https://localhost:8080/",
     "height": 0
    },
    "colab_type": "code",
    "executionInfo": {
     "elapsed": 13311,
     "status": "ok",
     "timestamp": 1599936761606,
     "user": {
      "displayName": "Sahil -",
      "photoUrl": "",
      "userId": "14051148522636395588"
     },
     "user_tz": -330
    },
    "id": "GDSE1h-_CWT-",
    "outputId": "f3bbe42d-adc5-4b22-f36f-67743eb8deb7"
   },
   "outputs": [
    {
     "data": {
      "text/plain": [
       "0.0"
      ]
     },
     "execution_count": 256,
     "metadata": {},
     "output_type": "execute_result"
    }
   ],
   "source": [
    "# Store fillna value into dict()\n",
    "fillna_value['BsmtFullBath'] = np.median(train_df['BsmtFullBath'].values)\n",
    "fillna_value['BsmtFullBath']"
   ]
  },
  {
   "cell_type": "code",
   "execution_count": 257,
   "metadata": {
    "colab": {
     "base_uri": "https://localhost:8080/",
     "height": 0
    },
    "colab_type": "code",
    "executionInfo": {
     "elapsed": 13304,
     "status": "ok",
     "timestamp": 1599936761607,
     "user": {
      "displayName": "Sahil -",
      "photoUrl": "",
      "userId": "14051148522636395588"
     },
     "user_tz": -330
    },
    "id": "N3VW2SlKClPs",
    "outputId": "9ef9f44b-8b31-4126-b041-4fd734eb6fac"
   },
   "outputs": [
    {
     "name": "stdout",
     "output_type": "stream",
     "text": [
      "True\n"
     ]
    }
   ],
   "source": [
    "# Check missing value in test data\n",
    "print(test_df['BsmtFullBath'].isna().any())"
   ]
  },
  {
   "cell_type": "code",
   "execution_count": 258,
   "metadata": {
    "colab": {},
    "colab_type": "code",
    "executionInfo": {
     "elapsed": 13301,
     "status": "ok",
     "timestamp": 1599936761607,
     "user": {
      "displayName": "Sahil -",
      "photoUrl": "",
      "userId": "14051148522636395588"
     },
     "user_tz": -330
    },
    "id": "GAwWAPFpC0Rd"
   },
   "outputs": [],
   "source": [
    "# Replace with the fillna value\n",
    "test_df['BsmtFullBath'].fillna(fillna_value['BsmtFullBath'], inplace=True)"
   ]
  },
  {
   "cell_type": "code",
   "execution_count": 259,
   "metadata": {
    "colab": {
     "base_uri": "https://localhost:8080/",
     "height": 0
    },
    "colab_type": "code",
    "executionInfo": {
     "elapsed": 13293,
     "status": "ok",
     "timestamp": 1599936761608,
     "user": {
      "displayName": "Sahil -",
      "photoUrl": "",
      "userId": "14051148522636395588"
     },
     "user_tz": -330
    },
    "id": "IuSOy3txC9kw",
    "outputId": "57ff72cb-27ec-4075-c107-a66d98842dd0"
   },
   "outputs": [
    {
     "name": "stdout",
     "output_type": "stream",
     "text": [
      "False\n"
     ]
    }
   ],
   "source": [
    "# Check again if any missing value in test data\n",
    "print(test_df['BsmtFullBath'].isna().any())"
   ]
  },
  {
   "cell_type": "markdown",
   "metadata": {
    "colab_type": "text",
    "id": "7aEh4OHGDFiA"
   },
   "source": [
    "## BsmtHalfBath"
   ]
  },
  {
   "cell_type": "code",
   "execution_count": 260,
   "metadata": {
    "colab": {
     "base_uri": "https://localhost:8080/",
     "height": 0
    },
    "colab_type": "code",
    "executionInfo": {
     "elapsed": 13285,
     "status": "ok",
     "timestamp": 1599936761608,
     "user": {
      "displayName": "Sahil -",
      "photoUrl": "",
      "userId": "14051148522636395588"
     },
     "user_tz": -330
    },
    "id": "IUsNWST8DAuJ",
    "outputId": "bf8504dc-c472-4a57-f23f-faba4e3b3d6b"
   },
   "outputs": [
    {
     "data": {
      "text/plain": [
       "False"
      ]
     },
     "execution_count": 260,
     "metadata": {},
     "output_type": "execute_result"
    }
   ],
   "source": [
    "# It's numcerical feature\n",
    "train_df['BsmtHalfBath'].isna().any()"
   ]
  },
  {
   "cell_type": "code",
   "execution_count": 261,
   "metadata": {
    "colab": {
     "base_uri": "https://localhost:8080/",
     "height": 0
    },
    "colab_type": "code",
    "executionInfo": {
     "elapsed": 13275,
     "status": "ok",
     "timestamp": 1599936761608,
     "user": {
      "displayName": "Sahil -",
      "photoUrl": "",
      "userId": "14051148522636395588"
     },
     "user_tz": -330
    },
    "id": "7tDbNBsvDNlm",
    "outputId": "2a96776a-da15-4ca9-d050-686a8a5d0ebb"
   },
   "outputs": [
    {
     "data": {
      "image/png": "[encoded data removed]",
      "text/plain": [
       "<Figure size 432x288 with 1 Axes>"
      ]
     },
     "metadata": {
      "needs_background": "light"
     },
     "output_type": "display_data"
    }
   ],
   "source": [
    "# Plot distribution\n",
    "plt.plot(train_df['BsmtHalfBath'].values)\n",
    "plt.show()"
   ]
  },
  {
   "cell_type": "markdown",
   "metadata": {},
   "source": [
    "<u>Observation:</u> We can't conclude anything."
   ]
  },
  {
   "cell_type": "code",
   "execution_count": 262,
   "metadata": {
    "colab": {
     "base_uri": "https://localhost:8080/",
     "height": 0
    },
    "colab_type": "code",
    "executionInfo": {
     "elapsed": 13268,
     "status": "ok",
     "timestamp": 1599936761609,
     "user": {
      "displayName": "Sahil -",
      "photoUrl": "",
      "userId": "14051148522636395588"
     },
     "user_tz": -330
    },
    "id": "V-TMYWTeDSgg",
    "outputId": "2beafbb8-fd5e-4bb5-8d96-79e18a00684c"
   },
   "outputs": [
    {
     "data": {
      "text/plain": [
       "0.0"
      ]
     },
     "execution_count": 262,
     "metadata": {},
     "output_type": "execute_result"
    }
   ],
   "source": [
    "# Store fillna value into dict()\n",
    "fillna_value['BsmtHalfBath'] = np.median(train_df['BsmtHalfBath'].values)\n",
    "fillna_value['BsmtHalfBath']"
   ]
  },
  {
   "cell_type": "code",
   "execution_count": 263,
   "metadata": {
    "colab": {
     "base_uri": "https://localhost:8080/",
     "height": 0
    },
    "colab_type": "code",
    "executionInfo": {
     "elapsed": 13259,
     "status": "ok",
     "timestamp": 1599936761609,
     "user": {
      "displayName": "Sahil -",
      "photoUrl": "",
      "userId": "14051148522636395588"
     },
     "user_tz": -330
    },
    "id": "R8ZSKDe_DyaU",
    "outputId": "6f602d14-6f0c-4548-b961-770d743af482"
   },
   "outputs": [
    {
     "name": "stdout",
     "output_type": "stream",
     "text": [
      "True\n"
     ]
    }
   ],
   "source": [
    "# Check missing value in test data\n",
    "print(test_df['BsmtHalfBath'].isna().any())"
   ]
  },
  {
   "cell_type": "code",
   "execution_count": 264,
   "metadata": {
    "colab": {},
    "colab_type": "code",
    "executionInfo": {
     "elapsed": 13258,
     "status": "ok",
     "timestamp": 1599936761610,
     "user": {
      "displayName": "Sahil -",
      "photoUrl": "",
      "userId": "14051148522636395588"
     },
     "user_tz": -330
    },
    "id": "V6_Z-RhUD4xV"
   },
   "outputs": [],
   "source": [
    "# Replace with the fillna value\n",
    "test_df['BsmtHalfBath'].fillna(fillna_value['BsmtHalfBath'], inplace=True)"
   ]
  },
  {
   "cell_type": "code",
   "execution_count": 265,
   "metadata": {
    "colab": {
     "base_uri": "https://localhost:8080/",
     "height": 0
    },
    "colab_type": "code",
    "executionInfo": {
     "elapsed": 13248,
     "status": "ok",
     "timestamp": 1599936761610,
     "user": {
      "displayName": "Sahil -",
      "photoUrl": "",
      "userId": "14051148522636395588"
     },
     "user_tz": -330
    },
    "id": "Ef0RhjGMD-TZ",
    "outputId": "539b1f21-6b51-405c-b205-77c9e5cc3d11"
   },
   "outputs": [
    {
     "name": "stdout",
     "output_type": "stream",
     "text": [
      "False\n"
     ]
    }
   ],
   "source": [
    "# Check again if any missing value in test data\n",
    "print(test_df['BsmtHalfBath'].isna().any())"
   ]
  },
  {
   "cell_type": "markdown",
   "metadata": {
    "colab_type": "text",
    "id": "aOpzAIZvECbd"
   },
   "source": [
    "## FullBath"
   ]
  },
  {
   "cell_type": "code",
   "execution_count": 266,
   "metadata": {
    "colab": {
     "base_uri": "https://localhost:8080/",
     "height": 0
    },
    "colab_type": "code",
    "executionInfo": {
     "elapsed": 13239,
     "status": "ok",
     "timestamp": 1599936761610,
     "user": {
      "displayName": "Sahil -",
      "photoUrl": "",
      "userId": "14051148522636395588"
     },
     "user_tz": -330
    },
    "id": "WIKScVBwEA1H",
    "outputId": "5eea5e5d-3ddd-4805-896f-6ae396c56023"
   },
   "outputs": [
    {
     "data": {
      "text/plain": [
       "False"
      ]
     },
     "execution_count": 266,
     "metadata": {},
     "output_type": "execute_result"
    }
   ],
   "source": [
    "# It's numcerical feature\n",
    "train_df['FullBath'].isna().any()"
   ]
  },
  {
   "cell_type": "code",
   "execution_count": 267,
   "metadata": {
    "colab": {
     "base_uri": "https://localhost:8080/",
     "height": 0
    },
    "colab_type": "code",
    "executionInfo": {
     "elapsed": 13231,
     "status": "ok",
     "timestamp": 1599936761611,
     "user": {
      "displayName": "Sahil -",
      "photoUrl": "",
      "userId": "14051148522636395588"
     },
     "user_tz": -330
    },
    "id": "hpBszdYv9yWL",
    "outputId": "38598cdf-5112-4532-d9ae-c7b594ae5ff0"
   },
   "outputs": [
    {
     "data": {
      "image/png": "[encoded data removed]",
      "text/plain": [
       "<Figure size 432x288 with 1 Axes>"
      ]
     },
     "metadata": {
      "needs_background": "light"
     },
     "output_type": "display_data"
    }
   ],
   "source": [
    "# Plot distribution\n",
    "plt.plot(train_df['FullBath'].values)\n",
    "plt.show()"
   ]
  },
  {
   "cell_type": "markdown",
   "metadata": {},
   "source": [
    "<u>Observation:</u> We can't conclude anything."
   ]
  },
  {
   "cell_type": "code",
   "execution_count": 268,
   "metadata": {
    "colab": {
     "base_uri": "https://localhost:8080/",
     "height": 0
    },
    "colab_type": "code",
    "executionInfo": {
     "elapsed": 13222,
     "status": "ok",
     "timestamp": 1599936761611,
     "user": {
      "displayName": "Sahil -",
      "photoUrl": "",
      "userId": "14051148522636395588"
     },
     "user_tz": -330
    },
    "id": "dQ4X9Iaa91NY",
    "outputId": "e324b05e-a51d-4715-9e7f-df47b37dc276"
   },
   "outputs": [
    {
     "data": {
      "text/plain": [
       "2.0"
      ]
     },
     "execution_count": 268,
     "metadata": {},
     "output_type": "execute_result"
    }
   ],
   "source": [
    "# Store the fillna value into dict()\n",
    "fillna_value['FullBath'] = np.median(train_df['FullBath'].values)\n",
    "fillna_value['FullBath']"
   ]
  },
  {
   "cell_type": "code",
   "execution_count": 269,
   "metadata": {
    "colab": {
     "base_uri": "https://localhost:8080/",
     "height": 0
    },
    "colab_type": "code",
    "executionInfo": {
     "elapsed": 13214,
     "status": "ok",
     "timestamp": 1599936761612,
     "user": {
      "displayName": "Sahil -",
      "photoUrl": "",
      "userId": "14051148522636395588"
     },
     "user_tz": -330
    },
    "id": "-hgeRs3U97tR",
    "outputId": "8e24c931-ae0a-4866-9c48-3de37e8c1308"
   },
   "outputs": [
    {
     "name": "stdout",
     "output_type": "stream",
     "text": [
      "False\n"
     ]
    }
   ],
   "source": [
    "# Check missing value in test data\n",
    "print(test_df['FullBath'].isna().any())"
   ]
  },
  {
   "cell_type": "markdown",
   "metadata": {
    "colab_type": "text",
    "id": "y9ICale_-BjX"
   },
   "source": [
    "## HalfBath"
   ]
  },
  {
   "cell_type": "code",
   "execution_count": 270,
   "metadata": {
    "colab": {
     "base_uri": "https://localhost:8080/",
     "height": 0
    },
    "colab_type": "code",
    "executionInfo": {
     "elapsed": 13204,
     "status": "ok",
     "timestamp": 1599936761612,
     "user": {
      "displayName": "Sahil -",
      "photoUrl": "",
      "userId": "14051148522636395588"
     },
     "user_tz": -330
    },
    "id": "sEelVm9e9_kZ",
    "outputId": "df146502-05e5-460a-8dd2-bd30fd1df263"
   },
   "outputs": [
    {
     "data": {
      "text/plain": [
       "False"
      ]
     },
     "execution_count": 270,
     "metadata": {},
     "output_type": "execute_result"
    }
   ],
   "source": [
    "# It's numcerical feature\n",
    "train_df['HalfBath'].isna().any()"
   ]
  },
  {
   "cell_type": "code",
   "execution_count": 271,
   "metadata": {
    "colab": {
     "base_uri": "https://localhost:8080/",
     "height": 0
    },
    "colab_type": "code",
    "executionInfo": {
     "elapsed": 13195,
     "status": "ok",
     "timestamp": 1599936761612,
     "user": {
      "displayName": "Sahil -",
      "photoUrl": "",
      "userId": "14051148522636395588"
     },
     "user_tz": -330
    },
    "id": "Msa0nH7O-GOr",
    "outputId": "f0fe8ad5-9440-4e63-d903-2659297d3daf"
   },
   "outputs": [
    {
     "data": {
      "image/png": "[encoded data removed]",
      "text/plain": [
       "<Figure size 432x288 with 1 Axes>"
      ]
     },
     "metadata": {
      "needs_background": "light"
     },
     "output_type": "display_data"
    }
   ],
   "source": [
    "# Plot distribution\n",
    "plt.plot(train_df['HalfBath'].values)\n",
    "plt.show()"
   ]
  },
  {
   "cell_type": "markdown",
   "metadata": {},
   "source": [
    "<u>Observation:</u> We can't conclude anything."
   ]
  },
  {
   "cell_type": "code",
   "execution_count": 272,
   "metadata": {
    "colab": {
     "base_uri": "https://localhost:8080/",
     "height": 0
    },
    "colab_type": "code",
    "executionInfo": {
     "elapsed": 13187,
     "status": "ok",
     "timestamp": 1599936761613,
     "user": {
      "displayName": "Sahil -",
      "photoUrl": "",
      "userId": "14051148522636395588"
     },
     "user_tz": -330
    },
    "id": "bV5F4_F4-JBH",
    "outputId": "86233e52-e3b0-445f-d933-0a7cd094a62a"
   },
   "outputs": [
    {
     "data": {
      "text/plain": [
       "0.0"
      ]
     },
     "execution_count": 272,
     "metadata": {},
     "output_type": "execute_result"
    }
   ],
   "source": [
    "# Store fillna value into dict()\n",
    "fillna_value['HalfBath'] = np.median(train_df['HalfBath'].values)\n",
    "fillna_value['HalfBath']"
   ]
  },
  {
   "cell_type": "code",
   "execution_count": 273,
   "metadata": {
    "colab": {
     "base_uri": "https://localhost:8080/",
     "height": 0
    },
    "colab_type": "code",
    "executionInfo": {
     "elapsed": 13178,
     "status": "ok",
     "timestamp": 1599936761613,
     "user": {
      "displayName": "Sahil -",
      "photoUrl": "",
      "userId": "14051148522636395588"
     },
     "user_tz": -330
    },
    "id": "ulkN1ytF-MPy",
    "outputId": "e304b3ef-0517-456b-9db5-a070ef39f570"
   },
   "outputs": [
    {
     "name": "stdout",
     "output_type": "stream",
     "text": [
      "False\n"
     ]
    }
   ],
   "source": [
    "# Check missing value in test data\n",
    "print(test_df['HalfBath'].isna().any())"
   ]
  },
  {
   "cell_type": "markdown",
   "metadata": {
    "colab_type": "text",
    "id": "0O3s10gT-RS7"
   },
   "source": [
    "## Bedroom"
   ]
  },
  {
   "cell_type": "code",
   "execution_count": 274,
   "metadata": {
    "colab": {
     "base_uri": "https://localhost:8080/",
     "height": 0
    },
    "colab_type": "code",
    "executionInfo": {
     "elapsed": 13170,
     "status": "ok",
     "timestamp": 1599936761614,
     "user": {
      "displayName": "Sahil -",
      "photoUrl": "",
      "userId": "14051148522636395588"
     },
     "user_tz": -330
    },
    "id": "7h1Eo3iK-QY2",
    "outputId": "6dc01def-97e9-4a29-f9ce-086bec93e75d"
   },
   "outputs": [
    {
     "data": {
      "text/plain": [
       "False"
      ]
     },
     "execution_count": 274,
     "metadata": {},
     "output_type": "execute_result"
    }
   ],
   "source": [
    "# It's numcerical feature\n",
    "train_df['BedroomAbvGr'].isna().any()"
   ]
  },
  {
   "cell_type": "code",
   "execution_count": 275,
   "metadata": {
    "colab": {
     "base_uri": "https://localhost:8080/",
     "height": 0
    },
    "colab_type": "code",
    "executionInfo": {
     "elapsed": 13161,
     "status": "ok",
     "timestamp": 1599936761614,
     "user": {
      "displayName": "Sahil -",
      "photoUrl": "",
      "userId": "14051148522636395588"
     },
     "user_tz": -330
    },
    "id": "SL6eEY82-WsN",
    "outputId": "ffff1d34-ffd6-43c7-8d81-9aa7a5a42cc3"
   },
   "outputs": [
    {
     "data": {
      "image/png": "[encoded data removed]",
      "text/plain": [
       "<Figure size 432x288 with 1 Axes>"
      ]
     },
     "metadata": {
      "needs_background": "light"
     },
     "output_type": "display_data"
    }
   ],
   "source": [
    "# Plot distribution\n",
    "plt.plot(train_df['BedroomAbvGr'].values)\n",
    "plt.show()"
   ]
  },
  {
   "cell_type": "markdown",
   "metadata": {},
   "source": [
    "<u>Observation:</u> We can't conclude anything."
   ]
  },
  {
   "cell_type": "code",
   "execution_count": 276,
   "metadata": {
    "colab": {
     "base_uri": "https://localhost:8080/",
     "height": 0
    },
    "colab_type": "code",
    "executionInfo": {
     "elapsed": 13153,
     "status": "ok",
     "timestamp": 1599936761615,
     "user": {
      "displayName": "Sahil -",
      "photoUrl": "",
      "userId": "14051148522636395588"
     },
     "user_tz": -330
    },
    "id": "c_Ru6xsp-qIt",
    "outputId": "a2a301d5-9460-457d-bde5-de2fbc32266b"
   },
   "outputs": [
    {
     "data": {
      "text/plain": [
       "3.0"
      ]
     },
     "execution_count": 276,
     "metadata": {},
     "output_type": "execute_result"
    }
   ],
   "source": [
    "# Store fillna value into dict()\n",
    "fillna_value['BedroomAbvGr'] = np.median(train_df['BedroomAbvGr'].values)\n",
    "fillna_value['BedroomAbvGr']"
   ]
  },
  {
   "cell_type": "code",
   "execution_count": 277,
   "metadata": {
    "colab": {
     "base_uri": "https://localhost:8080/",
     "height": 0
    },
    "colab_type": "code",
    "executionInfo": {
     "elapsed": 13144,
     "status": "ok",
     "timestamp": 1599936761615,
     "user": {
      "displayName": "Sahil -",
      "photoUrl": "",
      "userId": "14051148522636395588"
     },
     "user_tz": -330
    },
    "id": "vFu35KHw-vYu",
    "outputId": "8ad666fd-e64f-46fb-f46b-486335bdf298"
   },
   "outputs": [
    {
     "name": "stdout",
     "output_type": "stream",
     "text": [
      "False\n"
     ]
    }
   ],
   "source": [
    "# Check missing value in test data\n",
    "print(test_df['BedroomAbvGr'].isna().any())"
   ]
  },
  {
   "cell_type": "markdown",
   "metadata": {
    "colab_type": "text",
    "id": "LIMbSqcb-1xQ"
   },
   "source": [
    "## Kitchen"
   ]
  },
  {
   "cell_type": "code",
   "execution_count": 278,
   "metadata": {
    "colab": {
     "base_uri": "https://localhost:8080/",
     "height": 0
    },
    "colab_type": "code",
    "executionInfo": {
     "elapsed": 13135,
     "status": "ok",
     "timestamp": 1599936761615,
     "user": {
      "displayName": "Sahil -",
      "photoUrl": "",
      "userId": "14051148522636395588"
     },
     "user_tz": -330
    },
    "id": "5zwJOM1_-yFN",
    "outputId": "ca458fe5-6303-40ba-9272-c4b8890beee3"
   },
   "outputs": [
    {
     "data": {
      "text/plain": [
       "False"
      ]
     },
     "execution_count": 278,
     "metadata": {},
     "output_type": "execute_result"
    }
   ],
   "source": [
    "# It's numcerical feature\n",
    "train_df['KitchenAbvGr'].isna().any()"
   ]
  },
  {
   "cell_type": "code",
   "execution_count": 279,
   "metadata": {
    "colab": {
     "base_uri": "https://localhost:8080/",
     "height": 0
    },
    "colab_type": "code",
    "executionInfo": {
     "elapsed": 13127,
     "status": "ok",
     "timestamp": 1599936761616,
     "user": {
      "displayName": "Sahil -",
      "photoUrl": "",
      "userId": "14051148522636395588"
     },
     "user_tz": -330
    },
    "id": "BmemNx0Z-7n5",
    "outputId": "c997de36-2ed5-4633-fcfb-ebfb661a9f40"
   },
   "outputs": [
    {
     "data": {
      "image/png": "[encoded data removed]",
      "text/plain": [
       "<Figure size 432x288 with 1 Axes>"
      ]
     },
     "metadata": {
      "needs_background": "light"
     },
     "output_type": "display_data"
    }
   ],
   "source": [
    "# Plot distribution\n",
    "plt.plot(train_df['KitchenAbvGr'].values)\n",
    "plt.show()"
   ]
  },
  {
   "cell_type": "markdown",
   "metadata": {},
   "source": [
    "<u>Observation:</u> We can't conclude anything."
   ]
  },
  {
   "cell_type": "code",
   "execution_count": 280,
   "metadata": {
    "colab": {
     "base_uri": "https://localhost:8080/",
     "height": 0
    },
    "colab_type": "code",
    "executionInfo": {
     "elapsed": 13118,
     "status": "ok",
     "timestamp": 1599936761616,
     "user": {
      "displayName": "Sahil -",
      "photoUrl": "",
      "userId": "14051148522636395588"
     },
     "user_tz": -330
    },
    "id": "E4RWVoRh--4e",
    "outputId": "dbe7de33-56e4-41db-e593-cca3789b17d6"
   },
   "outputs": [
    {
     "data": {
      "text/plain": [
       "1.0"
      ]
     },
     "execution_count": 280,
     "metadata": {},
     "output_type": "execute_result"
    }
   ],
   "source": [
    "# Store fillna value into dict()\n",
    "fillna_value['KitchenAbvGr'] = np.median(train_df['KitchenAbvGr'].values)\n",
    "fillna_value['KitchenAbvGr']"
   ]
  },
  {
   "cell_type": "code",
   "execution_count": 281,
   "metadata": {
    "colab": {
     "base_uri": "https://localhost:8080/",
     "height": 0
    },
    "colab_type": "code",
    "executionInfo": {
     "elapsed": 13110,
     "status": "ok",
     "timestamp": 1599936761617,
     "user": {
      "displayName": "Sahil -",
      "photoUrl": "",
      "userId": "14051148522636395588"
     },
     "user_tz": -330
    },
    "id": "7_3D7mIc_DaO",
    "outputId": "434a3cd7-67ea-477f-fb75-ab4c2d4be08f"
   },
   "outputs": [
    {
     "name": "stdout",
     "output_type": "stream",
     "text": [
      "False\n"
     ]
    }
   ],
   "source": [
    "# Check missing value in test data\n",
    "print(test_df['KitchenAbvGr'].isna().any())"
   ]
  },
  {
   "cell_type": "markdown",
   "metadata": {
    "colab_type": "text",
    "id": "97-zPP0m_HZ-"
   },
   "source": [
    "## KitchenQual"
   ]
  },
  {
   "cell_type": "code",
   "execution_count": 282,
   "metadata": {
    "colab": {
     "base_uri": "https://localhost:8080/",
     "height": 0
    },
    "colab_type": "code",
    "executionInfo": {
     "elapsed": 13101,
     "status": "ok",
     "timestamp": 1599936761617,
     "user": {
      "displayName": "Sahil -",
      "photoUrl": "",
      "userId": "14051148522636395588"
     },
     "user_tz": -330
    },
    "id": "Whc9LDuY_GfA",
    "outputId": "b99e15d4-0f09-4f2b-a5c5-b1046d13b0cc"
   },
   "outputs": [
    {
     "name": "stdout",
     "output_type": "stream",
     "text": [
      "Value provide by data description:\n",
      " ['Ex', 'Fa', 'Gd', 'Po', 'TA']\n",
      "Value from train column:\n",
      " ['Ex', 'Fa', 'Gd', 'TA']\n"
     ]
    }
   ],
   "source": [
    "printing_values_for_column(category_column,train_df,'KitchenQual')"
   ]
  },
  {
   "cell_type": "code",
   "execution_count": 283,
   "metadata": {
    "colab": {
     "base_uri": "https://localhost:8080/",
     "height": 0
    },
    "colab_type": "code",
    "executionInfo": {
     "elapsed": 13091,
     "status": "ok",
     "timestamp": 1599936761617,
     "user": {
      "displayName": "Sahil -",
      "photoUrl": "",
      "userId": "14051148522636395588"
     },
     "user_tz": -330
    },
    "id": "lOgMmsnj_YoU",
    "outputId": "a9088b21-9922-4767-b06c-7677772307f3"
   },
   "outputs": [
    {
     "data": {
      "text/plain": [
       "'TA'"
      ]
     },
     "execution_count": 283,
     "metadata": {},
     "output_type": "execute_result"
    }
   ],
   "source": [
    "# No mispelled and missing value\n",
    "# Store the fillna value into dict()\n",
    "fillna_value['KitchenQual'] = train_df['KitchenQual'].mode()[0]\n",
    "fillna_value['KitchenQual']"
   ]
  },
  {
   "cell_type": "code",
   "execution_count": 284,
   "metadata": {
    "colab": {
     "base_uri": "https://localhost:8080/",
     "height": 0
    },
    "colab_type": "code",
    "executionInfo": {
     "elapsed": 13083,
     "status": "ok",
     "timestamp": 1599936761618,
     "user": {
      "displayName": "Sahil -",
      "photoUrl": "",
      "userId": "14051148522636395588"
     },
     "user_tz": -330
    },
    "id": "Twwpdd9Z_iJa",
    "outputId": "71634bdb-32eb-4a01-9a1a-078f67b06a82"
   },
   "outputs": [
    {
     "name": "stdout",
     "output_type": "stream",
     "text": [
      "There is missing value\n"
     ]
    }
   ],
   "source": [
    "# Check if any misspelled or missing value in test data?\n",
    "printing_values_for_column(category_column,test_df,'KitchenQual')"
   ]
  },
  {
   "cell_type": "code",
   "execution_count": 285,
   "metadata": {
    "colab": {},
    "colab_type": "code",
    "executionInfo": {
     "elapsed": 14390,
     "status": "ok",
     "timestamp": 1599936762927,
     "user": {
      "displayName": "Sahil -",
      "photoUrl": "",
      "userId": "14051148522636395588"
     },
     "user_tz": -330
    },
    "id": "nQSvbLSp_lcZ"
   },
   "outputs": [],
   "source": [
    "test_df['KitchenQual'].fillna(fillna_value['KitchenQual'], inplace=True)"
   ]
  },
  {
   "cell_type": "code",
   "execution_count": 286,
   "metadata": {
    "colab": {
     "base_uri": "https://localhost:8080/",
     "height": 0
    },
    "colab_type": "code",
    "executionInfo": {
     "elapsed": 14382,
     "status": "ok",
     "timestamp": 1599936762928,
     "user": {
      "displayName": "Sahil -",
      "photoUrl": "",
      "userId": "14051148522636395588"
     },
     "user_tz": -330
    },
    "id": "YD_6ez2i_w9y",
    "outputId": "b67574a3-50ec-4305-9705-3c55c8233028"
   },
   "outputs": [
    {
     "name": "stdout",
     "output_type": "stream",
     "text": [
      "Value provide by data description:\n",
      " ['Ex', 'Fa', 'Gd', 'Po', 'TA']\n",
      "Value from train column:\n",
      " ['Ex', 'Fa', 'Gd', 'TA']\n"
     ]
    }
   ],
   "source": [
    "# Check again if any misspelled or missing value in test data?\n",
    "printing_values_for_column(category_column,test_df,'KitchenQual')"
   ]
  },
  {
   "cell_type": "markdown",
   "metadata": {
    "colab_type": "text",
    "id": "FQ4hL7Ke_1B7"
   },
   "source": [
    "## TotRmsAbvGrd"
   ]
  },
  {
   "cell_type": "code",
   "execution_count": 287,
   "metadata": {
    "colab": {
     "base_uri": "https://localhost:8080/",
     "height": 0
    },
    "colab_type": "code",
    "executionInfo": {
     "elapsed": 14372,
     "status": "ok",
     "timestamp": 1599936762928,
     "user": {
      "displayName": "Sahil -",
      "photoUrl": "",
      "userId": "14051148522636395588"
     },
     "user_tz": -330
    },
    "id": "aFS1qAdB_zD9",
    "outputId": "63ff5520-13dd-4ee3-8e80-250622ae2c9e"
   },
   "outputs": [
    {
     "data": {
      "text/plain": [
       "False"
      ]
     },
     "execution_count": 287,
     "metadata": {},
     "output_type": "execute_result"
    }
   ],
   "source": [
    "# It's numcerical feature\n",
    "train_df['TotRmsAbvGrd'].isna().any()"
   ]
  },
  {
   "cell_type": "code",
   "execution_count": 288,
   "metadata": {
    "colab": {
     "base_uri": "https://localhost:8080/",
     "height": 0
    },
    "colab_type": "code",
    "executionInfo": {
     "elapsed": 14364,
     "status": "ok",
     "timestamp": 1599936762929,
     "user": {
      "displayName": "Sahil -",
      "photoUrl": "",
      "userId": "14051148522636395588"
     },
     "user_tz": -330
    },
    "id": "mpwaUO2R_8Zi",
    "outputId": "b06ddedb-77e4-47b2-d5ff-db4d049eb921"
   },
   "outputs": [
    {
     "data": {
      "image/png": "[encoded data removed]",
      "text/plain": [
       "<Figure size 432x288 with 1 Axes>"
      ]
     },
     "metadata": {
      "needs_background": "light"
     },
     "output_type": "display_data"
    }
   ],
   "source": [
    "# Plot distribution\n",
    "plt.plot(train_df['TotRmsAbvGrd'].values)\n",
    "plt.show()"
   ]
  },
  {
   "cell_type": "markdown",
   "metadata": {},
   "source": [
    "<u>Observation:</u> We can't conclude anything."
   ]
  },
  {
   "cell_type": "code",
   "execution_count": 289,
   "metadata": {
    "colab": {
     "base_uri": "https://localhost:8080/",
     "height": 0
    },
    "colab_type": "code",
    "executionInfo": {
     "elapsed": 14355,
     "status": "ok",
     "timestamp": 1599936762929,
     "user": {
      "displayName": "Sahil -",
      "photoUrl": "",
      "userId": "14051148522636395588"
     },
     "user_tz": -330
    },
    "id": "rouaDu3NAA3v",
    "outputId": "25d2089f-730e-4f60-d122-2bf2210675f9"
   },
   "outputs": [
    {
     "data": {
      "text/plain": [
       "6.0"
      ]
     },
     "execution_count": 289,
     "metadata": {},
     "output_type": "execute_result"
    }
   ],
   "source": [
    "# Store fillna value by dict()\n",
    "fillna_value['TotRmsAbvGrd'] = np.median(train_df['TotRmsAbvGrd'].values)\n",
    "fillna_value['TotRmsAbvGrd']"
   ]
  },
  {
   "cell_type": "code",
   "execution_count": 290,
   "metadata": {
    "colab": {
     "base_uri": "https://localhost:8080/",
     "height": 0
    },
    "colab_type": "code",
    "executionInfo": {
     "elapsed": 14346,
     "status": "ok",
     "timestamp": 1599936762929,
     "user": {
      "displayName": "Sahil -",
      "photoUrl": "",
      "userId": "14051148522636395588"
     },
     "user_tz": -330
    },
    "id": "IJ5GPXQgAG8E",
    "outputId": "f6409b70-fae7-4ec4-9237-8b419da44218"
   },
   "outputs": [
    {
     "name": "stdout",
     "output_type": "stream",
     "text": [
      "False\n"
     ]
    }
   ],
   "source": [
    "# Check missing value in test data\n",
    "print(test_df['TotRmsAbvGrd'].isna().any())"
   ]
  },
  {
   "cell_type": "markdown",
   "metadata": {
    "colab_type": "text",
    "id": "hGp32sc6ALQI"
   },
   "source": [
    "## Functional"
   ]
  },
  {
   "cell_type": "code",
   "execution_count": 291,
   "metadata": {
    "colab": {
     "base_uri": "https://localhost:8080/",
     "height": 0
    },
    "colab_type": "code",
    "executionInfo": {
     "elapsed": 14337,
     "status": "ok",
     "timestamp": 1599936762930,
     "user": {
      "displayName": "Sahil -",
      "photoUrl": "",
      "userId": "14051148522636395588"
     },
     "user_tz": -330
    },
    "id": "qI1OtsfeAKUU",
    "outputId": "fc73379c-4237-4e05-972f-3fc0c9fda90a"
   },
   "outputs": [
    {
     "name": "stdout",
     "output_type": "stream",
     "text": [
      "Value provide by data description:\n",
      " ['Maj1', 'Maj2', 'Min1', 'Min2', 'Mod', 'Sal', 'Sev', 'Typ']\n",
      "Value from train column:\n",
      " ['Maj1', 'Maj2', 'Min1', 'Min2', 'Mod', 'Sev', 'Typ']\n"
     ]
    }
   ],
   "source": [
    "printing_values_for_column(category_column,train_df,'Functional')"
   ]
  },
  {
   "cell_type": "code",
   "execution_count": 292,
   "metadata": {
    "colab": {
     "base_uri": "https://localhost:8080/",
     "height": 0
    },
    "colab_type": "code",
    "executionInfo": {
     "elapsed": 14328,
     "status": "ok",
     "timestamp": 1599936762930,
     "user": {
      "displayName": "Sahil -",
      "photoUrl": "",
      "userId": "14051148522636395588"
     },
     "user_tz": -330
    },
    "id": "4Kd6gVO1ARJt",
    "outputId": "5fb65a8c-f4b5-4006-85b2-a423eca7d5df"
   },
   "outputs": [
    {
     "data": {
      "text/plain": [
       "'Typ'"
      ]
     },
     "execution_count": 292,
     "metadata": {},
     "output_type": "execute_result"
    }
   ],
   "source": [
    "# No mispelled and missing value\n",
    "# Store the fillna value into dict()\n",
    "fillna_value['Functional'] = train_df['Functional'].mode()[0]\n",
    "fillna_value['Functional']"
   ]
  },
  {
   "cell_type": "code",
   "execution_count": 293,
   "metadata": {
    "colab": {
     "base_uri": "https://localhost:8080/",
     "height": 0
    },
    "colab_type": "code",
    "executionInfo": {
     "elapsed": 14319,
     "status": "ok",
     "timestamp": 1599936762930,
     "user": {
      "displayName": "Sahil -",
      "photoUrl": "",
      "userId": "14051148522636395588"
     },
     "user_tz": -330
    },
    "id": "SN5zPc0tAbe2",
    "outputId": "96a71453-08b9-4ec6-84de-fe60a2c57622"
   },
   "outputs": [
    {
     "name": "stdout",
     "output_type": "stream",
     "text": [
      "There is missing value\n"
     ]
    }
   ],
   "source": [
    "# Check if any misspelled or missing value in test data?\n",
    "printing_values_for_column(category_column,test_df,'Functional')"
   ]
  },
  {
   "cell_type": "code",
   "execution_count": 294,
   "metadata": {
    "colab": {},
    "colab_type": "code",
    "executionInfo": {
     "elapsed": 14318,
     "status": "ok",
     "timestamp": 1599936762931,
     "user": {
      "displayName": "Sahil -",
      "photoUrl": "",
      "userId": "14051148522636395588"
     },
     "user_tz": -330
    },
    "id": "c-tks4sDAenq"
   },
   "outputs": [],
   "source": [
    "test_df['Functional'].fillna(fillna_value['Functional'], inplace=True)"
   ]
  },
  {
   "cell_type": "code",
   "execution_count": 295,
   "metadata": {
    "colab": {
     "base_uri": "https://localhost:8080/",
     "height": 0
    },
    "colab_type": "code",
    "executionInfo": {
     "elapsed": 14309,
     "status": "ok",
     "timestamp": 1599936762931,
     "user": {
      "displayName": "Sahil -",
      "photoUrl": "",
      "userId": "14051148522636395588"
     },
     "user_tz": -330
    },
    "id": "CjdzVr0fAiEC",
    "outputId": "ca234880-0f3b-45b4-d4e8-f0a2c1fbe65c"
   },
   "outputs": [
    {
     "name": "stdout",
     "output_type": "stream",
     "text": [
      "Value provide by data description:\n",
      " ['Maj1', 'Maj2', 'Min1', 'Min2', 'Mod', 'Sal', 'Sev', 'Typ']\n",
      "Value from train column:\n",
      " ['Maj1', 'Maj2', 'Min1', 'Min2', 'Mod', 'Sev', 'Typ']\n"
     ]
    }
   ],
   "source": [
    "# Check again if any misspelled or missing value in test data?\n",
    "printing_values_for_column(category_column,test_df,'Functional')"
   ]
  },
  {
   "cell_type": "markdown",
   "metadata": {
    "colab_type": "text",
    "id": "pZOoxJyiAm1q"
   },
   "source": [
    "## Fireplaces"
   ]
  },
  {
   "cell_type": "code",
   "execution_count": 296,
   "metadata": {
    "colab": {
     "base_uri": "https://localhost:8080/",
     "height": 0
    },
    "colab_type": "code",
    "executionInfo": {
     "elapsed": 14300,
     "status": "ok",
     "timestamp": 1599936762932,
     "user": {
      "displayName": "Sahil -",
      "photoUrl": "",
      "userId": "14051148522636395588"
     },
     "user_tz": -330
    },
    "id": "7sVjOF-XAk0R",
    "outputId": "8e9be028-98fc-4b29-aeaa-68d7c29f0211"
   },
   "outputs": [
    {
     "data": {
      "text/plain": [
       "False"
      ]
     },
     "execution_count": 296,
     "metadata": {},
     "output_type": "execute_result"
    }
   ],
   "source": [
    "# It's numcerical feature\n",
    "train_df['Fireplaces'].isna().any()"
   ]
  },
  {
   "cell_type": "code",
   "execution_count": 297,
   "metadata": {
    "colab": {
     "base_uri": "https://localhost:8080/",
     "height": 0
    },
    "colab_type": "code",
    "executionInfo": {
     "elapsed": 14291,
     "status": "ok",
     "timestamp": 1599936762932,
     "user": {
      "displayName": "Sahil -",
      "photoUrl": "",
      "userId": "14051148522636395588"
     },
     "user_tz": -330
    },
    "id": "zaa_XSBLAsF_",
    "outputId": "8469c07a-9b99-45a6-e034-6b628ba9a64e"
   },
   "outputs": [
    {
     "data": {
      "image/png": "[encoded data removed]",
      "text/plain": [
       "<Figure size 432x288 with 1 Axes>"
      ]
     },
     "metadata": {
      "needs_background": "light"
     },
     "output_type": "display_data"
    }
   ],
   "source": [
    "# Plot distribution\n",
    "plt.plot(train_df['Fireplaces'].values)\n",
    "plt.show()"
   ]
  },
  {
   "cell_type": "markdown",
   "metadata": {},
   "source": [
    "<u>Observation:</u> We can't conclude anything."
   ]
  },
  {
   "cell_type": "code",
   "execution_count": 298,
   "metadata": {
    "colab": {
     "base_uri": "https://localhost:8080/",
     "height": 0
    },
    "colab_type": "code",
    "executionInfo": {
     "elapsed": 14282,
     "status": "ok",
     "timestamp": 1599936762932,
     "user": {
      "displayName": "Sahil -",
      "photoUrl": "",
      "userId": "14051148522636395588"
     },
     "user_tz": -330
    },
    "id": "G1hMQfQHAu0V",
    "outputId": "4f1d8aed-586e-40c3-d0a0-938cb19a15e7"
   },
   "outputs": [
    {
     "data": {
      "text/plain": [
       "1.0"
      ]
     },
     "execution_count": 298,
     "metadata": {},
     "output_type": "execute_result"
    }
   ],
   "source": [
    "# Store fillna value by dict()\n",
    "fillna_value['Fireplaces'] = np.median(train_df['Fireplaces'].values)\n",
    "fillna_value['Fireplaces']"
   ]
  },
  {
   "cell_type": "code",
   "execution_count": 299,
   "metadata": {
    "colab": {
     "base_uri": "https://localhost:8080/",
     "height": 0
    },
    "colab_type": "code",
    "executionInfo": {
     "elapsed": 14274,
     "status": "ok",
     "timestamp": 1599936762933,
     "user": {
      "displayName": "Sahil -",
      "photoUrl": "",
      "userId": "14051148522636395588"
     },
     "user_tz": -330
    },
    "id": "jViFeN9GAzZE",
    "outputId": "aee91a9c-f400-4c1c-ca7a-50f9da578c4f"
   },
   "outputs": [
    {
     "name": "stdout",
     "output_type": "stream",
     "text": [
      "False\n"
     ]
    }
   ],
   "source": [
    "# Check missing value in test data\n",
    "print(test_df['Fireplaces'].isna().any())"
   ]
  },
  {
   "cell_type": "markdown",
   "metadata": {
    "colab_type": "text",
    "id": "90yzol9HA3wO"
   },
   "source": [
    "## FireplaceQu"
   ]
  },
  {
   "cell_type": "code",
   "execution_count": 300,
   "metadata": {
    "colab": {
     "base_uri": "https://localhost:8080/",
     "height": 0
    },
    "colab_type": "code",
    "executionInfo": {
     "elapsed": 14265,
     "status": "ok",
     "timestamp": 1599936762933,
     "user": {
      "displayName": "Sahil -",
      "photoUrl": "",
      "userId": "14051148522636395588"
     },
     "user_tz": -330
    },
    "id": "tWjEqOq_A2xV",
    "outputId": "a6fe43f1-128d-4a0b-f925-73a3c437e27a"
   },
   "outputs": [
    {
     "name": "stdout",
     "output_type": "stream",
     "text": [
      "There is missing value\n"
     ]
    }
   ],
   "source": [
    "printing_values_for_column(category_column,train_df,'FireplaceQu')"
   ]
  },
  {
   "cell_type": "code",
   "execution_count": 301,
   "metadata": {
    "colab": {},
    "colab_type": "code",
    "executionInfo": {
     "elapsed": 14264,
     "status": "ok",
     "timestamp": 1599936762934,
     "user": {
      "displayName": "Sahil -",
      "photoUrl": "",
      "userId": "14051148522636395588"
     },
     "user_tz": -330
    },
    "id": "tNkjDO_TA883"
   },
   "outputs": [],
   "source": [
    "# There is missing values. However, in data description.txt\n",
    "# It described NA as No Fireplace\n",
    "train_df['FireplaceQu'].fillna('NA', inplace=True)"
   ]
  },
  {
   "cell_type": "code",
   "execution_count": 302,
   "metadata": {
    "colab": {
     "base_uri": "https://localhost:8080/",
     "height": 0
    },
    "colab_type": "code",
    "executionInfo": {
     "elapsed": 14255,
     "status": "ok",
     "timestamp": 1599936762934,
     "user": {
      "displayName": "Sahil -",
      "photoUrl": "",
      "userId": "14051148522636395588"
     },
     "user_tz": -330
    },
    "id": "EFF6kRAdBLFb",
    "outputId": "1952ac83-4d1f-45ad-fc08-5053fa914d10"
   },
   "outputs": [
    {
     "name": "stdout",
     "output_type": "stream",
     "text": [
      "Value provide by data description:\n",
      " ['Ex', 'Fa', 'Gd', 'NA', 'Po', 'TA']\n",
      "Value from train column:\n",
      " ['Ex', 'Fa', 'Gd', 'NA', 'Po', 'TA']\n"
     ]
    }
   ],
   "source": [
    "printing_values_for_column(category_column,train_df,'FireplaceQu')"
   ]
  },
  {
   "cell_type": "code",
   "execution_count": 303,
   "metadata": {
    "colab": {
     "base_uri": "https://localhost:8080/",
     "height": 0
    },
    "colab_type": "code",
    "executionInfo": {
     "elapsed": 14246,
     "status": "ok",
     "timestamp": 1599936762934,
     "user": {
      "displayName": "Sahil -",
      "photoUrl": "",
      "userId": "14051148522636395588"
     },
     "user_tz": -330
    },
    "id": "qc11XYIsBMVH",
    "outputId": "c6531342-a571-4d08-d86e-24faf16e1286"
   },
   "outputs": [
    {
     "data": {
      "text/plain": [
       "'NA'"
      ]
     },
     "execution_count": 303,
     "metadata": {},
     "output_type": "execute_result"
    }
   ],
   "source": [
    "# No mispelled and missing value\n",
    "# Store the fillna value into dict()\n",
    "fillna_value['FireplaceQu'] = train_df['FireplaceQu'].mode()[0]\n",
    "fillna_value['FireplaceQu']"
   ]
  },
  {
   "cell_type": "code",
   "execution_count": 304,
   "metadata": {
    "colab": {
     "base_uri": "https://localhost:8080/",
     "height": 0
    },
    "colab_type": "code",
    "executionInfo": {
     "elapsed": 14238,
     "status": "ok",
     "timestamp": 1599936762935,
     "user": {
      "displayName": "Sahil -",
      "photoUrl": "",
      "userId": "14051148522636395588"
     },
     "user_tz": -330
    },
    "id": "K1moQ2r2BQxU",
    "outputId": "d111b57b-b3c4-4584-aaa4-18d02530736c"
   },
   "outputs": [
    {
     "name": "stdout",
     "output_type": "stream",
     "text": [
      "There is missing value\n"
     ]
    }
   ],
   "source": [
    "# Check if any misspelled or missing value in test data?\n",
    "printing_values_for_column(category_column,test_df,'FireplaceQu')"
   ]
  },
  {
   "cell_type": "code",
   "execution_count": 305,
   "metadata": {
    "colab": {},
    "colab_type": "code",
    "executionInfo": {
     "elapsed": 14226,
     "status": "ok",
     "timestamp": 1599936762935,
     "user": {
      "displayName": "Sahil -",
      "photoUrl": "",
      "userId": "14051148522636395588"
     },
     "user_tz": -330
    },
    "id": "fkfcZgJLBXYp"
   },
   "outputs": [],
   "source": [
    "test_df['FireplaceQu'].fillna('NA', inplace=True)"
   ]
  },
  {
   "cell_type": "code",
   "execution_count": 306,
   "metadata": {
    "colab": {
     "base_uri": "https://localhost:8080/",
     "height": 0
    },
    "colab_type": "code",
    "executionInfo": {
     "elapsed": 14216,
     "status": "ok",
     "timestamp": 1599936762935,
     "user": {
      "displayName": "Sahil -",
      "photoUrl": "",
      "userId": "14051148522636395588"
     },
     "user_tz": -330
    },
    "id": "cLydvWphBcSf",
    "outputId": "e9278102-42f8-468d-e39b-f4cde584cc48"
   },
   "outputs": [
    {
     "name": "stdout",
     "output_type": "stream",
     "text": [
      "Value provide by data description:\n",
      " ['Ex', 'Fa', 'Gd', 'NA', 'Po', 'TA']\n",
      "Value from train column:\n",
      " ['Ex', 'Fa', 'Gd', 'NA', 'Po', 'TA']\n"
     ]
    }
   ],
   "source": [
    "# Check again if any misspelled or missing value in test data?\n",
    "printing_values_for_column(category_column,test_df,'FireplaceQu')"
   ]
  },
  {
   "cell_type": "markdown",
   "metadata": {
    "colab_type": "text",
    "id": "_R-WTghjBgoh"
   },
   "source": [
    "## GarageType"
   ]
  },
  {
   "cell_type": "code",
   "execution_count": 307,
   "metadata": {
    "colab": {
     "base_uri": "https://localhost:8080/",
     "height": 0
    },
    "colab_type": "code",
    "executionInfo": {
     "elapsed": 14208,
     "status": "ok",
     "timestamp": 1599936762936,
     "user": {
      "displayName": "Sahil -",
      "photoUrl": "",
      "userId": "14051148522636395588"
     },
     "user_tz": -330
    },
    "id": "WSVYdt86Becc",
    "outputId": "ab416877-62ef-4679-b707-5198827c7998"
   },
   "outputs": [
    {
     "name": "stdout",
     "output_type": "stream",
     "text": [
      "There is missing value\n"
     ]
    }
   ],
   "source": [
    "printing_values_for_column(category_column,train_df,'GarageType')"
   ]
  },
  {
   "cell_type": "code",
   "execution_count": 308,
   "metadata": {
    "colab": {},
    "colab_type": "code",
    "executionInfo": {
     "elapsed": 14206,
     "status": "ok",
     "timestamp": 1599936762936,
     "user": {
      "displayName": "Sahil -",
      "photoUrl": "",
      "userId": "14051148522636395588"
     },
     "user_tz": -330
    },
    "id": "AeI6EZiABoea"
   },
   "outputs": [],
   "source": [
    "# There is missing values. However, in data description.txt\n",
    "# It described NA as No Garage.\n",
    "train_df['GarageType'].fillna('NA', inplace=True)"
   ]
  },
  {
   "cell_type": "code",
   "execution_count": 309,
   "metadata": {
    "colab": {
     "base_uri": "https://localhost:8080/",
     "height": 0
    },
    "colab_type": "code",
    "executionInfo": {
     "elapsed": 14198,
     "status": "ok",
     "timestamp": 1599936762937,
     "user": {
      "displayName": "Sahil -",
      "photoUrl": "",
      "userId": "14051148522636395588"
     },
     "user_tz": -330
    },
    "id": "JWunf0w3Bt26",
    "outputId": "a65b45d4-a28a-4707-c9ad-daf549cb3999"
   },
   "outputs": [
    {
     "name": "stdout",
     "output_type": "stream",
     "text": [
      "Value provide by data description:\n",
      " ['2Types', 'Attchd', 'Basment', 'BuiltIn', 'CarPort', 'Detchd', 'NA']\n",
      "Value from train column:\n",
      " ['2Types', 'Attchd', 'Basment', 'BuiltIn', 'CarPort', 'Detchd', 'NA']\n"
     ]
    }
   ],
   "source": [
    "printing_values_for_column(category_column,train_df,'GarageType')"
   ]
  },
  {
   "cell_type": "code",
   "execution_count": 310,
   "metadata": {
    "colab": {
     "base_uri": "https://localhost:8080/",
     "height": 0
    },
    "colab_type": "code",
    "executionInfo": {
     "elapsed": 14190,
     "status": "ok",
     "timestamp": 1599936762937,
     "user": {
      "displayName": "Sahil -",
      "photoUrl": "",
      "userId": "14051148522636395588"
     },
     "user_tz": -330
    },
    "id": "5zhIlXkYBvfe",
    "outputId": "ff416ba2-20d3-4068-f923-b5fdb77a072d"
   },
   "outputs": [
    {
     "data": {
      "text/plain": [
       "'Attchd'"
      ]
     },
     "execution_count": 310,
     "metadata": {},
     "output_type": "execute_result"
    }
   ],
   "source": [
    "# No mispelled and missing value\n",
    "# Store the fillna value into dict()\n",
    "fillna_value['GarageType'] = train_df['GarageType'].mode()[0]\n",
    "fillna_value['GarageType']"
   ]
  },
  {
   "cell_type": "code",
   "execution_count": 311,
   "metadata": {
    "colab": {
     "base_uri": "https://localhost:8080/",
     "height": 0
    },
    "colab_type": "code",
    "executionInfo": {
     "elapsed": 14181,
     "status": "ok",
     "timestamp": 1599936762937,
     "user": {
      "displayName": "Sahil -",
      "photoUrl": "",
      "userId": "14051148522636395588"
     },
     "user_tz": -330
    },
    "id": "jcMfapRNB04N",
    "outputId": "33e96d39-f7df-49cb-b803-762bad21d969"
   },
   "outputs": [
    {
     "name": "stdout",
     "output_type": "stream",
     "text": [
      "There is missing value\n"
     ]
    }
   ],
   "source": [
    "# Check if any misspelled or missing value in test data?\n",
    "printing_values_for_column(category_column,test_df,'GarageType')"
   ]
  },
  {
   "cell_type": "code",
   "execution_count": 312,
   "metadata": {
    "colab": {},
    "colab_type": "code",
    "executionInfo": {
     "elapsed": 14180,
     "status": "ok",
     "timestamp": 1599936762938,
     "user": {
      "displayName": "Sahil -",
      "photoUrl": "",
      "userId": "14051148522636395588"
     },
     "user_tz": -330
    },
    "id": "ilP3pa0-B4JV"
   },
   "outputs": [],
   "source": [
    "test_df['GarageType'].fillna('NA', inplace=True)"
   ]
  },
  {
   "cell_type": "code",
   "execution_count": 313,
   "metadata": {
    "colab": {
     "base_uri": "https://localhost:8080/",
     "height": 0
    },
    "colab_type": "code",
    "executionInfo": {
     "elapsed": 14170,
     "status": "ok",
     "timestamp": 1599936762938,
     "user": {
      "displayName": "Sahil -",
      "photoUrl": "",
      "userId": "14051148522636395588"
     },
     "user_tz": -330
    },
    "id": "JTzsFV7BB8A-",
    "outputId": "37d5eccd-7880-4312-a936-3dc4d6ef9f32"
   },
   "outputs": [
    {
     "name": "stdout",
     "output_type": "stream",
     "text": [
      "Value provide by data description:\n",
      " ['2Types', 'Attchd', 'Basment', 'BuiltIn', 'CarPort', 'Detchd', 'NA']\n",
      "Value from train column:\n",
      " ['2Types', 'Attchd', 'Basment', 'BuiltIn', 'CarPort', 'Detchd', 'NA']\n"
     ]
    }
   ],
   "source": [
    "# Check again if any misspelled or missing value in test data?\n",
    "printing_values_for_column(category_column,test_df,'GarageType')"
   ]
  },
  {
   "cell_type": "markdown",
   "metadata": {
    "colab_type": "text",
    "id": "mfwyRBWwCA8u"
   },
   "source": [
    "## GarageYrBlt and GarageFinish\n",
    "\n",
    "We don't think that this feature has the huge impact. We already feature engg. from the YearBlt and RemodYrBlt"
   ]
  },
  {
   "cell_type": "code",
   "execution_count": 314,
   "metadata": {
    "colab": {},
    "colab_type": "code",
    "executionInfo": {
     "elapsed": 14168,
     "status": "ok",
     "timestamp": 1599936762938,
     "user": {
      "displayName": "Sahil -",
      "photoUrl": "",
      "userId": "14051148522636395588"
     },
     "user_tz": -330
    },
    "id": "kTb5gzebB-Ql"
   },
   "outputs": [],
   "source": [
    "train_df.drop(['GarageYrBlt','GarageFinish'], axis=1,inplace=True)\n",
    "test_df.drop(['GarageYrBlt','GarageFinish'], axis=1,inplace=True)"
   ]
  },
  {
   "cell_type": "markdown",
   "metadata": {},
   "source": [
    "## GarageCars"
   ]
  },
  {
   "cell_type": "code",
   "execution_count": 315,
   "metadata": {},
   "outputs": [
    {
     "data": {
      "text/plain": [
       "False"
      ]
     },
     "execution_count": 315,
     "metadata": {},
     "output_type": "execute_result"
    }
   ],
   "source": [
    "# It's numcerical feature\n",
    "train_df['GarageCars'].isna().any()"
   ]
  },
  {
   "cell_type": "code",
   "execution_count": 316,
   "metadata": {},
   "outputs": [
    {
     "data": {
      "image/png": "[encoded data removed]",
      "text/plain": [
       "<Figure size 432x288 with 1 Axes>"
      ]
     },
     "metadata": {
      "needs_background": "light"
     },
     "output_type": "display_data"
    }
   ],
   "source": [
    "# Plot distribution\n",
    "plt.plot(train_df['GarageCars'].values)\n",
    "plt.show()"
   ]
  },
  {
   "cell_type": "code",
   "execution_count": 317,
   "metadata": {},
   "outputs": [
    {
     "data": {
      "text/plain": [
       "2.0"
      ]
     },
     "execution_count": 317,
     "metadata": {},
     "output_type": "execute_result"
    }
   ],
   "source": [
    "# Take mean of all\n",
    "fillna_value['GarageCars'] = np.median(train_df['GarageCars'].values)\n",
    "fillna_value['GarageCars']"
   ]
  },
  {
   "cell_type": "code",
   "execution_count": 318,
   "metadata": {},
   "outputs": [
    {
     "name": "stdout",
     "output_type": "stream",
     "text": [
      "True\n"
     ]
    }
   ],
   "source": [
    "# Check missing value in test data\n",
    "print(test_df['GarageCars'].isna().any())"
   ]
  },
  {
   "cell_type": "code",
   "execution_count": 319,
   "metadata": {},
   "outputs": [],
   "source": [
    "test_df['GarageCars'].fillna(fillna_value['GarageCars'], inplace=True)"
   ]
  },
  {
   "cell_type": "code",
   "execution_count": 320,
   "metadata": {},
   "outputs": [
    {
     "name": "stdout",
     "output_type": "stream",
     "text": [
      "False\n"
     ]
    }
   ],
   "source": [
    "# Check again if any missing value in test data\n",
    "print(test_df['GarageCars'].isna().any())"
   ]
  },
  {
   "cell_type": "markdown",
   "metadata": {
    "colab_type": "text",
    "id": "52E-Q1T2DGsz"
   },
   "source": [
    "## GarageArea"
   ]
  },
  {
   "cell_type": "code",
   "execution_count": 321,
   "metadata": {
    "colab": {
     "base_uri": "https://localhost:8080/",
     "height": 0
    },
    "colab_type": "code",
    "executionInfo": {
     "elapsed": 14160,
     "status": "ok",
     "timestamp": 1599936762939,
     "user": {
      "displayName": "Sahil -",
      "photoUrl": "",
      "userId": "14051148522636395588"
     },
     "user_tz": -330
    },
    "id": "qm2wDZUpC6Nw",
    "outputId": "284b0fa1-53a1-4e89-8b63-da568b6e1c80"
   },
   "outputs": [
    {
     "data": {
      "text/plain": [
       "False"
      ]
     },
     "execution_count": 321,
     "metadata": {},
     "output_type": "execute_result"
    }
   ],
   "source": [
    "# It's numcerical feature\n",
    "train_df['GarageArea'].isna().any()"
   ]
  },
  {
   "cell_type": "code",
   "execution_count": 322,
   "metadata": {
    "colab": {
     "base_uri": "https://localhost:8080/",
     "height": 0
    },
    "colab_type": "code",
    "executionInfo": {
     "elapsed": 14152,
     "status": "ok",
     "timestamp": 1599936762939,
     "user": {
      "displayName": "Sahil -",
      "photoUrl": "",
      "userId": "14051148522636395588"
     },
     "user_tz": -330
    },
    "id": "zxalq4IrDQeU",
    "outputId": "91752eb8-6d21-4123-9658-edd4eff7b9c9"
   },
   "outputs": [
    {
     "data": {
      "image/png": "[encoded data removed]",
      "text/plain": [
       "<Figure size 432x288 with 1 Axes>"
      ]
     },
     "metadata": {
      "needs_background": "light"
     },
     "output_type": "display_data"
    }
   ],
   "source": [
    "# Plot distribution\n",
    "plt.plot(train_df['GarageArea'].values)\n",
    "plt.show()"
   ]
  },
  {
   "cell_type": "code",
   "execution_count": 323,
   "metadata": {
    "colab": {
     "base_uri": "https://localhost:8080/",
     "height": 0
    },
    "colab_type": "code",
    "executionInfo": {
     "elapsed": 14142,
     "status": "ok",
     "timestamp": 1599936762939,
     "user": {
      "displayName": "Sahil -",
      "photoUrl": "",
      "userId": "14051148522636395588"
     },
     "user_tz": -330
    },
    "id": "LOWM-mhoDTUX",
    "outputId": "bc3a7ad8-8e78-410b-8b85-f9cb94971317"
   },
   "outputs": [
    {
     "data": {
      "text/plain": [
       "465.7721160651097"
      ]
     },
     "execution_count": 323,
     "metadata": {},
     "output_type": "execute_result"
    }
   ],
   "source": [
    "# Take mean of all\n",
    "fillna_value['GarageArea'] = np.mean(train_df['GarageArea'].values)\n",
    "fillna_value['GarageArea']"
   ]
  },
  {
   "cell_type": "code",
   "execution_count": 324,
   "metadata": {
    "colab": {
     "base_uri": "https://localhost:8080/",
     "height": 0
    },
    "colab_type": "code",
    "executionInfo": {
     "elapsed": 14134,
     "status": "ok",
     "timestamp": 1599936762940,
     "user": {
      "displayName": "Sahil -",
      "photoUrl": "",
      "userId": "14051148522636395588"
     },
     "user_tz": -330
    },
    "id": "4cIX28E5DfTT",
    "outputId": "8b007582-a7a4-4004-8398-bf202172a0fe"
   },
   "outputs": [
    {
     "name": "stdout",
     "output_type": "stream",
     "text": [
      "True\n"
     ]
    }
   ],
   "source": [
    "# Check missing value in test data\n",
    "print(test_df['GarageArea'].isna().any())"
   ]
  },
  {
   "cell_type": "code",
   "execution_count": 325,
   "metadata": {
    "colab": {},
    "colab_type": "code",
    "executionInfo": {
     "elapsed": 14132,
     "status": "ok",
     "timestamp": 1599936762940,
     "user": {
      "displayName": "Sahil -",
      "photoUrl": "",
      "userId": "14051148522636395588"
     },
     "user_tz": -330
    },
    "id": "7_XEtEZDDmDL"
   },
   "outputs": [],
   "source": [
    "test_df['GarageArea'].fillna(fillna_value['GarageArea'], inplace=True)"
   ]
  },
  {
   "cell_type": "code",
   "execution_count": 326,
   "metadata": {
    "colab": {
     "base_uri": "https://localhost:8080/",
     "height": 0
    },
    "colab_type": "code",
    "executionInfo": {
     "elapsed": 14124,
     "status": "ok",
     "timestamp": 1599936762941,
     "user": {
      "displayName": "Sahil -",
      "photoUrl": "",
      "userId": "14051148522636395588"
     },
     "user_tz": -330
    },
    "id": "sm1g2545Dthf",
    "outputId": "81680c40-e1a9-4f47-b858-b3008875d464"
   },
   "outputs": [
    {
     "name": "stdout",
     "output_type": "stream",
     "text": [
      "False\n"
     ]
    }
   ],
   "source": [
    "# Check again if any missing value in test data\n",
    "print(test_df['GarageArea'].isna().any())"
   ]
  },
  {
   "cell_type": "markdown",
   "metadata": {
    "colab_type": "text",
    "id": "BH-83d7dDzkF"
   },
   "source": [
    "## GarageQual"
   ]
  },
  {
   "cell_type": "code",
   "execution_count": 327,
   "metadata": {
    "colab": {
     "base_uri": "https://localhost:8080/",
     "height": 0
    },
    "colab_type": "code",
    "executionInfo": {
     "elapsed": 14115,
     "status": "ok",
     "timestamp": 1599936762941,
     "user": {
      "displayName": "Sahil -",
      "photoUrl": "",
      "userId": "14051148522636395588"
     },
     "user_tz": -330
    },
    "id": "t29Ub-5XDuxH",
    "outputId": "babee711-593e-4ccd-c70a-bdf9daabf881"
   },
   "outputs": [
    {
     "name": "stdout",
     "output_type": "stream",
     "text": [
      "There is missing value\n"
     ]
    }
   ],
   "source": [
    "printing_values_for_column(category_column,train_df,'GarageQual')"
   ]
  },
  {
   "cell_type": "code",
   "execution_count": 328,
   "metadata": {
    "colab": {},
    "colab_type": "code",
    "executionInfo": {
     "elapsed": 14113,
     "status": "ok",
     "timestamp": 1599936762941,
     "user": {
      "displayName": "Sahil -",
      "photoUrl": "",
      "userId": "14051148522636395588"
     },
     "user_tz": -330
    },
    "id": "2C9QZJFjD58u"
   },
   "outputs": [],
   "source": [
    "# There is missing values. However, in data description.txt\n",
    "# It described NA as No Garage.\n",
    "train_df['GarageQual'].fillna('NA', inplace=True)"
   ]
  },
  {
   "cell_type": "code",
   "execution_count": 329,
   "metadata": {
    "colab": {
     "base_uri": "https://localhost:8080/",
     "height": 0
    },
    "colab_type": "code",
    "executionInfo": {
     "elapsed": 14105,
     "status": "ok",
     "timestamp": 1599936762942,
     "user": {
      "displayName": "Sahil -",
      "photoUrl": "",
      "userId": "14051148522636395588"
     },
     "user_tz": -330
    },
    "id": "nNmheJZnD-yx",
    "outputId": "8503cf54-c330-4f47-c8d0-6a9458c93919"
   },
   "outputs": [
    {
     "name": "stdout",
     "output_type": "stream",
     "text": [
      "Value provide by data description:\n",
      " ['Ex', 'Fa', 'Gd', 'NA', 'Po', 'TA']\n",
      "Value from train column:\n",
      " ['Ex', 'Fa', 'Gd', 'NA', 'Po', 'TA']\n"
     ]
    }
   ],
   "source": [
    "printing_values_for_column(category_column,train_df,'GarageQual')"
   ]
  },
  {
   "cell_type": "code",
   "execution_count": 330,
   "metadata": {
    "colab": {
     "base_uri": "https://localhost:8080/",
     "height": 0
    },
    "colab_type": "code",
    "executionInfo": {
     "elapsed": 14096,
     "status": "ok",
     "timestamp": 1599936762942,
     "user": {
      "displayName": "Sahil -",
      "photoUrl": "",
      "userId": "14051148522636395588"
     },
     "user_tz": -330
    },
    "id": "MjlrYhcAECbe",
    "outputId": "9beb8271-0ad8-4e33-cff4-cac85d297e04"
   },
   "outputs": [
    {
     "data": {
      "text/plain": [
       "'TA'"
      ]
     },
     "execution_count": 330,
     "metadata": {},
     "output_type": "execute_result"
    }
   ],
   "source": [
    "# No mispelled and missing value\n",
    "# Store the fillna value into dict()\n",
    "fillna_value['GarageQual'] = train_df['GarageQual'].mode()[0]\n",
    "fillna_value['GarageQual']"
   ]
  },
  {
   "cell_type": "code",
   "execution_count": 331,
   "metadata": {},
   "outputs": [
    {
     "data": {
      "text/plain": [
       "0        TA\n",
       "1        TA\n",
       "2        TA\n",
       "3        TA\n",
       "4        TA\n",
       "       ... \n",
       "1454    NaN\n",
       "1455     TA\n",
       "1456     TA\n",
       "1457    NaN\n",
       "1458     TA\n",
       "Name: GarageQual, Length: 1459, dtype: object"
      ]
     },
     "execution_count": 331,
     "metadata": {},
     "output_type": "execute_result"
    }
   ],
   "source": [
    "test_df['GarageQual']"
   ]
  },
  {
   "cell_type": "code",
   "execution_count": 332,
   "metadata": {
    "colab": {
     "base_uri": "https://localhost:8080/",
     "height": 0
    },
    "colab_type": "code",
    "executionInfo": {
     "elapsed": 14086,
     "status": "ok",
     "timestamp": 1599936762942,
     "user": {
      "displayName": "Sahil -",
      "photoUrl": "",
      "userId": "14051148522636395588"
     },
     "user_tz": -330
    },
    "id": "n20DkMsjEGrK",
    "outputId": "d68071fa-48e5-4525-c88c-6cca4f6c4478"
   },
   "outputs": [
    {
     "name": "stdout",
     "output_type": "stream",
     "text": [
      "There is missing value\n"
     ]
    }
   ],
   "source": [
    "# Check if any misspelled or missing value in test data?\n",
    "printing_values_for_column(category_column,test_df,'GarageQual')"
   ]
  },
  {
   "cell_type": "code",
   "execution_count": 333,
   "metadata": {
    "colab": {},
    "colab_type": "code",
    "executionInfo": {
     "elapsed": 14085,
     "status": "ok",
     "timestamp": 1599936762943,
     "user": {
      "displayName": "Sahil -",
      "photoUrl": "",
      "userId": "14051148522636395588"
     },
     "user_tz": -330
    },
    "id": "U2-jo1P8EJ40"
   },
   "outputs": [],
   "source": [
    "test_df['GarageQual'].fillna('NA', inplace=True)"
   ]
  },
  {
   "cell_type": "code",
   "execution_count": 334,
   "metadata": {
    "colab": {
     "base_uri": "https://localhost:8080/",
     "height": 0
    },
    "colab_type": "code",
    "executionInfo": {
     "elapsed": 14076,
     "status": "ok",
     "timestamp": 1599936762943,
     "user": {
      "displayName": "Sahil -",
      "photoUrl": "",
      "userId": "14051148522636395588"
     },
     "user_tz": -330
    },
    "id": "14usKGuuEN0R",
    "outputId": "6987d018-d24c-4efa-a83f-8c5b619b0f3b"
   },
   "outputs": [
    {
     "name": "stdout",
     "output_type": "stream",
     "text": [
      "Value provide by data description:\n",
      " ['Ex', 'Fa', 'Gd', 'NA', 'Po', 'TA']\n",
      "Value from train column:\n",
      " ['Fa', 'Gd', 'NA', 'Po', 'TA']\n"
     ]
    }
   ],
   "source": [
    "# Check again if any misspelled or missing value in test data?\n",
    "printing_values_for_column(category_column,test_df,'GarageQual')"
   ]
  },
  {
   "cell_type": "markdown",
   "metadata": {
    "colab_type": "text",
    "id": "fqLkWDKTEReg"
   },
   "source": [
    "## GarageCond"
   ]
  },
  {
   "cell_type": "code",
   "execution_count": 335,
   "metadata": {
    "colab": {
     "base_uri": "https://localhost:8080/",
     "height": 0
    },
    "colab_type": "code",
    "executionInfo": {
     "elapsed": 14068,
     "status": "ok",
     "timestamp": 1599936762944,
     "user": {
      "displayName": "Sahil -",
      "photoUrl": "",
      "userId": "14051148522636395588"
     },
     "user_tz": -330
    },
    "id": "D9H7m8nzEPhi",
    "outputId": "8882ec26-3f15-4a15-9519-6bf4c6f58f18"
   },
   "outputs": [
    {
     "name": "stdout",
     "output_type": "stream",
     "text": [
      "There is missing value\n"
     ]
    }
   ],
   "source": [
    "printing_values_for_column(category_column,train_df,'GarageCond')"
   ]
  },
  {
   "cell_type": "code",
   "execution_count": 336,
   "metadata": {
    "colab": {},
    "colab_type": "code",
    "executionInfo": {
     "elapsed": 14066,
     "status": "ok",
     "timestamp": 1599936762944,
     "user": {
      "displayName": "Sahil -",
      "photoUrl": "",
      "userId": "14051148522636395588"
     },
     "user_tz": -330
    },
    "id": "pDLtQ8W_EfGC"
   },
   "outputs": [],
   "source": [
    "# There is missing values. However, in data description.txt\n",
    "# It described NA as No Garage.\n",
    "train_df['GarageCond'].fillna('NA', inplace=True)"
   ]
  },
  {
   "cell_type": "code",
   "execution_count": 337,
   "metadata": {
    "colab": {
     "base_uri": "https://localhost:8080/",
     "height": 0
    },
    "colab_type": "code",
    "executionInfo": {
     "elapsed": 14057,
     "status": "ok",
     "timestamp": 1599936762944,
     "user": {
      "displayName": "Sahil -",
      "photoUrl": "",
      "userId": "14051148522636395588"
     },
     "user_tz": -330
    },
    "id": "rHZeSB5bEf18",
    "outputId": "646b6971-eace-4f1f-b61c-eeb42e375682"
   },
   "outputs": [
    {
     "name": "stdout",
     "output_type": "stream",
     "text": [
      "Value provide by data description:\n",
      " ['Ex', 'Fa', 'Gd', 'NA', 'Po', 'TA']\n",
      "Value from train column:\n",
      " ['Ex', 'Fa', 'Gd', 'NA', 'Po', 'TA']\n"
     ]
    }
   ],
   "source": [
    "printing_values_for_column(category_column,train_df,'GarageCond')"
   ]
  },
  {
   "cell_type": "code",
   "execution_count": 338,
   "metadata": {
    "colab": {
     "base_uri": "https://localhost:8080/",
     "height": 0
    },
    "colab_type": "code",
    "executionInfo": {
     "elapsed": 14049,
     "status": "ok",
     "timestamp": 1599936762945,
     "user": {
      "displayName": "Sahil -",
      "photoUrl": "",
      "userId": "14051148522636395588"
     },
     "user_tz": -330
    },
    "id": "XCSiVmeFEV8Z",
    "outputId": "6403d6e6-fd1c-4c29-f036-d76a11e2f7cc"
   },
   "outputs": [
    {
     "data": {
      "text/plain": [
       "'TA'"
      ]
     },
     "execution_count": 338,
     "metadata": {},
     "output_type": "execute_result"
    }
   ],
   "source": [
    "# No mispelled and missing value\n",
    "# Store the fillna value into dict()\n",
    "fillna_value['GarageCond'] = train_df['GarageCond'].mode()[0]\n",
    "fillna_value['GarageCond']"
   ]
  },
  {
   "cell_type": "code",
   "execution_count": 339,
   "metadata": {
    "colab": {
     "base_uri": "https://localhost:8080/",
     "height": 0
    },
    "colab_type": "code",
    "executionInfo": {
     "elapsed": 14040,
     "status": "ok",
     "timestamp": 1599936762945,
     "user": {
      "displayName": "Sahil -",
      "photoUrl": "",
      "userId": "14051148522636395588"
     },
     "user_tz": -330
    },
    "id": "Hg8JCTqPEaa-",
    "outputId": "1c4eb1b2-f4de-498d-f241-cb04f74c6395"
   },
   "outputs": [
    {
     "name": "stdout",
     "output_type": "stream",
     "text": [
      "There is missing value\n"
     ]
    }
   ],
   "source": [
    "# Check if any misspelled or missing value in test data?\n",
    "printing_values_for_column(category_column,test_df,'GarageCond')"
   ]
  },
  {
   "cell_type": "code",
   "execution_count": 340,
   "metadata": {
    "colab": {},
    "colab_type": "code",
    "executionInfo": {
     "elapsed": 14038,
     "status": "ok",
     "timestamp": 1599936762946,
     "user": {
      "displayName": "Sahil -",
      "photoUrl": "",
      "userId": "14051148522636395588"
     },
     "user_tz": -330
    },
    "id": "xRdmb-ZFEqoX"
   },
   "outputs": [],
   "source": [
    "test_df['GarageCond'].fillna('NA', inplace=True)"
   ]
  },
  {
   "cell_type": "code",
   "execution_count": 341,
   "metadata": {
    "colab": {
     "base_uri": "https://localhost:8080/",
     "height": 0
    },
    "colab_type": "code",
    "executionInfo": {
     "elapsed": 14029,
     "status": "ok",
     "timestamp": 1599936762946,
     "user": {
      "displayName": "Sahil -",
      "photoUrl": "",
      "userId": "14051148522636395588"
     },
     "user_tz": -330
    },
    "id": "8vB7uXhpEuOm",
    "outputId": "9aa6bb1a-1f12-4788-b461-ecaf9b29b09c"
   },
   "outputs": [
    {
     "name": "stdout",
     "output_type": "stream",
     "text": [
      "Value provide by data description:\n",
      " ['Ex', 'Fa', 'Gd', 'NA', 'Po', 'TA']\n",
      "Value from train column:\n",
      " ['Ex', 'Fa', 'Gd', 'NA', 'Po', 'TA']\n"
     ]
    }
   ],
   "source": [
    "# Check again if any misspelled or missing value in test data?\n",
    "printing_values_for_column(category_column,test_df,'GarageCond')"
   ]
  },
  {
   "cell_type": "markdown",
   "metadata": {
    "colab_type": "text",
    "id": "1xvYyPn2H5Xl"
   },
   "source": [
    "## PavedDrive"
   ]
  },
  {
   "cell_type": "code",
   "execution_count": 342,
   "metadata": {
    "colab": {
     "base_uri": "https://localhost:8080/",
     "height": 0
    },
    "colab_type": "code",
    "executionInfo": {
     "elapsed": 14019,
     "status": "ok",
     "timestamp": 1599936762946,
     "user": {
      "displayName": "Sahil -",
      "photoUrl": "",
      "userId": "14051148522636395588"
     },
     "user_tz": -330
    },
    "id": "JIXj0xQjEwTg",
    "outputId": "c96d23b4-740b-4cfe-fb40-9e9ff7b9dadb"
   },
   "outputs": [
    {
     "name": "stdout",
     "output_type": "stream",
     "text": [
      "Value provide by data description:\n",
      " ['N', 'P', 'Y']\n",
      "Value from train column:\n",
      " ['N', 'P', 'Y']\n"
     ]
    }
   ],
   "source": [
    "printing_values_for_column(category_column,train_df,'PavedDrive')"
   ]
  },
  {
   "cell_type": "code",
   "execution_count": 343,
   "metadata": {
    "colab": {
     "base_uri": "https://localhost:8080/",
     "height": 0
    },
    "colab_type": "code",
    "executionInfo": {
     "elapsed": 14011,
     "status": "ok",
     "timestamp": 1599936762947,
     "user": {
      "displayName": "Sahil -",
      "photoUrl": "",
      "userId": "14051148522636395588"
     },
     "user_tz": -330
    },
    "id": "Mf9rQVeSOTUQ",
    "outputId": "b8805b5e-595f-4645-9d87-f7f67467ff30"
   },
   "outputs": [
    {
     "data": {
      "text/plain": [
       "'Y'"
      ]
     },
     "execution_count": 343,
     "metadata": {},
     "output_type": "execute_result"
    }
   ],
   "source": [
    "# No mispelled and missing value\n",
    "# Store the fillna value into dict()\n",
    "fillna_value['PavedDrive'] = train_df['PavedDrive'].mode()[0]\n",
    "fillna_value['PavedDrive']"
   ]
  },
  {
   "cell_type": "code",
   "execution_count": 344,
   "metadata": {
    "colab": {
     "base_uri": "https://localhost:8080/",
     "height": 0
    },
    "colab_type": "code",
    "executionInfo": {
     "elapsed": 14002,
     "status": "ok",
     "timestamp": 1599936762947,
     "user": {
      "displayName": "Sahil -",
      "photoUrl": "",
      "userId": "14051148522636395588"
     },
     "user_tz": -330
    },
    "id": "ROckwym6Oaok",
    "outputId": "3ba26fd6-f550-43af-bb18-240ce17b4f82"
   },
   "outputs": [
    {
     "name": "stdout",
     "output_type": "stream",
     "text": [
      "Value provide by data description:\n",
      " ['N', 'P', 'Y']\n",
      "Value from train column:\n",
      " ['N', 'P', 'Y']\n"
     ]
    }
   ],
   "source": [
    "# Check if any misspelled or missing value in test data?\n",
    "printing_values_for_column(category_column,test_df,'PavedDrive')"
   ]
  },
  {
   "cell_type": "markdown",
   "metadata": {
    "colab_type": "text",
    "id": "WAqQXCGZOi9a"
   },
   "source": [
    "## WoodDeckSF"
   ]
  },
  {
   "cell_type": "code",
   "execution_count": 345,
   "metadata": {
    "colab": {
     "base_uri": "https://localhost:8080/",
     "height": 0
    },
    "colab_type": "code",
    "executionInfo": {
     "elapsed": 13994,
     "status": "ok",
     "timestamp": 1599936762948,
     "user": {
      "displayName": "Sahil -",
      "photoUrl": "",
      "userId": "14051148522636395588"
     },
     "user_tz": -330
    },
    "id": "GxDuYSHkOhUb",
    "outputId": "59014498-6716-465a-a9f6-f418e79b8542"
   },
   "outputs": [
    {
     "data": {
      "text/plain": [
       "False"
      ]
     },
     "execution_count": 345,
     "metadata": {},
     "output_type": "execute_result"
    }
   ],
   "source": [
    "# It's numcerical feature\n",
    "train_df['WoodDeckSF'].isna().any()"
   ]
  },
  {
   "cell_type": "code",
   "execution_count": 346,
   "metadata": {
    "colab": {
     "base_uri": "https://localhost:8080/",
     "height": 0
    },
    "colab_type": "code",
    "executionInfo": {
     "elapsed": 13985,
     "status": "ok",
     "timestamp": 1599936762948,
     "user": {
      "displayName": "Sahil -",
      "photoUrl": "",
      "userId": "14051148522636395588"
     },
     "user_tz": -330
    },
    "id": "S_lZ0rX_OxD1",
    "outputId": "5230c29f-57b3-42fb-e60f-a0e8a0cc07f5"
   },
   "outputs": [
    {
     "data": {
      "image/png": "[encoded data removed]",
      "text/plain": [
       "<Figure size 432x288 with 1 Axes>"
      ]
     },
     "metadata": {
      "needs_background": "light"
     },
     "output_type": "display_data"
    }
   ],
   "source": [
    "# Plot distribution\n",
    "plt.plot(train_df['WoodDeckSF'].values)\n",
    "plt.show()"
   ]
  },
  {
   "cell_type": "code",
   "execution_count": 347,
   "metadata": {
    "colab": {
     "base_uri": "https://localhost:8080/",
     "height": 0
    },
    "colab_type": "code",
    "executionInfo": {
     "elapsed": 13976,
     "status": "ok",
     "timestamp": 1599936762948,
     "user": {
      "displayName": "Sahil -",
      "photoUrl": "",
      "userId": "14051148522636395588"
     },
     "user_tz": -330
    },
    "id": "Ehk2YpzQO5nJ",
    "outputId": "1e55344c-c7e1-4cde-9533-290601efdb8b"
   },
   "outputs": [
    {
     "data": {
      "text/plain": [
       "90.9858457183298"
      ]
     },
     "execution_count": 347,
     "metadata": {},
     "output_type": "execute_result"
    }
   ],
   "source": [
    "# Can't seems any outlier.\n",
    "# Store fillna value using dict()\n",
    "fillna_value['WoodDeckSF'] = np.mean(train_df['WoodDeckSF'].values)\n",
    "fillna_value['WoodDeckSF']"
   ]
  },
  {
   "cell_type": "code",
   "execution_count": 348,
   "metadata": {
    "colab": {
     "base_uri": "https://localhost:8080/",
     "height": 0
    },
    "colab_type": "code",
    "executionInfo": {
     "elapsed": 13968,
     "status": "ok",
     "timestamp": 1599936762949,
     "user": {
      "displayName": "Sahil -",
      "photoUrl": "",
      "userId": "14051148522636395588"
     },
     "user_tz": -330
    },
    "id": "GVvwHnA8PGD_",
    "outputId": "6aee0710-d2dc-45c4-e279-afd82daf6181"
   },
   "outputs": [
    {
     "name": "stdout",
     "output_type": "stream",
     "text": [
      "False\n"
     ]
    }
   ],
   "source": [
    "# Check missing value in test data\n",
    "print(test_df['WoodDeckSF'].isna().any())"
   ]
  },
  {
   "cell_type": "markdown",
   "metadata": {
    "colab_type": "text",
    "id": "g6c7877VPQe7"
   },
   "source": [
    "## OpenPorchSF"
   ]
  },
  {
   "cell_type": "code",
   "execution_count": 349,
   "metadata": {
    "colab": {
     "base_uri": "https://localhost:8080/",
     "height": 0
    },
    "colab_type": "code",
    "executionInfo": {
     "elapsed": 13959,
     "status": "ok",
     "timestamp": 1599936762949,
     "user": {
      "displayName": "Sahil -",
      "photoUrl": "",
      "userId": "14051148522636395588"
     },
     "user_tz": -330
    },
    "id": "yARjAGvOPK6y",
    "outputId": "c5dfc04f-4a43-4b3c-83e5-a14da26a0929"
   },
   "outputs": [
    {
     "data": {
      "text/plain": [
       "False"
      ]
     },
     "execution_count": 349,
     "metadata": {},
     "output_type": "execute_result"
    }
   ],
   "source": [
    "# It's numcerical feature\n",
    "train_df['OpenPorchSF'].isna().any()"
   ]
  },
  {
   "cell_type": "code",
   "execution_count": 350,
   "metadata": {
    "colab": {
     "base_uri": "https://localhost:8080/",
     "height": 0
    },
    "colab_type": "code",
    "executionInfo": {
     "elapsed": 15290,
     "status": "ok",
     "timestamp": 1599936764289,
     "user": {
      "displayName": "Sahil -",
      "photoUrl": "",
      "userId": "14051148522636395588"
     },
     "user_tz": -330
    },
    "id": "9zGIwnO1PV2A",
    "outputId": "9747584a-ef73-4269-e5d2-70db5eae1fc2"
   },
   "outputs": [
    {
     "data": {
      "image/png": "[encoded data removed]",
      "text/plain": [
       "<Figure size 432x288 with 1 Axes>"
      ]
     },
     "metadata": {
      "needs_background": "light"
     },
     "output_type": "display_data"
    }
   ],
   "source": [
    "# Plot distribution\n",
    "plt.plot(train_df['OpenPorchSF'].values)\n",
    "plt.show()"
   ]
  },
  {
   "cell_type": "code",
   "execution_count": 351,
   "metadata": {
    "colab": {
     "base_uri": "https://localhost:8080/",
     "height": 0
    },
    "colab_type": "code",
    "executionInfo": {
     "elapsed": 15281,
     "status": "ok",
     "timestamp": 1599936764289,
     "user": {
      "displayName": "Sahil -",
      "photoUrl": "",
      "userId": "14051148522636395588"
     },
     "user_tz": -330
    },
    "id": "o2N09JTbPaTO",
    "outputId": "3661d317-167d-4914-a29e-63e686687e17"
   },
   "outputs": [
    {
     "name": "stdout",
     "output_type": "stream",
     "text": [
      "Number of sample will be remaining: 1409 (99.7169143665959 %)\n"
     ]
    }
   ],
   "source": [
    "# Count the number of sample will be present if we remove those sample which\n",
    "# have greater than 400\n",
    "count = 0\n",
    "store_value = []\n",
    "for i in train_df['OpenPorchSF']:\n",
    "    if np.isnan(i):\n",
    "        count += 1\n",
    "    elif i <= 400:\n",
    "        count += 1\n",
    "        store_value.append(i)\n",
    "    else:\n",
    "        continue\n",
    "\n",
    "total_frac = (count/train_df.shape[0])*100\n",
    "print('Number of sample will be remaining:',count,'({} %)'.format(total_frac))"
   ]
  },
  {
   "cell_type": "code",
   "execution_count": 352,
   "metadata": {
    "colab": {
     "base_uri": "https://localhost:8080/",
     "height": 0
    },
    "colab_type": "code",
    "executionInfo": {
     "elapsed": 15273,
     "status": "ok",
     "timestamp": 1599936764290,
     "user": {
      "displayName": "Sahil -",
      "photoUrl": "",
      "userId": "14051148522636395588"
     },
     "user_tz": -330
    },
    "id": "FQQ4efbVPrmW",
    "outputId": "9e32db10-6c79-4b9e-810e-a49a90c4fbfe"
   },
   "outputs": [
    {
     "data": {
      "text/plain": [
       "44.386089425124204"
      ]
     },
     "execution_count": 352,
     "metadata": {},
     "output_type": "execute_result"
    }
   ],
   "source": [
    "# Store the fillna value into dict()\n",
    "fillna_value['OpenPorchSF'] = np.mean(store_value)\n",
    "fillna_value['OpenPorchSF']"
   ]
  },
  {
   "cell_type": "code",
   "execution_count": 353,
   "metadata": {
    "colab": {
     "base_uri": "https://localhost:8080/",
     "height": 0
    },
    "colab_type": "code",
    "executionInfo": {
     "elapsed": 15264,
     "status": "ok",
     "timestamp": 1599936764290,
     "user": {
      "displayName": "Sahil -",
      "photoUrl": "",
      "userId": "14051148522636395588"
     },
     "user_tz": -330
    },
    "id": "21QS0QHAPzIE",
    "outputId": "88859f74-eed0-4454-c47a-19c470751bf0"
   },
   "outputs": [
    {
     "data": {
      "text/plain": [
       "(1409, 78)"
      ]
     },
     "execution_count": 353,
     "metadata": {},
     "output_type": "execute_result"
    }
   ],
   "source": [
    "# Remove that are greater than 400\n",
    "train_df = train_df[train_df['OpenPorchSF'] <= 400]\n",
    "train_df.shape # Check the number of samples"
   ]
  },
  {
   "cell_type": "code",
   "execution_count": 354,
   "metadata": {
    "colab": {
     "base_uri": "https://localhost:8080/",
     "height": 0
    },
    "colab_type": "code",
    "executionInfo": {
     "elapsed": 15255,
     "status": "ok",
     "timestamp": 1599936764291,
     "user": {
      "displayName": "Sahil -",
      "photoUrl": "",
      "userId": "14051148522636395588"
     },
     "user_tz": -330
    },
    "id": "uS3H2eL9P-TY",
    "outputId": "6947c4c6-350a-4f4a-c736-c0b9bc9e8be1"
   },
   "outputs": [
    {
     "name": "stdout",
     "output_type": "stream",
     "text": [
      "False\n"
     ]
    }
   ],
   "source": [
    "# Check missing value in test data\n",
    "print(test_df['OpenPorchSF'].isna().any())"
   ]
  },
  {
   "cell_type": "markdown",
   "metadata": {
    "colab_type": "text",
    "id": "XMEPSg85QI0w"
   },
   "source": [
    "## EnclosedPorch"
   ]
  },
  {
   "cell_type": "code",
   "execution_count": 355,
   "metadata": {
    "colab": {
     "base_uri": "https://localhost:8080/",
     "height": 0
    },
    "colab_type": "code",
    "executionInfo": {
     "elapsed": 15246,
     "status": "ok",
     "timestamp": 1599936764291,
     "user": {
      "displayName": "Sahil -",
      "photoUrl": "",
      "userId": "14051148522636395588"
     },
     "user_tz": -330
    },
    "id": "1hqmQIaMQDrg",
    "outputId": "b3b0e07e-b5f3-4f9b-f3a0-2942393272f5"
   },
   "outputs": [
    {
     "data": {
      "text/plain": [
       "False"
      ]
     },
     "execution_count": 355,
     "metadata": {},
     "output_type": "execute_result"
    }
   ],
   "source": [
    "# It's numcerical feature\n",
    "train_df['EnclosedPorch'].isna().any()"
   ]
  },
  {
   "cell_type": "code",
   "execution_count": 356,
   "metadata": {
    "colab": {
     "base_uri": "https://localhost:8080/",
     "height": 0
    },
    "colab_type": "code",
    "executionInfo": {
     "elapsed": 15237,
     "status": "ok",
     "timestamp": 1599936764291,
     "user": {
      "displayName": "Sahil -",
      "photoUrl": "",
      "userId": "14051148522636395588"
     },
     "user_tz": -330
    },
    "id": "NwDOlpBNQQxB",
    "outputId": "ad060cfc-f011-4042-ec47-89718ba1bf40"
   },
   "outputs": [
    {
     "data": {
      "image/png": "[encoded data removed]",
      "text/plain": [
       "<Figure size 432x288 with 1 Axes>"
      ]
     },
     "metadata": {
      "needs_background": "light"
     },
     "output_type": "display_data"
    }
   ],
   "source": [
    "# Plot distribution\n",
    "plt.plot(train_df['EnclosedPorch'].values)\n",
    "plt.show()"
   ]
  },
  {
   "cell_type": "code",
   "execution_count": 357,
   "metadata": {
    "colab": {
     "base_uri": "https://localhost:8080/",
     "height": 0
    },
    "colab_type": "code",
    "executionInfo": {
     "elapsed": 15229,
     "status": "ok",
     "timestamp": 1599936764292,
     "user": {
      "displayName": "Sahil -",
      "photoUrl": "",
      "userId": "14051148522636395588"
     },
     "user_tz": -330
    },
    "id": "B_-hLRxpQU0J",
    "outputId": "b509d908-9792-49f1-8afc-b10f6328256b"
   },
   "outputs": [
    {
     "data": {
      "text/plain": [
       "0"
      ]
     },
     "execution_count": 357,
     "metadata": {},
     "output_type": "execute_result"
    }
   ],
   "source": [
    "# Store the fillna value into dict()\n",
    "fillna_value['EnclosedPorch'] = train_df['EnclosedPorch'].mode()[0]\n",
    "fillna_value['EnclosedPorch']"
   ]
  },
  {
   "cell_type": "code",
   "execution_count": 358,
   "metadata": {
    "colab": {
     "base_uri": "https://localhost:8080/",
     "height": 0
    },
    "colab_type": "code",
    "executionInfo": {
     "elapsed": 15220,
     "status": "ok",
     "timestamp": 1599936764292,
     "user": {
      "displayName": "Sahil -",
      "photoUrl": "",
      "userId": "14051148522636395588"
     },
     "user_tz": -330
    },
    "id": "VBUBUpq3Qd1C",
    "outputId": "84d82202-9724-4ca2-8ffe-7a0f21fefe5a"
   },
   "outputs": [
    {
     "name": "stdout",
     "output_type": "stream",
     "text": [
      "False\n"
     ]
    }
   ],
   "source": [
    "# Check missing value in test data\n",
    "print(test_df['EnclosedPorch'].isna().any())"
   ]
  },
  {
   "cell_type": "markdown",
   "metadata": {
    "colab_type": "text",
    "id": "AaC6LQ3_Qxzi"
   },
   "source": [
    "## 3SsnPorch"
   ]
  },
  {
   "cell_type": "code",
   "execution_count": 359,
   "metadata": {
    "colab": {
     "base_uri": "https://localhost:8080/",
     "height": 0
    },
    "colab_type": "code",
    "executionInfo": {
     "elapsed": 15212,
     "status": "ok",
     "timestamp": 1599936764293,
     "user": {
      "displayName": "Sahil -",
      "photoUrl": "",
      "userId": "14051148522636395588"
     },
     "user_tz": -330
    },
    "id": "xeWDylatQxAQ",
    "outputId": "a86e22f5-36e3-4a52-9e8d-8090ef3be64a"
   },
   "outputs": [
    {
     "data": {
      "text/plain": [
       "False"
      ]
     },
     "execution_count": 359,
     "metadata": {},
     "output_type": "execute_result"
    }
   ],
   "source": [
    "# It's numcerical feature\n",
    "train_df['3SsnPorch'].isna().any()"
   ]
  },
  {
   "cell_type": "code",
   "execution_count": 360,
   "metadata": {
    "colab": {
     "base_uri": "https://localhost:8080/",
     "height": 0
    },
    "colab_type": "code",
    "executionInfo": {
     "elapsed": 15203,
     "status": "ok",
     "timestamp": 1599936764293,
     "user": {
      "displayName": "Sahil -",
      "photoUrl": "",
      "userId": "14051148522636395588"
     },
     "user_tz": -330
    },
    "id": "bdk9qSUUQ2_W",
    "outputId": "02f1bc4b-9370-47c8-cf93-92b10114bd09"
   },
   "outputs": [
    {
     "data": {
      "image/png": "[encoded data removed]",
      "text/plain": [
       "<Figure size 432x288 with 1 Axes>"
      ]
     },
     "metadata": {
      "needs_background": "light"
     },
     "output_type": "display_data"
    }
   ],
   "source": [
    "# Plot distribution\n",
    "plt.plot(train_df['3SsnPorch'].values)\n",
    "plt.show()"
   ]
  },
  {
   "cell_type": "code",
   "execution_count": 361,
   "metadata": {
    "colab": {
     "base_uri": "https://localhost:8080/",
     "height": 0
    },
    "colab_type": "code",
    "executionInfo": {
     "elapsed": 15193,
     "status": "ok",
     "timestamp": 1599936764293,
     "user": {
      "displayName": "Sahil -",
      "photoUrl": "",
      "userId": "14051148522636395588"
     },
     "user_tz": -330
    },
    "id": "foGoDzmIQ70k",
    "outputId": "f27e5bc4-75a8-406f-f87f-4fd1a2efaa55"
   },
   "outputs": [
    {
     "data": {
      "text/plain": [
       "0"
      ]
     },
     "execution_count": 361,
     "metadata": {},
     "output_type": "execute_result"
    }
   ],
   "source": [
    "# Store the fillna value into dict()\n",
    "fillna_value['3SsnPorch'] = train_df['3SsnPorch'].mode()[0]\n",
    "fillna_value['3SsnPorch']"
   ]
  },
  {
   "cell_type": "code",
   "execution_count": 362,
   "metadata": {
    "colab": {
     "base_uri": "https://localhost:8080/",
     "height": 0
    },
    "colab_type": "code",
    "executionInfo": {
     "elapsed": 15185,
     "status": "ok",
     "timestamp": 1599936764294,
     "user": {
      "displayName": "Sahil -",
      "photoUrl": "",
      "userId": "14051148522636395588"
     },
     "user_tz": -330
    },
    "id": "DaKMrXLtRCPj",
    "outputId": "9147b32b-878a-4a11-92a4-c09d3697d317"
   },
   "outputs": [
    {
     "name": "stdout",
     "output_type": "stream",
     "text": [
      "False\n"
     ]
    }
   ],
   "source": [
    "# Check missing value in test data\n",
    "print(test_df['3SsnPorch'].isna().any())"
   ]
  },
  {
   "cell_type": "markdown",
   "metadata": {
    "colab_type": "text",
    "id": "SL9mhtbJRPkt"
   },
   "source": [
    "## ScreenPorch"
   ]
  },
  {
   "cell_type": "code",
   "execution_count": 363,
   "metadata": {
    "colab": {
     "base_uri": "https://localhost:8080/",
     "height": 0
    },
    "colab_type": "code",
    "executionInfo": {
     "elapsed": 15176,
     "status": "ok",
     "timestamp": 1599936764294,
     "user": {
      "displayName": "Sahil -",
      "photoUrl": "",
      "userId": "14051148522636395588"
     },
     "user_tz": -330
    },
    "id": "6S14vcuIRIlL",
    "outputId": "986ff79e-fd3c-4647-804b-c1aaa6b27d6e"
   },
   "outputs": [
    {
     "data": {
      "text/plain": [
       "False"
      ]
     },
     "execution_count": 363,
     "metadata": {},
     "output_type": "execute_result"
    }
   ],
   "source": [
    "# It's numcerical feature\n",
    "train_df['ScreenPorch'].isna().any()"
   ]
  },
  {
   "cell_type": "code",
   "execution_count": 364,
   "metadata": {
    "colab": {
     "base_uri": "https://localhost:8080/",
     "height": 0
    },
    "colab_type": "code",
    "executionInfo": {
     "elapsed": 15168,
     "status": "ok",
     "timestamp": 1599936764295,
     "user": {
      "displayName": "Sahil -",
      "photoUrl": "",
      "userId": "14051148522636395588"
     },
     "user_tz": -330
    },
    "id": "Rec0WhfqRcKS",
    "outputId": "1f3ef447-7853-4b3a-8088-10b719bb9adf"
   },
   "outputs": [
    {
     "data": {
      "image/png": "[encoded data removed]",
      "text/plain": [
       "<Figure size 432x288 with 1 Axes>"
      ]
     },
     "metadata": {
      "needs_background": "light"
     },
     "output_type": "display_data"
    }
   ],
   "source": [
    "# Plot distribution\n",
    "plt.plot(train_df['ScreenPorch'].values)\n",
    "plt.show()"
   ]
  },
  {
   "cell_type": "code",
   "execution_count": 365,
   "metadata": {
    "colab": {
     "base_uri": "https://localhost:8080/",
     "height": 0
    },
    "colab_type": "code",
    "executionInfo": {
     "elapsed": 15159,
     "status": "ok",
     "timestamp": 1599936764295,
     "user": {
      "displayName": "Sahil -",
      "photoUrl": "",
      "userId": "14051148522636395588"
     },
     "user_tz": -330
    },
    "id": "DEulYNoVRpch",
    "outputId": "e57c4c23-9247-4be3-9983-6ee66f6056c4"
   },
   "outputs": [
    {
     "name": "stdout",
     "output_type": "stream",
     "text": [
      "Number of sample will be remaining: 1408 (99.9290276792051 %)\n"
     ]
    }
   ],
   "source": [
    "# Count the number of sample will be present if we remove those sample which\n",
    "# have greater than 400\n",
    "count = 0\n",
    "store_value = []\n",
    "for i in train_df['ScreenPorch']:\n",
    "    if np.isnan(i):\n",
    "        count += 1\n",
    "    elif i <= 400:\n",
    "        count += 1\n",
    "        store_value.append(i)\n",
    "    else:\n",
    "        continue\n",
    "\n",
    "total_frac = (count/train_df.shape[0])*100\n",
    "print('Number of sample will be remaining:',count,'({} %)'.format(total_frac))"
   ]
  },
  {
   "cell_type": "code",
   "execution_count": 366,
   "metadata": {
    "colab": {
     "base_uri": "https://localhost:8080/",
     "height": 0
    },
    "colab_type": "code",
    "executionInfo": {
     "elapsed": 15148,
     "status": "ok",
     "timestamp": 1599936764295,
     "user": {
      "displayName": "Sahil -",
      "photoUrl": "",
      "userId": "14051148522636395588"
     },
     "user_tz": -330
    },
    "id": "DLD-nOuiRvr1",
    "outputId": "37e2804d-665b-4e9e-a187-e4e153342798"
   },
   "outputs": [
    {
     "data": {
      "text/plain": [
       "13.939630681818182"
      ]
     },
     "execution_count": 366,
     "metadata": {},
     "output_type": "execute_result"
    }
   ],
   "source": [
    "# Store the fillna value into dict()\n",
    "fillna_value['ScreenPorch'] = np.mean(store_value)\n",
    "fillna_value['ScreenPorch']"
   ]
  },
  {
   "cell_type": "code",
   "execution_count": 367,
   "metadata": {
    "colab": {
     "base_uri": "https://localhost:8080/",
     "height": 0
    },
    "colab_type": "code",
    "executionInfo": {
     "elapsed": 15140,
     "status": "ok",
     "timestamp": 1599936764296,
     "user": {
      "displayName": "Sahil -",
      "photoUrl": "",
      "userId": "14051148522636395588"
     },
     "user_tz": -330
    },
    "id": "AkUo_Q6eR1Qm",
    "outputId": "84301a3e-6565-45e7-cca8-2ed7b0cac2f3"
   },
   "outputs": [
    {
     "data": {
      "text/plain": [
       "(1408, 78)"
      ]
     },
     "execution_count": 367,
     "metadata": {},
     "output_type": "execute_result"
    }
   ],
   "source": [
    "# Remove that are greater than 400\n",
    "train_df = train_df[train_df['ScreenPorch'] <= 400]\n",
    "train_df.shape # Check the number of samples"
   ]
  },
  {
   "cell_type": "code",
   "execution_count": 368,
   "metadata": {
    "colab": {
     "base_uri": "https://localhost:8080/",
     "height": 0
    },
    "colab_type": "code",
    "executionInfo": {
     "elapsed": 15130,
     "status": "ok",
     "timestamp": 1599936764296,
     "user": {
      "displayName": "Sahil -",
      "photoUrl": "",
      "userId": "14051148522636395588"
     },
     "user_tz": -330
    },
    "id": "AOcEBxz9R5YP",
    "outputId": "850d835e-29c5-47b6-e2b2-643ab2b6c6a5"
   },
   "outputs": [
    {
     "name": "stdout",
     "output_type": "stream",
     "text": [
      "False\n"
     ]
    }
   ],
   "source": [
    "# Check missing value in test data\n",
    "print(test_df['ScreenPorch'].isna().any())"
   ]
  },
  {
   "cell_type": "markdown",
   "metadata": {
    "colab_type": "text",
    "id": "VqhZ0dnyR-A4"
   },
   "source": [
    "## PoolArea"
   ]
  },
  {
   "cell_type": "code",
   "execution_count": 369,
   "metadata": {
    "colab": {
     "base_uri": "https://localhost:8080/",
     "height": 34
    },
    "colab_type": "code",
    "executionInfo": {
     "elapsed": 15122,
     "status": "ok",
     "timestamp": 1599936764297,
     "user": {
      "displayName": "Sahil -",
      "photoUrl": "",
      "userId": "14051148522636395588"
     },
     "user_tz": -330
    },
    "id": "X2rjnyG9R9BQ",
    "outputId": "b23f7795-5a12-4ba4-e9a8-a8d03ddc441f"
   },
   "outputs": [
    {
     "data": {
      "text/plain": [
       "False"
      ]
     },
     "execution_count": 369,
     "metadata": {},
     "output_type": "execute_result"
    }
   ],
   "source": [
    "# It's numcerical feature\n",
    "train_df['PoolArea'].isna().any()"
   ]
  },
  {
   "cell_type": "code",
   "execution_count": 370,
   "metadata": {
    "colab": {
     "base_uri": "https://localhost:8080/",
     "height": 265
    },
    "colab_type": "code",
    "executionInfo": {
     "elapsed": 15106,
     "status": "ok",
     "timestamp": 1599936764297,
     "user": {
      "displayName": "Sahil -",
      "photoUrl": "",
      "userId": "14051148522636395588"
     },
     "user_tz": -330
    },
    "id": "08vJg6FkSGWl",
    "outputId": "0b1c37ba-3459-4dde-b27d-8b01ee0c16bd"
   },
   "outputs": [
    {
     "data": {
      "image/png": "[encoded data removed]",
      "text/plain": [
       "<Figure size 432x288 with 1 Axes>"
      ]
     },
     "metadata": {
      "needs_background": "light"
     },
     "output_type": "display_data"
    }
   ],
   "source": [
    "# Plot distribution\n",
    "plt.plot(train_df['PoolArea'].values)\n",
    "plt.show()"
   ]
  },
  {
   "cell_type": "code",
   "execution_count": 371,
   "metadata": {
    "colab": {
     "base_uri": "https://localhost:8080/",
     "height": 34
    },
    "colab_type": "code",
    "executionInfo": {
     "elapsed": 15090,
     "status": "ok",
     "timestamp": 1599936764298,
     "user": {
      "displayName": "Sahil -",
      "photoUrl": "",
      "userId": "14051148522636395588"
     },
     "user_tz": -330
    },
    "id": "UIRqbZDrSLpw",
    "outputId": "f2e027d0-75dd-4a0d-a751-104bc3852ea1"
   },
   "outputs": [
    {
     "data": {
      "text/plain": [
       "0"
      ]
     },
     "execution_count": 371,
     "metadata": {},
     "output_type": "execute_result"
    }
   ],
   "source": [
    "# Store the fillna value into dict()\n",
    "fillna_value['PoolArea'] = train_df['PoolArea'].mode()[0]\n",
    "fillna_value['PoolArea']"
   ]
  },
  {
   "cell_type": "code",
   "execution_count": 372,
   "metadata": {
    "colab": {
     "base_uri": "https://localhost:8080/",
     "height": 34
    },
    "colab_type": "code",
    "executionInfo": {
     "elapsed": 15074,
     "status": "ok",
     "timestamp": 1599936764298,
     "user": {
      "displayName": "Sahil -",
      "photoUrl": "",
      "userId": "14051148522636395588"
     },
     "user_tz": -330
    },
    "id": "GLyUryNPSeaD",
    "outputId": "be882350-9cbe-4adb-e6c1-ddf8dd5e298f"
   },
   "outputs": [
    {
     "name": "stdout",
     "output_type": "stream",
     "text": [
      "False\n"
     ]
    }
   ],
   "source": [
    "# Check missing value in test data\n",
    "print(test_df['PoolArea'].isna().any())"
   ]
  },
  {
   "cell_type": "markdown",
   "metadata": {
    "colab_type": "text",
    "id": "JSJwT128Snbb"
   },
   "source": [
    "## PoolQC"
   ]
  },
  {
   "cell_type": "code",
   "execution_count": 373,
   "metadata": {
    "colab": {
     "base_uri": "https://localhost:8080/",
     "height": 0
    },
    "colab_type": "code",
    "executionInfo": {
     "elapsed": 15058,
     "status": "ok",
     "timestamp": 1599936764299,
     "user": {
      "displayName": "Sahil -",
      "photoUrl": "",
      "userId": "14051148522636395588"
     },
     "user_tz": -330
    },
    "id": "qtItQcXhSmX6",
    "outputId": "c2e7947d-9767-4881-9e44-3545c42c2ba5"
   },
   "outputs": [
    {
     "name": "stdout",
     "output_type": "stream",
     "text": [
      "There is missing value\n"
     ]
    }
   ],
   "source": [
    "printing_values_for_column(category_column,train_df,'PoolQC')"
   ]
  },
  {
   "cell_type": "code",
   "execution_count": 374,
   "metadata": {
    "colab": {},
    "colab_type": "code",
    "executionInfo": {
     "elapsed": 15056,
     "status": "ok",
     "timestamp": 1599936764299,
     "user": {
      "displayName": "Sahil -",
      "photoUrl": "",
      "userId": "14051148522636395588"
     },
     "user_tz": -330
    },
    "id": "TLH8TUhlSt6p"
   },
   "outputs": [],
   "source": [
    "# There is missing values. However, in data description.txt\n",
    "# It described NA as No Pool.\n",
    "train_df['PoolQC'].fillna('NA', inplace=True)"
   ]
  },
  {
   "cell_type": "code",
   "execution_count": 375,
   "metadata": {
    "colab": {
     "base_uri": "https://localhost:8080/",
     "height": 0
    },
    "colab_type": "code",
    "executionInfo": {
     "elapsed": 15047,
     "status": "ok",
     "timestamp": 1599936764299,
     "user": {
      "displayName": "Sahil -",
      "photoUrl": "",
      "userId": "14051148522636395588"
     },
     "user_tz": -330
    },
    "id": "n3i1mwChS1FB",
    "outputId": "a2fa028f-9174-4296-c9f3-5ab0644d6bfc"
   },
   "outputs": [
    {
     "name": "stdout",
     "output_type": "stream",
     "text": [
      "Value provide by data description:\n",
      " ['Ex', 'Fa', 'Gd', 'NA', 'TA']\n",
      "Value from train column:\n",
      " ['Fa', 'Gd', 'NA']\n"
     ]
    }
   ],
   "source": [
    "printing_values_for_column(category_column,train_df,'PoolQC')"
   ]
  },
  {
   "cell_type": "code",
   "execution_count": 376,
   "metadata": {
    "colab": {
     "base_uri": "https://localhost:8080/",
     "height": 0
    },
    "colab_type": "code",
    "executionInfo": {
     "elapsed": 15039,
     "status": "ok",
     "timestamp": 1599936764300,
     "user": {
      "displayName": "Sahil -",
      "photoUrl": "",
      "userId": "14051148522636395588"
     },
     "user_tz": -330
    },
    "id": "jYhkEcb8TJK6",
    "outputId": "6de27100-f9d1-454a-d5ec-d12459ee23fa"
   },
   "outputs": [
    {
     "data": {
      "text/plain": [
       "'NA'"
      ]
     },
     "execution_count": 376,
     "metadata": {},
     "output_type": "execute_result"
    }
   ],
   "source": [
    "# No mispelled and missing value\n",
    "# Store the fillna value into dict()\n",
    "fillna_value['PoolQC'] = train_df['PoolQC'].mode()[0]\n",
    "fillna_value['PoolQC']"
   ]
  },
  {
   "cell_type": "code",
   "execution_count": 377,
   "metadata": {
    "colab": {
     "base_uri": "https://localhost:8080/",
     "height": 0
    },
    "colab_type": "code",
    "executionInfo": {
     "elapsed": 15030,
     "status": "ok",
     "timestamp": 1599936764300,
     "user": {
      "displayName": "Sahil -",
      "photoUrl": "",
      "userId": "14051148522636395588"
     },
     "user_tz": -330
    },
    "id": "1QZ1DU0PTTMS",
    "outputId": "2c365825-8ec1-4753-ee0e-2f165d575557"
   },
   "outputs": [
    {
     "name": "stdout",
     "output_type": "stream",
     "text": [
      "There is missing value\n"
     ]
    }
   ],
   "source": [
    "# Check if any misspelled or missing value in test data?\n",
    "printing_values_for_column(category_column,test_df,'PoolQC')"
   ]
  },
  {
   "cell_type": "code",
   "execution_count": 378,
   "metadata": {
    "colab": {},
    "colab_type": "code",
    "executionInfo": {
     "elapsed": 15029,
     "status": "ok",
     "timestamp": 1599936764301,
     "user": {
      "displayName": "Sahil -",
      "photoUrl": "",
      "userId": "14051148522636395588"
     },
     "user_tz": -330
    },
    "id": "CnUgYpJ_TXqC"
   },
   "outputs": [],
   "source": [
    "test_df['PoolQC'].fillna('NA', inplace=True)"
   ]
  },
  {
   "cell_type": "code",
   "execution_count": 379,
   "metadata": {
    "colab": {
     "base_uri": "https://localhost:8080/",
     "height": 0
    },
    "colab_type": "code",
    "executionInfo": {
     "elapsed": 15020,
     "status": "ok",
     "timestamp": 1599936764301,
     "user": {
      "displayName": "Sahil -",
      "photoUrl": "",
      "userId": "14051148522636395588"
     },
     "user_tz": -330
    },
    "id": "TPhxUwK1Tc9z",
    "outputId": "53584745-1caa-4af0-bd69-ba2a425614cb"
   },
   "outputs": [
    {
     "name": "stdout",
     "output_type": "stream",
     "text": [
      "Value provide by data description:\n",
      " ['Ex', 'Fa', 'Gd', 'NA', 'TA']\n",
      "Value from train column:\n",
      " ['Ex', 'Gd', 'NA']\n"
     ]
    }
   ],
   "source": [
    "# Check again if any misspelled or missing value in test data?\n",
    "printing_values_for_column(category_column,test_df,'PoolQC')"
   ]
  },
  {
   "cell_type": "markdown",
   "metadata": {
    "colab_type": "text",
    "id": "w0Qd4EobTilu"
   },
   "source": [
    "## Fence"
   ]
  },
  {
   "cell_type": "code",
   "execution_count": 380,
   "metadata": {
    "colab": {
     "base_uri": "https://localhost:8080/",
     "height": 0
    },
    "colab_type": "code",
    "executionInfo": {
     "elapsed": 15012,
     "status": "ok",
     "timestamp": 1599936764301,
     "user": {
      "displayName": "Sahil -",
      "photoUrl": "",
      "userId": "14051148522636395588"
     },
     "user_tz": -330
    },
    "id": "c0LAL6HXTgux",
    "outputId": "94ef9da8-3dbf-4a28-d2e9-aaf74ed4fd1c"
   },
   "outputs": [
    {
     "name": "stdout",
     "output_type": "stream",
     "text": [
      "There is missing value\n"
     ]
    }
   ],
   "source": [
    "printing_values_for_column(category_column,train_df,'Fence')"
   ]
  },
  {
   "cell_type": "code",
   "execution_count": 381,
   "metadata": {
    "colab": {},
    "colab_type": "code",
    "executionInfo": {
     "elapsed": 15011,
     "status": "ok",
     "timestamp": 1599936764302,
     "user": {
      "displayName": "Sahil -",
      "photoUrl": "",
      "userId": "14051148522636395588"
     },
     "user_tz": -330
    },
    "id": "Enz-R3UtTo-g"
   },
   "outputs": [],
   "source": [
    "# There is missing values. However, in data description.txt\n",
    "# It described NA as No Fence.\n",
    "train_df['Fence'].fillna('NA', inplace=True)"
   ]
  },
  {
   "cell_type": "code",
   "execution_count": 382,
   "metadata": {
    "colab": {
     "base_uri": "https://localhost:8080/",
     "height": 0
    },
    "colab_type": "code",
    "executionInfo": {
     "elapsed": 15001,
     "status": "ok",
     "timestamp": 1599936764302,
     "user": {
      "displayName": "Sahil -",
      "photoUrl": "",
      "userId": "14051148522636395588"
     },
     "user_tz": -330
    },
    "id": "juu0Mw54Tt4d",
    "outputId": "2a9a6a49-a84a-418b-ec32-00f6d9345588"
   },
   "outputs": [
    {
     "name": "stdout",
     "output_type": "stream",
     "text": [
      "Value provide by data description:\n",
      " ['GdPrv', 'GdWo', 'MnPrv', 'MnWw', 'NA']\n",
      "Value from train column:\n",
      " ['GdPrv', 'GdWo', 'MnPrv', 'MnWw', 'NA']\n"
     ]
    }
   ],
   "source": [
    "printing_values_for_column(category_column,train_df,'Fence')"
   ]
  },
  {
   "cell_type": "code",
   "execution_count": 383,
   "metadata": {
    "colab": {
     "base_uri": "https://localhost:8080/",
     "height": 0
    },
    "colab_type": "code",
    "executionInfo": {
     "elapsed": 14992,
     "status": "ok",
     "timestamp": 1599936764302,
     "user": {
      "displayName": "Sahil -",
      "photoUrl": "",
      "userId": "14051148522636395588"
     },
     "user_tz": -330
    },
    "id": "K8KfSzcyTvcN",
    "outputId": "d03f3eaf-31c7-4c07-fdc2-7771b3b25e3c"
   },
   "outputs": [
    {
     "data": {
      "text/plain": [
       "'NA'"
      ]
     },
     "execution_count": 383,
     "metadata": {},
     "output_type": "execute_result"
    }
   ],
   "source": [
    "# No mispelled and missing value\n",
    "# Store the fillna value into dict()\n",
    "fillna_value['Fence'] = train_df['Fence'].mode()[0]\n",
    "fillna_value['Fence']"
   ]
  },
  {
   "cell_type": "code",
   "execution_count": 384,
   "metadata": {
    "colab": {
     "base_uri": "https://localhost:8080/",
     "height": 0
    },
    "colab_type": "code",
    "executionInfo": {
     "elapsed": 14984,
     "status": "ok",
     "timestamp": 1599936764303,
     "user": {
      "displayName": "Sahil -",
      "photoUrl": "",
      "userId": "14051148522636395588"
     },
     "user_tz": -330
    },
    "id": "X-cTNz2wT3bz",
    "outputId": "a9af3c93-ceb9-4a8d-9ced-1c99d05f3776"
   },
   "outputs": [
    {
     "name": "stdout",
     "output_type": "stream",
     "text": [
      "There is missing value\n"
     ]
    }
   ],
   "source": [
    "# Check if any misspelled or missing value in test data?\n",
    "printing_values_for_column(category_column,test_df,'Fence')"
   ]
  },
  {
   "cell_type": "code",
   "execution_count": 385,
   "metadata": {
    "colab": {},
    "colab_type": "code",
    "executionInfo": {
     "elapsed": 14982,
     "status": "ok",
     "timestamp": 1599936764303,
     "user": {
      "displayName": "Sahil -",
      "photoUrl": "",
      "userId": "14051148522636395588"
     },
     "user_tz": -330
    },
    "id": "ZNXMVck-UJIq"
   },
   "outputs": [],
   "source": [
    "test_df['Fence'].fillna('NA', inplace=True)"
   ]
  },
  {
   "cell_type": "code",
   "execution_count": 386,
   "metadata": {
    "colab": {
     "base_uri": "https://localhost:8080/",
     "height": 0
    },
    "colab_type": "code",
    "executionInfo": {
     "elapsed": 14974,
     "status": "ok",
     "timestamp": 1599936764304,
     "user": {
      "displayName": "Sahil -",
      "photoUrl": "",
      "userId": "14051148522636395588"
     },
     "user_tz": -330
    },
    "id": "o-Lx8lZAUNCP",
    "outputId": "9a6c7967-61ef-44a2-ce7b-2c358128606e"
   },
   "outputs": [
    {
     "name": "stdout",
     "output_type": "stream",
     "text": [
      "Value provide by data description:\n",
      " ['GdPrv', 'GdWo', 'MnPrv', 'MnWw', 'NA']\n",
      "Value from train column:\n",
      " ['GdPrv', 'GdWo', 'MnPrv', 'MnWw', 'NA']\n"
     ]
    }
   ],
   "source": [
    "# Check again if any misspelled or missing value in test data?\n",
    "printing_values_for_column(category_column,test_df,'Fence')"
   ]
  },
  {
   "cell_type": "markdown",
   "metadata": {
    "colab_type": "text",
    "id": "052cQRLfUT9a"
   },
   "source": [
    "## MiscFeature"
   ]
  },
  {
   "cell_type": "code",
   "execution_count": 387,
   "metadata": {
    "colab": {
     "base_uri": "https://localhost:8080/",
     "height": 0
    },
    "colab_type": "code",
    "executionInfo": {
     "elapsed": 14965,
     "status": "ok",
     "timestamp": 1599936764304,
     "user": {
      "displayName": "Sahil -",
      "photoUrl": "",
      "userId": "14051148522636395588"
     },
     "user_tz": -330
    },
    "id": "L5cZYpmHUO9w",
    "outputId": "5df7ec41-6f73-4e81-8059-0de377ea7577"
   },
   "outputs": [
    {
     "name": "stdout",
     "output_type": "stream",
     "text": [
      "There is missing value\n"
     ]
    }
   ],
   "source": [
    "printing_values_for_column(category_column,train_df,'MiscFeature')"
   ]
  },
  {
   "cell_type": "code",
   "execution_count": 388,
   "metadata": {
    "colab": {},
    "colab_type": "code",
    "executionInfo": {
     "elapsed": 14963,
     "status": "ok",
     "timestamp": 1599936764304,
     "user": {
      "displayName": "Sahil -",
      "photoUrl": "",
      "userId": "14051148522636395588"
     },
     "user_tz": -330
    },
    "id": "NwEh0pzTUakL"
   },
   "outputs": [],
   "source": [
    "# There is missing values. However, in data description.txt\n",
    "# It described NA as None.\n",
    "train_df['MiscFeature'].fillna('NA', inplace=True)"
   ]
  },
  {
   "cell_type": "code",
   "execution_count": 389,
   "metadata": {
    "colab": {
     "base_uri": "https://localhost:8080/",
     "height": 0
    },
    "colab_type": "code",
    "executionInfo": {
     "elapsed": 14955,
     "status": "ok",
     "timestamp": 1599936764305,
     "user": {
      "displayName": "Sahil -",
      "photoUrl": "",
      "userId": "14051148522636395588"
     },
     "user_tz": -330
    },
    "id": "Gl3-GCg0Ufzd",
    "outputId": "39f4d8a5-a660-4019-b69a-c2c2963f2b9f"
   },
   "outputs": [
    {
     "name": "stdout",
     "output_type": "stream",
     "text": [
      "Value provide by data description:\n",
      " ['Elev', 'Gar2', 'NA', 'Othr', 'Shed', 'TenC']\n",
      "Value from train column:\n",
      " ['Gar2', 'NA', 'Othr', 'Shed']\n"
     ]
    }
   ],
   "source": [
    "printing_values_for_column(category_column,train_df,'MiscFeature')"
   ]
  },
  {
   "cell_type": "code",
   "execution_count": 390,
   "metadata": {
    "colab": {
     "base_uri": "https://localhost:8080/",
     "height": 0
    },
    "colab_type": "code",
    "executionInfo": {
     "elapsed": 14946,
     "status": "ok",
     "timestamp": 1599936764305,
     "user": {
      "displayName": "Sahil -",
      "photoUrl": "",
      "userId": "14051148522636395588"
     },
     "user_tz": -330
    },
    "id": "6zma6tJMUhB8",
    "outputId": "ff000f99-e271-45ee-ab78-2f4d5f5a62e3"
   },
   "outputs": [
    {
     "data": {
      "text/plain": [
       "'NA'"
      ]
     },
     "execution_count": 390,
     "metadata": {},
     "output_type": "execute_result"
    }
   ],
   "source": [
    "# No mispelled and missing value\n",
    "# Store the fillna value into dict()\n",
    "fillna_value['MiscFeature'] = train_df['MiscFeature'].mode()[0]\n",
    "fillna_value['MiscFeature']"
   ]
  },
  {
   "cell_type": "code",
   "execution_count": 391,
   "metadata": {
    "colab": {
     "base_uri": "https://localhost:8080/",
     "height": 0
    },
    "colab_type": "code",
    "executionInfo": {
     "elapsed": 14938,
     "status": "ok",
     "timestamp": 1599936764306,
     "user": {
      "displayName": "Sahil -",
      "photoUrl": "",
      "userId": "14051148522636395588"
     },
     "user_tz": -330
    },
    "id": "fY4VeDhxUl5F",
    "outputId": "84097865-23d0-4cae-a50c-e0dc80622097"
   },
   "outputs": [
    {
     "name": "stdout",
     "output_type": "stream",
     "text": [
      "There is missing value\n"
     ]
    }
   ],
   "source": [
    "# Check if any misspelled or missing value in test data?\n",
    "printing_values_for_column(category_column,test_df,'MiscFeature')"
   ]
  },
  {
   "cell_type": "code",
   "execution_count": 392,
   "metadata": {
    "colab": {},
    "colab_type": "code",
    "executionInfo": {
     "elapsed": 14936,
     "status": "ok",
     "timestamp": 1599936764306,
     "user": {
      "displayName": "Sahil -",
      "photoUrl": "",
      "userId": "14051148522636395588"
     },
     "user_tz": -330
    },
    "id": "Tr_tq9YEUqnW"
   },
   "outputs": [],
   "source": [
    "test_df['MiscFeature'].fillna('NA', inplace=True)"
   ]
  },
  {
   "cell_type": "code",
   "execution_count": 393,
   "metadata": {
    "colab": {
     "base_uri": "https://localhost:8080/",
     "height": 0
    },
    "colab_type": "code",
    "executionInfo": {
     "elapsed": 14928,
     "status": "ok",
     "timestamp": 1599936764307,
     "user": {
      "displayName": "Sahil -",
      "photoUrl": "",
      "userId": "14051148522636395588"
     },
     "user_tz": -330
    },
    "id": "s7njojecUtXU",
    "outputId": "b9023856-7c5d-4b79-cfad-eaa0ced4be1c"
   },
   "outputs": [
    {
     "name": "stdout",
     "output_type": "stream",
     "text": [
      "Value provide by data description:\n",
      " ['Elev', 'Gar2', 'NA', 'Othr', 'Shed', 'TenC']\n",
      "Value from train column:\n",
      " ['Gar2', 'NA', 'Othr', 'Shed']\n"
     ]
    }
   ],
   "source": [
    "# Check again if any misspelled or missing value in test data?\n",
    "printing_values_for_column(category_column,test_df,'MiscFeature')"
   ]
  },
  {
   "cell_type": "markdown",
   "metadata": {
    "colab_type": "text",
    "id": "0kvrCyavUzpr"
   },
   "source": [
    "## MiscVal"
   ]
  },
  {
   "cell_type": "code",
   "execution_count": 394,
   "metadata": {
    "colab": {
     "base_uri": "https://localhost:8080/",
     "height": 0
    },
    "colab_type": "code",
    "executionInfo": {
     "elapsed": 14919,
     "status": "ok",
     "timestamp": 1599936764307,
     "user": {
      "displayName": "Sahil -",
      "photoUrl": "",
      "userId": "14051148522636395588"
     },
     "user_tz": -330
    },
    "id": "igr-_JUkUyD5",
    "outputId": "51dd2b81-8421-41aa-b5ef-fc85470b6748"
   },
   "outputs": [
    {
     "data": {
      "text/plain": [
       "False"
      ]
     },
     "execution_count": 394,
     "metadata": {},
     "output_type": "execute_result"
    }
   ],
   "source": [
    "# It's numcerical feature\n",
    "train_df['MiscVal'].isna().any()"
   ]
  },
  {
   "cell_type": "code",
   "execution_count": 395,
   "metadata": {
    "colab": {
     "base_uri": "https://localhost:8080/",
     "height": 0
    },
    "colab_type": "code",
    "executionInfo": {
     "elapsed": 16293,
     "status": "ok",
     "timestamp": 1599936765690,
     "user": {
      "displayName": "Sahil -",
      "photoUrl": "",
      "userId": "14051148522636395588"
     },
     "user_tz": -330
    },
    "id": "GEuLffWFU5zK",
    "outputId": "fb1b9632-e207-45cc-c447-9335332fb7bf"
   },
   "outputs": [
    {
     "data": {
      "image/png": "[encoded data removed]",
      "text/plain": [
       "<Figure size 432x288 with 1 Axes>"
      ]
     },
     "metadata": {
      "needs_background": "light"
     },
     "output_type": "display_data"
    }
   ],
   "source": [
    "# Plot distribution\n",
    "plt.plot(train_df['MiscVal'].values)\n",
    "plt.show()"
   ]
  },
  {
   "cell_type": "code",
   "execution_count": 396,
   "metadata": {
    "colab": {
     "base_uri": "https://localhost:8080/",
     "height": 0
    },
    "colab_type": "code",
    "executionInfo": {
     "elapsed": 16286,
     "status": "ok",
     "timestamp": 1599936765691,
     "user": {
      "displayName": "Sahil -",
      "photoUrl": "",
      "userId": "14051148522636395588"
     },
     "user_tz": -330
    },
    "id": "eVdp1lCQU8hX",
    "outputId": "2779dc43-40ce-4c45-8596-d8d71d156fc1"
   },
   "outputs": [
    {
     "name": "stdout",
     "output_type": "stream",
     "text": [
      "Number of sample will be remaining: 1407 (99.92897727272727 %)\n"
     ]
    }
   ],
   "source": [
    "# Count the number of sample will be present if we remove those sample which\n",
    "# have greater than 10000\n",
    "count = 0\n",
    "store_value = []\n",
    "for i in train_df['MiscVal']:\n",
    "    if np.isnan(i):\n",
    "        count += 1\n",
    "    elif i <= 10000:\n",
    "        count += 1\n",
    "        store_value.append(i)\n",
    "    else:\n",
    "        continue\n",
    "\n",
    "total_frac = (count/train_df.shape[0])*100\n",
    "print('Number of sample will be remaining:',count,'({} %)'.format(total_frac))"
   ]
  },
  {
   "cell_type": "code",
   "execution_count": 397,
   "metadata": {
    "colab": {
     "base_uri": "https://localhost:8080/",
     "height": 0
    },
    "colab_type": "code",
    "executionInfo": {
     "elapsed": 16277,
     "status": "ok",
     "timestamp": 1599936765691,
     "user": {
      "displayName": "Sahil -",
      "photoUrl": "",
      "userId": "14051148522636395588"
     },
     "user_tz": -330
    },
    "id": "jUl5TUygVMQy",
    "outputId": "d378905e-d05d-4cba-fd76-a1f09769eb52"
   },
   "outputs": [
    {
     "data": {
      "text/plain": [
       "31.01918976545842"
      ]
     },
     "execution_count": 397,
     "metadata": {},
     "output_type": "execute_result"
    }
   ],
   "source": [
    "# Store the fillna value into dict()\n",
    "fillna_value['MiscVal'] = np.mean(store_value)\n",
    "fillna_value['MiscVal']"
   ]
  },
  {
   "cell_type": "code",
   "execution_count": 398,
   "metadata": {
    "colab": {
     "base_uri": "https://localhost:8080/",
     "height": 0
    },
    "colab_type": "code",
    "executionInfo": {
     "elapsed": 16269,
     "status": "ok",
     "timestamp": 1599936765692,
     "user": {
      "displayName": "Sahil -",
      "photoUrl": "",
      "userId": "14051148522636395588"
     },
     "user_tz": -330
    },
    "id": "Ov47QWKzYjOv",
    "outputId": "76f3efa8-72cf-44fc-c718-cf4ed25a7c7e"
   },
   "outputs": [
    {
     "data": {
      "text/plain": [
       "(1407, 78)"
      ]
     },
     "execution_count": 398,
     "metadata": {},
     "output_type": "execute_result"
    }
   ],
   "source": [
    "# Remove that are greater than 10000\n",
    "train_df = train_df[train_df['MiscVal'] <= 10000]\n",
    "train_df.shape # Check the number of samples"
   ]
  },
  {
   "cell_type": "code",
   "execution_count": 399,
   "metadata": {
    "colab": {
     "base_uri": "https://localhost:8080/",
     "height": 0
    },
    "colab_type": "code",
    "executionInfo": {
     "elapsed": 16260,
     "status": "ok",
     "timestamp": 1599936765692,
     "user": {
      "displayName": "Sahil -",
      "photoUrl": "",
      "userId": "14051148522636395588"
     },
     "user_tz": -330
    },
    "id": "YYpvaL0KYuCv",
    "outputId": "f9b58b1d-dc1d-4bce-f18e-769751347b09"
   },
   "outputs": [
    {
     "name": "stdout",
     "output_type": "stream",
     "text": [
      "False\n"
     ]
    }
   ],
   "source": [
    "# Check missing value in test data\n",
    "print(test_df['MiscVal'].isna().any())"
   ]
  },
  {
   "cell_type": "markdown",
   "metadata": {
    "colab_type": "text",
    "id": "7hbluzXXY17s"
   },
   "source": [
    "## MoSold and YrSold\n",
    "\n",
    "We don't need this feature as it wll not impact on 'SalePrices'"
   ]
  },
  {
   "cell_type": "code",
   "execution_count": 400,
   "metadata": {
    "colab": {},
    "colab_type": "code",
    "executionInfo": {
     "elapsed": 16259,
     "status": "ok",
     "timestamp": 1599936765693,
     "user": {
      "displayName": "Sahil -",
      "photoUrl": "",
      "userId": "14051148522636395588"
     },
     "user_tz": -330
    },
    "id": "klLoBTAlY02J"
   },
   "outputs": [],
   "source": [
    "train_df.drop(['MoSold','YrSold'], axis=1,inplace=True)\n",
    "test_df.drop(['MoSold','YrSold'], axis=1,inplace=True)"
   ]
  },
  {
   "cell_type": "code",
   "execution_count": 401,
   "metadata": {},
   "outputs": [
    {
     "data": {
      "text/plain": [
       "((1407, 76), (1459, 75))"
      ]
     },
     "execution_count": 401,
     "metadata": {},
     "output_type": "execute_result"
    }
   ],
   "source": [
    "train_df.shape, test_df.shape"
   ]
  },
  {
   "cell_type": "markdown",
   "metadata": {
    "colab_type": "text",
    "id": "ijXXBK81Zf6N"
   },
   "source": [
    "## SaleType"
   ]
  },
  {
   "cell_type": "code",
   "execution_count": 402,
   "metadata": {
    "colab": {
     "base_uri": "https://localhost:8080/",
     "height": 0
    },
    "colab_type": "code",
    "executionInfo": {
     "elapsed": 16250,
     "status": "ok",
     "timestamp": 1599936765693,
     "user": {
      "displayName": "Sahil -",
      "photoUrl": "",
      "userId": "14051148522636395588"
     },
     "user_tz": -330
    },
    "id": "aWVtUER-Zbqa",
    "outputId": "4fdda885-c6cb-40b8-b14c-2945dc810010"
   },
   "outputs": [
    {
     "name": "stdout",
     "output_type": "stream",
     "text": [
      "Value provide by data description:\n",
      " ['COD', 'CWD', 'Con', 'ConLD', 'ConLI', 'ConLw', 'New', 'Oth', 'VWD', 'WD']\n",
      "Value from train column:\n",
      " ['COD', 'CWD', 'Con', 'ConLD', 'ConLI', 'ConLw', 'New', 'Oth', 'WD']\n"
     ]
    }
   ],
   "source": [
    "printing_values_for_column(category_column,train_df,'SaleType')"
   ]
  },
  {
   "cell_type": "code",
   "execution_count": 403,
   "metadata": {
    "colab": {
     "base_uri": "https://localhost:8080/",
     "height": 0
    },
    "colab_type": "code",
    "executionInfo": {
     "elapsed": 16242,
     "status": "ok",
     "timestamp": 1599936765694,
     "user": {
      "displayName": "Sahil -",
      "photoUrl": "",
      "userId": "14051148522636395588"
     },
     "user_tz": -330
    },
    "id": "OtO_3yR7ZqPl",
    "outputId": "e41f1461-0083-4fcf-c613-7f6bbbc23332"
   },
   "outputs": [
    {
     "data": {
      "text/plain": [
       "'WD'"
      ]
     },
     "execution_count": 403,
     "metadata": {},
     "output_type": "execute_result"
    }
   ],
   "source": [
    "# No mispelled and missing value\n",
    "# Store the fillna value into dict()\n",
    "fillna_value['SaleType'] = train_df['SaleType'].mode()[0]\n",
    "fillna_value['SaleType']"
   ]
  },
  {
   "cell_type": "code",
   "execution_count": 404,
   "metadata": {
    "colab": {
     "base_uri": "https://localhost:8080/",
     "height": 0
    },
    "colab_type": "code",
    "executionInfo": {
     "elapsed": 16233,
     "status": "ok",
     "timestamp": 1599936765694,
     "user": {
      "displayName": "Sahil -",
      "photoUrl": "",
      "userId": "14051148522636395588"
     },
     "user_tz": -330
    },
    "id": "6TY48T1GZxt-",
    "outputId": "339b6c04-7a3c-417c-f8b5-864f08ac6044"
   },
   "outputs": [
    {
     "name": "stdout",
     "output_type": "stream",
     "text": [
      "There is missing value\n"
     ]
    }
   ],
   "source": [
    "# Check if any misspelled or missing value in test data?\n",
    "printing_values_for_column(category_column,test_df,'SaleType')"
   ]
  },
  {
   "cell_type": "code",
   "execution_count": 405,
   "metadata": {
    "colab": {},
    "colab_type": "code",
    "executionInfo": {
     "elapsed": 16231,
     "status": "ok",
     "timestamp": 1599936765694,
     "user": {
      "displayName": "Sahil -",
      "photoUrl": "",
      "userId": "14051148522636395588"
     },
     "user_tz": -330
    },
    "id": "dlbOg8EtZ4VA"
   },
   "outputs": [],
   "source": [
    "test_df['SaleType'].fillna(fillna_value['SaleType'], inplace=True)"
   ]
  },
  {
   "cell_type": "code",
   "execution_count": 406,
   "metadata": {
    "colab": {
     "base_uri": "https://localhost:8080/",
     "height": 0
    },
    "colab_type": "code",
    "executionInfo": {
     "elapsed": 16223,
     "status": "ok",
     "timestamp": 1599936765695,
     "user": {
      "displayName": "Sahil -",
      "photoUrl": "",
      "userId": "14051148522636395588"
     },
     "user_tz": -330
    },
    "id": "fhMlNpgFaBr6",
    "outputId": "20e939f9-0942-4d55-864f-1743ce1fe1b7"
   },
   "outputs": [
    {
     "name": "stdout",
     "output_type": "stream",
     "text": [
      "Value provide by data description:\n",
      " ['COD', 'CWD', 'Con', 'ConLD', 'ConLI', 'ConLw', 'New', 'Oth', 'VWD', 'WD']\n",
      "Value from train column:\n",
      " ['COD', 'CWD', 'Con', 'ConLD', 'ConLI', 'ConLw', 'New', 'Oth', 'WD']\n"
     ]
    }
   ],
   "source": [
    "# Check again if any misspelled or missing value in test data?\n",
    "printing_values_for_column(category_column,test_df,'SaleType')"
   ]
  },
  {
   "cell_type": "markdown",
   "metadata": {
    "colab_type": "text",
    "id": "L3sJ9H2raKX4"
   },
   "source": [
    "## SaleCondition"
   ]
  },
  {
   "cell_type": "code",
   "execution_count": 407,
   "metadata": {
    "colab": {
     "base_uri": "https://localhost:8080/",
     "height": 86
    },
    "colab_type": "code",
    "executionInfo": {
     "elapsed": 16214,
     "status": "ok",
     "timestamp": 1599936765695,
     "user": {
      "displayName": "Sahil -",
      "photoUrl": "",
      "userId": "14051148522636395588"
     },
     "user_tz": -330
    },
    "id": "tJeIV3j_aEjo",
    "outputId": "b592f028-7807-4847-da15-5b1a043fb556"
   },
   "outputs": [
    {
     "name": "stdout",
     "output_type": "stream",
     "text": [
      "Value provide by data description:\n",
      " ['Abnormal', 'AdjLand', 'Alloca', 'Family', 'Normal', 'Partial']\n",
      "Value from train column:\n",
      " ['Abnorml', 'AdjLand', 'Alloca', 'Family', 'Normal', 'Partial']\n"
     ]
    }
   ],
   "source": [
    "printing_values_for_column(category_column,train_df,'SaleCondition')"
   ]
  },
  {
   "cell_type": "code",
   "execution_count": 408,
   "metadata": {
    "colab": {},
    "colab_type": "code",
    "executionInfo": {
     "elapsed": 16213,
     "status": "ok",
     "timestamp": 1599936765696,
     "user": {
      "displayName": "Sahil -",
      "photoUrl": "",
      "userId": "14051148522636395588"
     },
     "user_tz": -330
    },
    "id": "GmbRm-93aQje"
   },
   "outputs": [],
   "source": [
    "# There is mispelled\n",
    "train_df['SaleCondition'].replace(to_replace='Abnorml', value='Abnormal',\n",
    "                                  inplace=True)"
   ]
  },
  {
   "cell_type": "code",
   "execution_count": 409,
   "metadata": {
    "colab": {
     "base_uri": "https://localhost:8080/",
     "height": 86
    },
    "colab_type": "code",
    "executionInfo": {
     "elapsed": 16196,
     "status": "ok",
     "timestamp": 1599936765696,
     "user": {
      "displayName": "Sahil -",
      "photoUrl": "",
      "userId": "14051148522636395588"
     },
     "user_tz": -330
    },
    "id": "PzP9Fv9dauWx",
    "outputId": "38460dea-ca82-40de-80ff-820cb66d8a58"
   },
   "outputs": [
    {
     "name": "stdout",
     "output_type": "stream",
     "text": [
      "Value provide by data description:\n",
      " ['Abnormal', 'AdjLand', 'Alloca', 'Family', 'Normal', 'Partial']\n",
      "Value from train column:\n",
      " ['Abnormal', 'AdjLand', 'Alloca', 'Family', 'Normal', 'Partial']\n"
     ]
    }
   ],
   "source": [
    "printing_values_for_column(category_column,train_df,'SaleCondition')"
   ]
  },
  {
   "cell_type": "code",
   "execution_count": 410,
   "metadata": {
    "colab": {
     "base_uri": "https://localhost:8080/",
     "height": 34
    },
    "colab_type": "code",
    "executionInfo": {
     "elapsed": 16181,
     "status": "ok",
     "timestamp": 1599936765697,
     "user": {
      "displayName": "Sahil -",
      "photoUrl": "",
      "userId": "14051148522636395588"
     },
     "user_tz": -330
    },
    "id": "6mWbRMPwav4u",
    "outputId": "c5696ed1-9be4-4498-f657-628c01519245"
   },
   "outputs": [
    {
     "data": {
      "text/plain": [
       "'Normal'"
      ]
     },
     "execution_count": 410,
     "metadata": {},
     "output_type": "execute_result"
    }
   ],
   "source": [
    "# No mispelled and missing value\n",
    "# Store the fillna value into dict()\n",
    "fillna_value['SaleCondition'] = train_df['SaleCondition'].mode()[0]\n",
    "fillna_value['SaleCondition']"
   ]
  },
  {
   "cell_type": "code",
   "execution_count": 411,
   "metadata": {
    "colab": {
     "base_uri": "https://localhost:8080/",
     "height": 86
    },
    "colab_type": "code",
    "executionInfo": {
     "elapsed": 16165,
     "status": "ok",
     "timestamp": 1599936765697,
     "user": {
      "displayName": "Sahil -",
      "photoUrl": "",
      "userId": "14051148522636395588"
     },
     "user_tz": -330
    },
    "id": "eBPXRvg7a0uB",
    "outputId": "6fdafa40-3058-4701-ba86-feb394e8daea"
   },
   "outputs": [
    {
     "name": "stdout",
     "output_type": "stream",
     "text": [
      "Value provide by data description:\n",
      " ['Abnormal', 'AdjLand', 'Alloca', 'Family', 'Normal', 'Partial']\n",
      "Value from train column:\n",
      " ['Abnorml', 'AdjLand', 'Alloca', 'Family', 'Normal', 'Partial']\n"
     ]
    }
   ],
   "source": [
    "# Check if any misspelled or missing value in test data?\n",
    "printing_values_for_column(category_column,test_df,'SaleCondition')"
   ]
  },
  {
   "cell_type": "code",
   "execution_count": 412,
   "metadata": {
    "colab": {},
    "colab_type": "code",
    "executionInfo": {
     "elapsed": 16163,
     "status": "ok",
     "timestamp": 1599936765698,
     "user": {
      "displayName": "Sahil -",
      "photoUrl": "",
      "userId": "14051148522636395588"
     },
     "user_tz": -330
    },
    "id": "vYyq1nSBa-7Z"
   },
   "outputs": [],
   "source": [
    "# There is mispelled\n",
    "test_df['SaleCondition'].replace(to_replace='Abnorml', value='Abnormal',\n",
    "                                  inplace=True)"
   ]
  },
  {
   "cell_type": "code",
   "execution_count": 413,
   "metadata": {
    "colab": {
     "base_uri": "https://localhost:8080/",
     "height": 86
    },
    "colab_type": "code",
    "executionInfo": {
     "elapsed": 16148,
     "status": "ok",
     "timestamp": 1599936765699,
     "user": {
      "displayName": "Sahil -",
      "photoUrl": "",
      "userId": "14051148522636395588"
     },
     "user_tz": -330
    },
    "id": "t0mA_FppbCGg",
    "outputId": "466a3ccc-f30b-4b58-db9a-fbea63899303"
   },
   "outputs": [
    {
     "name": "stdout",
     "output_type": "stream",
     "text": [
      "Value provide by data description:\n",
      " ['Abnormal', 'AdjLand', 'Alloca', 'Family', 'Normal', 'Partial']\n",
      "Value from train column:\n",
      " ['Abnormal', 'AdjLand', 'Alloca', 'Family', 'Normal', 'Partial']\n"
     ]
    }
   ],
   "source": [
    "# Check if any misspelled or missing value in test data?\n",
    "printing_values_for_column(category_column,test_df,'SaleCondition')"
   ]
  },
  {
   "cell_type": "markdown",
   "metadata": {
    "colab_type": "text",
    "id": "AIs3s3mFcLGE"
   },
   "source": [
    "# Saving into another clean train and test csv file"
   ]
  },
  {
   "cell_type": "code",
   "execution_count": 414,
   "metadata": {
    "colab": {
     "base_uri": "https://localhost:8080/",
     "height": 1000
    },
    "colab_type": "code",
    "executionInfo": {
     "elapsed": 16133,
     "status": "ok",
     "timestamp": 1599936765700,
     "user": {
      "displayName": "Sahil -",
      "photoUrl": "",
      "userId": "14051148522636395588"
     },
     "user_tz": -330
    },
    "id": "mXCvdBZ-bDOF",
    "outputId": "bca76bdc-710c-467b-ab80-ddfeaaeee26d"
   },
   "outputs": [
    {
     "name": "stdout",
     "output_type": "stream",
     "text": [
      "<class 'pandas.core.frame.DataFrame'>\n",
      "Int64Index: 1407 entries, 0 to 1459\n",
      "Data columns (total 76 columns):\n",
      " #   Column         Non-Null Count  Dtype  \n",
      "---  ------         --------------  -----  \n",
      " 0   Id             1407 non-null   int64  \n",
      " 1   MSSubClass     1407 non-null   int64  \n",
      " 2   MSZoning       1407 non-null   object \n",
      " 3   LotFrontage    1407 non-null   float64\n",
      " 4   LotArea        1407 non-null   int64  \n",
      " 5   Street         1407 non-null   object \n",
      " 6   Alley          1407 non-null   object \n",
      " 7   LotShape       1407 non-null   object \n",
      " 8   LandContour    1407 non-null   object \n",
      " 9   Utilities      1407 non-null   object \n",
      " 10  LotConfig      1407 non-null   object \n",
      " 11  LandSlope      1407 non-null   object \n",
      " 12  Neighborhood   1407 non-null   object \n",
      " 13  Condition1     1407 non-null   object \n",
      " 14  Condition2     1407 non-null   object \n",
      " 15  BldgType       1407 non-null   object \n",
      " 16  HouseStyle     1407 non-null   object \n",
      " 17  OverallQual    1407 non-null   int64  \n",
      " 18  OverallCond    1407 non-null   int64  \n",
      " 19  RoofStyle      1407 non-null   object \n",
      " 20  RoofMatl       1407 non-null   object \n",
      " 21  Exterior1st    1407 non-null   object \n",
      " 22  Exterior2nd    1407 non-null   object \n",
      " 23  MasVnrType     1407 non-null   object \n",
      " 24  MasVnrArea     1407 non-null   float64\n",
      " 25  ExterQual      1407 non-null   object \n",
      " 26  ExterCond      1407 non-null   object \n",
      " 27  Foundation     1407 non-null   object \n",
      " 28  BsmtQual       1407 non-null   object \n",
      " 29  BsmtCond       1407 non-null   object \n",
      " 30  BsmtExposure   1407 non-null   object \n",
      " 31  BsmtFinType1   1407 non-null   object \n",
      " 32  BsmtFinSF1     1407 non-null   int64  \n",
      " 33  BsmtFinType2   1407 non-null   object \n",
      " 34  BsmtFinSF2     1407 non-null   int64  \n",
      " 35  BsmtUnfSF      1407 non-null   int64  \n",
      " 36  TotalBsmtSF    1407 non-null   int64  \n",
      " 37  Heating        1407 non-null   object \n",
      " 38  HeatingQC      1407 non-null   object \n",
      " 39  CentralAir     1407 non-null   object \n",
      " 40  Electrical     1407 non-null   object \n",
      " 41  1stFlrSF       1407 non-null   int64  \n",
      " 42  2ndFlrSF       1407 non-null   int64  \n",
      " 43  LowQualFinSF   1407 non-null   int64  \n",
      " 44  GrLivArea      1407 non-null   int64  \n",
      " 45  BsmtFullBath   1407 non-null   int64  \n",
      " 46  BsmtHalfBath   1407 non-null   int64  \n",
      " 47  FullBath       1407 non-null   int64  \n",
      " 48  HalfBath       1407 non-null   int64  \n",
      " 49  BedroomAbvGr   1407 non-null   int64  \n",
      " 50  KitchenAbvGr   1407 non-null   int64  \n",
      " 51  KitchenQual    1407 non-null   object \n",
      " 52  TotRmsAbvGrd   1407 non-null   int64  \n",
      " 53  Functional     1407 non-null   object \n",
      " 54  Fireplaces     1407 non-null   int64  \n",
      " 55  FireplaceQu    1407 non-null   object \n",
      " 56  GarageType     1407 non-null   object \n",
      " 57  GarageCars     1407 non-null   int64  \n",
      " 58  GarageArea     1407 non-null   int64  \n",
      " 59  GarageQual     1407 non-null   object \n",
      " 60  GarageCond     1407 non-null   object \n",
      " 61  PavedDrive     1407 non-null   object \n",
      " 62  WoodDeckSF     1407 non-null   int64  \n",
      " 63  OpenPorchSF    1407 non-null   int64  \n",
      " 64  EnclosedPorch  1407 non-null   int64  \n",
      " 65  3SsnPorch      1407 non-null   int64  \n",
      " 66  ScreenPorch    1407 non-null   int64  \n",
      " 67  PoolArea       1407 non-null   int64  \n",
      " 68  PoolQC         1407 non-null   object \n",
      " 69  Fence          1407 non-null   object \n",
      " 70  MiscFeature    1407 non-null   object \n",
      " 71  MiscVal        1407 non-null   int64  \n",
      " 72  SaleType       1407 non-null   object \n",
      " 73  SaleCondition  1407 non-null   object \n",
      " 74  SalePrice      1407 non-null   int64  \n",
      " 75  AgeRemod       1407 non-null   int64  \n",
      "dtypes: float64(2), int64(32), object(42)\n",
      "memory usage: 846.4+ KB\n"
     ]
    }
   ],
   "source": [
    "train_df.info()"
   ]
  },
  {
   "cell_type": "code",
   "execution_count": 415,
   "metadata": {
    "colab": {},
    "colab_type": "code",
    "executionInfo": {
     "elapsed": 775,
     "status": "ok",
     "timestamp": 1599936924478,
     "user": {
      "displayName": "Sahil -",
      "photoUrl": "",
      "userId": "14051148522636395588"
     },
     "user_tz": -330
    },
    "id": "Cm5trPZpcSFH"
   },
   "outputs": [],
   "source": [
    "train_df.to_csv(pwdDir+'/clean_train.csv',index=False)"
   ]
  },
  {
   "cell_type": "code",
   "execution_count": 416,
   "metadata": {
    "colab": {
     "base_uri": "https://localhost:8080/",
     "height": 1000
    },
    "colab_type": "code",
    "executionInfo": {
     "elapsed": 1686,
     "status": "ok",
     "timestamp": 1599936952871,
     "user": {
      "displayName": "Sahil -",
      "photoUrl": "",
      "userId": "14051148522636395588"
     },
     "user_tz": -330
    },
    "id": "SBmTIHDXqyYI",
    "outputId": "809cc324-4893-4e33-edff-8304691bfeb4"
   },
   "outputs": [
    {
     "name": "stdout",
     "output_type": "stream",
     "text": [
      "<class 'pandas.core.frame.DataFrame'>\n",
      "RangeIndex: 1459 entries, 0 to 1458\n",
      "Data columns (total 75 columns):\n",
      " #   Column         Non-Null Count  Dtype  \n",
      "---  ------         --------------  -----  \n",
      " 0   Id             1459 non-null   int64  \n",
      " 1   MSSubClass     1459 non-null   int64  \n",
      " 2   MSZoning       1459 non-null   object \n",
      " 3   LotFrontage    1459 non-null   float64\n",
      " 4   LotArea        1459 non-null   int64  \n",
      " 5   Street         1459 non-null   object \n",
      " 6   Alley          1459 non-null   object \n",
      " 7   LotShape       1459 non-null   object \n",
      " 8   LandContour    1459 non-null   object \n",
      " 9   Utilities      1459 non-null   object \n",
      " 10  LotConfig      1459 non-null   object \n",
      " 11  LandSlope      1459 non-null   object \n",
      " 12  Neighborhood   1459 non-null   object \n",
      " 13  Condition1     1459 non-null   object \n",
      " 14  Condition2     1459 non-null   object \n",
      " 15  BldgType       1459 non-null   object \n",
      " 16  HouseStyle     1459 non-null   object \n",
      " 17  OverallQual    1459 non-null   int64  \n",
      " 18  OverallCond    1459 non-null   int64  \n",
      " 19  RoofStyle      1459 non-null   object \n",
      " 20  RoofMatl       1459 non-null   object \n",
      " 21  Exterior1st    1459 non-null   object \n",
      " 22  Exterior2nd    1459 non-null   object \n",
      " 23  MasVnrType     1459 non-null   object \n",
      " 24  MasVnrArea     1459 non-null   float64\n",
      " 25  ExterQual      1459 non-null   object \n",
      " 26  ExterCond      1459 non-null   object \n",
      " 27  Foundation     1459 non-null   object \n",
      " 28  BsmtQual       1459 non-null   object \n",
      " 29  BsmtCond       1459 non-null   object \n",
      " 30  BsmtExposure   1459 non-null   object \n",
      " 31  BsmtFinType1   1459 non-null   object \n",
      " 32  BsmtFinSF1     1459 non-null   float64\n",
      " 33  BsmtFinType2   1459 non-null   object \n",
      " 34  BsmtFinSF2     1459 non-null   float64\n",
      " 35  BsmtUnfSF      1459 non-null   float64\n",
      " 36  TotalBsmtSF    1459 non-null   float64\n",
      " 37  Heating        1459 non-null   object \n",
      " 38  HeatingQC      1459 non-null   object \n",
      " 39  CentralAir     1459 non-null   object \n",
      " 40  Electrical     1459 non-null   object \n",
      " 41  1stFlrSF       1459 non-null   int64  \n",
      " 42  2ndFlrSF       1459 non-null   int64  \n",
      " 43  LowQualFinSF   1459 non-null   int64  \n",
      " 44  GrLivArea      1459 non-null   int64  \n",
      " 45  BsmtFullBath   1459 non-null   float64\n",
      " 46  BsmtHalfBath   1459 non-null   float64\n",
      " 47  FullBath       1459 non-null   int64  \n",
      " 48  HalfBath       1459 non-null   int64  \n",
      " 49  BedroomAbvGr   1459 non-null   int64  \n",
      " 50  KitchenAbvGr   1459 non-null   int64  \n",
      " 51  KitchenQual    1459 non-null   object \n",
      " 52  TotRmsAbvGrd   1459 non-null   int64  \n",
      " 53  Functional     1459 non-null   object \n",
      " 54  Fireplaces     1459 non-null   int64  \n",
      " 55  FireplaceQu    1459 non-null   object \n",
      " 56  GarageType     1459 non-null   object \n",
      " 57  GarageCars     1459 non-null   float64\n",
      " 58  GarageArea     1459 non-null   float64\n",
      " 59  GarageQual     1459 non-null   object \n",
      " 60  GarageCond     1459 non-null   object \n",
      " 61  PavedDrive     1459 non-null   object \n",
      " 62  WoodDeckSF     1459 non-null   int64  \n",
      " 63  OpenPorchSF    1459 non-null   int64  \n",
      " 64  EnclosedPorch  1459 non-null   int64  \n",
      " 65  3SsnPorch      1459 non-null   int64  \n",
      " 66  ScreenPorch    1459 non-null   int64  \n",
      " 67  PoolArea       1459 non-null   int64  \n",
      " 68  PoolQC         1459 non-null   object \n",
      " 69  Fence          1459 non-null   object \n",
      " 70  MiscFeature    1459 non-null   object \n",
      " 71  MiscVal        1459 non-null   int64  \n",
      " 72  SaleType       1459 non-null   object \n",
      " 73  SaleCondition  1459 non-null   object \n",
      " 74  AgeRemod       1459 non-null   int64  \n",
      "dtypes: float64(10), int64(23), object(42)\n",
      "memory usage: 855.0+ KB\n"
     ]
    }
   ],
   "source": [
    "test_df.info()"
   ]
  },
  {
   "cell_type": "code",
   "execution_count": 417,
   "metadata": {
    "colab": {},
    "colab_type": "code",
    "executionInfo": {
     "elapsed": 1123,
     "status": "ok",
     "timestamp": 1599936977896,
     "user": {
      "displayName": "Sahil -",
      "photoUrl": "",
      "userId": "14051148522636395588"
     },
     "user_tz": -330
    },
    "id": "Xr6s9pxprHKA"
   },
   "outputs": [],
   "source": [
    "test_df.to_csv(pwdDir+'/clean_test.csv', index=False)"
   ]
  },
  {
   "cell_type": "code",
   "execution_count": 418,
   "metadata": {
    "colab": {},
    "colab_type": "code",
    "executionInfo": {
     "elapsed": 1139,
     "status": "ok",
     "timestamp": 1599937637882,
     "user": {
      "displayName": "Sahil -",
      "photoUrl": "",
      "userId": "14051148522636395588"
     },
     "user_tz": -330
    },
    "id": "RHvo3_MzrXqk"
   },
   "outputs": [],
   "source": [
    "import pickle\n",
    "with open(pwdDir+\"/fillna_value.pkl\", \"wb\") as f:\n",
    "    pickle.dump(fillna_value, f)"
   ]
  },
  {
   "cell_type": "code",
   "execution_count": 419,
   "metadata": {
    "colab": {},
    "colab_type": "code",
    "id": "6kxR9vn8sXF7"
   },
   "outputs": [],
   "source": [
    "# To load pkl\n",
    "# with open(pwdDir+\"/fillna_value.pkl\", \"rb\") as f:\n",
    "#   pickle.load(f)"
   ]
  }
 ],
 "metadata": {
  "colab": {
   "authorship_tag": "ABX9TyOK1WbUvIBSkK4eU9STk+Zs",
   "collapsed_sections": [
    "jUmwyqslpfV2",
    "0FXJV77mr6lL",
    "f8eVxOSCssux",
    "DWyZ3vSJsQSj",
    "F7pw412nsyQz",
    "WecIX_4ktFmq",
    "xqM_6OYatgjF",
    "TbMXbOEtI86_",
    "2bgzd3GgB2m9",
    "80kncjJbB63z",
    "ZvMAY31bHFdr",
    "3fHLJEfehvHr",
    "yD8s6OhqpjVE",
    "fSrT0xt9qqm0",
    "fmK81G53tG8O",
    "H4QJpheRPeYu",
    "KzlUKYz4QHZ9",
    "6gDRzAl5SIoF",
    "0dBwXtH4SpLb",
    "l7u2pn6STMAM",
    "MOjln4KUUu4S",
    "uNLucVoCVNe_",
    "teisRVCRVqu2",
    "f4Mixt_uXvks",
    "cOrGVLZoYaXQ",
    "zrimU3oEZKqB",
    "y3hVI87cZzZN",
    "GmjqtVN14pIi",
    "upPz8IjX6GGZ",
    "7g-RbjFkCRH8",
    "hBt9AaKjEYBP",
    "k9pOL3a_umLX",
    "LZjvoTqVwU1Q",
    "BiyvZ1nJxImN",
    "2W2JboFixvJH",
    "mA2Ad36vzp5R",
    "QgBXK9kD04yM",
    "9A90mrEK2V_L",
    "QbYuW51h4NDr",
    "-DGWEQ_ZkfPu",
    "5QDcxaCXlMv5",
    "ar-ohrFmmFWK",
    "x0hryn9onQVC",
    "K99cS8e-oavZ",
    "glxVxEFX9p0K",
    "0YuNTq-4-KzI",
    "NMdyJbQacqNA",
    "V1ztCDKB-z0L",
    "v3QCjSkZ_vZd",
    "g2cLLG-3Agjk",
    "CgSoKCh3BRwX",
    "WTpW3uyeCFeH",
    "7aEh4OHGDFiA",
    "aOpzAIZvECbd",
    "y9ICale_-BjX",
    "0O3s10gT-RS7",
    "LIMbSqcb-1xQ",
    "97-zPP0m_HZ-",
    "FQ4hL7Ke_1B7",
    "hGp32sc6ALQI",
    "pZOoxJyiAm1q",
    "90yzol9HA3wO",
    "_R-WTghjBgoh",
    "mfwyRBWwCA8u",
    "52E-Q1T2DGsz",
    "BH-83d7dDzkF",
    "fqLkWDKTEReg",
    "1xvYyPn2H5Xl",
    "WAqQXCGZOi9a",
    "g6c7877VPQe7",
    "XMEPSg85QI0w",
    "AaC6LQ3_Qxzi",
    "SL9mhtbJRPkt",
    "VqhZ0dnyR-A4",
    "JSJwT128Snbb",
    "w0Qd4EobTilu",
    "052cQRLfUT9a",
    "0kvrCyavUzpr",
    "7hbluzXXY17s",
    "ijXXBK81Zf6N",
    "L3sJ9H2raKX4",
    "AIs3s3mFcLGE"
   ],
   "mount_file_id": "1dzS3P6vf9_fyNvVdHP687urHG9oon5aV",
   "name": "Notebook-1.ipynb",
   "provenance": [],
   "toc_visible": true
  },
  "kernelspec": {
   "display_name": "Python 3",
   "language": "python",
   "name": "python3"
  },
  "language_info": {
   "codemirror_mode": {
    "name": "ipython",
    "version": 3
   },
   "file_extension": ".py",
   "mimetype": "text/x-python",
   "name": "python",
   "nbconvert_exporter": "python",
   "pygments_lexer": "ipython3",
   "version": "3.8.5"
  }
 },
 "nbformat": 4,
 "nbformat_minor": 1
}
